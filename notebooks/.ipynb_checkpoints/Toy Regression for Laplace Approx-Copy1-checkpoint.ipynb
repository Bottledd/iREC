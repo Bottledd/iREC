{
 "cells": [
  {
   "cell_type": "markdown",
   "id": "3d7eab82",
   "metadata": {},
   "source": [
    "# Toy Regression Example"
   ]
  },
  {
   "cell_type": "code",
   "execution_count": 1,
   "id": "a5a59eec",
   "metadata": {},
   "outputs": [],
   "source": [
    "import torch\n",
    "import torch.distributions as D\n",
    "import torch.nn as nn\n",
    "from torch.nn import functional as F"
   ]
  },
  {
   "cell_type": "code",
   "execution_count": 2,
   "id": "437c3d38",
   "metadata": {},
   "outputs": [],
   "source": [
    "# create toy dataset\n",
    "torch.manual_seed(0)\n",
    "x = D.Uniform(low = -4., high=4.).sample((20,))\n",
    "y = D.Independent(D.Normal(loc=x**3, scale=3), 1).sample()"
   ]
  },
  {
   "cell_type": "code",
   "execution_count": 3,
   "id": "468e96ae",
   "metadata": {},
   "outputs": [],
   "source": [
    "import matplotlib.pyplot as plt"
   ]
  },
  {
   "cell_type": "code",
   "execution_count": 4,
   "id": "7813afa0",
   "metadata": {},
   "outputs": [
    {
     "data": {
      "text/plain": [
       "<matplotlib.legend.Legend at 0x7f10039a7a90>"
      ]
     },
     "execution_count": 4,
     "metadata": {},
     "output_type": "execute_result"
    },
    {
     "data": {
      "image/png": "[encoded data removed]",
      "text/plain": [
       "<Figure size 432x288 with 1 Axes>"
      ]
     },
     "metadata": {
      "needs_background": "light"
     },
     "output_type": "display_data"
    }
   ],
   "source": [
    "xs = torch.linspace(-4, 4, 100)\n",
    "plt.plot(x, y, 'ro', label='data')\n",
    "plt.plot(xs, xs**3, 'k-', label='ground truth')\n",
    "plt.legend()"
   ]
  },
  {
   "cell_type": "code",
   "execution_count": 58,
   "id": "43b1bf69",
   "metadata": {},
   "outputs": [],
   "source": [
    "class model(nn.Module):\n",
    "    def __init__(self, input_size, num_hidden_layers, num_hidden_nodes, output_size):\n",
    "        super(model, self).__init__()\n",
    "        self.input_size = input_size\n",
    "        self.input_layer = nn.Linear(input_size, num_hidden_nodes)\n",
    "        self.hidden_layers = nn.ModuleList(\n",
    "            [nn.Linear(num_hidden_nodes, num_hidden_nodes) for i in range(num_hidden_layers)])\n",
    "        self.final_layer = nn.Linear(num_hidden_nodes, output_size)\n",
    "\n",
    "    def forward(self, x):\n",
    "        x = F.relu(self.input_layer(x.view(-1,1)))\n",
    "        \n",
    "        for f in self.hidden_layers:\n",
    "            x = F.relu(f(x))\n",
    "        \n",
    "        x = self.final_layer(x)\n",
    "\n",
    "        return x"
   ]
  },
  {
   "cell_type": "code",
   "execution_count": 246,
   "id": "097e87a0",
   "metadata": {},
   "outputs": [],
   "source": [
    "def loss_function(y, y_preds, weights):\n",
    "    targets = y.view(-1,1)\n",
    "    likelihood = D.Normal(loc=y_preds, scale=3.).log_prob(targets)\n",
    "    prior = D.Normal(loc=0., scale=1).log_prob(weights)\n",
    "    return - (prior + likelihood).sum(-1).mean()"
   ]
  },
  {
   "cell_type": "code",
   "execution_count": 283,
   "id": "0ef9da0c",
   "metadata": {},
   "outputs": [],
   "source": [
    "my_model = model(1, 1, 100, 1)\n",
    "# use weight decay for l2 regularisation\n",
    "optimiser = torch.optim.Adam(my_model.parameters(), lr=5e-2)\n",
    "\n",
    "for epoch in range(1, 1 + 40):\n",
    "    optimiser.zero_grad()\n",
    "    y_preds = my_model(x)\n",
    "    weights = torch.zeros([0])\n",
    "    for w in my_model.parameters():\n",
    "        weights = torch.cat([norm, w.flatten()])\n",
    "    loss = loss_function(y, y_preds, weights)\n",
    "    if epoch % 1000 == 0:\n",
    "        print(f'The loss at epoch {epoch} is: {loss.item():.5f}')\n",
    "    loss.backward()\n",
    "    optimiser.step()\n"
   ]
  },
  {
   "cell_type": "code",
   "execution_count": 284,
   "id": "dab7c24f",
   "metadata": {},
   "outputs": [
    {
     "data": {
      "text/plain": [
       "<matplotlib.legend.Legend at 0x7f0ff40fe760>"
      ]
     },
     "execution_count": 284,
     "metadata": {},
     "output_type": "execute_result"
    },
    {
     "data": {
      "image/png": "[encoded data removed]",
      "text/plain": [
       "<Figure size 432x288 with 1 Axes>"
      ]
     },
     "metadata": {
      "needs_background": "light"
     },
     "output_type": "display_data"
    }
   ],
   "source": [
    "xs = torch.linspace(-4, 4, 100)\n",
    "plt.plot(x, y, 'ro', label='data')\n",
    "plt.plot(xs, xs**3, 'k-', label='ground truth')\n",
    "plt.plot(xs, my_model(xs).detach(), 'b-', label='model prediction')\n",
    "plt.legend()"
   ]
  },
  {
   "cell_type": "code",
   "execution_count": 285,
   "id": "f7c04dc5",
   "metadata": {},
   "outputs": [],
   "source": [
    "y_preds = my_model(y)\n",
    "loss = loss_function(y, y_preds, weights)\n",
    "#torch.autograd.functional.hessian(y, tuple([_.view(-1) for _ in my_model.parameters()])"
   ]
  },
  {
   "cell_type": "code",
   "execution_count": 286,
   "id": "53b7caa8",
   "metadata": {},
   "outputs": [],
   "source": [
    "def likelihood_loss(y, x, weights):\n",
    "    targets = y.view(-1,1)\n",
    "    y_preds = my_model(x)\n",
    "    likelihood = D.Normal(loc=y_preds, scale=3.).log_prob(targets)\n",
    "    return likelihood.sum(-1).mean()"
   ]
  },
  {
   "cell_type": "code",
   "execution_count": 287,
   "id": "5ff111f2",
   "metadata": {},
   "outputs": [],
   "source": [
    "y_preds = my_model(y)\n",
    "loss = likelihood_loss(y, y_preds, weights)"
   ]
  },
  {
   "cell_type": "code",
   "execution_count": 299,
   "id": "57bd6867",
   "metadata": {},
   "outputs": [],
   "source": [
    "import numpy as np\n",
    "\n",
    "def get_second_order_grad(grads, xs):\n",
    "    grads2 = []\n",
    "    for j, (grad, x) in enumerate(zip(grads, xs)):\n",
    "        print('2nd order on ', j, 'th layer')\n",
    "        print(x.size())\n",
    "        grad = torch.reshape(grad, [-1])\n",
    "        grads2_tmp = []\n",
    "        for count, g in enumerate(grad):\n",
    "            g2 = torch.autograd.grad(g, x, retain_graph=True)[0]\n",
    "            g2 = torch.reshape(g2, [-1])\n",
    "            grads2_tmp.append(g2[count].data.cpu().numpy())\n",
    "        grads2.append(torch.from_numpy(np.reshape(grads2_tmp, x.size())))\n",
    "    for grad in grads2:  # check size\n",
    "        print(grad.size())\n",
    "\n",
    "    return grads2"
   ]
  },
  {
   "cell_type": "code",
   "execution_count": 322,
   "id": "717087f8",
   "metadata": {},
   "outputs": [
    {
     "name": "stdout",
     "output_type": "stream",
     "text": [
      "2nd order on  0 th layer\n",
      "torch.Size([100, 1])\n",
      "2nd order on  1 th layer\n",
      "torch.Size([100])\n",
      "2nd order on  2 th layer\n",
      "torch.Size([100, 100])\n",
      "2nd order on  3 th layer\n",
      "torch.Size([100])\n",
      "2nd order on  4 th layer\n",
      "torch.Size([1, 100])\n",
      "2nd order on  5 th layer\n",
      "torch.Size([1])\n",
      "torch.Size([100, 1])\n",
      "torch.Size([100])\n",
      "torch.Size([100, 100])\n",
      "torch.Size([100])\n",
      "torch.Size([1, 100])\n",
      "torch.Size([1])\n"
     ]
    }
   ],
   "source": [
    "optimiser.zero_grad()\n",
    "y_preds = my_model(y)\n",
    "loss = likelihood_loss(y, y_preds, weights)\n",
    "xs = optimiser.param_groups[0]['params']\n",
    "ys = loss  # put your own loss into ys\n",
    "\n",
    "grads = torch.autograd.grad(ys, xs, create_graph=True)  # first order gradient\n",
    "\n",
    "hess = get_second_order_grad(grads, xs)  # second order gradient"
   ]
  },
  {
   "cell_type": "code",
   "execution_count": 321,
   "id": "3080d62a",
   "metadata": {},
   "outputs": [
    {
     "name": "stdout",
     "output_type": "stream",
     "text": [
      "2nd order on  0 th layer\n",
      "torch.Size([100, 1])\n",
      "2nd order on  1 th layer\n",
      "torch.Size([100])\n",
      "2nd order on  2 th layer\n",
      "torch.Size([100, 100])\n",
      "2nd order on  3 th layer\n",
      "torch.Size([100])\n",
      "2nd order on  4 th layer\n",
      "torch.Size([1, 100])\n",
      "2nd order on  5 th layer\n",
      "torch.Size([1])\n",
      "torch.Size([100, 1])\n",
      "torch.Size([100])\n",
      "torch.Size([100, 100])\n",
      "torch.Size([100])\n",
      "torch.Size([1, 100])\n",
      "torch.Size([1])\n"
     ]
    }
   ],
   "source": [
    "optimiser.zero_grad()\n",
    "y_preds = my_model(y)\n",
    "loss = likelihood_loss(y, y_preds, weights)\n",
    "\n",
    "xs = optimiser.param_groups[0]['params']\n",
    "ys = loss  # put your own loss into ys\n",
    "\n",
    "grads = torch.autograd.grad(ys, xs, create_graph=True)  # first order gradient\n",
    "\n",
    "grads2 = get_second_order_grad(grads, xs)  # second order gradient"
   ]
  }
 ],
 "metadata": {
  "kernelspec": {
   "display_name": "Python 3",
   "language": "python",
   "name": "python3"
  },
  "language_info": {
   "codemirror_mode": {
    "name": "ipython",
    "version": 3
   },
   "file_extension": ".py",
   "mimetype": "text/x-python",
   "name": "python",
   "nbconvert_exporter": "python",
   "pygments_lexer": "ipython3",
   "version": "3.8.10"
  }
 },
 "nbformat": 4,
 "nbformat_minor": 5
}
