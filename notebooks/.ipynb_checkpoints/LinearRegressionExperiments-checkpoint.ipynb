{
 "cells": [
  {
   "cell_type": "code",
   "execution_count": 1,
   "id": "27d3206d",
   "metadata": {},
   "outputs": [],
   "source": [
    "%load_ext autoreload"
   ]
  },
  {
   "cell_type": "code",
   "execution_count": 2,
   "id": "09c06744",
   "metadata": {},
   "outputs": [],
   "source": [
    "%autoreload 2"
   ]
  },
  {
   "cell_type": "code",
   "execution_count": 3,
   "id": "8d34e585",
   "metadata": {},
   "outputs": [
    {
     "name": "stdout",
     "output_type": "stream",
     "text": [
      "/Users/kristophermiltiadou/Documents/UniWork/Cambridge/Thesis/CODE/iREC\n"
     ]
    }
   ],
   "source": [
    "%cd .."
   ]
  },
  {
   "cell_type": "markdown",
   "id": "12dd57a9",
   "metadata": {},
   "source": [
    "### Import Modules"
   ]
  },
  {
   "cell_type": "code",
   "execution_count": 41,
   "id": "2f74acab",
   "metadata": {},
   "outputs": [],
   "source": [
    "import matplotlib.pyplot as plt\n",
    "import torch\n",
    "import torch.distributions as dist\n",
    "from tqdm import tqdm\n",
    "from models.BayesianLinRegressor import BayesLinRegressor\n",
    "from rec.utils import kl_estimate_with_mc, plot_running_sum_1d, plot_running_sum_2d, \\\n",
    "plot_2d_distribution, plot_1d_distribution, compute_variational_posterior\n",
    "from rec.Coders.Encoder_Parallel import Encoder as Empirical_Encoder\n",
    "from rec.Coders.Encoder_Gaussian_Target import Encoder as Variational_Encoder\n",
    "from rec.distributions.EmpiricalMixturePosterior_Parallel import EmpiricalMixturePosterior\n",
    "from rec.distributions.VariationalPosterior import VariationalPosterior\n",
    "from rec.samplers.GreedySampling import GreedySampler\n",
    "from rec.samplers.ImportanceSampling import ImportanceSampler\n",
    "from rec.distributions.CodingSampler import CodingSampler as coding_sampler"
   ]
  },
  {
   "cell_type": "code",
   "execution_count": 42,
   "id": "6b633b67",
   "metadata": {},
   "outputs": [],
   "source": [
    "def create_lin_reg_problem(dim=2, alpha=0.01, signal_std=5, num_points=10, seed=0):\n",
    "    \"\"\"\n",
    "    Creates a linear regression problem by sampling from a Bayesian Linear Regression Prior.\n",
    "    After observing points, computes Bayesian Posterior.\n",
    "    Returns target distribution.\n",
    "    \"\"\"\n",
    "    \n",
    "    # get Bayesian Linear Regression Object\n",
    "    blr = BayesLinRegressor(prior_mean=torch.zeros(dim),\n",
    "                            prior_alpha=alpha,\n",
    "                            signal_std=signal_std,\n",
    "                            num_targets=num_points,\n",
    "                            seed=seed)\n",
    "    blr.sample_feature_inputs()\n",
    "    blr.sample_regression_targets()\n",
    "    blr.posterior_update()\n",
    "    target = blr.weight_posterior\n",
    "    \n",
    "    return target"
   ]
  },
  {
   "cell_type": "code",
   "execution_count": 43,
   "id": "258d6af7",
   "metadata": {},
   "outputs": [],
   "source": [
    "def encode_sample(target, posterior_method='empirical_distribution', omega=8, epsilon=0.,\n",
    "                  n_samples=10, sampling_method='Greedy', seed=0):\n",
    "    \n",
    "    if posterior_method == 'empirical_distribution':\n",
    "        if sampling_method == 'Greedy':\n",
    "            selection_sampler = GreedySampler\n",
    "        else:\n",
    "            selection_sampler = ImportanceSampler\n",
    "\n",
    "        encoder = Empirical_Encoder(target,\n",
    "                                    seed,\n",
    "                                    coding_sampler,\n",
    "                                    selection_sampler,\n",
    "                                    EmpiricalMixturePosterior,\n",
    "                                    omega,\n",
    "                                    n_samples,\n",
    "                                    epsilon=epsilon,\n",
    "                                    )\n",
    "    else:\n",
    "        print('yay')\n",
    "        if sampling_method == 'Greedy':\n",
    "            selection_sampler = GreedySampler\n",
    "        else:\n",
    "            selection_sampler = ImportanceSampler\n",
    "        dim = target.mean.shape[0]\n",
    "        if dim > 1:\n",
    "            target = compute_variational_posterior(target)\n",
    "        encoder = Variational_Encoder(target,\n",
    "                                      seed,\n",
    "                                      coding_sampler,\n",
    "                                      selection_sampler,\n",
    "                                      VariationalPosterior,\n",
    "                                      omega,\n",
    "                                      epsilon=epsilon,\n",
    "                                      )\n",
    "    \n",
    "    return encoder, *encoder.run_encoder()"
   ]
  },
  {
   "cell_type": "code",
   "execution_count": 45,
   "id": "b461dcc4",
   "metadata": {},
   "outputs": [
    {
     "name": "stderr",
     "output_type": "stream",
     "text": [
      "KL of aux 149 is 11.271743774414062: 100%|██████████| 150/150 [00:11<00:00, 13.13it/s]\n"
     ]
    },
    {
     "name": "stdout",
     "output_type": "stream",
     "text": [
      "tensor(-1.8171)\n"
     ]
    },
    {
     "data": {
      "image/png": "[encoded data removed]",
      "text/plain": [
       "<Figure size 432x288 with 1 Axes>"
      ]
     },
     "metadata": {
      "needs_background": "light"
     },
     "output_type": "display_data"
    }
   ],
   "source": [
    "target = create_lin_reg_problem(dim=2, seed=100, alpha=0.001)\n",
    "encoder, z, indices = encode_sample(target, epsilon=0.2, n_samples=100)\n",
    "\n",
    "\n",
    "\n",
    "plot_2d_distribution(target)\n",
    "plot_running_sum_2d(encoder.selected_samples, plot_index_labels=False)\n",
    "plt.plot(encoder.auxiliary_posterior.empirical_samples[:, 0], encoder.auxiliary_posterior.empirical_samples[:, 1],\n",
    "         'x')\n",
    "plt.plot(z[0], z[1], 'o')\n",
    "print(target.log_prob(z))"
   ]
  },
  {
   "cell_type": "code",
   "execution_count": 49,
   "id": "2dec60dc",
   "metadata": {},
   "outputs": [
    {
     "name": "stdout",
     "output_type": "stream",
     "text": [
      "yay\n",
      "1197.9364013671875\n"
     ]
    },
    {
     "data": {
      "application/vnd.jupyter.widget-view+json": {
       "model_id": "30865d461ae546f99e2030474c185275",
       "version_major": 2,
       "version_minor": 0
      },
      "text/plain": [
       "  0%|          | 0/150 [00:00<?, ?it/s]"
      ]
     },
     "metadata": {},
     "output_type": "display_data"
    },
    {
     "name": "stdout",
     "output_type": "stream",
     "text": [
      "tensor(-2.8606)\n"
     ]
    },
    {
     "data": {
      "image/png": "[encoded data removed]",
      "text/plain": [
       "<Figure size 432x288 with 1 Axes>"
      ]
     },
     "metadata": {
      "needs_background": "light"
     },
     "output_type": "display_data"
    }
   ],
   "source": [
    "target = create_lin_reg_problem(dim=2, seed=100, alpha=0.001)\n",
    "encoder, z, indices = encode_sample(target, posterior_method='Variational', epsilon=0.2)\n",
    "\n",
    "\n",
    "\n",
    "plot_2d_distribution(target)\n",
    "plot_running_sum_2d(encoder.selected_samples, plot_index_labels=False)\n",
    "plt.plot(z[0], z[1], 'o')\n",
    "print(target.log_prob(z))"
   ]
  },
  {
   "cell_type": "code",
   "execution_count": null,
   "id": "68d48ca1",
   "metadata": {},
   "outputs": [
    {
     "name": "stderr",
     "output_type": "stream",
     "text": [
      "KL of aux 55 is 7.544251441955566:  77%|███████▋  | 55/71 [00:14<00:04,  3.24it/s] "
     ]
    }
   ],
   "source": [
    "target = target = create_lin_reg_problem(dim=1, seed=100, alpha=0.0001)\n",
    "encoder, z, indices = encode_sample(target, epsilon=0.2, n_samples=1000)\n",
    "plot_1d_distribution(target)\n",
    "plot_running_sum_1d(target, encoder.selected_samples, plot_index_labels=False)\n",
    "plt.plot(z, torch.exp(target.log_prob(z)), 'o')\n",
    "plt.show()"
   ]
  },
  {
   "cell_type": "code",
   "execution_count": null,
   "id": "94d73314",
   "metadata": {},
   "outputs": [],
   "source": [
    "target = target = create_lin_reg_problem(dim=1, seed=100, alpha=0.0001)\n",
    "encoder, z, indices = encode_sample(target, posterior_method='Variational', epsilon=0.2, n_samples=1000)\n",
    "plot_1d_distribution(target)\n",
    "plot_running_sum_1d(target, encoder.selected_samples, plot_index_labels=False)\n",
    "plt.plot(z, torch.exp(target.log_prob(z)), 'o')\n",
    "plt.show()"
   ]
  },
  {
   "cell_type": "code",
   "execution_count": null,
   "id": "604b224f",
   "metadata": {},
   "outputs": [],
   "source": []
  }
 ],
 "metadata": {
  "kernelspec": {
   "display_name": "Python 3",
   "language": "python",
   "name": "python3"
  },
  "language_info": {
   "codemirror_mode": {
    "name": "ipython",
    "version": 3
   },
   "file_extension": ".py",
   "mimetype": "text/x-python",
   "name": "python",
   "nbconvert_exporter": "python",
   "pygments_lexer": "ipython3",
   "version": "3.8.8"
  }
 },
 "nbformat": 4,
 "nbformat_minor": 5
}
