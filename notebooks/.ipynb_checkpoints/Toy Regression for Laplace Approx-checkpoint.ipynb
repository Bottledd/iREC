{
 "cells": [
  {
   "cell_type": "markdown",
   "id": "c35d2b3b",
   "metadata": {},
   "source": [
    "# Toy Regression Example"
   ]
  },
  {
   "cell_type": "code",
   "execution_count": 7,
   "id": "da3b3f4c",
   "metadata": {},
   "outputs": [],
   "source": [
    "import torch\n",
    "import torch.distributions as D"
   ]
  },
  {
   "cell_type": "code",
   "execution_count": 24,
   "id": "c16360c0",
   "metadata": {},
   "outputs": [],
   "source": [
    "# create toy dataset\n",
    "torch.manual_seed(0)\n",
    "x = D.Uniform(low = -4., high=4.).sample((20,))\n",
    "y = D.Independent(D.Normal(loc=x**3, scale=3), 1).sample()"
   ]
  },
  {
   "cell_type": "code",
   "execution_count": 25,
   "id": "026ac4c6",
   "metadata": {},
   "outputs": [],
   "source": [
    "import matplotlib.pyplot as plt"
   ]
  },
  {
   "cell_type": "code",
   "execution_count": 26,
   "id": "a8e85789",
   "metadata": {},
   "outputs": [
    {
     "data": {
      "text/plain": [
       "[<matplotlib.lines.Line2D at 0x7fdd2881c250>]"
      ]
     },
     "execution_count": 26,
     "metadata": {},
     "output_type": "execute_result"
    },
    {
     "data": {
      "image/png": "[encoded data removed]",
      "text/plain": [
       "<Figure size 432x288 with 1 Axes>"
      ]
     },
     "metadata": {
      "needs_background": "light"
     },
     "output_type": "display_data"
    }
   ],
   "source": [
    "plt.plot(x, y, 'o')"
   ]
  },
  {
   "cell_type": "code",
   "execution_count": 16,
   "id": "013d781c",
   "metadata": {},
   "outputs": [
    {
     "data": {
      "text/plain": [
       "tensor([-0.0299,  2.1458, -3.2922, -2.9438, -1.5406,  1.0726, -0.0793,  3.1716,\n",
       "        -0.3550,  1.0585, -1.2089, -0.7863, -3.8214, -2.6491, -1.6489,  0.1482,\n",
       "         1.5813,  2.4001, -2.7118, -1.7419])"
      ]
     },
     "execution_count": 16,
     "metadata": {},
     "output_type": "execute_result"
    }
   ],
   "source": [
    "x"
   ]
  },
  {
   "cell_type": "code",
   "execution_count": null,
   "id": "f695b8db",
   "metadata": {},
   "outputs": [],
   "source": []
  }
 ],
 "metadata": {
  "kernelspec": {
   "display_name": "Python 3",
   "language": "python",
   "name": "python3"
  },
  "language_info": {
   "codemirror_mode": {
    "name": "ipython",
    "version": 3
   },
   "file_extension": ".py",
   "mimetype": "text/x-python",
   "name": "python",
   "nbconvert_exporter": "python",
   "pygments_lexer": "ipython3",
   "version": "3.8.8"
  }
 },
 "nbformat": 4,
 "nbformat_minor": 5
}
