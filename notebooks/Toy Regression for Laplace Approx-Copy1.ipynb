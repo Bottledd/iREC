{
 "cells": [
  {
   "cell_type": "markdown",
   "id": "3d7eab82",
   "metadata": {},
   "source": [
    "# Toy BNN Example"
   ]
  },
  {
   "cell_type": "code",
   "execution_count": 23,
   "id": "a5a59eec",
   "metadata": {},
   "outputs": [],
   "source": [
    "import torch\n",
    "import torch.distributions as D\n",
    "import torch.nn as nn\n",
    "from torch.nn import functional as F"
   ]
  },
  {
   "cell_type": "code",
   "execution_count": 25,
   "id": "c3c24ee8",
   "metadata": {},
   "outputs": [],
   "source": [
    "import matplotlib.pyplot as plt\n",
    "%matplotlib inline"
   ]
  },
  {
   "cell_type": "code",
   "execution_count": 341,
   "id": "437c3d38",
   "metadata": {},
   "outputs": [],
   "source": [
    "# create toy dataset\n",
    "x = 2**0.5 * torch.randn(30)"
   ]
  },
  {
   "cell_type": "code",
   "execution_count": 342,
   "id": "43b1bf69",
   "metadata": {},
   "outputs": [],
   "source": [
    "class one_layer_bnn(nn.Module):\n",
    "    def __init__(self, input_size=1, num_nodes=5, output_size=1, alpha=1., beta=1.):\n",
    "        super(one_layer_bnn, self).__init__()\n",
    "        self.input_size = input_size\n",
    "        self.input_layer = nn.Linear(input_size, num_nodes)\n",
    "        self.final_layer = nn.Linear(num_nodes, output_size)\n",
    "        self.prior_alpha = alpha\n",
    "        self.likelihood_beta = beta\n",
    "\n",
    "    def forward(self, x):\n",
    "        x = F.relu(self.input_layer(x.view(-1, 1)))\n",
    "        x = self.final_layer(x)\n",
    "\n",
    "        return x\n",
    "                   \n",
    "    def loss_function(self, y, y_preds):\n",
    "        targets = y.view(-1, 1)\n",
    "        weights = torch.zeros([0])\n",
    "        for w in my_model.parameters():\n",
    "            weights = torch.cat([weights, w.flatten()])\n",
    "        \n",
    "        prior_term = self.prior_alpha/2. * torch.einsum(\"i, i -> \", weights, weights)\n",
    "        likelihood_term = (self.likelihood_beta/2 * (targets - y_preds) ** 2).sum()\n",
    "        \n",
    "        return prior_term + likelihood_term\n",
    "    \n",
    "    def sample_weights_from_prior(self):\n",
    "        weights = torch.zeros([0])\n",
    "        for w in my_model.parameters():\n",
    "            weights = torch.cat([weights, w.flatten()])\n",
    "        prior_dist = D.MultivariateNormal(loc=torch.zeros_like(weights), covariance_matrix = (1./self.prior_alpha) * torch.eye(weights.shape[0]))\n",
    "        \n",
    "        weight_sample = prior_dist.sample()\n",
    "        input_layer_shape = self.input_layer.weight.shape[0]\n",
    "        input_layer_sample_weights = weight_sample[:input_layer_shape]\n",
    "        input_layer_sample_bias = weight_sample[input_layer_shape]\n",
    "        final_layer_shape = self.final_layer.weight.shape[1]\n",
    "        final_layer_sample_weights = weight_sample[input_layer_shape + 1: input_layer_shape + 1 + final_layer_shape]\n",
    "        final_layer_sample_bias = weight_sample[input_layer_shape + 1 + final_layer_shape]\n",
    "        \n",
    "        return weight_sample, input_layer_sample_weights, input_layer_sample_bias, final_layer_sample_weights, final_layer_sample_bias \n",
    "    \n",
    "    def make_weights_from_sample(self, weight_sample):\n",
    "        input_layer_shape = self.input_layer.weight.shape\n",
    "        input_layer_len = input_layer_shape[0]\n",
    "        input_layer_sample_weights = weight_sample[:input_layer_len]\n",
    "        input_layer_sample_bias = weight_sample[input_layer_len]\n",
    "        final_layer_shape = self.final_layer.weight.shape\n",
    "        final_layer_len = final_layer_shape[1]\n",
    "        final_layer_sample_weights = weight_sample[input_layer_len + 1: input_layer_len + 1 + final_layer_len]\n",
    "        final_layer_sample_bias = weight_sample[input_layer_len + 1 + final_layer_len]\n",
    "        \n",
    "        self.input_layer.weight = nn.Parameter(input_layer_sample_weights.reshape(input_layer_shape))\n",
    "        self.input_layer.bias = nn.Parameter(input_layer_sample_bias)\n",
    "        self.final_layer.weight = nn.Parameter(final_layer_sample_weights.reshape(final_layer_shape))\n",
    "        self.final_layer.bias = nn.Parameter(final_layer_sample_bias)"
   ]
  },
  {
   "cell_type": "code",
   "execution_count": 343,
   "id": "599633ae",
   "metadata": {},
   "outputs": [],
   "source": [
    "data_generator_model = one_layer_bnn()\n",
    "sampled_weights = data_generator_model.sample_weights_from_prior()[0]\n",
    "data_generator_model.make_weights_from_sample(sampled_weights)\n",
    "y = data_generator_model(x).detach() + (1 / data_generator_model.likelihood_beta)*torch.randn_like(data_generator_model(x).detach())"
   ]
  },
  {
   "cell_type": "code",
   "execution_count": 344,
   "id": "d11a5b3e",
   "metadata": {},
   "outputs": [
    {
     "data": {
      "image/png": "[encoded data removed]",
      "text/plain": [
       "<Figure size 576x432 with 1 Axes>"
      ]
     },
     "metadata": {
      "needs_background": "light"
     },
     "output_type": "display_data"
    }
   ],
   "source": [
    "f, ax = plt.subplots(figsize=(8, 6))\n",
    "ax.scatter(x, y, label='Targets w/ noise')\n",
    "xs = torch.linspace(-10, 10, 100)\n",
    "ax.plot(xs, data_generator_model(xs).detach(), label='Targets wo/ noise')\n",
    "f.tight_layout()"
   ]
  },
  {
   "cell_type": "markdown",
   "id": "ad17c225",
   "metadata": {},
   "source": [
    "# Model the Data"
   ]
  },
  {
   "cell_type": "code",
   "execution_count": 347,
   "id": "0f6b16be",
   "metadata": {},
   "outputs": [
    {
     "name": "stdout",
     "output_type": "stream",
     "text": [
      "The loss is : 410.7856140136719\n",
      "The loss is : 127.82720184326172\n",
      "The loss is : 127.82797241210938\n",
      "The loss is : 127.82779693603516\n",
      "The loss is : 127.82738494873047\n",
      "The loss is : 127.83746337890625\n",
      "The loss is : 127.82902526855469\n",
      "The loss is : 127.82809448242188\n",
      "The loss is : 127.84980010986328\n",
      "The loss is : 127.82770538330078\n"
     ]
    }
   ],
   "source": [
    "bnn = one_layer_bnn()\n",
    "bnn.train()\n",
    "\n",
    "opt = torch.optim.Adam(bnn.parameters(), lr=0.1)\n",
    "\n",
    "for epoch in range(10000):\n",
    "    opt.zero_grad()\n",
    "    y_preds = bnn(x)\n",
    "    loss = bnn.loss_function(y, y_preds)\n",
    "    loss.backward()\n",
    "    if epoch % 1000 == 0:\n",
    "        print(f\"The loss is : {loss.item()}\")\n",
    "    opt.step()"
   ]
  },
  {
   "cell_type": "code",
   "execution_count": 349,
   "id": "06334a30",
   "metadata": {},
   "outputs": [
    {
     "data": {
      "image/png": "[encoded data removed]",
      "text/plain": [
       "<Figure size 576x432 with 1 Axes>"
      ]
     },
     "metadata": {
      "needs_background": "light"
     },
     "output_type": "display_data"
    }
   ],
   "source": [
    "f, ax = plt.subplots(figsize=(8, 6))\n",
    "xs = torch.linspace(-10, 10, 100)\n",
    "bnn.eval()\n",
    "ax.scatter(x, y, label='Truth')\n",
    "ax.plot(xs, bnn(xs).detach(), 'k-', label='Model')\n",
    "f.tight_layout()"
   ]
  },
  {
   "cell_type": "code",
   "execution_count": null,
   "id": "33a95d33",
   "metadata": {},
   "outputs": [],
   "source": []
  }
 ],
 "metadata": {
  "kernelspec": {
   "display_name": "Python 3",
   "language": "python",
   "name": "python3"
  },
  "language_info": {
   "codemirror_mode": {
    "name": "ipython",
    "version": 3
   },
   "file_extension": ".py",
   "mimetype": "text/x-python",
   "name": "python",
   "nbconvert_exporter": "python",
   "pygments_lexer": "ipython3",
   "version": "3.8.10"
  }
 },
 "nbformat": 4,
 "nbformat_minor": 5
}
