{
 "cells": [
  {
   "cell_type": "code",
   "execution_count": 1,
   "id": "30a74d57",
   "metadata": {},
   "outputs": [],
   "source": [
    "%load_ext autoreload"
   ]
  },
  {
   "cell_type": "code",
   "execution_count": 2,
   "id": "fc14e5c4",
   "metadata": {},
   "outputs": [],
   "source": [
    "%autoreload 2"
   ]
  },
  {
   "cell_type": "code",
   "execution_count": 3,
   "id": "d3de1ccc",
   "metadata": {},
   "outputs": [
    {
     "name": "stdout",
     "output_type": "stream",
     "text": [
      "/Users/kristophermiltiadou/Documents/UniWork/Cambridge/Thesis/CODE/iREC\n"
     ]
    }
   ],
   "source": [
    "%cd .."
   ]
  },
  {
   "cell_type": "code",
   "execution_count": 24,
   "id": "33485ff5",
   "metadata": {},
   "outputs": [],
   "source": [
    "import torch\n",
    "import torch.distributions as dist\n",
    "import math\n",
    "import matplotlib.pyplot as plt\n",
    "\n",
    "from rec.beamsearch.distributions.CodingSampler import CodingSampler\n",
    "from rec.beamsearch.distributions.VariationalPosterior import VariationalPosterior\n",
    "from rec.beamsearch.distributions.EmpiricalMixturePosterior import EmpiricalMixturePosterior\n",
    "from rec.beamsearch.samplers.GreedySampling import GreedySampler\n",
    "from rec.beamsearch.Coders.Encoder import Encoder as Empirical_Encoder\n",
    "from rec.beamsearch.Coders.Encoder_Variational import Encoder as Variational_Encoder\n",
    "from models.BayesianLinRegressor import BayesLinRegressor\n",
    "from rec.utils import kl_estimate_with_mc, compute_variational_posterior, plot_samples_in_2d, plot_running_sum_2d, plot_pairs_of_samples"
   ]
  },
  {
   "cell_type": "code",
   "execution_count": 35,
   "id": "333ab4b8",
   "metadata": {},
   "outputs": [],
   "source": [
    "def encode_sample(target, method='empirical', omega=8, epsilon=0.,\n",
    "                  n_empirical_samples=10, seed=0, beamwidth=1):\n",
    "    \n",
    "    if method == 'empirical':\n",
    "        encoder = Empirical_Encoder(target,\n",
    "                                    seed,\n",
    "                                    CodingSampler,\n",
    "                                    GreedySampler,\n",
    "                                    EmpiricalMixturePosterior,\n",
    "                                    omega,\n",
    "                                    n_empirical_samples,\n",
    "                                    epsilon=epsilon,\n",
    "                                    beamwidth=beamwidth\n",
    "                                    )\n",
    "    else:\n",
    "        target = compute_variational_posterior(target)\n",
    "        encoder = Variational_Encoder(target,\n",
    "                                      seed,\n",
    "                                      CodingSampler,\n",
    "                                      GreedySampler,\n",
    "                                      VariationalPosterior,\n",
    "                                      omega,\n",
    "                                      epsilon=epsilon,\n",
    "                                      beamwidth=beamwidth\n",
    "                                      )\n",
    "\n",
    "    return encoder, *encoder.run_encoder()"
   ]
  },
  {
   "cell_type": "code",
   "execution_count": 36,
   "id": "231a6da3",
   "metadata": {},
   "outputs": [],
   "source": [
    "def compute_metrics(blr, z, encoder):\n",
    "    target = blr.weight_posterior\n",
    "    best_sample_idx = torch.argmax(target.log_prob(z))\n",
    "    best_sample = z[best_sample_idx]\n",
    "    MSE = blr.measure_performance(best_sample, kind='MSE')\n",
    "    MAE = blr.measure_performance(best_sample, kind='MAE')\n",
    "    mahalobonis_dist = torch.sqrt((target.mean - best_sample).T@target.covariance_matrix @(target.mean - best_sample))\n",
    "    log_q_over_p = target.log_prob(best_sample) - encoder.auxiliary_posterior.coding_sampler.log_prob(best_sample)\n",
    "    \n",
    "    return MSE, MAE, mahalobonis_dist, log_q_over_p"
   ]
  },
  {
   "cell_type": "code",
   "execution_count": 37,
   "id": "608084fd",
   "metadata": {},
   "outputs": [],
   "source": [
    "def performance_drop_off(target, MSE, MAE):\n",
    "    MSE_dropoff = (MSE - blr.measure_performance(target.mean, kind='MSE')) / blr.measure_performance(target.mean, kind='MSE') * 100\n",
    "    MAE_dropoff = (MAE - blr.measure_performance(target.mean, kind='MAE')) / blr.measure_performance(target.mean, kind='MAE') * 100\n",
    "    \n",
    "    return MSE_dropoff, MAE_dropoff"
   ]
  },
  {
   "cell_type": "markdown",
   "id": "5aa4cd5a",
   "metadata": {},
   "source": [
    "# 20 Dimension Problem"
   ]
  },
  {
   "cell_type": "code",
   "execution_count": 38,
   "id": "4261996e",
   "metadata": {},
   "outputs": [],
   "source": [
    "torch.set_default_tensor_type(torch.DoubleTensor)\n",
    "initial_seed_target = 69\n",
    "blr = BayesLinRegressor(prior_mean=torch.zeros(20),\n",
    "                        prior_alpha=1,\n",
    "                        signal_std=1,\n",
    "                        num_targets=10000,\n",
    "                        seed=initial_seed_target)\n",
    "blr.sample_feature_inputs()\n",
    "blr.sample_regression_targets()\n",
    "blr.posterior_update()\n",
    "target = blr.weight_posterior"
   ]
  },
  {
   "cell_type": "markdown",
   "id": "96b27ab7",
   "metadata": {},
   "source": [
    "# Beamsearch comparison"
   ]
  },
  {
   "cell_type": "code",
   "execution_count": null,
   "id": "470d9a2f",
   "metadata": {},
   "outputs": [],
   "source": [
    "beamwidths = [1, 10, 15, 20]\n",
    "random_seeds = [1e2]\n",
    "\n",
    "empirical_scheme_full_results = []\n",
    "empirical_scheme_dropoffs = []\n",
    "variational_scheme_full_results = []\n",
    "variational_scheme_dropoffs = []\n",
    "\n",
    "for beam in beamwidths:\n",
    "    emp_MSE = 0\n",
    "    emp_MAE = 0\n",
    "    emp_mah_dist = 0\n",
    "    emp_log_q_p = 0\n",
    "    var_MSE = 0\n",
    "    var_MAE = 0\n",
    "    var_mah_dist = 0\n",
    "    var_log_q_p = 0\n",
    "    for seed in random_seeds:\n",
    "        emp_enc, emp_z, _ = encode_sample(target, method='empirical', seed=seed, beamwidth=beam, epsilon=0.)\n",
    "        var_enc, var_z, _ = encode_sample(target, method='Variational', seed=seed, beamwidth=beam, epsilon=0.)\n",
    "        \n",
    "        emp_stats = compute_metrics(blr, emp_z, emp_enc)\n",
    "        emp_MSE += emp_stats[0]\n",
    "        emp_MAE += emp_stats[1]\n",
    "        emp_mah_dist += emp_stats[2]\n",
    "        emp_log_q_p += emp_stats[3]\n",
    "        \n",
    "        var_stats = compute_metrics(blr, var_z, var_enc)\n",
    "        var_MSE += var_stats[0]\n",
    "        var_MAE += var_stats[1]\n",
    "        var_mah_dist += var_stats[2]\n",
    "        var_log_q_p += var_stats[3]\n",
    "    empirical_scheme_full_results.append([emp_MSE / len(random_seeds),\n",
    "                                         emp_MAE / len(random_seeds),\n",
    "                                         emp_mah_dist / len(random_seeds),\n",
    "                                         emp_log_q_p / len(random_seeds)])\n",
    "    empirical_scheme_dropoffs.append([performance_drop_off(target, \n",
    "                                                          emp_MSE / len(random_seeds),\n",
    "                                                          emp_MAE / len(random_seeds))])\n",
    "    variational_scheme_full_results.append([var_MSE / len(random_seeds),\n",
    "                                           var_MAE / len(random_seeds),\n",
    "                                           var_mah_dist / len(random_seeds),\n",
    "                                           var_log_q_p / len(random_seeds)])\n",
    "    variational_scheme_dropoffs.append([performance_drop_off(target, \n",
    "                                                            var_MSE / len(random_seeds),\n",
    "                                                            var_MAE / len(random_seeds))])"
   ]
  },
  {
   "cell_type": "code",
   "execution_count": 111,
   "id": "ebaa7034",
   "metadata": {},
   "outputs": [
    {
     "data": {
      "text/plain": [
       "[[(tensor(1.2398), tensor(0.6422))],\n",
       " [(tensor(1.5876), tensor(0.7093))],\n",
       " [(tensor(1.5876), tensor(0.7093))],\n",
       " [(tensor(1.4532), tensor(0.6497))]]"
      ]
     },
     "execution_count": 111,
     "metadata": {},
     "output_type": "execute_result"
    }
   ],
   "source": [
    "empirical_scheme_dropoffs"
   ]
  },
  {
   "cell_type": "code",
   "execution_count": 112,
   "id": "d6010b59",
   "metadata": {},
   "outputs": [
    {
     "data": {
      "text/plain": [
       "[[(tensor(1.2398), tensor(0.6422))],\n",
       " [(tensor(1.1680), tensor(0.6251))],\n",
       " [(tensor(1.1680), tensor(0.6251))],\n",
       " [(tensor(1.1680), tensor(0.6251))]]"
      ]
     },
     "execution_count": 112,
     "metadata": {},
     "output_type": "execute_result"
    }
   ],
   "source": [
    "variational_scheme_dropoffs"
   ]
  },
  {
   "cell_type": "code",
   "execution_count": 113,
   "id": "01fdd0ed",
   "metadata": {},
   "outputs": [],
   "source": [
    "emp_log_q_p = [x[-1] for x in empirical_scheme_full_results]\n",
    "var_log_q_p = [x[-1] for x in variational_scheme_full_results]"
   ]
  },
  {
   "cell_type": "code",
   "execution_count": 114,
   "id": "3d269a55",
   "metadata": {},
   "outputs": [
    {
     "data": {
      "text/plain": [
       "[tensor(41.9756), tensor(45.5716), tensor(45.5716), tensor(45.5716)]"
      ]
     },
     "execution_count": 114,
     "metadata": {},
     "output_type": "execute_result"
    }
   ],
   "source": [
    "var_log_q_p"
   ]
  },
  {
   "cell_type": "code",
   "execution_count": 115,
   "id": "ad1fbaa5",
   "metadata": {},
   "outputs": [
    {
     "data": {
      "text/plain": [
       "[tensor(41.9756), tensor(24.5593), tensor(24.5593), tensor(31.2903)]"
      ]
     },
     "execution_count": 115,
     "metadata": {},
     "output_type": "execute_result"
    }
   ],
   "source": [
    "emp_log_q_p"
   ]
  },
  {
   "cell_type": "markdown",
   "id": "631d3f83",
   "metadata": {},
   "source": [
    "# Epsilon Comparison"
   ]
  },
  {
   "cell_type": "code",
   "execution_count": null,
   "id": "f9464cd0",
   "metadata": {},
   "outputs": [
    {
     "name": "stderr",
     "output_type": "stream",
     "text": [
      "100%|██████████| 12/12 [01:04<00:00,  5.39s/it]\n",
      "100%|██████████| 12/12 [00:08<00:00,  1.35it/s]\n",
      "100%|██████████| 12/12 [01:37<00:00,  8.09s/it]\n",
      "100%|██████████| 12/12 [00:14<00:00,  1.17s/it]\n",
      "100%|██████████| 12/12 [02:25<00:00, 12.14s/it]\n",
      "100%|██████████| 12/12 [00:19<00:00,  1.65s/it]\n",
      "100%|██████████| 12/12 [05:19<00:00, 26.64s/it]\n",
      "100%|██████████| 12/12 [00:44<00:00,  3.71s/it]\n",
      " 42%|████▏     | 5/12 [04:59<08:01, 68.75s/it]"
     ]
    }
   ],
   "source": [
    "epsilons = [0., 0.05, 0.1, 0.2, 0.3]\n",
    "random_seeds = [1e2]\n",
    "\n",
    "empirical_scheme_full_results_epsilon = []\n",
    "empirical_scheme_dropoffs_epsilon = []\n",
    "variational_scheme_full_results_epsilon = []\n",
    "variational_scheme_dropoffs_epsilon = []\n",
    "\n",
    "for eps in epsilons:\n",
    "    emp_MSE = 0\n",
    "    emp_MAE = 0\n",
    "    emp_mah_dist = 0\n",
    "    emp_log_q_p = 0\n",
    "    var_MSE = 0\n",
    "    var_MAE = 0\n",
    "    var_mah_dist = 0\n",
    "    var_log_q_p = 0\n",
    "    for seed in random_seeds:\n",
    "        emp_enc, emp_z, _ = encode_sample(target, method='empirical', seed=seed, beamwidth=10, epsilon=eps)\n",
    "        var_enc, var_z, _ = encode_sample(target, method='Variational', seed=seed, beamwidth=10, epsilon=eps)\n",
    "        \n",
    "        emp_stats = compute_metrics(blr, emp_z, emp_enc)\n",
    "        emp_MSE += emp_stats[0]\n",
    "        emp_MAE += emp_stats[1]\n",
    "        emp_mah_dist += emp_stats[2]\n",
    "        emp_log_q_p += emp_stats[3]\n",
    "        \n",
    "        var_stats = compute_metrics(blr, var_z, var_enc)\n",
    "        var_MSE += var_stats[0]\n",
    "        var_MAE += var_stats[1]\n",
    "        var_mah_dist += var_stats[2]\n",
    "        var_log_q_p += var_stats[3]\n",
    "    empirical_scheme_full_results_epsilon.append([emp_MSE / len(random_seeds),\n",
    "                                         emp_MAE / len(random_seeds),\n",
    "                                         emp_mah_dist / len(random_seeds),\n",
    "                                         emp_log_q_p / len(random_seeds)])\n",
    "    empirical_scheme_dropoffs_epsilon.append([performance_drop_off(target, \n",
    "                                                          emp_MSE / len(random_seeds),\n",
    "                                                          emp_MAE / len(random_seeds))])\n",
    "    variational_scheme_full_results_epsilon.append([var_MSE / len(random_seeds),\n",
    "                                           var_MAE / len(random_seeds),\n",
    "                                           var_mah_dist / len(random_seeds),\n",
    "                                           var_log_q_p / len(random_seeds)])\n",
    "    variational_scheme_dropoffs_epsilon.append([performance_drop_off(target, \n",
    "                                                            var_MSE / len(random_seeds),\n",
    "                                                            var_MAE / len(random_seeds))])"
   ]
  },
  {
   "cell_type": "code",
   "execution_count": 107,
   "id": "bae63c00",
   "metadata": {},
   "outputs": [
    {
     "data": {
      "text/plain": [
       "[[(tensor(1.5876), tensor(0.7093))],\n",
       " [(tensor(1.6215), tensor(0.7712))],\n",
       " [(tensor(1.1446), tensor(0.5927))],\n",
       " [(tensor(0.5409), tensor(0.3139))],\n",
       " [(tensor(0.4386), tensor(0.2412))]]"
      ]
     },
     "execution_count": 107,
     "metadata": {},
     "output_type": "execute_result"
    }
   ],
   "source": [
    "empirical_scheme_dropoffs_epsilon"
   ]
  },
  {
   "cell_type": "code",
   "execution_count": 109,
   "id": "995d9dfb",
   "metadata": {},
   "outputs": [
    {
     "data": {
      "text/plain": [
       "[[(tensor(1.1680), tensor(0.6251))],\n",
       " [(tensor(1.6215), tensor(0.7712))],\n",
       " [(tensor(1.1446), tensor(0.5927))],\n",
       " [(tensor(0.5409), tensor(0.3139))],\n",
       " [(tensor(0.5616), tensor(0.2828))]]"
      ]
     },
     "execution_count": 109,
     "metadata": {},
     "output_type": "execute_result"
    }
   ],
   "source": [
    "variational_scheme_dropoffs_epsilon"
   ]
  },
  {
   "cell_type": "code",
   "execution_count": null,
   "id": "bee5781c",
   "metadata": {},
   "outputs": [],
   "source": []
  }
 ],
 "metadata": {
  "kernelspec": {
   "display_name": "Python 3",
   "language": "python",
   "name": "python3"
  },
  "language_info": {
   "codemirror_mode": {
    "name": "ipython",
    "version": 3
   },
   "file_extension": ".py",
   "mimetype": "text/x-python",
   "name": "python",
   "nbconvert_exporter": "python",
   "pygments_lexer": "ipython3",
   "version": "3.8.8"
  }
 },
 "nbformat": 4,
 "nbformat_minor": 5
}
