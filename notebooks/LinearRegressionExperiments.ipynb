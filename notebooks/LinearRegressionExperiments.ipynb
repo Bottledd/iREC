{
 "cells": [
  {
   "cell_type": "code",
   "execution_count": 1,
   "id": "411a8c27",
   "metadata": {},
   "outputs": [],
   "source": [
    "%load_ext autoreload"
   ]
  },
  {
   "cell_type": "code",
   "execution_count": 2,
   "id": "d5ccb9f9",
   "metadata": {},
   "outputs": [],
   "source": [
    "%autoreload 2"
   ]
  },
  {
   "cell_type": "code",
   "execution_count": 3,
   "id": "6ea4a77c",
   "metadata": {},
   "outputs": [
    {
     "name": "stdout",
     "output_type": "stream",
     "text": [
      "/Users/kristophermiltiadou/Documents/UniWork/Cambridge/Thesis/CODE/iREC\n"
     ]
    }
   ],
   "source": [
    "%cd .."
   ]
  },
  {
   "cell_type": "markdown",
   "id": "6ca67042",
   "metadata": {},
   "source": [
    "### Import Modules"
   ]
  },
  {
   "cell_type": "code",
   "execution_count": 4,
   "id": "627a17c4",
   "metadata": {},
   "outputs": [],
   "source": [
    "import matplotlib.pyplot as plt\n",
    "import torch\n",
    "import torch.distributions as dist\n",
    "from tqdm import tqdm\n",
    "from models.BayesianLinRegressor import BayesLinRegressor\n",
    "from rec.utils import kl_estimate_with_mc, plot_running_sum_1d, plot_running_sum_2d, \\\n",
    "plot_2d_distribution, plot_1d_distribution, compute_variational_posterior\n",
    "from rec.Coders.Encoder_Parallel import Encoder as Empirical_Encoder\n",
    "from rec.Coders.Encoder_Gaussian_Target import Encoder as Variational_Encoder\n",
    "from rec.distributions.EmpiricalMixturePosterior_Parallel import EmpiricalMixturePosterior\n",
    "from rec.distributions.VariationalPosterior import VariationalPosterior\n",
    "from rec.samplers.GreedySampling import GreedySampler\n",
    "from rec.samplers.ImportanceSampling import ImportanceSampler\n",
    "from rec.distributions.CodingSampler import CodingSampler as coding_sampler"
   ]
  },
  {
   "cell_type": "code",
   "execution_count": 5,
   "id": "5bffc210",
   "metadata": {},
   "outputs": [],
   "source": [
    "def create_lin_reg_problem(dim=2, alpha=0.01, signal_std=5, num_points=10, seed=0):\n",
    "    \"\"\"\n",
    "    Creates a linear regression problem by sampling from a Bayesian Linear Regression Prior.\n",
    "    After observing points, computes Bayesian Posterior.\n",
    "    Returns target distribution.\n",
    "    \"\"\"\n",
    "    \n",
    "    # get Bayesian Linear Regression Object\n",
    "    blr = BayesLinRegressor(prior_mean=torch.zeros(dim),\n",
    "                            prior_alpha=alpha,\n",
    "                            signal_std=signal_std,\n",
    "                            num_targets=num_points,\n",
    "                            seed=seed)\n",
    "    blr.sample_feature_inputs()\n",
    "    blr.sample_regression_targets()\n",
    "    blr.posterior_update()\n",
    "    target = blr.weight_posterior\n",
    "    \n",
    "    return target"
   ]
  },
  {
   "cell_type": "code",
   "execution_count": 6,
   "id": "5bd08c95",
   "metadata": {},
   "outputs": [],
   "source": [
    "def encode_sample(target, posterior_method='empirical_distribution', omega=8, epsilon=0.,\n",
    "                  n_samples=10, sampling_method='Greedy', seed=0, sigmas=None):\n",
    "    \n",
    "    if posterior_method == 'empirical_distribution':\n",
    "        if sampling_method == 'Greedy':\n",
    "            selection_sampler = GreedySampler\n",
    "        else:\n",
    "            selection_sampler = ImportanceSampler\n",
    "\n",
    "        encoder = Empirical_Encoder(target,\n",
    "                                    seed,\n",
    "                                    coding_sampler,\n",
    "                                    selection_sampler,\n",
    "                                    EmpiricalMixturePosterior,\n",
    "                                    omega,\n",
    "                                    n_samples,\n",
    "                                    epsilon=epsilon,\n",
    "                                    )\n",
    "    else:\n",
    "        if sampling_method == 'Greedy':\n",
    "            selection_sampler = GreedySampler\n",
    "        else:\n",
    "            selection_sampler = ImportanceSampler\n",
    "        dim = target.mean.shape[0]\n",
    "        if dim > 1:\n",
    "            target = compute_variational_posterior(target)\n",
    "        encoder = Variational_Encoder(target,\n",
    "                                      seed,\n",
    "                                      coding_sampler,\n",
    "                                      selection_sampler,\n",
    "                                      VariationalPosterior,\n",
    "                                      omega,\n",
    "                                      epsilon=epsilon,\n",
    "                                      )\n",
    "    if sigmas is not None:\n",
    "        encoder.auxiliary_posterior.coding_sampler.auxiliary_vars = sigmas\n",
    "    return encoder, *encoder.run_encoder()"
   ]
  },
  {
   "cell_type": "code",
   "execution_count": 7,
   "id": "a79466c8",
   "metadata": {},
   "outputs": [],
   "source": [
    "def run_and_plot_coded_sample(target=None, dim=2, alpha=0.01, signal_std=5, num_points=10, num_samples=10,\n",
    "                              posterior_method='empirical_distribution', omega=8, epsilon=0.,\n",
    "                              sampling_method='Greedy', seed=0, sigmas=None):\n",
    "\n",
    "    # create problem\n",
    "    if target is None:\n",
    "        target = create_lin_reg_problem(dim=dim, alpha=alpha, signal_std=signal_std, num_points=num_points, seed=seed)\n",
    "    encoder, z, indices = encode_sample(target, posterior_method=posterior_method, omega=omega, epsilon=epsilon,\n",
    "                                        n_samples=num_samples, sampling_method=sampling_method, seed=seed,\n",
    "                                        sigmas=sigmas)\n",
    "    \n",
    "    \n",
    "    # plot things for 1 and 2 dimensions\n",
    "    if dim == 2:\n",
    "        plt.figure(figsize=(10,10))\n",
    "        plot_2d_distribution(target)\n",
    "        plot_running_sum_2d(encoder.selected_samples, plot_index_labels=False)\n",
    "#         plt.plot(encoder.auxiliary_posterior.empirical_samples[:, 0], encoder.auxiliary_posterior.empirical_samples[:, 1],\n",
    "#              'x')\n",
    "        plt.plot(z[0], z[1], 'o')\n",
    "    elif dim == 1:\n",
    "        plot_1d_distribution(target)\n",
    "        plot_running_sum_1d(target, encoder.selected_samples, plot_index_labels=False)\n",
    "        plt.plot(z, torch.exp(target.log_prob(z)), 'o')\n",
    "    \n",
    "    print(target.log_prob(z))\n",
    "    \n",
    "    return z, encoder"
   ]
  },
  {
   "cell_type": "markdown",
   "id": "26a49cc8",
   "metadata": {},
   "source": [
    "# Easy 1d example"
   ]
  },
  {
   "cell_type": "markdown",
   "id": "fee2b73e",
   "metadata": {},
   "source": [
    "## Empirical Method"
   ]
  },
  {
   "cell_type": "code",
   "execution_count": 8,
   "id": "aa3a93c0",
   "metadata": {},
   "outputs": [
    {
     "name": "stdout",
     "output_type": "stream",
     "text": [
      "32.74700164794922\n"
     ]
    },
    {
     "data": {
      "application/vnd.jupyter.widget-view+json": {
       "model_id": "ecbcafa4890f4839930eb2a2a4ca9d87",
       "version_major": 2,
       "version_minor": 0
      },
      "text/plain": [
       "  0%|          | 0/5 [00:00<?, ?it/s]"
      ]
     },
     "metadata": {},
     "output_type": "display_data"
    },
    {
     "name": "stdout",
     "output_type": "stream",
     "text": [
      "tensor(-1.3786)\n"
     ]
    },
    {
     "data": {
      "text/plain": [
       "(tensor([7.7098]), <rec.Coders.Encoder_Parallel.Encoder at 0x7fc92e47f7f0>)"
      ]
     },
     "execution_count": 8,
     "metadata": {},
     "output_type": "execute_result"
    },
    {
     "data": {
      "image/png": "[encoded data removed]",
      "text/plain": [
       "<Figure size 432x288 with 1 Axes>"
      ]
     },
     "metadata": {
      "needs_background": "light"
     },
     "output_type": "display_data"
    }
   ],
   "source": [
    "run_and_plot_coded_sample(dim=1, alpha=0.02, omega=8, num_samples=5)"
   ]
  },
  {
   "cell_type": "markdown",
   "id": "f08b4181",
   "metadata": {},
   "source": [
    "## Variational Posterior Method"
   ]
  },
  {
   "cell_type": "markdown",
   "id": "6379b0d2",
   "metadata": {},
   "source": [
    "### In this case the Variational Posterior is identical to true posterior"
   ]
  },
  {
   "cell_type": "code",
   "execution_count": 13,
   "id": "60a791cb",
   "metadata": {},
   "outputs": [
    {
     "name": "stdout",
     "output_type": "stream",
     "text": [
      "32.74700164794922\n"
     ]
    },
    {
     "data": {
      "application/vnd.jupyter.widget-view+json": {
       "model_id": "566731e410a349cc96fc553edf03fcd9",
       "version_major": 2,
       "version_minor": 0
      },
      "text/plain": [
       "  0%|          | 0/5 [00:00<?, ?it/s]"
      ]
     },
     "metadata": {},
     "output_type": "display_data"
    },
    {
     "name": "stdout",
     "output_type": "stream",
     "text": [
      "tensor(-1.3527)\n"
     ]
    },
    {
     "data": {
      "text/plain": [
       "(tensor([8.0608]),\n",
       " <rec.Coders.Encoder_Gaussian_Target.Encoder at 0x7fc921481310>)"
      ]
     },
     "execution_count": 13,
     "metadata": {},
     "output_type": "execute_result"
    },
    {
     "data": {
      "image/png": "[encoded data removed]",
      "text/plain": [
       "<Figure size 432x288 with 1 Axes>"
      ]
     },
     "metadata": {
      "needs_background": "light"
     },
     "output_type": "display_data"
    }
   ],
   "source": [
    "run_and_plot_coded_sample(dim=1, alpha=0.02, omega=8, posterior_method='Variational', epsilon=0.5)"
   ]
  },
  {
   "cell_type": "markdown",
   "id": "822e9bf7",
   "metadata": {},
   "source": [
    "# Hard 1d Example"
   ]
  },
  {
   "cell_type": "markdown",
   "id": "3dc33f7a",
   "metadata": {},
   "source": [
    "## Empirical Method"
   ]
  },
  {
   "cell_type": "code",
   "execution_count": 21,
   "id": "32c54fe1",
   "metadata": {},
   "outputs": [
    {
     "name": "stdout",
     "output_type": "stream",
     "text": [
      "112.81814575195312\n"
     ]
    },
    {
     "data": {
      "application/vnd.jupyter.widget-view+json": {
       "model_id": "6841f3d840254b2885d2410728437189",
       "version_major": 2,
       "version_minor": 0
      },
      "text/plain": [
       "  0%|          | 0/15 [00:00<?, ?it/s]"
      ]
     },
     "metadata": {},
     "output_type": "display_data"
    },
    {
     "name": "stdout",
     "output_type": "stream",
     "text": [
      "tensor(-5.0671)\n"
     ]
    },
    {
     "data": {
      "text/plain": [
       "tensor([13.4442])"
      ]
     },
     "execution_count": 21,
     "metadata": {},
     "output_type": "execute_result"
    },
    {
     "data": {
      "image/png": "[encoded data removed]",
      "text/plain": [
       "<Figure size 432x288 with 1 Axes>"
      ]
     },
     "metadata": {
      "needs_background": "light"
     },
     "output_type": "display_data"
    }
   ],
   "source": [
    "target = dist.multivariate_normal.MultivariateNormal(loc=torch.tensor([15.]), covariance_matrix=0.25*torch.eye(1))\n",
    "sigmas = torch.tensor([0.0750, 0.0722, 0.0712, 0.0709, 0.0710, 0.0712, 0.0715, 0.0713, 0.0714,\n",
    "        0.0718, 0.0717, 0.0700, 0.0647, 0.0556, 0.0204])\n",
    "# sigmas=None\n",
    "z, encoder = run_and_plot_coded_sample(target, dim=1, alpha=0.001, omega=8, num_samples=1, epsilon=0., sigmas=sigmas)\n",
    "# plt.plot(encoder.auxiliary_posterior.empirical_samples, torch.exp(target.log_prob(encoder.auxiliary_posterior.empirical_samples)), 'x')\n",
    "z"
   ]
  },
  {
   "cell_type": "markdown",
   "id": "0043b849",
   "metadata": {},
   "source": [
    "## Variational Posterior Method"
   ]
  },
  {
   "cell_type": "markdown",
   "id": "22827e3d",
   "metadata": {},
   "source": [
    "### In this case the Variational Posterior is identical to true posterior"
   ]
  },
  {
   "cell_type": "code",
   "execution_count": 37,
   "id": "dcc0ca36",
   "metadata": {},
   "outputs": [
    {
     "name": "stdout",
     "output_type": "stream",
     "text": [
      "1066.7122802734375\n"
     ]
    },
    {
     "data": {
      "application/vnd.jupyter.widget-view+json": {
       "model_id": "b3c3a64fd1324a52a3150b85a1264339",
       "version_major": 2,
       "version_minor": 0
      },
      "text/plain": [
       "  0%|          | 0/134 [00:00<?, ?it/s]"
      ]
     },
     "metadata": {},
     "output_type": "display_data"
    },
    {
     "name": "stdout",
     "output_type": "stream",
     "text": [
      "tensor(-6.5197)\n"
     ]
    },
    {
     "data": {
      "text/plain": [
       "(tensor([41.1176]),\n",
       " <rec.Coders.Encoder_Gaussian_Target.Encoder at 0x7fcecc382670>)"
      ]
     },
     "execution_count": 37,
     "metadata": {},
     "output_type": "execute_result"
    },
    {
     "data": {
      "image/png": "[encoded data removed]",
      "text/plain": [
       "<Figure size 432x288 with 1 Axes>"
      ]
     },
     "metadata": {
      "needs_background": "light"
     },
     "output_type": "display_data"
    }
   ],
   "source": [
    "run_and_plot_coded_sample(dim=1, alpha=0.001, omega=8, posterior_method='Variational', epsilon=0.)"
   ]
  },
  {
   "cell_type": "markdown",
   "id": "84a76321",
   "metadata": {},
   "source": [
    "# Easy 2d Example"
   ]
  },
  {
   "cell_type": "markdown",
   "id": "46fb1d47",
   "metadata": {},
   "source": [
    "## Empirical Method"
   ]
  },
  {
   "cell_type": "code",
   "execution_count": 72,
   "id": "f009f274",
   "metadata": {},
   "outputs": [
    {
     "name": "stdout",
     "output_type": "stream",
     "text": [
      "26.990970611572266\n"
     ]
    },
    {
     "data": {
      "application/vnd.jupyter.widget-view+json": {
       "model_id": "cea5fa3475a8464cb07bb6361bcfd8df",
       "version_major": 2,
       "version_minor": 0
      },
      "text/plain": [
       "  0%|          | 0/4 [00:00<?, ?it/s]"
      ]
     },
     "metadata": {},
     "output_type": "display_data"
    },
    {
     "name": "stdout",
     "output_type": "stream",
     "text": [
      "tensor(-1.8783)\n"
     ]
    },
    {
     "data": {
      "text/plain": [
       "(tensor([ 1.6878, -6.7025]),\n",
       " <rec.Coders.Encoder_Parallel.Encoder at 0x7fc5e5a98970>)"
      ]
     },
     "execution_count": 72,
     "metadata": {},
     "output_type": "execute_result"
    },
    {
     "data": {
      "image/png": "[encoded data removed]",
      "text/plain": [
       "<Figure size 720x720 with 1 Axes>"
      ]
     },
     "metadata": {
      "needs_background": "light"
     },
     "output_type": "display_data"
    }
   ],
   "source": [
    "run_and_plot_coded_sample(dim=2, alpha=0.007, omega=8, num_samples=500)"
   ]
  },
  {
   "cell_type": "markdown",
   "id": "b01ee1a6",
   "metadata": {},
   "source": [
    "## Variational Posterior Method"
   ]
  },
  {
   "cell_type": "code",
   "execution_count": 71,
   "id": "a374adfd",
   "metadata": {},
   "outputs": [
    {
     "name": "stdout",
     "output_type": "stream",
     "text": [
      "26.98949432373047\n"
     ]
    },
    {
     "data": {
      "application/vnd.jupyter.widget-view+json": {
       "model_id": "6b8cb2849b984e1e83d59407a976e2bd",
       "version_major": 2,
       "version_minor": 0
      },
      "text/plain": [
       "  0%|          | 0/4 [00:00<?, ?it/s]"
      ]
     },
     "metadata": {},
     "output_type": "display_data"
    },
    {
     "name": "stdout",
     "output_type": "stream",
     "text": [
      "tensor(-1.8429)\n"
     ]
    },
    {
     "data": {
      "text/plain": [
       "(tensor([ 1.7938, -7.0479]),\n",
       " <rec.Coders.Encoder_Gaussian_Target.Encoder at 0x7fc5e607d8b0>)"
      ]
     },
     "execution_count": 71,
     "metadata": {},
     "output_type": "execute_result"
    },
    {
     "data": {
      "image/png": "[encoded data removed]",
      "text/plain": [
       "<Figure size 720x720 with 1 Axes>"
      ]
     },
     "metadata": {
      "needs_background": "light"
     },
     "output_type": "display_data"
    }
   ],
   "source": [
    "run_and_plot_coded_sample(dim=2, alpha=0.007, omega=8, posterior_method='Variational')"
   ]
  },
  {
   "cell_type": "markdown",
   "id": "7373e66b",
   "metadata": {},
   "source": [
    "# Hard 1d Example"
   ]
  },
  {
   "cell_type": "markdown",
   "id": "7ad60e8a",
   "metadata": {},
   "source": [
    "## Empirical Method"
   ]
  },
  {
   "cell_type": "code",
   "execution_count": 137,
   "id": "e39da8d6",
   "metadata": {},
   "outputs": [
    {
     "name": "stdout",
     "output_type": "stream",
     "text": [
      "21152.318359375\n"
     ]
    },
    {
     "data": {
      "application/vnd.jupyter.widget-view+json": {
       "model_id": "7c606a482df24a62b625252df35e77a1",
       "version_major": 2,
       "version_minor": 0
      },
      "text/plain": [
       "  0%|          | 0/2645 [00:00<?, ?it/s]"
      ]
     },
     "metadata": {},
     "output_type": "display_data"
    },
    {
     "name": "stdout",
     "output_type": "stream",
     "text": [
      "tensor(-2.6913)\n"
     ]
    },
    {
     "data": {
      "image/png": "[encoded data removed]",
      "text/plain": [
       "<Figure size 720x720 with 1 Axes>"
      ]
     },
     "metadata": {
      "needs_background": "light"
     },
     "output_type": "display_data"
    }
   ],
   "source": [
    "z, encoder = run_and_plot_coded_sample(dim=2, alpha=0.0001, omega=8, num_samples=10, epsilon=0.2, seed=169)"
   ]
  },
  {
   "cell_type": "code",
   "execution_count": 74,
   "id": "4e09849d",
   "metadata": {},
   "outputs": [
    {
     "data": {
      "text/plain": [
       "tensor(32984.3555)"
      ]
     },
     "execution_count": 74,
     "metadata": {},
     "output_type": "execute_result"
    }
   ],
   "source": [
    "z.T @ z"
   ]
  },
  {
   "cell_type": "code",
   "execution_count": 75,
   "id": "569e105d",
   "metadata": {},
   "outputs": [
    {
     "data": {
      "text/plain": [
       "tensor(42303.0664)"
      ]
     },
     "execution_count": 75,
     "metadata": {},
     "output_type": "execute_result"
    }
   ],
   "source": [
    "encoder.target.mean.T @ encoder.target.mean.T"
   ]
  },
  {
   "cell_type": "markdown",
   "id": "5d634baf",
   "metadata": {},
   "source": [
    "## Variational Posterior Method"
   ]
  },
  {
   "cell_type": "code",
   "execution_count": 69,
   "id": "7c76b600",
   "metadata": {},
   "outputs": [
    {
     "name": "stdout",
     "output_type": "stream",
     "text": [
      "1961.4158935546875\n"
     ]
    },
    {
     "data": {
      "application/vnd.jupyter.widget-view+json": {
       "model_id": "501530ab2be54bd4a952c47c091a8a61",
       "version_major": 2,
       "version_minor": 0
      },
      "text/plain": [
       "  0%|          | 0/246 [00:00<?, ?it/s]"
      ]
     },
     "metadata": {},
     "output_type": "display_data"
    },
    {
     "name": "stdout",
     "output_type": "stream",
     "text": [
      "tensor(-12.8404)\n"
     ]
    },
    {
     "data": {
      "image/png": "[encoded data removed]",
      "text/plain": [
       "<Figure size 720x720 with 1 Axes>"
      ]
     },
     "metadata": {
      "needs_background": "light"
     },
     "output_type": "display_data"
    }
   ],
   "source": [
    "z, encoder = run_and_plot_coded_sample(dim=2, alpha=0.0001, omega=8, posterior_method='Variational', epsilon=0.)"
   ]
  },
  {
   "cell_type": "code",
   "execution_count": 66,
   "id": "82c8a7ae",
   "metadata": {},
   "outputs": [
    {
     "data": {
      "text/plain": [
       "tensor(4871.0288)"
      ]
     },
     "execution_count": 66,
     "metadata": {},
     "output_type": "execute_result"
    }
   ],
   "source": [
    "z.T @ z"
   ]
  },
  {
   "cell_type": "code",
   "execution_count": null,
   "id": "3b1077bb",
   "metadata": {},
   "outputs": [],
   "source": []
  }
 ],
 "metadata": {
  "kernelspec": {
   "display_name": "Python 3",
   "language": "python",
   "name": "python3"
  },
  "language_info": {
   "codemirror_mode": {
    "name": "ipython",
    "version": 3
   },
   "file_extension": ".py",
   "mimetype": "text/x-python",
   "name": "python",
   "nbconvert_exporter": "python",
   "pygments_lexer": "ipython3",
   "version": "3.8.8"
  }
 },
 "nbformat": 4,
 "nbformat_minor": 5
}
