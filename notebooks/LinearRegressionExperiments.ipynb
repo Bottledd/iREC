{
 "cells": [
  {
   "cell_type": "code",
   "execution_count": 1,
   "id": "283039fd",
   "metadata": {},
   "outputs": [],
   "source": [
    "%load_ext autoreload"
   ]
  },
  {
   "cell_type": "code",
   "execution_count": 2,
   "id": "df07ba3a",
   "metadata": {},
   "outputs": [],
   "source": [
    "%autoreload 2"
   ]
  },
  {
   "cell_type": "code",
   "execution_count": 3,
   "id": "ca22fff5",
   "metadata": {},
   "outputs": [
    {
     "name": "stdout",
     "output_type": "stream",
     "text": [
      "/Users/kristophermiltiadou/Documents/UniWork/Cambridge/Thesis/CODE/iREC\n"
     ]
    }
   ],
   "source": [
    "%cd .."
   ]
  },
  {
   "cell_type": "markdown",
   "id": "0dc85ca1",
   "metadata": {},
   "source": [
    "### Import Modules"
   ]
  },
  {
   "cell_type": "code",
   "execution_count": 41,
   "id": "b1deff82",
   "metadata": {},
   "outputs": [],
   "source": [
    "import matplotlib.pyplot as plt\n",
    "import torch\n",
    "import torch.distributions as dist\n",
    "from tqdm import tqdm\n",
    "from models.BayesianLinRegressor import BayesLinRegressor\n",
    "from rec.utils import kl_estimate_with_mc, plot_running_sum_1d, plot_running_sum_2d, \\\n",
    "plot_2d_distribution, plot_1d_distribution, compute_variational_posterior\n",
    "from rec.Coders.Encoder_Parallel import Encoder as Empirical_Encoder\n",
    "from rec.Coders.Encoder_Gaussian_Target import Encoder as Variational_Encoder\n",
    "from rec.distributions.EmpiricalMixturePosterior_Parallel import EmpiricalMixturePosterior\n",
    "from rec.distributions.VariationalPosterior import VariationalPosterior\n",
    "from rec.samplers.GreedySampling import GreedySampler\n",
    "from rec.samplers.ImportanceSampling import ImportanceSampler\n",
    "from rec.distributions.CodingSampler import CodingSampler as coding_sampler"
   ]
  },
  {
   "cell_type": "code",
   "execution_count": 42,
   "id": "715ca4a9",
   "metadata": {},
   "outputs": [],
   "source": [
    "def create_lin_reg_problem(dim=2, alpha=0.01, signal_std=5, num_points=10, seed=0):\n",
    "    \"\"\"\n",
    "    Creates a linear regression problem by sampling from a Bayesian Linear Regression Prior.\n",
    "    After observing points, computes Bayesian Posterior.\n",
    "    Returns target distribution.\n",
    "    \"\"\"\n",
    "    \n",
    "    # get Bayesian Linear Regression Object\n",
    "    blr = BayesLinRegressor(prior_mean=torch.zeros(dim),\n",
    "                            prior_alpha=alpha,\n",
    "                            signal_std=signal_std,\n",
    "                            num_targets=num_points,\n",
    "                            seed=seed)\n",
    "    blr.sample_feature_inputs()\n",
    "    blr.sample_regression_targets()\n",
    "    blr.posterior_update()\n",
    "    target = blr.weight_posterior\n",
    "    \n",
    "    return target"
   ]
  },
  {
   "cell_type": "code",
   "execution_count": 83,
   "id": "46091afa",
   "metadata": {},
   "outputs": [],
   "source": [
    "def encode_sample(target, posterior_method='empirical_distribution', omega=8, epsilon=0.,\n",
    "                  n_samples=10, sampling_method='Greedy', seed=0):\n",
    "    \n",
    "    if posterior_method == 'empirical_distribution':\n",
    "        if sampling_method == 'Greedy':\n",
    "            selection_sampler = GreedySampler\n",
    "        else:\n",
    "            selection_sampler = ImportanceSampler\n",
    "\n",
    "        encoder = Empirical_Encoder(target,\n",
    "                                    seed,\n",
    "                                    coding_sampler,\n",
    "                                    selection_sampler,\n",
    "                                    EmpiricalMixturePosterior,\n",
    "                                    omega,\n",
    "                                    n_samples,\n",
    "                                    epsilon=epsilon,\n",
    "                                    )\n",
    "    else:\n",
    "        if sampling_method == 'Greedy':\n",
    "            selection_sampler = GreedySampler\n",
    "        else:\n",
    "            selection_sampler = ImportanceSampler\n",
    "        dim = target.mean.shape[0]\n",
    "        if dim > 1:\n",
    "            target = compute_variational_posterior(target)\n",
    "        encoder = Variational_Encoder(target,\n",
    "                                      seed,\n",
    "                                      coding_sampler,\n",
    "                                      selection_sampler,\n",
    "                                      VariationalPosterior,\n",
    "                                      omega,\n",
    "                                      epsilon=epsilon,\n",
    "                                      )\n",
    "    \n",
    "    return encoder, *encoder.run_encoder()"
   ]
  },
  {
   "cell_type": "code",
   "execution_count": 125,
   "id": "64718d8a",
   "metadata": {},
   "outputs": [],
   "source": [
    "def run_and_plot_coded_sample(dim=2, alpha=0.01, signal_std=5, num_points=10, num_samples=10,\n",
    "                              posterior_method='empirical_distribution', omega=8, epsilon=0.,\n",
    "                              sampling_method='Greedy', seed=0):\n",
    "\n",
    "    # create problem\n",
    "    target = create_lin_reg_problem(dim=dim, alpha=alpha, signal_std=signal_std, num_points=num_points, seed=seed)\n",
    "    encoder, z, indices = encode_sample(target, posterior_method=posterior_method, omega=omega, epsilon=epsilon,\n",
    "                                        n_samples=num_samples, sampling_method=sampling_method, seed=seed)\n",
    "    \n",
    "    \n",
    "    # plot things for 1 and 2 dimensions\n",
    "    if dim == 2:\n",
    "        plt.figure(figsize=(10,10))\n",
    "        plot_2d_distribution(target)\n",
    "        plot_running_sum_2d(encoder.selected_samples, plot_index_labels=False)\n",
    "#         plt.plot(encoder.auxiliary_posterior.empirical_samples[:, 0], encoder.auxiliary_posterior.empirical_samples[:, 1],\n",
    "#              'x')\n",
    "        plt.plot(z[0], z[1], 'o')\n",
    "    elif dim == 1:\n",
    "        plot_1d_distribution(target)\n",
    "        plot_running_sum_1d(target, encoder.selected_samples, plot_index_labels=False)\n",
    "        plt.plot(z, torch.exp(target.log_prob(z)), 'o')\n",
    "    \n",
    "    print(target.log_prob(z))"
   ]
  },
  {
   "cell_type": "markdown",
   "id": "3cfb7a09",
   "metadata": {},
   "source": [
    "# Easy 1d example"
   ]
  },
  {
   "cell_type": "markdown",
   "id": "40abc753",
   "metadata": {},
   "source": [
    "## Empirical Method"
   ]
  },
  {
   "cell_type": "code",
   "execution_count": 126,
   "id": "b4adeaaf",
   "metadata": {},
   "outputs": [
    {
     "data": {
      "application/vnd.jupyter.widget-view+json": {
       "model_id": "9a202436934b4fe1a3b0ae1ece3b204c",
       "version_major": 2,
       "version_minor": 0
      },
      "text/plain": [
       "  0%|          | 0/5 [00:00<?, ?it/s]"
      ]
     },
     "metadata": {},
     "output_type": "display_data"
    },
    {
     "name": "stdout",
     "output_type": "stream",
     "text": [
      "tensor(-1.3786)\n"
     ]
    },
    {
     "data": {
      "image/png": "[encoded data removed]",
      "text/plain": [
       "<Figure size 432x288 with 1 Axes>"
      ]
     },
     "metadata": {
      "needs_background": "light"
     },
     "output_type": "display_data"
    }
   ],
   "source": [
    "run_and_plot_coded_sample(dim=1, alpha=0.02, omega=8, num_samples=5)"
   ]
  },
  {
   "cell_type": "markdown",
   "id": "76fed050",
   "metadata": {},
   "source": [
    "## Variational Posterior Method"
   ]
  },
  {
   "cell_type": "markdown",
   "id": "eb1c931a",
   "metadata": {},
   "source": [
    "### In this case the Variational Posterior is identical to true posterior"
   ]
  },
  {
   "cell_type": "code",
   "execution_count": 127,
   "id": "fe0a17cd",
   "metadata": {},
   "outputs": [
    {
     "name": "stdout",
     "output_type": "stream",
     "text": [
      "32.74700164794922\n"
     ]
    },
    {
     "data": {
      "application/vnd.jupyter.widget-view+json": {
       "model_id": "ee8bf13a6fe44f8d914ccb657449cf56",
       "version_major": 2,
       "version_minor": 0
      },
      "text/plain": [
       "  0%|          | 0/5 [00:00<?, ?it/s]"
      ]
     },
     "metadata": {},
     "output_type": "display_data"
    },
    {
     "name": "stdout",
     "output_type": "stream",
     "text": [
      "tensor(-1.3530)\n"
     ]
    },
    {
     "data": {
      "image/png": "[encoded data removed]",
      "text/plain": [
       "<Figure size 432x288 with 1 Axes>"
      ]
     },
     "metadata": {
      "needs_background": "light"
     },
     "output_type": "display_data"
    }
   ],
   "source": [
    "run_and_plot_coded_sample(dim=1, alpha=0.02, omega=8, posterior_method='Variational')"
   ]
  },
  {
   "cell_type": "markdown",
   "id": "a8792adb",
   "metadata": {},
   "source": [
    "# Hard 1d Example"
   ]
  },
  {
   "cell_type": "markdown",
   "id": "baf358a5",
   "metadata": {},
   "source": [
    "## Empirical Method"
   ]
  },
  {
   "cell_type": "code",
   "execution_count": null,
   "id": "8db32953",
   "metadata": {},
   "outputs": [
    {
     "data": {
      "application/vnd.jupyter.widget-view+json": {
       "model_id": "e11115a326f64470baad216c0dfc1ebd",
       "version_major": 2,
       "version_minor": 0
      },
      "text/plain": [
       "  0%|          | 0/134 [00:00<?, ?it/s]"
      ]
     },
     "metadata": {},
     "output_type": "display_data"
    }
   ],
   "source": [
    "run_and_plot_coded_sample(dim=1, alpha=0.001, omega=8, num_samples=1000, epsilon=0.)"
   ]
  },
  {
   "cell_type": "markdown",
   "id": "06758319",
   "metadata": {},
   "source": [
    "## Variational Posterior Method"
   ]
  },
  {
   "cell_type": "markdown",
   "id": "a7bbe41d",
   "metadata": {},
   "source": [
    "### In this case the Variational Posterior is identical to true posterior"
   ]
  },
  {
   "cell_type": "code",
   "execution_count": null,
   "id": "9107bbc3",
   "metadata": {},
   "outputs": [],
   "source": [
    "run_and_plot_coded_sample(dim=1, alpha=0.001, omega=8, posterior_method='Variational', epsilon=0.)"
   ]
  },
  {
   "cell_type": "markdown",
   "id": "b71c05dd",
   "metadata": {},
   "source": [
    "# Easy 2d Example"
   ]
  },
  {
   "cell_type": "markdown",
   "id": "e5fb2761",
   "metadata": {},
   "source": [
    "## Empirical Method"
   ]
  },
  {
   "cell_type": "code",
   "execution_count": null,
   "id": "c6fa8ad8",
   "metadata": {},
   "outputs": [],
   "source": [
    "run_and_plot_coded_sample(dim=2, alpha=0.007, omega=8, num_samples=500)"
   ]
  },
  {
   "cell_type": "markdown",
   "id": "d12756cc",
   "metadata": {},
   "source": [
    "## Variational Posterior Method"
   ]
  },
  {
   "cell_type": "markdown",
   "id": "394e4d7c",
   "metadata": {},
   "source": [
    "### In this case the Variational Posterior is identical to true posterior"
   ]
  },
  {
   "cell_type": "code",
   "execution_count": null,
   "id": "7719e594",
   "metadata": {},
   "outputs": [],
   "source": [
    "run_and_plot_coded_sample(dim=2, alpha=0.007, omega=8, posterior_method='Variational')"
   ]
  },
  {
   "cell_type": "markdown",
   "id": "f99ff2d4",
   "metadata": {},
   "source": [
    "# Hard 1d Example"
   ]
  },
  {
   "cell_type": "markdown",
   "id": "56305b7b",
   "metadata": {},
   "source": [
    "## Empirical Method"
   ]
  },
  {
   "cell_type": "code",
   "execution_count": null,
   "id": "37af210e",
   "metadata": {},
   "outputs": [],
   "source": [
    "run_and_plot_coded_sample(dim=2, alpha=0.0001, omega=8, num_samples=100, epsilon=0.)"
   ]
  },
  {
   "cell_type": "markdown",
   "id": "b9ec2454",
   "metadata": {},
   "source": [
    "## Variational Posterior Method"
   ]
  },
  {
   "cell_type": "markdown",
   "id": "7235e48a",
   "metadata": {},
   "source": [
    "### In this case the Variational Posterior is identical to true posterior"
   ]
  },
  {
   "cell_type": "code",
   "execution_count": null,
   "id": "59a0a6c4",
   "metadata": {},
   "outputs": [],
   "source": [
    "run_and_plot_coded_sample(dim=2, alpha=0.0001, omega=8, posterior_method='Variational', epsilon=0.)"
   ]
  }
 ],
 "metadata": {
  "kernelspec": {
   "display_name": "Python 3",
   "language": "python",
   "name": "python3"
  },
  "language_info": {
   "codemirror_mode": {
    "name": "ipython",
    "version": 3
   },
   "file_extension": ".py",
   "mimetype": "text/x-python",
   "name": "python",
   "nbconvert_exporter": "python",
   "pygments_lexer": "ipython3",
   "version": "3.8.8"
  }
 },
 "nbformat": 4,
 "nbformat_minor": 5
}
