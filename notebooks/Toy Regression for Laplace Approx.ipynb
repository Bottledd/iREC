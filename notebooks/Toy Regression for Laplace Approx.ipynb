{
 "cells": [
  {
   "cell_type": "markdown",
   "id": "3d7eab82",
   "metadata": {},
   "source": [
    "# Toy Regression Example"
   ]
  },
  {
   "cell_type": "code",
   "execution_count": 36,
   "id": "a5a59eec",
   "metadata": {},
   "outputs": [],
   "source": [
    "import torch\n",
    "import torch.distributions as D\n",
    "import torch.nn as nn\n",
    "from torch.nn import functional as F"
   ]
  },
  {
   "cell_type": "code",
   "execution_count": 37,
   "id": "437c3d38",
   "metadata": {},
   "outputs": [],
   "source": [
    "# create toy dataset\n",
    "torch.manual_seed(0)\n",
    "x = D.Uniform(low = -4., high=4.).sample((20,))\n",
    "y = D.Independent(D.Normal(loc=x**3, scale=3), 1).sample()"
   ]
  },
  {
   "cell_type": "code",
   "execution_count": 38,
   "id": "468e96ae",
   "metadata": {},
   "outputs": [],
   "source": [
    "import matplotlib.pyplot as plt"
   ]
  },
  {
   "cell_type": "code",
   "execution_count": 39,
   "id": "7813afa0",
   "metadata": {},
   "outputs": [
    {
     "data": {
      "text/plain": [
       "<matplotlib.legend.Legend at 0x7fdd28ec66a0>"
      ]
     },
     "execution_count": 39,
     "metadata": {},
     "output_type": "execute_result"
    },
    {
     "data": {
      "image/png": "[encoded data removed]",
      "text/plain": [
       "<Figure size 432x288 with 1 Axes>"
      ]
     },
     "metadata": {
      "needs_background": "light"
     },
     "output_type": "display_data"
    }
   ],
   "source": [
    "xs = torch.linspace(-4, 4, 100)\n",
    "plt.plot(x, y, 'ro', label='data')\n",
    "plt.plot(xs, xs**3, 'k-', label='ground truth')\n",
    "plt.legend()"
   ]
  },
  {
   "cell_type": "code",
   "execution_count": 173,
   "id": "43b1bf69",
   "metadata": {},
   "outputs": [],
   "source": [
    "class model(nn.Module):\n",
    "    def __init__(self, input_size, num_hidden_layers, num_hidden_nodes, output_size):\n",
    "        super(model, self).__init__()\n",
    "        self.input_size = input_size\n",
    "        self.input_layer = nn.Linear(input_size, num_hidden_nodes)\n",
    "        self.hidden_layers = nn.ModuleList(\n",
    "            [nn.Linear(num_hidden_nodes, num_hidden_nodes) for i in range(num_hidden_layers)])\n",
    "        self.final_layer = nn.Linear(num_hidden_nodes, output_size)\n",
    "\n",
    "    def forward(self, x):\n",
    "        x = F.relu(self.input_layer(x.view(-1,1)))\n",
    "        \n",
    "        for f in self.hidden_layers:\n",
    "            x = F.relu(f(x))\n",
    "        \n",
    "        x = self.final_layer(x)\n",
    "\n",
    "        return x"
   ]
  },
  {
   "cell_type": "code",
   "execution_count": 174,
   "id": "84a1b147",
   "metadata": {},
   "outputs": [],
   "source": [
    "def loss_function(y, y_preds):\n",
    "    return ((y.view(-1,1) - y_preds) ** 2).sum(-1).mean()"
   ]
  },
  {
   "cell_type": "code",
   "execution_count": 186,
   "id": "0ef9da0c",
   "metadata": {},
   "outputs": [],
   "source": [
    "my_model = model(1, 1, 100, 1)\n",
    "# use weight decay for l2 regularisation\n",
    "optimiser = torch.optim.Adam(my_model.parameters(), lr=1e-1, weight_decay=0.5)\n",
    "\n",
    "for epoch in range(1, 1 + 40):\n",
    "    optimiser.zero_grad()\n",
    "    y_preds = my_model(x)\n",
    "    loss = loss_function(y, y_preds)\n",
    "    if epoch % 1000 == 0:\n",
    "        print(f'The loss at epoch {epoch} is: {loss.item():.5f}')\n",
    "    loss.backward()\n",
    "    optimiser.step()\n",
    "    "
   ]
  },
  {
   "cell_type": "code",
   "execution_count": 187,
   "id": "dab7c24f",
   "metadata": {},
   "outputs": [
    {
     "data": {
      "text/plain": [
       "<matplotlib.legend.Legend at 0x7fdd2d804df0>"
      ]
     },
     "execution_count": 187,
     "metadata": {},
     "output_type": "execute_result"
    },
    {
     "data": {
      "image/png": "[encoded data removed]",
      "text/plain": [
       "<Figure size 432x288 with 1 Axes>"
      ]
     },
     "metadata": {
      "needs_background": "light"
     },
     "output_type": "display_data"
    }
   ],
   "source": [
    "xs = torch.linspace(-4, 4, 100)\n",
    "plt.plot(x, y, 'ro', label='data')\n",
    "plt.plot(xs, xs**3, 'k-', label='ground truth')\n",
    "plt.plot(xs, my_model(xs).detach(), 'b-', label='model prediction')\n",
    "plt.legend()"
   ]
  },
  {
   "cell_type": "code",
   "execution_count": 188,
   "id": "4f33f494",
   "metadata": {},
   "outputs": [
    {
     "name": "stdout",
     "output_type": "stream",
     "text": [
      "Parameter containing:\n",
      "tensor([[ 0.3537],\n",
      "        [-0.3728],\n",
      "        [-0.7239],\n",
      "        [ 0.0107],\n",
      "        [ 0.1380],\n",
      "        [-0.4305],\n",
      "        [-0.2075],\n",
      "        [-0.5658],\n",
      "        [ 0.4211],\n",
      "        [-0.1779],\n",
      "        [-0.2979],\n",
      "        [-0.5127],\n",
      "        [ 0.5286],\n",
      "        [ 0.0720],\n",
      "        [-0.1725],\n",
      "        [-0.2469],\n",
      "        [ 0.5593],\n",
      "        [-0.0457],\n",
      "        [-0.1661],\n",
      "        [ 0.5266],\n",
      "        [ 0.0523],\n",
      "        [ 0.4119],\n",
      "        [-0.1872],\n",
      "        [ 0.0488],\n",
      "        [ 0.1904],\n",
      "        [-0.4626],\n",
      "        [-0.6006],\n",
      "        [-0.3067],\n",
      "        [ 0.2066],\n",
      "        [-0.5256],\n",
      "        [-0.0149],\n",
      "        [-0.0492],\n",
      "        [-0.0767],\n",
      "        [ 0.2998],\n",
      "        [-0.2366],\n",
      "        [-0.5459],\n",
      "        [-0.0050],\n",
      "        [ 0.2386],\n",
      "        [-0.3927],\n",
      "        [ 0.0301],\n",
      "        [ 0.2660],\n",
      "        [ 0.2350],\n",
      "        [ 0.1058],\n",
      "        [ 0.1764],\n",
      "        [-0.7395],\n",
      "        [-0.6418],\n",
      "        [-0.4526],\n",
      "        [ 0.4556],\n",
      "        [-0.4198],\n",
      "        [-0.0679],\n",
      "        [ 0.2106],\n",
      "        [ 0.3553],\n",
      "        [-0.3493],\n",
      "        [ 0.3972],\n",
      "        [ 0.0766],\n",
      "        [-0.1674],\n",
      "        [-0.4745],\n",
      "        [-0.5615],\n",
      "        [-0.1687],\n",
      "        [ 0.2356],\n",
      "        [-0.2114],\n",
      "        [-0.0538],\n",
      "        [-0.0515],\n",
      "        [ 0.3206],\n",
      "        [ 0.5380],\n",
      "        [ 0.4424],\n",
      "        [ 0.1321],\n",
      "        [ 0.5299],\n",
      "        [ 0.2659],\n",
      "        [ 0.1307],\n",
      "        [-0.5396],\n",
      "        [ 0.1645],\n",
      "        [-0.2749],\n",
      "        [-0.4264],\n",
      "        [-0.0903],\n",
      "        [ 0.1267],\n",
      "        [ 0.1082],\n",
      "        [ 0.0269],\n",
      "        [-0.0285],\n",
      "        [-0.4499],\n",
      "        [-0.1835],\n",
      "        [ 0.2027],\n",
      "        [-0.0746],\n",
      "        [ 0.2804],\n",
      "        [-0.0857],\n",
      "        [-0.4483],\n",
      "        [-0.4836],\n",
      "        [ 0.5255],\n",
      "        [ 0.1031],\n",
      "        [ 0.0162],\n",
      "        [ 0.2688],\n",
      "        [ 0.3962],\n",
      "        [-0.4923],\n",
      "        [-0.4100],\n",
      "        [ 0.4939],\n",
      "        [-0.5082],\n",
      "        [-0.0037],\n",
      "        [ 0.5243],\n",
      "        [-0.4327],\n",
      "        [ 0.4537]], requires_grad=True)\n",
      "Parameter containing:\n",
      "tensor([-0.7139, -0.9041, -1.1702, -0.6039, -0.6286, -0.6987, -0.4626, -0.6119,\n",
      "        -0.8075, -0.4401,  0.0089, -0.4105, -0.5219,  0.0788, -0.4658, -0.6295,\n",
      "        -0.6193, -0.5265, -0.3699, -1.0488, -0.1926, -0.6150, -0.3650, -0.7262,\n",
      "        -0.3881, -0.9314, -1.1441,  0.0560, -0.3839, -0.9892, -0.5502,  0.6069,\n",
      "        -0.2297, -0.4788, -0.4705, -0.2726, -0.2640, -0.3801, -0.2719, -0.1471,\n",
      "        -0.4244, -0.4589, -0.7092, -0.3238, -1.1728, -1.0367, -0.3956, -0.8652,\n",
      "        -0.7994, -0.6237, -0.4677, -0.6326, -0.4144, -0.7396, -0.4833, -0.4187,\n",
      "        -0.9261, -1.0409, -0.4469, -0.1108, -0.2000, -0.3153, -0.5462, -0.3328,\n",
      "        -0.1676, -0.6788, -0.2839, -0.8885, -0.2194, -0.2318, -0.6941, -0.2774,\n",
      "        -0.3382, -1.0233, -0.1626, -0.0271, -0.1793, -0.1208,  0.2136, -0.7171,\n",
      "        -0.4519, -0.4380, -0.2368, -0.3558, -0.5520, -0.6493, -0.7851, -0.9120,\n",
      "        -0.5659,  0.0515, -0.5215, -0.1876, -0.8593, -0.3258, -0.5174, -0.9940,\n",
      "        -0.6546, -0.7745, -0.4589, -0.8200], requires_grad=True)\n",
      "Parameter containing:\n",
      "tensor([[-0.0314, -0.1715,  0.0470,  ..., -0.0712, -0.2284, -0.0643],\n",
      "        [ 0.0422, -0.2164,  0.0668,  ..., -0.0076,  0.1351,  0.0390],\n",
      "        [-0.0173,  0.1659,  0.2437,  ...,  0.0456,  0.1428,  0.0425],\n",
      "        ...,\n",
      "        [-0.0562, -0.0400,  0.0349,  ..., -0.1042, -0.0171, -0.1038],\n",
      "        [ 0.1723,  0.0183,  0.0495,  ...,  0.2639, -0.0366,  0.2301],\n",
      "        [-0.1366,  0.1449,  0.1854,  ..., -0.1498,  0.2096, -0.1697]],\n",
      "       requires_grad=True)\n",
      "Parameter containing:\n",
      "tensor([-0.1483,  0.2081,  0.2035, -0.0702, -0.0349, -0.1720, -0.0879, -0.0764,\n",
      "        -0.0253, -0.0619, -0.1253, -0.1103, -0.1138, -0.0125, -0.0237, -0.0319,\n",
      "        -0.1150, -0.0135, -0.1420, -0.0154, -0.0259, -0.1773, -0.1318, -0.0919,\n",
      "        -0.0677,  0.0616,  0.1120, -0.0405, -0.1391, -0.1032,  0.0736,  0.0215,\n",
      "        -0.0172,  0.0985, -0.3118,  0.1512,  0.2271, -0.1712, -0.1587,  0.0789,\n",
      "        -0.1328, -0.0925, -0.2379, -0.2004,  0.0536,  0.0773, -0.1443,  0.0780,\n",
      "        -0.5436, -0.0025, -0.0953, -0.0544,  0.0255, -0.0243, -0.1496, -0.1500,\n",
      "        -0.0922, -0.0236, -0.1553, -0.0379, -0.1140, -0.2347, -0.1505, -0.0246,\n",
      "        -0.3773, -0.1288, -0.0660, -0.1262, -0.1488, -0.0767, -0.1125,  0.0036,\n",
      "        -0.0965, -0.1467, -0.1730, -0.0600,  0.0485, -0.0528,  0.0533,  0.0753,\n",
      "        -0.1049, -0.1329, -0.2494, -0.1890, -0.1407, -0.0792, -0.1369, -0.2027,\n",
      "        -0.1985, -0.1870,  0.0606, -0.0436, -0.0748, -0.0165, -0.1619, -0.1023,\n",
      "        -0.1028,  0.0113, -0.1028, -0.0695], requires_grad=True)\n",
      "Parameter containing:\n",
      "tensor([[ 0.3642,  0.2424, -0.3187,  0.1144, -0.3463,  0.3725, -0.1509,  0.0133,\n",
      "          0.1811, -0.1433,  0.6473, -0.1694,  0.2232,  0.3440,  0.2711,  0.0387,\n",
      "          0.0726, -0.1635,  0.2788,  0.2086,  0.3116,  0.3763,  0.1141,  0.4086,\n",
      "          0.2158,  0.1629, -0.0591,  0.0845,  0.3602, -0.0088, -0.1072, -0.0031,\n",
      "         -0.5987, -0.4739,  0.6741,  0.3038,  0.1333,  0.3705,  0.2909,  0.1577,\n",
      "          0.3872,  0.3743, -0.7178,  0.3349,  0.3659,  0.0618,  0.3263,  0.1347,\n",
      "         -0.7465,  0.0618, -0.2072,  0.0773,  0.2981,  0.1493,  0.2762,  0.2642,\n",
      "         -0.3132,  0.1740,  0.4187,  0.0898,  0.1593,  0.5599,  0.3548,  0.3170,\n",
      "         -0.7967, -0.6494,  0.0597,  0.1937,  0.2796,  0.1365, -0.0437, -0.1075,\n",
      "          0.3111, -0.4554,  0.3414,  0.3502,  0.1326,  0.4040, -0.1461,  0.1279,\n",
      "         -0.0165,  0.3890,  0.3398,  0.3284,  0.4124,  0.3327, -0.1697,  0.3306,\n",
      "          0.3569,  0.2916,  0.2484, -0.0250, -0.0304,  0.1984,  0.2929,  0.3214,\n",
      "          0.1329,  0.2969,  0.3392, -0.1090]], requires_grad=True)\n",
      "Parameter containing:\n",
      "tensor([-0.1160], requires_grad=True)\n"
     ]
    }
   ],
   "source": [
    "for w in my_model.parameters():\n",
    "    print(w)"
   ]
  },
  {
   "cell_type": "code",
   "execution_count": 189,
   "id": "c9a22ecd",
   "metadata": {},
   "outputs": [
    {
     "data": {
      "text/plain": [
       "Parameter containing:\n",
       "tensor([[-0.0314, -0.1715,  0.0470,  ..., -0.0712, -0.2284, -0.0643],\n",
       "        [ 0.0422, -0.2164,  0.0668,  ..., -0.0076,  0.1351,  0.0390],\n",
       "        [-0.0173,  0.1659,  0.2437,  ...,  0.0456,  0.1428,  0.0425],\n",
       "        ...,\n",
       "        [-0.0562, -0.0400,  0.0349,  ..., -0.1042, -0.0171, -0.1038],\n",
       "        [ 0.1723,  0.0183,  0.0495,  ...,  0.2639, -0.0366,  0.2301],\n",
       "        [-0.1366,  0.1449,  0.1854,  ..., -0.1498,  0.2096, -0.1697]],\n",
       "       requires_grad=True)"
      ]
     },
     "execution_count": 189,
     "metadata": {},
     "output_type": "execute_result"
    }
   ],
   "source": [
    "my_model.hidden_layers[0].weight"
   ]
  },
  {
   "cell_type": "code",
   "execution_count": 203,
   "id": "770c5e6e",
   "metadata": {},
   "outputs": [
    {
     "ename": "TypeError",
     "evalue": "loss_function() takes 2 positional arguments but 6 were given",
     "output_type": "error",
     "traceback": [
      "\u001b[0;31m---------------------------------------------------------------------------\u001b[0m",
      "\u001b[0;31mTypeError\u001b[0m                                 Traceback (most recent call last)",
      "\u001b[0;32m<ipython-input-203-696d03f8184a>\u001b[0m in \u001b[0;36m<module>\u001b[0;34m\u001b[0m\n\u001b[1;32m      2\u001b[0m \u001b[0my_preds\u001b[0m \u001b[0;34m=\u001b[0m \u001b[0mmy_model\u001b[0m\u001b[0;34m(\u001b[0m\u001b[0mx\u001b[0m\u001b[0;34m)\u001b[0m\u001b[0;34m\u001b[0m\u001b[0;34m\u001b[0m\u001b[0m\n\u001b[1;32m      3\u001b[0m \u001b[0mloss\u001b[0m \u001b[0;34m=\u001b[0m \u001b[0mloss_function\u001b[0m\u001b[0;34m(\u001b[0m\u001b[0my\u001b[0m\u001b[0;34m,\u001b[0m \u001b[0my_preds\u001b[0m\u001b[0;34m)\u001b[0m\u001b[0;34m\u001b[0m\u001b[0;34m\u001b[0m\u001b[0m\n\u001b[0;32m----> 4\u001b[0;31m \u001b[0mtorch\u001b[0m\u001b[0;34m.\u001b[0m\u001b[0mautograd\u001b[0m\u001b[0;34m.\u001b[0m\u001b[0mfunctional\u001b[0m\u001b[0;34m.\u001b[0m\u001b[0mhessian\u001b[0m\u001b[0;34m(\u001b[0m\u001b[0mloss_function\u001b[0m\u001b[0;34m,\u001b[0m \u001b[0mtuple\u001b[0m\u001b[0;34m(\u001b[0m\u001b[0;34m[\u001b[0m\u001b[0m_\u001b[0m\u001b[0;34m.\u001b[0m\u001b[0mview\u001b[0m\u001b[0;34m(\u001b[0m\u001b[0;34m-\u001b[0m\u001b[0;36m1\u001b[0m\u001b[0;34m)\u001b[0m \u001b[0;32mfor\u001b[0m \u001b[0m_\u001b[0m \u001b[0;32min\u001b[0m \u001b[0mmy_model\u001b[0m\u001b[0;34m.\u001b[0m\u001b[0mparameters\u001b[0m\u001b[0;34m(\u001b[0m\u001b[0;34m)\u001b[0m\u001b[0;34m]\u001b[0m\u001b[0;34m)\u001b[0m\u001b[0;34m)\u001b[0m\u001b[0;34m\u001b[0m\u001b[0;34m\u001b[0m\u001b[0m\n\u001b[0m",
      "\u001b[0;32m~/opt/anaconda3/envs/Torch/lib/python3.8/site-packages/torch/autograd/functional.py\u001b[0m in \u001b[0;36mhessian\u001b[0;34m(func, inputs, create_graph, strict, vectorize)\u001b[0m\n\u001b[1;32m    690\u001b[0m         \u001b[0;32mreturn\u001b[0m \u001b[0mjac\u001b[0m\u001b[0;34m\u001b[0m\u001b[0;34m\u001b[0m\u001b[0m\n\u001b[1;32m    691\u001b[0m \u001b[0;34m\u001b[0m\u001b[0m\n\u001b[0;32m--> 692\u001b[0;31m     \u001b[0mres\u001b[0m \u001b[0;34m=\u001b[0m \u001b[0mjacobian\u001b[0m\u001b[0;34m(\u001b[0m\u001b[0mjac_func\u001b[0m\u001b[0;34m,\u001b[0m \u001b[0minputs\u001b[0m\u001b[0;34m,\u001b[0m \u001b[0mcreate_graph\u001b[0m\u001b[0;34m=\u001b[0m\u001b[0mcreate_graph\u001b[0m\u001b[0;34m,\u001b[0m \u001b[0mstrict\u001b[0m\u001b[0;34m=\u001b[0m\u001b[0mstrict\u001b[0m\u001b[0;34m,\u001b[0m \u001b[0mvectorize\u001b[0m\u001b[0;34m=\u001b[0m\u001b[0mvectorize\u001b[0m\u001b[0;34m)\u001b[0m\u001b[0;34m\u001b[0m\u001b[0;34m\u001b[0m\u001b[0m\n\u001b[0m\u001b[1;32m    693\u001b[0m     \u001b[0;32mreturn\u001b[0m \u001b[0m_tuple_postprocess\u001b[0m\u001b[0;34m(\u001b[0m\u001b[0mres\u001b[0m\u001b[0;34m,\u001b[0m \u001b[0;34m(\u001b[0m\u001b[0mis_inputs_tuple\u001b[0m\u001b[0;34m,\u001b[0m \u001b[0mis_inputs_tuple\u001b[0m\u001b[0;34m)\u001b[0m\u001b[0;34m)\u001b[0m\u001b[0;34m\u001b[0m\u001b[0;34m\u001b[0m\u001b[0m\n\u001b[1;32m    694\u001b[0m \u001b[0;34m\u001b[0m\u001b[0m\n",
      "\u001b[0;32m~/opt/anaconda3/envs/Torch/lib/python3.8/site-packages/torch/autograd/functional.py\u001b[0m in \u001b[0;36mjacobian\u001b[0;34m(func, inputs, create_graph, strict, vectorize)\u001b[0m\n\u001b[1;32m    472\u001b[0m     \u001b[0minputs\u001b[0m \u001b[0;34m=\u001b[0m \u001b[0m_grad_preprocess\u001b[0m\u001b[0;34m(\u001b[0m\u001b[0minputs\u001b[0m\u001b[0;34m,\u001b[0m \u001b[0mcreate_graph\u001b[0m\u001b[0;34m=\u001b[0m\u001b[0mcreate_graph\u001b[0m\u001b[0;34m,\u001b[0m \u001b[0mneed_graph\u001b[0m\u001b[0;34m=\u001b[0m\u001b[0;32mTrue\u001b[0m\u001b[0;34m)\u001b[0m\u001b[0;34m\u001b[0m\u001b[0;34m\u001b[0m\u001b[0m\n\u001b[1;32m    473\u001b[0m \u001b[0;34m\u001b[0m\u001b[0m\n\u001b[0;32m--> 474\u001b[0;31m     \u001b[0moutputs\u001b[0m \u001b[0;34m=\u001b[0m \u001b[0mfunc\u001b[0m\u001b[0;34m(\u001b[0m\u001b[0;34m*\u001b[0m\u001b[0minputs\u001b[0m\u001b[0;34m)\u001b[0m\u001b[0;34m\u001b[0m\u001b[0;34m\u001b[0m\u001b[0m\n\u001b[0m\u001b[1;32m    475\u001b[0m     is_outputs_tuple, outputs = _as_tuple(outputs,\n\u001b[1;32m    476\u001b[0m                                           \u001b[0;34m\"outputs of the user-provided function\"\u001b[0m\u001b[0;34m,\u001b[0m\u001b[0;34m\u001b[0m\u001b[0;34m\u001b[0m\u001b[0m\n",
      "\u001b[0;32m~/opt/anaconda3/envs/Torch/lib/python3.8/site-packages/torch/autograd/functional.py\u001b[0m in \u001b[0;36mjac_func\u001b[0;34m(*inp)\u001b[0m\n\u001b[1;32m    686\u001b[0m \u001b[0;34m\u001b[0m\u001b[0m\n\u001b[1;32m    687\u001b[0m     \u001b[0;32mdef\u001b[0m \u001b[0mjac_func\u001b[0m\u001b[0;34m(\u001b[0m\u001b[0;34m*\u001b[0m\u001b[0minp\u001b[0m\u001b[0;34m)\u001b[0m\u001b[0;34m:\u001b[0m\u001b[0;34m\u001b[0m\u001b[0;34m\u001b[0m\u001b[0m\n\u001b[0;32m--> 688\u001b[0;31m         \u001b[0mjac\u001b[0m \u001b[0;34m=\u001b[0m \u001b[0mjacobian\u001b[0m\u001b[0;34m(\u001b[0m\u001b[0mensure_single_output_function\u001b[0m\u001b[0;34m,\u001b[0m \u001b[0minp\u001b[0m\u001b[0;34m,\u001b[0m \u001b[0mcreate_graph\u001b[0m\u001b[0;34m=\u001b[0m\u001b[0;32mTrue\u001b[0m\u001b[0;34m)\u001b[0m\u001b[0;34m\u001b[0m\u001b[0;34m\u001b[0m\u001b[0m\n\u001b[0m\u001b[1;32m    689\u001b[0m         \u001b[0m_check_requires_grad\u001b[0m\u001b[0;34m(\u001b[0m\u001b[0mjac\u001b[0m\u001b[0;34m,\u001b[0m \u001b[0;34m\"jacobian\"\u001b[0m\u001b[0;34m,\u001b[0m \u001b[0mstrict\u001b[0m\u001b[0;34m=\u001b[0m\u001b[0mstrict\u001b[0m\u001b[0;34m)\u001b[0m\u001b[0;34m\u001b[0m\u001b[0;34m\u001b[0m\u001b[0m\n\u001b[1;32m    690\u001b[0m         \u001b[0;32mreturn\u001b[0m \u001b[0mjac\u001b[0m\u001b[0;34m\u001b[0m\u001b[0;34m\u001b[0m\u001b[0m\n",
      "\u001b[0;32m~/opt/anaconda3/envs/Torch/lib/python3.8/site-packages/torch/autograd/functional.py\u001b[0m in \u001b[0;36mjacobian\u001b[0;34m(func, inputs, create_graph, strict, vectorize)\u001b[0m\n\u001b[1;32m    472\u001b[0m     \u001b[0minputs\u001b[0m \u001b[0;34m=\u001b[0m \u001b[0m_grad_preprocess\u001b[0m\u001b[0;34m(\u001b[0m\u001b[0minputs\u001b[0m\u001b[0;34m,\u001b[0m \u001b[0mcreate_graph\u001b[0m\u001b[0;34m=\u001b[0m\u001b[0mcreate_graph\u001b[0m\u001b[0;34m,\u001b[0m \u001b[0mneed_graph\u001b[0m\u001b[0;34m=\u001b[0m\u001b[0;32mTrue\u001b[0m\u001b[0;34m)\u001b[0m\u001b[0;34m\u001b[0m\u001b[0;34m\u001b[0m\u001b[0m\n\u001b[1;32m    473\u001b[0m \u001b[0;34m\u001b[0m\u001b[0m\n\u001b[0;32m--> 474\u001b[0;31m     \u001b[0moutputs\u001b[0m \u001b[0;34m=\u001b[0m \u001b[0mfunc\u001b[0m\u001b[0;34m(\u001b[0m\u001b[0;34m*\u001b[0m\u001b[0minputs\u001b[0m\u001b[0;34m)\u001b[0m\u001b[0;34m\u001b[0m\u001b[0;34m\u001b[0m\u001b[0m\n\u001b[0m\u001b[1;32m    475\u001b[0m     is_outputs_tuple, outputs = _as_tuple(outputs,\n\u001b[1;32m    476\u001b[0m                                           \u001b[0;34m\"outputs of the user-provided function\"\u001b[0m\u001b[0;34m,\u001b[0m\u001b[0;34m\u001b[0m\u001b[0;34m\u001b[0m\u001b[0m\n",
      "\u001b[0;32m~/opt/anaconda3/envs/Torch/lib/python3.8/site-packages/torch/autograd/functional.py\u001b[0m in \u001b[0;36mensure_single_output_function\u001b[0;34m(*inp)\u001b[0m\n\u001b[1;32m    673\u001b[0m \u001b[0;34m\u001b[0m\u001b[0m\n\u001b[1;32m    674\u001b[0m     \u001b[0;32mdef\u001b[0m \u001b[0mensure_single_output_function\u001b[0m\u001b[0;34m(\u001b[0m\u001b[0;34m*\u001b[0m\u001b[0minp\u001b[0m\u001b[0;34m)\u001b[0m\u001b[0;34m:\u001b[0m\u001b[0;34m\u001b[0m\u001b[0;34m\u001b[0m\u001b[0m\n\u001b[0;32m--> 675\u001b[0;31m         \u001b[0mout\u001b[0m \u001b[0;34m=\u001b[0m \u001b[0mfunc\u001b[0m\u001b[0;34m(\u001b[0m\u001b[0;34m*\u001b[0m\u001b[0minp\u001b[0m\u001b[0;34m)\u001b[0m\u001b[0;34m\u001b[0m\u001b[0;34m\u001b[0m\u001b[0m\n\u001b[0m\u001b[1;32m    676\u001b[0m         \u001b[0mis_out_tuple\u001b[0m\u001b[0;34m,\u001b[0m \u001b[0mt_out\u001b[0m \u001b[0;34m=\u001b[0m \u001b[0m_as_tuple\u001b[0m\u001b[0;34m(\u001b[0m\u001b[0mout\u001b[0m\u001b[0;34m,\u001b[0m \u001b[0;34m\"outputs of the user-provided function\"\u001b[0m\u001b[0;34m,\u001b[0m \u001b[0;34m\"hessian\"\u001b[0m\u001b[0;34m)\u001b[0m\u001b[0;34m\u001b[0m\u001b[0;34m\u001b[0m\u001b[0m\n\u001b[1;32m    677\u001b[0m         \u001b[0m_check_requires_grad\u001b[0m\u001b[0;34m(\u001b[0m\u001b[0mt_out\u001b[0m\u001b[0;34m,\u001b[0m \u001b[0;34m\"outputs\"\u001b[0m\u001b[0;34m,\u001b[0m \u001b[0mstrict\u001b[0m\u001b[0;34m=\u001b[0m\u001b[0mstrict\u001b[0m\u001b[0;34m)\u001b[0m\u001b[0;34m\u001b[0m\u001b[0;34m\u001b[0m\u001b[0m\n",
      "\u001b[0;31mTypeError\u001b[0m: loss_function() takes 2 positional arguments but 6 were given"
     ]
    }
   ],
   "source": [
    "optimiser.zero_grad()\n",
    "y_preds = my_model(x)\n",
    "loss = loss_function(y, y_preds)\n",
    "torch.autograd.functional.hessian(loss_function, tuple([_.view(-1) for _ in my_model.parameters()]))"
   ]
  }
 ],
 "metadata": {
  "kernelspec": {
   "display_name": "Python 3",
   "language": "python",
   "name": "python3"
  },
  "language_info": {
   "codemirror_mode": {
    "name": "ipython",
    "version": 3
   },
   "file_extension": ".py",
   "mimetype": "text/x-python",
   "name": "python",
   "nbconvert_exporter": "python",
   "pygments_lexer": "ipython3",
   "version": "3.8.8"
  }
 },
 "nbformat": 4,
 "nbformat_minor": 5
}
