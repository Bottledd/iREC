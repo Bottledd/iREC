{
 "cells": [
  {
   "cell_type": "code",
   "execution_count": 1,
   "id": "25fda7c0",
   "metadata": {},
   "outputs": [],
   "source": [
    "%load_ext autoreload"
   ]
  },
  {
   "cell_type": "code",
   "execution_count": 2,
   "id": "31cf83ba",
   "metadata": {},
   "outputs": [],
   "source": [
    "%autoreload 2"
   ]
  },
  {
   "cell_type": "code",
   "execution_count": 3,
   "id": "037cc729",
   "metadata": {},
   "outputs": [
    {
     "name": "stdout",
     "output_type": "stream",
     "text": [
      "/scratch/km817/iREC\n"
     ]
    }
   ],
   "source": [
    "%cd ../.."
   ]
  },
  {
   "cell_type": "code",
   "execution_count": 4,
   "id": "b1984273",
   "metadata": {},
   "outputs": [],
   "source": [
    "import torch\n",
    "import hamiltorch\n",
    "import matplotlib.pyplot as plt\n",
    "import pyro.distributions as dist\n",
    "import torch.distributions as D\n",
    "import torch.nn as nn\n",
    "import torch.nn.functional as F"
   ]
  },
  {
   "cell_type": "code",
   "execution_count": 5,
   "id": "31634b13",
   "metadata": {},
   "outputs": [],
   "source": [
    "%matplotlib inline"
   ]
  },
  {
   "cell_type": "code",
   "execution_count": 6,
   "id": "7307c478",
   "metadata": {},
   "outputs": [],
   "source": [
    "hamiltorch.set_random_seed(0)\n",
    "device = torch.device('cuda' if torch.cuda.is_available() else 'cpu')"
   ]
  },
  {
   "cell_type": "code",
   "execution_count": 7,
   "id": "370e89d7",
   "metadata": {},
   "outputs": [
    {
     "data": {
      "text/plain": [
       "'0.4.0.dev1'"
      ]
     },
     "execution_count": 7,
     "metadata": {},
     "output_type": "execute_result"
    }
   ],
   "source": [
    "hamiltorch.__version__"
   ]
  },
  {
   "cell_type": "code",
   "execution_count": 8,
   "id": "3304b430",
   "metadata": {},
   "outputs": [],
   "source": [
    "from models.BNNs.BNN_KDE_CLASSIFICATION import BNN_KDE"
   ]
  },
  {
   "cell_type": "code",
   "execution_count": 42,
   "id": "397ee4d9",
   "metadata": {},
   "outputs": [
    {
     "name": "stdout",
     "output_type": "stream",
     "text": [
      "Net(\n",
      "  (fc1): Linear(in_features=4, out_features=10, bias=True)\n",
      "  (fc2): Linear(in_features=10, out_features=10, bias=True)\n",
      "  (fc3): Linear(in_features=10, out_features=3, bias=True)\n",
      ")\n"
     ]
    }
   ],
   "source": [
    "class Net(nn.Module):\n",
    "    def __init__(self, num_nodes: int = 10):\n",
    "        super(Net, self).__init__()\n",
    "        self.fc1 = nn.Linear(4, num_nodes)\n",
    "        self.fc2 = nn.Linear(num_nodes, num_nodes)\n",
    "        self.fc3 = nn.Linear(num_nodes, 3)\n",
    "\n",
    "    def forward(self, x):\n",
    "        x = torch.tanh(self.fc1(x))\n",
    "\n",
    "        x = torch.tanh(self.fc2(x))\n",
    "\n",
    "        x = self.fc3(x)\n",
    "\n",
    "        return x\n",
    "num_nodes = 10\n",
    "net = Net(num_nodes=num_nodes)\n",
    "    \n",
    "\n",
    "print(net)\n"
   ]
  },
  {
   "cell_type": "code",
   "execution_count": 43,
   "id": "bc358935",
   "metadata": {},
   "outputs": [],
   "source": [
    "def compute_categorical_mixture(preds, y):\n",
    "    mix = D.Categorical(torch.ones(preds.shape[0]))\n",
    "    comp = D.Categorical(logits=preds.permute(1, 0, 2))\n",
    "    \n",
    "    mixture_of_categorical = D.MixtureSameFamily(mix, comp)\n",
    "    mean_preds = torch.argmax(mixture_of_categorical.component_distribution.probs.mean(1), dim=1).float()\n",
    "    accuracy = torch.sum(mean_preds == y) / y.shape[0]\n",
    "    \n",
    "    ll = mixture_of_categorical.log_prob(y).sum()\n",
    "    return accuracy, ll\n",
    "\n",
    "def compute_ensemble_preds(preds, y):\n",
    "    mean_probs = F.softmax(preds, dim=-1).mean(0)\n",
    "    mean_preds = torch.argmax(mean_probs, dim=-1)\n",
    "    ll = D.Categorical(probs=mean_probs).log_prob(y)\n",
    "\n",
    "    accuracy = torch.sum(mean_preds == y) / y.shape[0]\n",
    "    return accuracy, ll.sum()"
   ]
  },
  {
   "cell_type": "code",
   "execution_count": 44,
   "id": "e492877d",
   "metadata": {},
   "outputs": [
    {
     "data": {
      "image/png": "[encoded data removed]",
      "text/plain": [
       "<Figure size 432x288 with 1 Axes>"
      ]
     },
     "metadata": {
      "needs_background": "light"
     },
     "output_type": "display_data"
    }
   ],
   "source": [
    "from sklearn.datasets import load_iris\n",
    "import numpy as np\n",
    "np.random.seed(0)\n",
    "device = torch.device('cpu')\n",
    "data = load_iris()\n",
    "x_ = data['data']\n",
    "y_ = data['target']\n",
    "N_tr = 50\n",
    "N_val = 150 - N_tr\n",
    "a = np.arange(x_.shape[0])\n",
    "train_index = np.random.choice(a, size = N_tr, replace = False)\n",
    "val_index = np.delete(a, train_index, axis=0)\n",
    "x_train = x_[train_index]\n",
    "y_train = y_[train_index]\n",
    "x_val = x_[val_index][:]\n",
    "y_val = y_[val_index][:]\n",
    "x_m = x_train.mean(0)\n",
    "x_s = x_train.std(0)\n",
    "x_train = (x_train-x_m)/ x_s\n",
    "x_val = (x_val-x_m)/ x_s\n",
    "D_in = x_train.shape[1]\n",
    "x_train = torch.FloatTensor(x_train)\n",
    "y_train = torch.FloatTensor(y_train)\n",
    "x_val = torch.FloatTensor(x_val)\n",
    "y_val = torch.FloatTensor(y_val)\n",
    "plt.scatter(x_train.numpy()[:,0],y_train.numpy())\n",
    "    \n",
    "x_train = x_train.to(device)\n",
    "y_train = y_train.to(device)\n",
    "x_val = x_val.to(device)\n",
    "y_val = y_val.to(device)"
   ]
  },
  {
   "cell_type": "code",
   "execution_count": 59,
   "id": "2a922e3c",
   "metadata": {},
   "outputs": [],
   "source": [
    "## Set hyperparameters for network\n",
    "ELBO_BETA = 10.\n",
    "alpha = 1.\n",
    "tau_list = []\n",
    "tau = alpha * ELBO_BETA\n",
    "for w in net.parameters():\n",
    "    tau_list.append(tau)\n",
    "tau_list = torch.tensor(tau_list).to(device)"
   ]
  },
  {
   "cell_type": "code",
   "execution_count": 60,
   "id": "f4ea2880",
   "metadata": {},
   "outputs": [
    {
     "name": "stdout",
     "output_type": "stream",
     "text": [
      "torch.Size([193])\n",
      "Sampling (Sampler.HMC; Integrator.EXPLICIT)\n",
      "Time spent  | Time remain.| Progress             | Samples   | Samples/sec\n",
      "Final Adapted Step Size:  0.09011289477348328--- |  487/2500 | 65.60       \n",
      "0d:00:00:37 | 0d:00:00:00 | #################### | 2500/2500 | 66.57       \n",
      "Acceptance Rate 0.86\n"
     ]
    }
   ],
   "source": [
    "hamiltorch.set_random_seed(1)\n",
    "params_init = hamiltorch.util.flatten(net).to(device).clone()\n",
    "print(params_init.shape)\n",
    "step_size = 1.0\n",
    "num_samples = 2500\n",
    "burn = 500\n",
    "L = 10\n",
    "tau_out = 1.\n",
    "integrator = hamiltorch.Integrator.EXPLICIT\n",
    "sampler = hamiltorch.Sampler.HMC_NUTS\n",
    "params_hmc = hamiltorch.sample_model(net, x_train, y_train, params_init=params_init, num_samples=num_samples,\n",
    "                               step_size=step_size, num_steps_per_sample=L, tau_out=tau_out, tau_list=tau_list,\n",
    "                                    sampler=sampler, integrator=integrator, burn=burn, desired_accept_rate=0.8)"
   ]
  },
  {
   "cell_type": "code",
   "execution_count": 61,
   "id": "defa9117",
   "metadata": {},
   "outputs": [],
   "source": [
    "hmc_weights = torch.empty([0])\n",
    "for w in params_hmc:\n",
    "    hmc_weights = torch.cat([hmc_weights, w[None]])"
   ]
  },
  {
   "cell_type": "code",
   "execution_count": 62,
   "id": "4d4f9a7b",
   "metadata": {},
   "outputs": [
    {
     "data": {
      "text/plain": [
       "(tensor(0.9200), tensor(-54.3775))"
      ]
     },
     "execution_count": 62,
     "metadata": {},
     "output_type": "execute_result"
    }
   ],
   "source": [
    "pred_list, log_prob_list = hamiltorch.predict_model(net, x=x_val, y=y_val, samples=hmc_weights, \n",
    "                                                    model_loss='multi_class_linear_output', tau_out=1., \n",
    "                                                    tau_list=tau_list)\n",
    "\n",
    "compute_categorical_mixture(pred_list, y_val)"
   ]
  },
  {
   "cell_type": "code",
   "execution_count": 63,
   "id": "491535d4",
   "metadata": {},
   "outputs": [
    {
     "data": {
      "text/plain": [
       "(tensor(0.9400), tensor(-27.6904))"
      ]
     },
     "execution_count": 63,
     "metadata": {},
     "output_type": "execute_result"
    }
   ],
   "source": [
    "pred_list_train, log_prob_list = hamiltorch.predict_model(net, x=x_train, y=y_train, samples=hmc_weights, \n",
    "                                                    model_loss='multi_class_linear_output', tau_out=1., \n",
    "                                                    tau_list=tau_list)\n",
    "\n",
    "compute_categorical_mixture(pred_list_train, y_train)"
   ]
  },
  {
   "cell_type": "markdown",
   "id": "02f12931",
   "metadata": {},
   "source": [
    "# Draw subset of samples"
   ]
  },
  {
   "cell_type": "code",
   "execution_count": 64,
   "id": "4b7c0b1b",
   "metadata": {},
   "outputs": [],
   "source": [
    "g = torch.Generator()\n",
    "g.manual_seed(1)\n",
    "perm = torch.randperm(hmc_weights.size(0), generator=g)\n",
    "num_s = 500\n",
    "idx = perm[:num_s]\n",
    "samples = hmc_weights[idx]\n",
    "samples_rest = hmc_weights[perm[num_s:]]"
   ]
  },
  {
   "cell_type": "code",
   "execution_count": 65,
   "id": "51d6bd0b",
   "metadata": {
    "scrolled": false
   },
   "outputs": [
    {
     "data": {
      "text/plain": [
       "(tensor(0.9200), tensor(-54.1754))"
      ]
     },
     "execution_count": 65,
     "metadata": {},
     "output_type": "execute_result"
    }
   ],
   "source": [
    "pred_list, log_prob_list = hamiltorch.predict_model(net, x=x_val, y=y_val, samples=samples, \n",
    "                                                    model_loss='multi_class_linear_output', tau_out=1., \n",
    "                                                    tau_list=tau_list)\n",
    "\n",
    "compute_categorical_mixture(pred_list, y_val)"
   ]
  },
  {
   "cell_type": "markdown",
   "id": "2e6eab51",
   "metadata": {},
   "source": [
    "# Build a KDE"
   ]
  },
  {
   "cell_type": "markdown",
   "id": "ff03cb14",
   "metadata": {},
   "source": [
    "# KDE 100 Samples"
   ]
  },
  {
   "cell_type": "code",
   "execution_count": 66,
   "id": "8a4153fe",
   "metadata": {},
   "outputs": [],
   "source": [
    "# find optimal kde_var\n",
    "from models.BNNs.BNN_KDE_CLASSIFICATION import BNN_KDE\n",
    "from tqdm.notebook import trange"
   ]
  },
  {
   "cell_type": "code",
   "execution_count": 67,
   "id": "0ec9a416",
   "metadata": {},
   "outputs": [],
   "source": [
    "bnn_kde = BNN_KDE(alpha=alpha, emp_samples=samples, num_nodes=num_nodes, kl_beta=ELBO_BETA)\n",
    "\n",
    "with torch.no_grad():\n",
    "    rho_linspace = torch.linspace(-5, 1, 1000)\n",
    "    rho_elbos = torch.zeros_like(rho_linspace)\n",
    "    for i, rho in enumerate(rho_linspace):\n",
    "        bnn_kde.log_kde_rho = nn.Parameter(rho)\n",
    "        rho_elbos[i] = bnn_kde.elbo(x_train, y_train, 32)\n",
    "        #rho_elbos[i] = bnn_kde.log_q_w(hmc_weights)"
   ]
  },
  {
   "cell_type": "code",
   "execution_count": 68,
   "id": "506f2cc9",
   "metadata": {},
   "outputs": [],
   "source": [
    "initial_rho = rho_linspace[torch.argmax(rho_elbos)].item()"
   ]
  },
  {
   "cell_type": "code",
   "execution_count": 69,
   "id": "27e5ae07",
   "metadata": {
    "scrolled": true
   },
   "outputs": [
    {
     "data": {
      "text/plain": [
       "[<matplotlib.lines.Line2D at 0x7f6e20285370>]"
      ]
     },
     "execution_count": 69,
     "metadata": {},
     "output_type": "execute_result"
    },
    {
     "data": {
      "image/png": "[encoded data removed]",
      "text/plain": [
       "<Figure size 432x288 with 1 Axes>"
      ]
     },
     "metadata": {
      "needs_background": "light"
     },
     "output_type": "display_data"
    }
   ],
   "source": [
    "plt.plot(F.softplus(rho_linspace), rho_elbos.numpy())"
   ]
  },
  {
   "cell_type": "code",
   "execution_count": 70,
   "id": "960251a6",
   "metadata": {},
   "outputs": [],
   "source": [
    "bnn_kde.log_kde_rho = nn.Parameter(rho_linspace[torch.argmax(rho_elbos)])\n",
    "KDE_target = bnn_kde.kde"
   ]
  },
  {
   "cell_type": "code",
   "execution_count": 71,
   "id": "8c3c74fb",
   "metadata": {},
   "outputs": [
    {
     "name": "stdout",
     "output_type": "stream",
     "text": [
      "4.899641036987305\n"
     ]
    }
   ],
   "source": [
    "from rec.utils import kl_estimate_with_mc\n",
    "prior = D.MultivariateNormal(loc=torch.zeros_like(samples[0]), covariance_matrix = 1./alpha * torch.eye(samples.shape[-1]))\n",
    "kl_q_p = kl_estimate_with_mc(KDE_target, prior)\n",
    "print(f\"{kl_q_p}\")"
   ]
  },
  {
   "cell_type": "code",
   "execution_count": 30,
   "id": "2ed9ff1c",
   "metadata": {},
   "outputs": [],
   "source": [
    "num_compressed_samples = 1000\n",
    "compressed_weights_kde_exact = KDE_target.sample((num_compressed_samples,))\n",
    "\n",
    "pred_list_kde, _ = hamiltorch.predict_model(net, x=x_val, y=y_val, samples=compressed_weights_kde_exact, \n",
    "                                                    model_loss='multi_class_linear_output', tau_out=1., \n",
    "                                                    tau_list=tau_list)"
   ]
  },
  {
   "cell_type": "code",
   "execution_count": 31,
   "id": "2b2af382",
   "metadata": {},
   "outputs": [
    {
     "data": {
      "text/plain": [
       "(tensor(0.9600), tensor(-37.5679))"
      ]
     },
     "execution_count": 31,
     "metadata": {},
     "output_type": "execute_result"
    }
   ],
   "source": [
    "compute_categorical_mixture(pred_list_kde, y_val)"
   ]
  },
  {
   "cell_type": "code",
   "execution_count": 32,
   "id": "f8007bd4",
   "metadata": {},
   "outputs": [
    {
     "data": {
      "text/plain": [
       "(tensor(0.9800), tensor(-18.8889))"
      ]
     },
     "execution_count": 32,
     "metadata": {},
     "output_type": "execute_result"
    }
   ],
   "source": [
    "num_compressed_samples = 1000\n",
    "compressed_weights_kde_exact = KDE_target.sample((num_compressed_samples,))\n",
    "\n",
    "pred_list_kde, _ = hamiltorch.predict_model(net, x=x_train, y=y_train, samples=compressed_weights_kde_exact, \n",
    "                                                    model_loss='multi_class_linear_output', tau_out=1., \n",
    "                                                    tau_list=tau_list)\n",
    "compute_categorical_mixture(pred_list_kde, y_train)"
   ]
  },
  {
   "cell_type": "code",
   "execution_count": 33,
   "id": "e603494a",
   "metadata": {},
   "outputs": [
    {
     "data": {
      "text/plain": [
       "<matplotlib.collections.PathCollection at 0x7f6e203924c0>"
      ]
     },
     "execution_count": 33,
     "metadata": {},
     "output_type": "execute_result"
    },
    {
     "data": {
      "image/png": "[encoded data removed]",
      "text/plain": [
       "<Figure size 432x288 with 1 Axes>"
      ]
     },
     "metadata": {
      "needs_background": "light"
     },
     "output_type": "display_data"
    }
   ],
   "source": [
    "plt.scatter(hmc_weights[:, 0], hmc_weights[:, -1], alpha=0.1)"
   ]
  },
  {
   "cell_type": "code",
   "execution_count": 34,
   "id": "ece3c203",
   "metadata": {},
   "outputs": [
    {
     "data": {
      "text/plain": [
       "<matplotlib.collections.PathCollection at 0x7f6e203fc0a0>"
      ]
     },
     "execution_count": 34,
     "metadata": {},
     "output_type": "execute_result"
    },
    {
     "data": {
      "image/png": "[encoded data removed]",
      "text/plain": [
       "<Figure size 432x288 with 1 Axes>"
      ]
     },
     "metadata": {
      "needs_background": "light"
     },
     "output_type": "display_data"
    }
   ],
   "source": [
    "plt.scatter(compressed_weights_kde_exact[:, 0], compressed_weights_kde_exact[:, -1], alpha=0.1)"
   ]
  },
  {
   "cell_type": "code",
   "execution_count": 35,
   "id": "5a69a2f8",
   "metadata": {},
   "outputs": [],
   "source": [
    "def compute_expected_coding_efficiency(kl, epsilon=0.2):\n",
    "    K = (1 + epsilon) * kl\n",
    "    return K + torch.log(K + 1) + 1"
   ]
  },
  {
   "cell_type": "code",
   "execution_count": 36,
   "id": "3a18c780",
   "metadata": {},
   "outputs": [
    {
     "data": {
      "text/plain": [
       "tensor(50.9328, grad_fn=<AddBackward0>)"
      ]
     },
     "execution_count": 36,
     "metadata": {},
     "output_type": "execute_result"
    }
   ],
   "source": [
    "compute_expected_coding_efficiency(kl_q_p)"
   ]
  },
  {
   "cell_type": "markdown",
   "id": "e40e8802",
   "metadata": {},
   "source": [
    "# Lets optimise the variances"
   ]
  },
  {
   "cell_type": "code",
   "execution_count": null,
   "id": "7569bb5f",
   "metadata": {},
   "outputs": [],
   "source": [
    "#lets compress some samples\n",
    "#### sample weights with compression algorithm\n",
    "from tqdm.notebook import trange\n",
    "from rec.beamsearch.Coders.Encoder_Empirical import Encoder\n",
    "from rec.beamsearch.distributions.CodingSampler import CodingSampler\n",
    "from rec.beamsearch.distributions.EmpiricalMixturePosterior import EmpiricalMixturePosterior\n",
    "from rec.beamsearch.samplers.GreedySampling_BNNs import GreedySampler\n",
    "from models.BNNs.BNN_for_HMC_classification import BNN_for_HMC\n",
    "import pyro.distributions as dist"
   ]
  },
  {
   "cell_type": "code",
   "execution_count": null,
   "id": "b3c68221",
   "metadata": {},
   "outputs": [],
   "source": [
    "dummy_model = BNN_for_HMC(alpha=alpha, num_nodes=num_nodes)"
   ]
  },
  {
   "cell_type": "code",
   "execution_count": null,
   "id": "fbbb216c",
   "metadata": {},
   "outputs": [],
   "source": [
    "dummy_model.make_weights_from_sample(samples[0])"
   ]
  },
  {
   "cell_type": "code",
   "execution_count": null,
   "id": "22beb1b4",
   "metadata": {},
   "outputs": [],
   "source": [
    "emp_dist = dist.Empirical(samples, log_weights=torch.ones(samples.shape[0]))"
   ]
  },
  {
   "cell_type": "code",
   "execution_count": null,
   "id": "1194a024",
   "metadata": {},
   "outputs": [],
   "source": [
    "from rec.OptimisingVars.FinalJointOptimiser import FinalJointOptimiser\n",
    "coding_sampler = CodingSampler\n",
    "auxiliary_posterior = EmpiricalMixturePosterior\n",
    "selection_sampler = GreedySampler\n",
    "omega = 5\n",
    "initial_seed = 0\n",
    "beamwidth = 1\n",
    "epsilon = 0.\n",
    "dummy_encoder = Encoder(dummy_model,\n",
    "                     x_train,\n",
    "                     y_train,\n",
    "                     samples,\n",
    "                     initial_seed,\n",
    "                     coding_sampler,\n",
    "                     selection_sampler,\n",
    "                     auxiliary_posterior,\n",
    "                     omega,\n",
    "                     beamwidth,\n",
    "                     epsilon=epsilon,\n",
    "                     prior_var=1./alpha,\n",
    "                     total_kl=kl_q_p)\n",
    "\n",
    "z_sample = emp_dist.mean\n",
    "omega = 5\n",
    "n_trajectories = 64\n",
    "n_auxiliaries = dummy_encoder.n_auxiliary\n",
    "prior_var = 1./alpha\n",
    "emp_opt = FinalJointOptimiser(z_sample, omega, n_auxiliaries, kl_q_p, n_trajectories, prior_var)\n",
    "aux_vars = emp_opt.run_optimiser(epochs=2000)"
   ]
  },
  {
   "cell_type": "markdown",
   "id": "9791ab12",
   "metadata": {},
   "source": [
    "# Let's use the EMP scheme"
   ]
  },
  {
   "cell_type": "code",
   "execution_count": null,
   "id": "c8e5ca95",
   "metadata": {},
   "outputs": [],
   "source": [
    "coding_sampler = CodingSampler\n",
    "auxiliary_posterior = EmpiricalMixturePosterior\n",
    "selection_sampler = GreedySampler\n",
    "omega = 5\n",
    "\n",
    "initial_seed = 0\n",
    "beamwidth = 1\n",
    "epsilon = 0.\n",
    "num_compressed_samples = 500\n",
    "compressed_weights_emp_low_eps = []\n",
    "pbar = trange(num_compressed_samples)\n",
    "lps = []\n",
    "for i in pbar:\n",
    "    initial_seed = initial_seed + i * 10\n",
    "    encoder = Encoder(dummy_model,\n",
    "                     x_train,\n",
    "                     y_train,\n",
    "                     samples,\n",
    "                     initial_seed,\n",
    "                     coding_sampler,\n",
    "                     selection_sampler,\n",
    "                     auxiliary_posterior,\n",
    "                     omega,\n",
    "                     beamwidth,\n",
    "                     epsilon=epsilon,\n",
    "                     prior_var=1./alpha,\n",
    "                     total_kl=kl_q_p)\n",
    "    \n",
    "    encoder.auxiliary_posterior.coding_sampler.auxiliary_vars = aux_vars\n",
    "    \n",
    "    w, idx = encoder.run_encoder()\n",
    "    pbar.set_description(f\"Log prob of sample is: {KDE_target.log_prob(w).detach().item()}\")\n",
    "    lps.append(KDE_target.log_prob(w).detach().item())\n",
    "    compressed_weights_emp_low_eps.append(w[0])"
   ]
  },
  {
   "cell_type": "code",
   "execution_count": null,
   "id": "82212d72",
   "metadata": {},
   "outputs": [],
   "source": [
    "pred_list_emp_low_eps, _ = hamiltorch.predict_model(net, x=x_val, y=y_val, samples=compressed_weights_emp_low_eps, \n",
    "                                                    model_loss='multi_class_linear_output', tau_out=1., \n",
    "                                                    tau_list=tau_list)\n",
    "\n",
    "compute_categorical_mixture(pred_list_emp_low_eps, y_val)"
   ]
  },
  {
   "cell_type": "code",
   "execution_count": null,
   "id": "711edb30",
   "metadata": {},
   "outputs": [],
   "source": [
    "coding_sampler = CodingSampler\n",
    "auxiliary_posterior = EmpiricalMixturePosterior\n",
    "selection_sampler = GreedySampler\n",
    "omega = 5\n",
    "\n",
    "initial_seed = 0\n",
    "beamwidth = 1\n",
    "epsilon = 0.1\n",
    "num_compressed_samples = 500\n",
    "compressed_weights_emp_med_eps = []\n",
    "pbar = trange(num_compressed_samples)\n",
    "for i in pbar:\n",
    "    initial_seed = initial_seed + i * 10\n",
    "    encoder = Encoder(dummy_model,\n",
    "                     x_train,\n",
    "                     y_train,\n",
    "                     samples,\n",
    "                     initial_seed,\n",
    "                     coding_sampler,\n",
    "                     selection_sampler,\n",
    "                     auxiliary_posterior,\n",
    "                     omega,\n",
    "                     beamwidth,\n",
    "                     epsilon=epsilon,\n",
    "                     prior_var=1./alpha,\n",
    "                     total_kl=kl_q_p)\n",
    "    \n",
    "    encoder.auxiliary_posterior.coding_sampler.auxiliary_vars = aux_vars\n",
    "    \n",
    "    w, idx = encoder.run_encoder()\n",
    "    pbar.set_description(f\"Log prob of sample is: {KDE_target.log_prob(w).detach().item()}\")\n",
    "    compressed_weights_emp_med_eps.append(w[0])"
   ]
  },
  {
   "cell_type": "code",
   "execution_count": null,
   "id": "b4e4fbc1",
   "metadata": {},
   "outputs": [],
   "source": [
    "pred_list_emp_med_eps, _ = hamiltorch.predict_model(net, x=x_val, y=y_val, samples=compressed_weights_emp_med_eps, \n",
    "                                                    model_loss='multi_class_linear_output', tau_out=1., \n",
    "                                                    tau_list=tau_list)\n",
    "\n",
    "compute_categorical_mixture(pred_list_emp_med_eps, y_val)"
   ]
  },
  {
   "cell_type": "code",
   "execution_count": null,
   "id": "163a07f6",
   "metadata": {},
   "outputs": [],
   "source": [
    "coding_sampler = CodingSampler\n",
    "auxiliary_posterior = EmpiricalMixturePosterior\n",
    "selection_sampler = GreedySampler\n",
    "omega = 5\n",
    "\n",
    "initial_seed = 0\n",
    "beamwidth = 1\n",
    "epsilon = 0.2\n",
    "num_compressed_samples = 500\n",
    "compressed_weights_emp_high_eps = []\n",
    "pbar = trange(num_compressed_samples)\n",
    "for i in pbar:\n",
    "    initial_seed = initial_seed + i * 10\n",
    "    encoder = Encoder(dummy_model,\n",
    "                     x_train,\n",
    "                     y_train,\n",
    "                     samples,\n",
    "                     initial_seed,\n",
    "                     coding_sampler,\n",
    "                     selection_sampler,\n",
    "                     auxiliary_posterior,\n",
    "                     omega,\n",
    "                     beamwidth,\n",
    "                     epsilon=epsilon,\n",
    "                     prior_var=1./alpha,\n",
    "                     total_kl=kl_q_p)\n",
    "    \n",
    "    encoder.auxiliary_posterior.coding_sampler.auxiliary_vars = aux_vars\n",
    "    \n",
    "    w, idx = encoder.run_encoder()\n",
    "    pbar.set_description(f\"Log prob of sample is: {KDE_target.log_prob(w).detach().item()}\")\n",
    "    compressed_weights_emp_high_eps.append(w[0])"
   ]
  },
  {
   "cell_type": "code",
   "execution_count": null,
   "id": "501df926",
   "metadata": {},
   "outputs": [],
   "source": [
    "pred_list_emp_high_eps, _ = hamiltorch.predict_model(net, x=x_val, y=y_val, samples=compressed_weights_emp_high_eps, \n",
    "                                                    model_loss='multi_class_linear_output', tau_out=1., \n",
    "                                                    tau_list=tau_list)\n",
    "\n",
    "compute_categorical_mixture(pred_list_emp_high_eps, y_val)"
   ]
  },
  {
   "cell_type": "markdown",
   "id": "215d449a",
   "metadata": {},
   "source": [
    "# Let's try the KDE coder"
   ]
  },
  {
   "cell_type": "code",
   "execution_count": null,
   "id": "2db352ab",
   "metadata": {},
   "outputs": [],
   "source": [
    "from rec.beamsearch.distributions.CodingSampler import CodingSampler\n",
    "from rec.beamsearch.distributions.KDEPosterior import KDEPosterior\n",
    "from rec.beamsearch.samplers.GreedySampling_BNNs import GreedySampler\n",
    "from rec.beamsearch.Coders.Encoder_KDE_BNN import EncoderKDE"
   ]
  },
  {
   "cell_type": "code",
   "execution_count": null,
   "id": "39075d8f",
   "metadata": {},
   "outputs": [],
   "source": [
    "num_compressed_samples = 500\n",
    "compressed_weights_kde_exact = KDE_target.sample((num_compressed_samples,))"
   ]
  },
  {
   "cell_type": "code",
   "execution_count": null,
   "id": "892cd12d",
   "metadata": {},
   "outputs": [],
   "source": [
    "coding_sampler = CodingSampler\n",
    "auxiliary_posterior = KDEPosterior\n",
    "selection_sampler = GreedySampler\n",
    "omega = 5\n",
    "\n",
    "initial_seed = 0\n",
    "beamwidth = 1\n",
    "epsilon = 0.\n",
    "num_compressed_samples = 500\n",
    "compressed_weights_kde_low_eps = []\n",
    "\n",
    "for i in trange(num_compressed_samples):\n",
    "    initial_seed = initial_seed + i * 10\n",
    "    encoder = EncoderKDE(model=dummy_model,\n",
    "                         x_data=x_train,\n",
    "                         y_data=y_train,\n",
    "                         target=KDE_target,\n",
    "                         initial_seed=initial_seed,\n",
    "                         coding_sampler=coding_sampler,\n",
    "                         selection_sampler=selection_sampler,\n",
    "                         auxiliary_posterior=auxiliary_posterior,\n",
    "                         omega=omega,\n",
    "                         epsilon=epsilon,\n",
    "                         beamwidth=beamwidth,\n",
    "                         prior_var=1./alpha)\n",
    "    \n",
    "    encoder.auxiliary_posterior.coding_sampler.auxiliary_vars = aux_vars\n",
    "    \n",
    "    w, idx = encoder.run_encoder()\n",
    "    compressed_weights_kde_low_eps.append(w[0])"
   ]
  },
  {
   "cell_type": "code",
   "execution_count": null,
   "id": "6a1651ad",
   "metadata": {},
   "outputs": [],
   "source": [
    "pred_list_kde_low_eps, _ = hamiltorch.predict_model(net, x=x_val, y=y_val, samples=compressed_weights_kde_low_eps, \n",
    "                                                    model_loss='multi_class_linear_output', tau_out=1., \n",
    "                                                    tau_list=tau_list)\n",
    "\n",
    "compute_categorical_mixture(pred_list_kde_low_eps, y_val)"
   ]
  },
  {
   "cell_type": "code",
   "execution_count": null,
   "id": "75963162",
   "metadata": {},
   "outputs": [],
   "source": [
    "coding_sampler = CodingSampler\n",
    "auxiliary_posterior = KDEPosterior\n",
    "selection_sampler = GreedySampler\n",
    "omega = 5\n",
    "\n",
    "initial_seed = 0\n",
    "beamwidth = 1\n",
    "epsilon = 0.1\n",
    "num_compressed_samples = 500\n",
    "compressed_weights_kde_med_eps = []\n",
    "\n",
    "for i in trange(num_compressed_samples):\n",
    "    initial_seed = initial_seed + i * 10\n",
    "    encoder = EncoderKDE(model=dummy_model,\n",
    "                         x_data=x_train,\n",
    "                         y_data=y_train,\n",
    "                         target=KDE_target,\n",
    "                         initial_seed=initial_seed,\n",
    "                         coding_sampler=coding_sampler,\n",
    "                         selection_sampler=selection_sampler,\n",
    "                         auxiliary_posterior=auxiliary_posterior,\n",
    "                         omega=omega,\n",
    "                         epsilon=epsilon,\n",
    "                         beamwidth=beamwidth,\n",
    "                         prior_var=1./alpha)\n",
    "    \n",
    "    encoder.auxiliary_posterior.coding_sampler.auxiliary_vars = aux_vars\n",
    "    \n",
    "    w, idx = encoder.run_encoder()\n",
    "    compressed_weights_kde_med_eps.append(w[0])"
   ]
  },
  {
   "cell_type": "code",
   "execution_count": null,
   "id": "30a76a35",
   "metadata": {},
   "outputs": [],
   "source": [
    "pred_list_kde_med_eps, _ = hamiltorch.predict_model(net, x=x_val, y=y_val, samples=compressed_weights_kde_med_eps, \n",
    "                                                    model_loss='multi_class_linear_output', tau_out=1., \n",
    "                                                    tau_list=tau_list)\n",
    "\n",
    "compute_categorical_mixture(pred_list_kde_med_eps, y_val)"
   ]
  },
  {
   "cell_type": "code",
   "execution_count": null,
   "id": "58e7cd9b",
   "metadata": {},
   "outputs": [],
   "source": [
    "coding_sampler = CodingSampler\n",
    "auxiliary_posterior = KDEPosterior\n",
    "selection_sampler = GreedySampler\n",
    "omega = 5\n",
    "\n",
    "initial_seed = 0\n",
    "beamwidth = 1\n",
    "epsilon = 0.2\n",
    "num_compressed_samples = 500\n",
    "compressed_weights_kde_high_eps = []\n",
    "\n",
    "for i in trange(num_compressed_samples):\n",
    "    initial_seed = initial_seed + i * 10\n",
    "    encoder = EncoderKDE(model=dummy_model,\n",
    "                         x_data=x_train,\n",
    "                         y_data=y_train,\n",
    "                         target=KDE_target,\n",
    "                         initial_seed=initial_seed,\n",
    "                         coding_sampler=coding_sampler,\n",
    "                         selection_sampler=selection_sampler,\n",
    "                         auxiliary_posterior=auxiliary_posterior,\n",
    "                         omega=omega,\n",
    "                         epsilon=epsilon,\n",
    "                         beamwidth=beamwidth,\n",
    "                         prior_var=1./alpha)\n",
    "    \n",
    "    encoder.auxiliary_posterior.coding_sampler.auxiliary_vars = aux_vars\n",
    "    \n",
    "    w, idx = encoder.run_encoder()\n",
    "    compressed_weights_kde_high_eps.append(w[0])"
   ]
  },
  {
   "cell_type": "code",
   "execution_count": null,
   "id": "b46777f3",
   "metadata": {},
   "outputs": [],
   "source": [
    "pred_list_kde_high_eps, _ = hamiltorch.predict_model(net, x=x_val, y=y_val, samples=compressed_weights_kde_high_eps, \n",
    "                                                    model_loss='multi_class_linear_output', tau_out=1., \n",
    "                                                    tau_list=tau_list)\n",
    "\n",
    "compute_categorical_mixture(pred_list_kde_high_eps, y_val)"
   ]
  },
  {
   "cell_type": "code",
   "execution_count": null,
   "id": "43589692",
   "metadata": {},
   "outputs": [],
   "source": [
    "# dump the important stuff\n",
    "import pickle as pkl\n",
    "pkl.dump(kl_q_p, open(f'PickledStuff/BNN_BETA_CLASSIFICATION/EMP/hmc_kl_beta_{ELBO_BETA}.pkl', 'wb'))\n",
    "pkl.dump(samples, open(f'PickledStuff/BNN_BETA_CLASSIFICATION/EMP/HMC_beta_{ELBO_BETA}.pkl', 'wb'))\n",
    "pkl.dump(KDE_target, open(f'PickledStuff/BNN_BETA_CLASSIFICATION/EMP/HMC_KDE_target_beta_{ELBO_BETA}.pkl', 'wb'))\n",
    "pkl.dump(compressed_weights_emp_low_eps, open(f'PickledStuff/BNN_BETA_CLASSIFICATION/EMP/emp_beta_{ELBO_BETA}_eps_0.pkl', 'wb'))\n",
    "pkl.dump(compressed_weights_emp_med_eps, open(f'PickledStuff/BNN_BETA_CLASSIFICATION/EMP/emp_beta_{ELBO_BETA}_eps_0.1.pkl', 'wb'))\n",
    "pkl.dump(compressed_weights_emp_high_eps, open(f'PickledStuff/BNN_BETA_CLASSIFICATION/EMP/emp_beta_{ELBO_BETA}_eps_0.2.pkl', 'wb'))\n",
    "pkl.dump(compressed_weights_kde_exact, open(f'PickledStuff/BNN_BETA_CLASSIFICATION/KDE/kde_exact_beta_{ELBO_BETA}.pkl', 'wb'))\n",
    "pkl.dump(compressed_weights_kde_low_eps, open(f'PickledStuff/BNN_BETA_CLASSIFICATION/KDE/kde_beta_{ELBO_BETA}_eps_0.pkl', 'wb'))\n",
    "pkl.dump(compressed_weights_kde_med_eps, open(f'PickledStuff/BNN_BETA_CLASSIFICATION/KDE/kde_beta_{ELBO_BETA}_eps_0.1.pkl', 'wb'))\n",
    "pkl.dump(compressed_weights_kde_high_eps, open(f'PickledStuff/BNN_BETA_CLASSIFICATION/KDE/kde_beta_{ELBO_BETA}_eps_0.2.pkl', 'wb'))"
   ]
  }
 ],
 "metadata": {
  "kernelspec": {
   "display_name": "Python 3",
   "language": "python",
   "name": "python3"
  },
  "language_info": {
   "codemirror_mode": {
    "name": "ipython",
    "version": 3
   },
   "file_extension": ".py",
   "mimetype": "text/x-python",
   "name": "python",
   "nbconvert_exporter": "python",
   "pygments_lexer": "ipython3",
   "version": "3.8.10"
  }
 },
 "nbformat": 4,
 "nbformat_minor": 5
}
