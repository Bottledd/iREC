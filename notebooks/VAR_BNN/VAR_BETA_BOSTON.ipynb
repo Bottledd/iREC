{
 "cells": [
  {
   "cell_type": "code",
   "execution_count": 1,
   "id": "10fede91",
   "metadata": {},
   "outputs": [],
   "source": [
    "%load_ext autoreload"
   ]
  },
  {
   "cell_type": "code",
   "execution_count": 2,
   "id": "6d37e11d",
   "metadata": {},
   "outputs": [],
   "source": [
    "%autoreload 2"
   ]
  },
  {
   "cell_type": "code",
   "execution_count": 3,
   "id": "24022a78",
   "metadata": {},
   "outputs": [
    {
     "name": "stdout",
     "output_type": "stream",
     "text": [
      "/Users/kristophermiltiadou/Documents/UniWork/Cambridge/Thesis/CODE/new_iREC\n"
     ]
    }
   ],
   "source": [
    "%cd ../.."
   ]
  },
  {
   "cell_type": "code",
   "execution_count": 4,
   "id": "434ee3b4",
   "metadata": {},
   "outputs": [],
   "source": [
    "import torch\n",
    "import hamiltorch\n",
    "import matplotlib.pyplot as plt\n",
    "import torch.distributions as D\n",
    "import torch.nn as nn\n",
    "import torch.nn.functional as F"
   ]
  },
  {
   "cell_type": "code",
   "execution_count": 5,
   "id": "eb00df5a",
   "metadata": {},
   "outputs": [],
   "source": [
    "%matplotlib inline"
   ]
  },
  {
   "cell_type": "code",
   "execution_count": 6,
   "id": "c64a02a1",
   "metadata": {},
   "outputs": [],
   "source": [
    "hamiltorch.set_random_seed(0)\n",
    "device = torch.device('cpu')"
   ]
  },
  {
   "cell_type": "code",
   "execution_count": 7,
   "id": "99d2284e",
   "metadata": {},
   "outputs": [
    {
     "data": {
      "text/plain": [
       "'0.4.0.dev1'"
      ]
     },
     "execution_count": 7,
     "metadata": {},
     "output_type": "execute_result"
    }
   ],
   "source": [
    "hamiltorch.__version__"
   ]
  },
  {
   "cell_type": "code",
   "execution_count": 8,
   "id": "470f6928",
   "metadata": {},
   "outputs": [
    {
     "data": {
      "image/png": "[encoded data removed]",
      "text/plain": [
       "<Figure size 432x288 with 1 Axes>"
      ]
     },
     "metadata": {
      "needs_background": "light"
     },
     "output_type": "display_data"
    }
   ],
   "source": [
    "from sklearn.datasets import load_boston\n",
    "import numpy as np\n",
    "\n",
    "data = load_boston()\n",
    "\n",
    "x_ = data['data']\n",
    "y_ = data['target']\n",
    "N_tr = int(x_.shape[0] * 0.8)\n",
    "N_val = x_.shape[0] - N_tr\n",
    "a = np.arange(x_.shape[0])\n",
    "train_index = np.random.choice(a, size = N_tr, replace = False)\n",
    "val_index = np.delete(a, train_index, axis=0)\n",
    "x_train = x_[train_index]\n",
    "y_train = y_[train_index]\n",
    "x_val = x_[val_index][:]\n",
    "y_val = y_[val_index][:]\n",
    "x_m = x_train.mean(0)\n",
    "x_s = x_train.std(0)\n",
    "x_train = (x_train-x_m)/ x_s\n",
    "x_val = (x_val-x_m)/ x_s\n",
    "\n",
    "D_in = x_train.shape[1]\n",
    "x_train = torch.FloatTensor(x_train)\n",
    "y_train = torch.FloatTensor(y_train)\n",
    "x_val = torch.FloatTensor(x_val)\n",
    "y_val = torch.FloatTensor(y_val)\n",
    "plt.scatter(x_train.numpy()[:,0],y_train.numpy())\n",
    "    \n",
    "x_train = x_train.to(device)\n",
    "y_train = y_train.to(device)\n",
    "x_val = x_val.to(device)\n",
    "y_val = y_val.to(device)"
   ]
  },
  {
   "cell_type": "code",
   "execution_count": 9,
   "id": "f079d247",
   "metadata": {},
   "outputs": [
    {
     "data": {
      "text/plain": [
       "506"
      ]
     },
     "execution_count": 9,
     "metadata": {},
     "output_type": "execute_result"
    }
   ],
   "source": [
    "x_.shape[0]"
   ]
  },
  {
   "cell_type": "code",
   "execution_count": 10,
   "id": "c5f8f311",
   "metadata": {},
   "outputs": [],
   "source": [
    "from models.BNNs.DeterministicNN import Deterministic_NN"
   ]
  },
  {
   "cell_type": "code",
   "execution_count": 85,
   "id": "5628dccf",
   "metadata": {},
   "outputs": [],
   "source": [
    "# device = torch.device('cuda' if torch.cuda.is_available() else 'cpu')\n",
    "# if torch.cuda.is_available():\n",
    "#     print(torch.cuda.get_device_name(0))\n",
    "\n",
    "device=torch.device('cpu')\n",
    "\n",
    "class Net(nn.Module):\n",
    "    def __init__(self, num_nodes: int = 10):\n",
    "        super(Net, self).__init__()\n",
    "        self.fc1 = nn.Linear(D_in, num_nodes)\n",
    "        self.fc2 = nn.Linear(num_nodes, num_nodes)\n",
    "        self.fc3 = nn.Linear(num_nodes, 1)\n",
    "\n",
    "    def forward(self, x):\n",
    "        x = torch.relu(self.fc1(x))\n",
    "        x = torch.relu(self.fc2(x))\n",
    "        x = self.fc3(x)\n",
    "        return x\n",
    "\n",
    "num_nodes = 10\n",
    "alpha = 1.\n",
    "beta = 1.\n",
    "ELBO_BETA = .01\n",
    "net = Net(num_nodes=num_nodes)"
   ]
  },
  {
   "cell_type": "markdown",
   "id": "554a64b5",
   "metadata": {},
   "source": [
    "# MF-VI Approx"
   ]
  },
  {
   "cell_type": "code",
   "execution_count": 86,
   "id": "daaef14b",
   "metadata": {},
   "outputs": [],
   "source": [
    "from models.BNNs.SimpleBBPBNN import SimpleBBPBNN, train_bnn\n",
    "from models.BNNs.pyroVIBNN_BOSTON import BayesianNeuralNetwork\n",
    "from pyro.infer.autoguide import AutoDiagonalNormal\n",
    "import pyro\n",
    "import pyro.distributions as dist\n",
    "from tqdm.notebook import trange"
   ]
  },
  {
   "cell_type": "code",
   "execution_count": 87,
   "id": "7a0498b4",
   "metadata": {},
   "outputs": [],
   "source": [
    "BNN = SimpleBBPBNN(input_size=D_in, num_nodes=num_nodes, output_size=1, alpha=alpha, beta=beta, kl_beta=ELBO_BETA)"
   ]
  },
  {
   "cell_type": "code",
   "execution_count": 93,
   "id": "cce70867",
   "metadata": {},
   "outputs": [
    {
     "data": {
      "application/vnd.jupyter.widget-view+json": {
       "model_id": "dffe169f2d554a8a91d5c535bd243e48",
       "version_major": 2,
       "version_minor": 0
      },
      "text/plain": [
       "  0%|          | 0/1000 [00:00<?, ?it/s]"
      ]
     },
     "metadata": {},
     "output_type": "display_data"
    },
    {
     "ename": "KeyboardInterrupt",
     "evalue": "",
     "output_type": "error",
     "traceback": [
      "\u001b[0;31m---------------------------------------------------------------------------\u001b[0m",
      "\u001b[0;31mKeyboardInterrupt\u001b[0m                         Traceback (most recent call last)",
      "\u001b[0;32m<ipython-input-93-8c063047175a>\u001b[0m in \u001b[0;36m<module>\u001b[0;34m\u001b[0m\n\u001b[1;32m      8\u001b[0m     \u001b[0mloss\u001b[0m \u001b[0;34m=\u001b[0m \u001b[0;36m0\u001b[0m\u001b[0;34m\u001b[0m\u001b[0;34m\u001b[0m\u001b[0m\n\u001b[1;32m      9\u001b[0m     \u001b[0;32mfor\u001b[0m \u001b[0mi\u001b[0m \u001b[0;32min\u001b[0m \u001b[0mrange\u001b[0m\u001b[0;34m(\u001b[0m\u001b[0mnum_bnn_samples_per_epoch\u001b[0m\u001b[0;34m)\u001b[0m\u001b[0;34m:\u001b[0m\u001b[0;34m\u001b[0m\u001b[0;34m\u001b[0m\u001b[0m\n\u001b[0;32m---> 10\u001b[0;31m         \u001b[0my_preds\u001b[0m\u001b[0;34m,\u001b[0m \u001b[0mkld\u001b[0m \u001b[0;34m=\u001b[0m \u001b[0mBNN\u001b[0m\u001b[0;34m(\u001b[0m\u001b[0mx_train\u001b[0m\u001b[0;34m)\u001b[0m\u001b[0;34m\u001b[0m\u001b[0;34m\u001b[0m\u001b[0m\n\u001b[0m\u001b[1;32m     11\u001b[0m         \u001b[0mloss\u001b[0m \u001b[0;34m=\u001b[0m \u001b[0mloss\u001b[0m \u001b[0;34m+\u001b[0m \u001b[0mBNN\u001b[0m\u001b[0;34m.\u001b[0m\u001b[0mloss_function\u001b[0m\u001b[0;34m(\u001b[0m\u001b[0my_train\u001b[0m\u001b[0;34m,\u001b[0m \u001b[0my_preds\u001b[0m\u001b[0;34m,\u001b[0m \u001b[0mkld\u001b[0m\u001b[0;34m)\u001b[0m\u001b[0;34m\u001b[0m\u001b[0;34m\u001b[0m\u001b[0m\n\u001b[1;32m     12\u001b[0m     \u001b[0mloss\u001b[0m \u001b[0;34m=\u001b[0m \u001b[0mloss\u001b[0m \u001b[0;34m/\u001b[0m \u001b[0mnum_bnn_samples_per_epoch\u001b[0m\u001b[0;34m\u001b[0m\u001b[0;34m\u001b[0m\u001b[0m\n",
      "\u001b[0;32m~/opt/anaconda3/envs/Torch/lib/python3.8/site-packages/torch/nn/modules/module.py\u001b[0m in \u001b[0;36m_call_impl\u001b[0;34m(self, *input, **kwargs)\u001b[0m\n\u001b[1;32m    887\u001b[0m             \u001b[0mresult\u001b[0m \u001b[0;34m=\u001b[0m \u001b[0mself\u001b[0m\u001b[0;34m.\u001b[0m\u001b[0m_slow_forward\u001b[0m\u001b[0;34m(\u001b[0m\u001b[0;34m*\u001b[0m\u001b[0minput\u001b[0m\u001b[0;34m,\u001b[0m \u001b[0;34m**\u001b[0m\u001b[0mkwargs\u001b[0m\u001b[0;34m)\u001b[0m\u001b[0;34m\u001b[0m\u001b[0;34m\u001b[0m\u001b[0m\n\u001b[1;32m    888\u001b[0m         \u001b[0;32melse\u001b[0m\u001b[0;34m:\u001b[0m\u001b[0;34m\u001b[0m\u001b[0;34m\u001b[0m\u001b[0m\n\u001b[0;32m--> 889\u001b[0;31m             \u001b[0mresult\u001b[0m \u001b[0;34m=\u001b[0m \u001b[0mself\u001b[0m\u001b[0;34m.\u001b[0m\u001b[0mforward\u001b[0m\u001b[0;34m(\u001b[0m\u001b[0;34m*\u001b[0m\u001b[0minput\u001b[0m\u001b[0;34m,\u001b[0m \u001b[0;34m**\u001b[0m\u001b[0mkwargs\u001b[0m\u001b[0;34m)\u001b[0m\u001b[0;34m\u001b[0m\u001b[0;34m\u001b[0m\u001b[0m\n\u001b[0m\u001b[1;32m    890\u001b[0m         for hook in itertools.chain(\n\u001b[1;32m    891\u001b[0m                 \u001b[0m_global_forward_hooks\u001b[0m\u001b[0;34m.\u001b[0m\u001b[0mvalues\u001b[0m\u001b[0;34m(\u001b[0m\u001b[0;34m)\u001b[0m\u001b[0;34m,\u001b[0m\u001b[0;34m\u001b[0m\u001b[0;34m\u001b[0m\u001b[0m\n",
      "\u001b[0;32m~/Documents/UniWork/Cambridge/Thesis/CODE/new_iREC/models/BNNs/SimpleBBPBNN.py\u001b[0m in \u001b[0;36mforward\u001b[0;34m(self, x)\u001b[0m\n\u001b[1;32m     33\u001b[0m         \u001b[0mx\u001b[0m \u001b[0;34m=\u001b[0m \u001b[0mself\u001b[0m\u001b[0;34m.\u001b[0m\u001b[0mactivation\u001b[0m\u001b[0;34m(\u001b[0m\u001b[0mx\u001b[0m\u001b[0;34m)\u001b[0m\u001b[0;34m\u001b[0m\u001b[0;34m\u001b[0m\u001b[0m\n\u001b[1;32m     34\u001b[0m \u001b[0;34m\u001b[0m\u001b[0m\n\u001b[0;32m---> 35\u001b[0;31m         \u001b[0mx\u001b[0m\u001b[0;34m,\u001b[0m \u001b[0mkld_hidden_layer\u001b[0m \u001b[0;34m=\u001b[0m \u001b[0mself\u001b[0m\u001b[0;34m.\u001b[0m\u001b[0mhidden_layer\u001b[0m\u001b[0;34m(\u001b[0m\u001b[0mx\u001b[0m\u001b[0;34m)\u001b[0m\u001b[0;34m\u001b[0m\u001b[0;34m\u001b[0m\u001b[0m\n\u001b[0m\u001b[1;32m     36\u001b[0m \u001b[0;34m\u001b[0m\u001b[0m\n\u001b[1;32m     37\u001b[0m         \u001b[0mx\u001b[0m \u001b[0;34m=\u001b[0m \u001b[0mself\u001b[0m\u001b[0;34m.\u001b[0m\u001b[0mactivation\u001b[0m\u001b[0;34m(\u001b[0m\u001b[0mx\u001b[0m\u001b[0;34m)\u001b[0m\u001b[0;34m\u001b[0m\u001b[0;34m\u001b[0m\u001b[0m\n",
      "\u001b[0;32m~/opt/anaconda3/envs/Torch/lib/python3.8/site-packages/torch/nn/modules/module.py\u001b[0m in \u001b[0;36m_call_impl\u001b[0;34m(self, *input, **kwargs)\u001b[0m\n\u001b[1;32m    887\u001b[0m             \u001b[0mresult\u001b[0m \u001b[0;34m=\u001b[0m \u001b[0mself\u001b[0m\u001b[0;34m.\u001b[0m\u001b[0m_slow_forward\u001b[0m\u001b[0;34m(\u001b[0m\u001b[0;34m*\u001b[0m\u001b[0minput\u001b[0m\u001b[0;34m,\u001b[0m \u001b[0;34m**\u001b[0m\u001b[0mkwargs\u001b[0m\u001b[0;34m)\u001b[0m\u001b[0;34m\u001b[0m\u001b[0;34m\u001b[0m\u001b[0m\n\u001b[1;32m    888\u001b[0m         \u001b[0;32melse\u001b[0m\u001b[0;34m:\u001b[0m\u001b[0;34m\u001b[0m\u001b[0;34m\u001b[0m\u001b[0m\n\u001b[0;32m--> 889\u001b[0;31m             \u001b[0mresult\u001b[0m \u001b[0;34m=\u001b[0m \u001b[0mself\u001b[0m\u001b[0;34m.\u001b[0m\u001b[0mforward\u001b[0m\u001b[0;34m(\u001b[0m\u001b[0;34m*\u001b[0m\u001b[0minput\u001b[0m\u001b[0;34m,\u001b[0m \u001b[0;34m**\u001b[0m\u001b[0mkwargs\u001b[0m\u001b[0;34m)\u001b[0m\u001b[0;34m\u001b[0m\u001b[0;34m\u001b[0m\u001b[0m\n\u001b[0m\u001b[1;32m    890\u001b[0m         for hook in itertools.chain(\n\u001b[1;32m    891\u001b[0m                 \u001b[0m_global_forward_hooks\u001b[0m\u001b[0;34m.\u001b[0m\u001b[0mvalues\u001b[0m\u001b[0;34m(\u001b[0m\u001b[0;34m)\u001b[0m\u001b[0;34m,\u001b[0m\u001b[0;34m\u001b[0m\u001b[0;34m\u001b[0m\u001b[0m\n",
      "\u001b[0;32m~/Documents/UniWork/Cambridge/Thesis/CODE/new_iREC/models/BNNs/Layers/BBPLinear.py\u001b[0m in \u001b[0;36mforward\u001b[0;34m(self, x, sample)\u001b[0m\n\u001b[1;32m     53\u001b[0m             \u001b[0;31m# act sigma is given by A*W* where A*_ij = a_ij^2 and W* = sigma_ij^2\u001b[0m\u001b[0;34m\u001b[0m\u001b[0;34m\u001b[0m\u001b[0;34m\u001b[0m\u001b[0m\n\u001b[1;32m     54\u001b[0m             \u001b[0mactivation_var\u001b[0m \u001b[0;34m=\u001b[0m \u001b[0mtorch\u001b[0m\u001b[0;34m.\u001b[0m\u001b[0meinsum\u001b[0m\u001b[0;34m(\u001b[0m\u001b[0;34m\"ij, kj -> ki\"\u001b[0m\u001b[0;34m,\u001b[0m \u001b[0mw_post_sigma\u001b[0m \u001b[0;34m**\u001b[0m \u001b[0;36m2\u001b[0m\u001b[0;34m,\u001b[0m \u001b[0mx\u001b[0m\u001b[0;34m**\u001b[0m\u001b[0;36m2\u001b[0m\u001b[0;34m)\u001b[0m \u001b[0;34m+\u001b[0m \u001b[0mb_post_sigma\u001b[0m\u001b[0;34m.\u001b[0m\u001b[0mpow\u001b[0m\u001b[0;34m(\u001b[0m\u001b[0;36m2\u001b[0m\u001b[0;34m)\u001b[0m\u001b[0;34m[\u001b[0m\u001b[0;32mNone\u001b[0m\u001b[0;34m]\u001b[0m\u001b[0;34m.\u001b[0m\u001b[0mrepeat\u001b[0m\u001b[0;34m(\u001b[0m\u001b[0mx\u001b[0m\u001b[0;34m.\u001b[0m\u001b[0mshape\u001b[0m\u001b[0;34m[\u001b[0m\u001b[0;36m0\u001b[0m\u001b[0;34m]\u001b[0m\u001b[0;34m,\u001b[0m \u001b[0;36m1\u001b[0m\u001b[0;34m)\u001b[0m\u001b[0;34m\u001b[0m\u001b[0;34m\u001b[0m\u001b[0m\n\u001b[0;32m---> 55\u001b[0;31m             \u001b[0mactivation_sigma\u001b[0m \u001b[0;34m=\u001b[0m \u001b[0mtorch\u001b[0m\u001b[0;34m.\u001b[0m\u001b[0msqrt\u001b[0m\u001b[0;34m(\u001b[0m\u001b[0mactivation_var\u001b[0m\u001b[0;34m)\u001b[0m\u001b[0;34m\u001b[0m\u001b[0;34m\u001b[0m\u001b[0m\n\u001b[0m\u001b[1;32m     56\u001b[0m \u001b[0;34m\u001b[0m\u001b[0m\n\u001b[1;32m     57\u001b[0m             \u001b[0;31m# sample epsilon ~ N(0, 1)\u001b[0m\u001b[0;34m\u001b[0m\u001b[0;34m\u001b[0m\u001b[0;34m\u001b[0m\u001b[0m\n",
      "\u001b[0;31mKeyboardInterrupt\u001b[0m: "
     ]
    }
   ],
   "source": [
    "opt = torch.optim.Adamax(BNN.parameters(), lr=1e-2)\n",
    "pbar = trange(1000)\n",
    "num_bnn_samples_per_epoch = 32\n",
    "losses = []\n",
    "accuracy = []\n",
    "for epoch in pbar:\n",
    "    opt.zero_grad()\n",
    "    loss = 0\n",
    "    for i in range(num_bnn_samples_per_epoch):\n",
    "        y_preds, kld = BNN(x_train)\n",
    "        loss = loss + BNN.loss_function(y_train, y_preds, kld)\n",
    "    loss = loss / num_bnn_samples_per_epoch\n",
    "    loss.backward()\n",
    "    pbar.set_description(f\"The loss is : {loss.item()}\")\n",
    "    losses.append(loss.item())\n",
    "    opt.step()"
   ]
  },
  {
   "cell_type": "code",
   "execution_count": 81,
   "id": "b8041071",
   "metadata": {},
   "outputs": [
    {
     "data": {
      "text/plain": [
       "[<matplotlib.lines.Line2D at 0x7fe4643ce2b0>]"
      ]
     },
     "execution_count": 81,
     "metadata": {},
     "output_type": "execute_result"
    },
    {
     "data": {
      "image/png": "[encoded data removed]",
      "text/plain": [
       "<Figure size 432x288 with 1 Axes>"
      ]
     },
     "metadata": {
      "needs_background": "light"
     },
     "output_type": "display_data"
    }
   ],
   "source": [
    "plt.plot(losses[-500:])"
   ]
  },
  {
   "cell_type": "code",
   "execution_count": 82,
   "id": "d8fabe4a",
   "metadata": {},
   "outputs": [],
   "source": [
    "params = BNN.get_mvn_params()"
   ]
  },
  {
   "cell_type": "code",
   "execution_count": 94,
   "id": "980b4808",
   "metadata": {},
   "outputs": [],
   "source": [
    "# create models\n",
    "model = BayesianNeuralNetwork(in_features=D_in, prior_var=1./alpha, likelihood_var=1./beta * ELBO_BETA, hidden_nodes=num_nodes)\n",
    "guide = AutoDiagonalNormal(model)"
   ]
  },
  {
   "cell_type": "code",
   "execution_count": 95,
   "id": "3fcd18bc",
   "metadata": {},
   "outputs": [
    {
     "data": {
      "application/vnd.jupyter.widget-view+json": {
       "model_id": "c033e25cd5af4815a18fbf66eae8f73b",
       "version_major": 2,
       "version_minor": 0
      },
      "text/plain": [
       "  0%|          | 0/10000 [00:00<?, ?it/s]"
      ]
     },
     "metadata": {},
     "output_type": "display_data"
    },
    {
     "name": "stdout",
     "output_type": "stream",
     "text": [
      "[iteration 0001] loss: 28712.5074\n",
      "[iteration 1001] loss: 349.8659\n",
      "[iteration 2001] loss: 192.0854\n",
      "[iteration 3001] loss: 169.4228\n",
      "[iteration 4001] loss: 167.3237\n",
      "[iteration 5001] loss: 162.6967\n",
      "[iteration 6001] loss: 167.0631\n",
      "[iteration 7001] loss: 174.5837\n",
      "[iteration 8001] loss: 165.8025\n",
      "[iteration 9001] loss: 155.8142\n"
     ]
    }
   ],
   "source": [
    "from pyro.infer import SVI, TraceMeanField_ELBO\n",
    "\n",
    "adam = pyro.optim.Adamax({\"lr\": 5e-1})\n",
    "svi = SVI(model, guide, adam, loss=TraceMeanField_ELBO())\n",
    "\n",
    "num_iterations = 10000\n",
    "pyro.clear_param_store()\n",
    "for j in trange(num_iterations):\n",
    "    # calculate the loss and take a gradient step\n",
    "    loss = svi.step(x_train, y_train)\n",
    "    if j % 1000 == 0:\n",
    "        print(\"[iteration %04d] loss: %.4f\" % (j + 1, loss / len(x_train)))\n",
    "\n",
    "guide.requires_grad_(False)\n",
    "\n",
    "params = []\n",
    "for name, value in pyro.get_param_store().items():\n",
    "    params.append(pyro.param(name))"
   ]
  },
  {
   "cell_type": "code",
   "execution_count": 96,
   "id": "c3557d0d",
   "metadata": {},
   "outputs": [],
   "source": [
    "model_loss = 'regression'\n",
    "\n",
    "# Effect of tau\n",
    "tau = alpha # Prior Precision\n",
    "tau_out = beta # Output Precision\n",
    "\n",
    "tau_list = []\n",
    "for w in net.parameters():\n",
    "    tau_list.append(tau) # set the prior precision to be the same for each set of weights\n",
    "tau_list = torch.tensor(tau_list).to(device)\n",
    "\n",
    "mean, stds = params\n",
    "\n",
    "variational_posterior = dist.MultivariateNormal(loc=mean, covariance_matrix=torch.diag(stds ** 2))\n",
    "\n",
    "variational_samples = variational_posterior.sample((1000,))\n",
    "pred_list_var_exact, log_probs_f = hamiltorch.predict_model(net, x = x_train.to(device),\n",
    "                                                  y = y_train.to(device), samples=variational_samples,\n",
    "                                                  model_loss=model_loss, tau_out=tau_out,\n",
    "                                                  tau_list=tau_list)"
   ]
  },
  {
   "cell_type": "code",
   "execution_count": 97,
   "id": "2fa026a8",
   "metadata": {},
   "outputs": [
    {
     "data": {
      "text/plain": [
       "tensor([[  486.8235],\n",
       "        [  424.8955],\n",
       "        [  178.9787],\n",
       "        [  695.1307],\n",
       "        [  172.0653],\n",
       "        [  212.1691],\n",
       "        [  127.1202],\n",
       "        [  233.8449],\n",
       "        [  443.1402],\n",
       "        [  -37.4767],\n",
       "        [ 3461.7090],\n",
       "        [  113.0598],\n",
       "        [ -739.1742],\n",
       "        [   11.7853],\n",
       "        [  293.3637],\n",
       "        [  790.3111],\n",
       "        [   57.9196],\n",
       "        [  661.8243],\n",
       "        [  234.0376],\n",
       "        [  183.1396],\n",
       "        [  127.8089],\n",
       "        [   27.6599],\n",
       "        [  275.6870],\n",
       "        [  182.4194],\n",
       "        [  225.8517],\n",
       "        [  813.2869],\n",
       "        [  268.0967],\n",
       "        [-1203.5601],\n",
       "        [  326.7744],\n",
       "        [  314.0988],\n",
       "        [  -23.2175],\n",
       "        [ -390.4078],\n",
       "        [  396.6362],\n",
       "        [  205.4826],\n",
       "        [  134.0334],\n",
       "        [ -264.1530],\n",
       "        [   42.5507],\n",
       "        [  665.9504],\n",
       "        [  103.7176],\n",
       "        [ -779.0309],\n",
       "        [  452.3044],\n",
       "        [  225.6380],\n",
       "        [  474.6869],\n",
       "        [  -35.2097],\n",
       "        [  487.2874],\n",
       "        [  142.9908],\n",
       "        [  347.1116],\n",
       "        [-1383.4607],\n",
       "        [-2080.8528],\n",
       "        [  127.7861],\n",
       "        [-1525.0676],\n",
       "        [  270.5642],\n",
       "        [  150.8535],\n",
       "        [  906.3089],\n",
       "        [-1026.0265],\n",
       "        [  395.3417],\n",
       "        [  333.8296],\n",
       "        [  257.9192],\n",
       "        [ 3509.0266],\n",
       "        [  -82.9862],\n",
       "        [  740.5283],\n",
       "        [  166.0355],\n",
       "        [  427.0443],\n",
       "        [  282.8303],\n",
       "        [  682.6438],\n",
       "        [  255.0719],\n",
       "        [ -808.6326],\n",
       "        [  172.5608],\n",
       "        [  297.9098],\n",
       "        [  235.2822],\n",
       "        [  127.2999],\n",
       "        [  212.2531],\n",
       "        [  450.6140],\n",
       "        [  538.8027],\n",
       "        [  138.1084],\n",
       "        [ -624.5182],\n",
       "        [  549.0898],\n",
       "        [  170.8691],\n",
       "        [  148.3023],\n",
       "        [  281.4932],\n",
       "        [  416.0175],\n",
       "        [ -449.6341],\n",
       "        [  589.4020],\n",
       "        [  503.8201],\n",
       "        [  510.4231],\n",
       "        [  386.3570],\n",
       "        [  280.8358],\n",
       "        [  830.3862],\n",
       "        [ -308.8702],\n",
       "        [ -488.6609],\n",
       "        [ -288.5799],\n",
       "        [ -982.4360],\n",
       "        [  673.6323],\n",
       "        [  680.2082],\n",
       "        [  203.8932],\n",
       "        [  615.6155],\n",
       "        [-1480.1821],\n",
       "        [  659.5282],\n",
       "        [ -910.9919],\n",
       "        [  288.0288],\n",
       "        [  223.6399],\n",
       "        [  169.0642],\n",
       "        [  213.4423],\n",
       "        [  228.7743],\n",
       "        [  463.1833],\n",
       "        [  284.4495],\n",
       "        [  265.2090],\n",
       "        [   85.2907],\n",
       "        [  194.2293],\n",
       "        [  422.9287],\n",
       "        [  103.5945],\n",
       "        [ -686.4293],\n",
       "        [  210.5134],\n",
       "        [  311.4917],\n",
       "        [  241.6814],\n",
       "        [  -44.4096],\n",
       "        [-1811.4712],\n",
       "        [ -218.4992],\n",
       "        [ -892.1610],\n",
       "        [  608.8651],\n",
       "        [  537.7574],\n",
       "        [ -783.7790],\n",
       "        [  346.2574],\n",
       "        [  213.4702],\n",
       "        [  216.4885],\n",
       "        [   26.1180],\n",
       "        [  212.1079],\n",
       "        [   70.6785],\n",
       "        [  503.6296],\n",
       "        [  203.6374],\n",
       "        [ -240.7045],\n",
       "        [ -944.0920],\n",
       "        [-1201.4590],\n",
       "        [  -99.3934],\n",
       "        [ -546.8824],\n",
       "        [  750.8543],\n",
       "        [  140.5161],\n",
       "        [-2125.9968],\n",
       "        [  688.9807],\n",
       "        [ -775.8994],\n",
       "        [  394.1277],\n",
       "        [  214.7055],\n",
       "        [   90.6945],\n",
       "        [  693.7657],\n",
       "        [  295.7121],\n",
       "        [  265.5446],\n",
       "        [  411.6328],\n",
       "        [  563.3751],\n",
       "        [ -666.8125],\n",
       "        [ -847.4899],\n",
       "        [  139.8468],\n",
       "        [  430.1824],\n",
       "        [-1786.0015],\n",
       "        [  117.6783],\n",
       "        [ -747.9329],\n",
       "        [  745.2538],\n",
       "        [  -28.9687],\n",
       "        [  201.9802],\n",
       "        [  259.2869],\n",
       "        [  373.2553],\n",
       "        [-1015.5756],\n",
       "        [  190.6844],\n",
       "        [  403.3641],\n",
       "        [  320.1278],\n",
       "        [  723.9757],\n",
       "        [  285.5550],\n",
       "        [  156.6113],\n",
       "        [  161.2104],\n",
       "        [  -90.9293],\n",
       "        [  193.5875],\n",
       "        [  394.5090],\n",
       "        [ -250.1025],\n",
       "        [ -474.0928],\n",
       "        [  231.0193],\n",
       "        [  123.7058],\n",
       "        [  154.0620],\n",
       "        [  380.3818],\n",
       "        [  486.3935],\n",
       "        [  126.0685],\n",
       "        [  321.3994],\n",
       "        [ -509.3273],\n",
       "        [ 2080.9314],\n",
       "        [  312.9235],\n",
       "        [   88.3698],\n",
       "        [  434.8597],\n",
       "        [  503.9212],\n",
       "        [  584.7685],\n",
       "        [  698.9907],\n",
       "        [  453.3117],\n",
       "        [ -583.4717],\n",
       "        [-1086.8475],\n",
       "        [  439.1333],\n",
       "        [   87.7620],\n",
       "        [  289.2159],\n",
       "        [  691.0331],\n",
       "        [  330.1944],\n",
       "        [  279.4596],\n",
       "        [  125.2083],\n",
       "        [  203.9614],\n",
       "        [  560.6491],\n",
       "        [  274.6486],\n",
       "        [  244.7885],\n",
       "        [  565.8137],\n",
       "        [  661.6757],\n",
       "        [-2723.0649],\n",
       "        [  103.9291],\n",
       "        [ -811.9855],\n",
       "        [  689.8397],\n",
       "        [  -20.5559],\n",
       "        [   14.2310],\n",
       "        [  110.7127],\n",
       "        [  116.9053],\n",
       "        [ -218.1248],\n",
       "        [  195.9088],\n",
       "        [  244.7142],\n",
       "        [ -955.3463],\n",
       "        [-1280.5433],\n",
       "        [  146.5637],\n",
       "        [  -14.7558],\n",
       "        [  167.5644],\n",
       "        [ 1280.5277],\n",
       "        [ -261.9622],\n",
       "        [  240.8363],\n",
       "        [-1482.5687],\n",
       "        [  612.4216],\n",
       "        [ -425.5250],\n",
       "        [  243.1274],\n",
       "        [  159.6408],\n",
       "        [  591.0259],\n",
       "        [  254.7751],\n",
       "        [-1093.2117],\n",
       "        [  143.0772],\n",
       "        [  177.3292],\n",
       "        [  819.2977],\n",
       "        [  180.4202],\n",
       "        [   21.5912],\n",
       "        [ -663.6227],\n",
       "        [  131.2212],\n",
       "        [  437.1290],\n",
       "        [  365.0987],\n",
       "        [  867.4749],\n",
       "        [  515.4687],\n",
       "        [ -116.5943],\n",
       "        [ -615.8527],\n",
       "        [  648.8322],\n",
       "        [  749.9130],\n",
       "        [  182.7023],\n",
       "        [ -717.1307],\n",
       "        [  542.3339],\n",
       "        [ -396.4872],\n",
       "        [ -888.7896],\n",
       "        [ -344.1665],\n",
       "        [  284.9745],\n",
       "        [  692.4855],\n",
       "        [ -515.2135],\n",
       "        [  335.3064],\n",
       "        [  234.9497],\n",
       "        [  252.3215],\n",
       "        [  268.8452],\n",
       "        [  404.2516],\n",
       "        [  219.5961],\n",
       "        [  675.0096],\n",
       "        [   71.0093],\n",
       "        [  256.8935],\n",
       "        [  235.3133],\n",
       "        [ -784.1160],\n",
       "        [  110.3985],\n",
       "        [  568.2925],\n",
       "        [  436.6400],\n",
       "        [ -580.2447],\n",
       "        [  283.3952],\n",
       "        [   96.3927],\n",
       "        [ -465.5451],\n",
       "        [  425.8579],\n",
       "        [-1588.3958],\n",
       "        [  276.5567],\n",
       "        [ -730.0155],\n",
       "        [ -932.4469],\n",
       "        [  -66.8704],\n",
       "        [  238.4188],\n",
       "        [  370.7872],\n",
       "        [  623.7188],\n",
       "        [  474.5617],\n",
       "        [  203.7037],\n",
       "        [ -852.1484],\n",
       "        [  217.0068],\n",
       "        [  209.0291],\n",
       "        [  684.2549],\n",
       "        [  265.1936],\n",
       "        [  291.6981],\n",
       "        [  393.2458],\n",
       "        [  266.7947],\n",
       "        [  197.5163],\n",
       "        [   97.8398],\n",
       "        [ -610.4911],\n",
       "        [  115.9737],\n",
       "        [  333.9616],\n",
       "        [  628.1689],\n",
       "        [-1205.5455],\n",
       "        [  388.1716],\n",
       "        [  124.5466],\n",
       "        [ -648.9569],\n",
       "        [  219.2543],\n",
       "        [  287.6273],\n",
       "        [  145.1058],\n",
       "        [  187.3315],\n",
       "        [  607.7708],\n",
       "        [  273.0140],\n",
       "        [  243.7960],\n",
       "        [  597.4742],\n",
       "        [  249.5693],\n",
       "        [  157.9192],\n",
       "        [  136.4156],\n",
       "        [  802.0685],\n",
       "        [  188.8802],\n",
       "        [-1520.6669],\n",
       "        [ -432.2968],\n",
       "        [  188.5634],\n",
       "        [  283.4270],\n",
       "        [  268.2105],\n",
       "        [  555.3184],\n",
       "        [ -732.1858],\n",
       "        [  247.8695],\n",
       "        [  455.7159],\n",
       "        [ -113.4061],\n",
       "        [  307.8765],\n",
       "        [  129.0621],\n",
       "        [ 3263.2981],\n",
       "        [  519.5229],\n",
       "        [  371.7056],\n",
       "        [ -315.5525],\n",
       "        [  292.3375],\n",
       "        [  289.6856],\n",
       "        [  385.4849],\n",
       "        [ -169.8892],\n",
       "        [  526.3010],\n",
       "        [   45.8352],\n",
       "        [  586.5853],\n",
       "        [ 1076.8477],\n",
       "        [   71.6378],\n",
       "        [  554.8633],\n",
       "        [  485.1283],\n",
       "        [  199.5865],\n",
       "        [  452.6942],\n",
       "        [ 4808.3887],\n",
       "        [  112.7926],\n",
       "        [  206.6220],\n",
       "        [  396.8449],\n",
       "        [ -633.0490],\n",
       "        [   88.9666],\n",
       "        [ -545.8466],\n",
       "        [  236.1692],\n",
       "        [   96.6420],\n",
       "        [  468.3272],\n",
       "        [  264.5257],\n",
       "        [  993.2646],\n",
       "        [  227.2299],\n",
       "        [  398.4797],\n",
       "        [  253.9350],\n",
       "        [ -116.5833],\n",
       "        [  659.6655],\n",
       "        [  591.3271],\n",
       "        [  250.1018],\n",
       "        [  465.5251],\n",
       "        [ -101.0245],\n",
       "        [ -447.8649],\n",
       "        [ -111.9738],\n",
       "        [ -322.8439],\n",
       "        [ -684.5632],\n",
       "        [  217.1720],\n",
       "        [  443.4423],\n",
       "        [   30.8196],\n",
       "        [ -310.2647],\n",
       "        [  216.0382],\n",
       "        [  295.6283],\n",
       "        [  542.3913],\n",
       "        [ -404.8795],\n",
       "        [  235.4133],\n",
       "        [  243.8429],\n",
       "        [   79.4277],\n",
       "        [  528.6644],\n",
       "        [  433.5588],\n",
       "        [  659.0739],\n",
       "        [  325.1044],\n",
       "        [  266.0071],\n",
       "        [  130.9066],\n",
       "        [  554.5198],\n",
       "        [  378.2509],\n",
       "        [  209.0455],\n",
       "        [  -22.6995],\n",
       "        [  103.3622],\n",
       "        [  483.2331],\n",
       "        [   29.6769],\n",
       "        [  274.8739],\n",
       "        [   93.8598],\n",
       "        [  375.4311],\n",
       "        [  666.4361],\n",
       "        [-1450.0594],\n",
       "        [ -441.6950],\n",
       "        [  315.0841],\n",
       "        [  317.9849],\n",
       "        [  237.9573],\n",
       "        [-2158.2197],\n",
       "        [-1956.2085]])"
      ]
     },
     "execution_count": 97,
     "metadata": {},
     "output_type": "execute_result"
    }
   ],
   "source": [
    "pred_list_var_exact.mean(0)"
   ]
  },
  {
   "cell_type": "code",
   "execution_count": 98,
   "id": "49e1118b",
   "metadata": {},
   "outputs": [
    {
     "data": {
      "text/plain": [
       "tensor(3211.3076)"
      ]
     },
     "execution_count": 98,
     "metadata": {},
     "output_type": "execute_result"
    }
   ],
   "source": [
    "prior = D.MultivariateNormal(loc=torch.zeros_like(mean), covariance_matrix = 1./alpha * torch.eye(mean.shape[-1]))\n",
    "D.kl_divergence(variational_posterior, prior)"
   ]
  },
  {
   "cell_type": "markdown",
   "id": "70fdfea1",
   "metadata": {},
   "source": [
    "# Compress some weights with variational scheme"
   ]
  },
  {
   "cell_type": "code",
   "execution_count": null,
   "id": "a406433b",
   "metadata": {},
   "outputs": [],
   "source": [
    "#### sample weights with compression algorithm\n",
    "from rec.beamsearch.Coders.Encoder_Variational import Encoder\n",
    "from rec.beamsearch.distributions.CodingSampler import CodingSampler\n",
    "from rec.beamsearch.distributions.VariationalPosterior import VariationalPosterior\n",
    "from rec.beamsearch.samplers.GreedySampling import GreedySampler\n",
    "from rec.OptimisingVars.VariationalOptimiser import VariationalOptimiser\n",
    "from tqdm.notebook import trange\n",
    "coding_sampler = CodingSampler\n",
    "auxiliary_posterior = VariationalPosterior\n",
    "selection_sampler = GreedySampler\n",
    "omega = 5\n",
    "\n",
    "initial_seed = 0\n",
    "beamwidth = 1\n",
    "epsilon = 0.\n",
    "\n",
    "\n",
    "\n",
    "compute_params_enc =  encoder = Encoder(variational_posterior,\n",
    "                      initial_seed,\n",
    "                      coding_sampler,\n",
    "                      selection_sampler,\n",
    "                      auxiliary_posterior,\n",
    "                      omega,\n",
    "                      epsilon=epsilon,\n",
    "                      beamwidth=beamwidth,\n",
    "                      prior_var=1./alpha)\n",
    "\n",
    "n_auxiliaries = compute_params_enc.n_auxiliary\n",
    "kl_q_p = compute_params_enc.total_kl\n",
    "var_opt = VariationalOptimiser(compute_params_enc.target, omega, n_auxiliaries, kl_q_p, n_trajectories=16, total_var=1./alpha)\n",
    "aux_vars = var_opt.run_optimiser(epochs=5000, lr=1e-1)"
   ]
  },
  {
   "cell_type": "code",
   "execution_count": null,
   "id": "c1c21416",
   "metadata": {},
   "outputs": [],
   "source": [
    "kl_q_p"
   ]
  },
  {
   "cell_type": "code",
   "execution_count": null,
   "id": "fde0adca",
   "metadata": {},
   "outputs": [],
   "source": [
    "initial_seed = 0\n",
    "beamwidth = 1\n",
    "epsilon = 0.\n",
    "\n",
    "compressed_weights_low_eps = []\n",
    "num_compressed_samples = 250\n",
    "for i in trange(num_compressed_samples):\n",
    "    initial_seed = initial_seed + i * 10\n",
    "    encoder = Encoder(variational_posterior,\n",
    "                      initial_seed,\n",
    "                      coding_sampler,\n",
    "                      selection_sampler,\n",
    "                      auxiliary_posterior,\n",
    "                      omega,\n",
    "                      epsilon=epsilon,\n",
    "                      beamwidth=beamwidth,\n",
    "                      prior_var=1./alpha)\n",
    "    \n",
    "    encoder.auxiliary_posterior.coding_sampler.auxiliary_vars = aux_vars\n",
    "    w, idx = encoder.run_encoder()\n",
    "\n",
    "    compressed_weights_low_eps.append(w[0])"
   ]
  },
  {
   "cell_type": "code",
   "execution_count": null,
   "id": "30140ca4",
   "metadata": {},
   "outputs": [],
   "source": [
    "pred_list_var_low_eps, log_probs_f = hamiltorch.predict_model(net, x = xs.to(device),\n",
    "                                                  y = xs.to(device), samples=compressed_weights_low_eps,\n",
    "                                                  model_loss=model_loss, tau_out=tau_out,\n",
    "                                                  tau_list=tau_list)\n",
    "\n",
    "plot_preds(pred_list_var_low_eps)"
   ]
  },
  {
   "cell_type": "code",
   "execution_count": null,
   "id": "f0d077f2",
   "metadata": {},
   "outputs": [],
   "source": [
    "initial_seed = 0\n",
    "beamwidth = 1\n",
    "epsilon = 0.1\n",
    "\n",
    "compressed_weights_var_med_eps = []\n",
    "num_compressed_samples = 250\n",
    "for i in trange(num_compressed_samples):\n",
    "    initial_seed = initial_seed + i * 10\n",
    "    encoder = Encoder(variational_posterior,\n",
    "                      initial_seed,\n",
    "                      coding_sampler,\n",
    "                      selection_sampler,\n",
    "                      auxiliary_posterior,\n",
    "                      omega,\n",
    "                      epsilon=epsilon,\n",
    "                      beamwidth=beamwidth,\n",
    "                      prior_var=1./alpha)\n",
    "    \n",
    "    encoder.auxiliary_posterior.coding_sampler.auxiliary_vars = aux_vars\n",
    "    w, idx = encoder.run_encoder()\n",
    "\n",
    "    compressed_weights_var_med_eps.append(w[0])"
   ]
  },
  {
   "cell_type": "code",
   "execution_count": null,
   "id": "2e4f1697",
   "metadata": {},
   "outputs": [],
   "source": [
    "pred_list_var_med_eps, log_probs_f = hamiltorch.predict_model(net, x = xs.to(device),\n",
    "                                                  y = xs.to(device), samples=compressed_weights_var_med_eps,\n",
    "                                                  model_loss=model_loss, tau_out=tau_out,\n",
    "                                                  tau_list=tau_list)\n",
    "plot_preds(pred_list_var_med_eps)"
   ]
  },
  {
   "cell_type": "code",
   "execution_count": null,
   "id": "d67d8d32",
   "metadata": {},
   "outputs": [],
   "source": [
    "initial_seed = 0\n",
    "beamwidth = 1\n",
    "epsilon = 0.2\n",
    "\n",
    "compressed_weights_var_high_eps = []\n",
    "num_compressed_samples = 250\n",
    "for i in trange(num_compressed_samples):\n",
    "    initial_seed = initial_seed + i * 10\n",
    "    encoder = Encoder(variational_posterior,\n",
    "                      initial_seed,\n",
    "                      coding_sampler,\n",
    "                      selection_sampler,\n",
    "                      auxiliary_posterior,\n",
    "                      omega,\n",
    "                      epsilon=epsilon,\n",
    "                      beamwidth=beamwidth,\n",
    "                      prior_var=1./alpha)\n",
    "    \n",
    "    encoder.auxiliary_posterior.coding_sampler.auxiliary_vars = aux_vars\n",
    "    w, idx = encoder.run_encoder()\n",
    "\n",
    "    compressed_weights_var_high_eps.append(w[0])"
   ]
  },
  {
   "cell_type": "code",
   "execution_count": null,
   "id": "e6d4fb78",
   "metadata": {},
   "outputs": [],
   "source": [
    "pred_list_var_high_eps, log_probs_f = hamiltorch.predict_model(net, x = xs.to(device),\n",
    "                                                  y = xs.to(device), samples=compressed_weights_var_high_eps,\n",
    "                                                  model_loss=model_loss, tau_out=tau_out,\n",
    "                                                  tau_list=tau_list)\n",
    "plot_preds(pred_list_var_high_eps)"
   ]
  },
  {
   "cell_type": "code",
   "execution_count": null,
   "id": "599e83c6",
   "metadata": {},
   "outputs": [],
   "source": [
    "def make_empirical_predictive(weights, x_input, y_output):\n",
    "    pred_list, _ = hamiltorch.predict_model(net, x = x_input.flatten().to(device),\n",
    "                                                  y = y_output.flatten().to(device), samples=weights,\n",
    "                                                  model_loss='regression', tau_out=tau_out,\n",
    "                                                  tau_list=tau_list)\n",
    "    \n",
    "    # need to make gmm at each sample\n",
    "    return pred_list\n",
    "\n",
    "def make_empirical_gmm(preds):\n",
    "    mix = D.Categorical(torch.ones(preds.shape[0]))\n",
    "    comp = D.Normal(loc=preds.squeeze().permute(1, 0), scale=beta ** -0.5)\n",
    "    gmm = D.MixtureSameFamily(mix, comp)\n",
    "    return gmm\n",
    "\n",
    "def compute_gmm_lp(weights, x, y):\n",
    "    preds = make_empirical_predictive(weights, x, y)\n",
    "    \n",
    "    gmm = make_empirical_gmm(preds)\n",
    "    \n",
    "    return gmm.log_prob(y.squeeze()).sum()"
   ]
  },
  {
   "cell_type": "code",
   "execution_count": null,
   "id": "79f8964e",
   "metadata": {},
   "outputs": [],
   "source": [
    "compute_gmm_lp(variational_samples, x_test, y_test)"
   ]
  },
  {
   "cell_type": "code",
   "execution_count": null,
   "id": "220b94e9",
   "metadata": {},
   "outputs": [],
   "source": [
    "compute_gmm_lp(variational_samples, x_data, y_data)"
   ]
  },
  {
   "cell_type": "code",
   "execution_count": null,
   "id": "96ee310a",
   "metadata": {},
   "outputs": [],
   "source": [
    "compute_gmm_lp(compressed_weights_low_eps, x_test, y_test)"
   ]
  },
  {
   "cell_type": "code",
   "execution_count": null,
   "id": "96d3d8a7",
   "metadata": {},
   "outputs": [],
   "source": [
    "compute_gmm_lp(compressed_weights_var_med_eps, x_test, y_test)"
   ]
  },
  {
   "cell_type": "code",
   "execution_count": null,
   "id": "e6f81aba",
   "metadata": {},
   "outputs": [],
   "source": [
    "compute_gmm_lp(compressed_weights_var_high_eps, x_test, y_test)"
   ]
  },
  {
   "cell_type": "code",
   "execution_count": null,
   "id": "d2387f51",
   "metadata": {},
   "outputs": [],
   "source": [
    "# dump the important stuff\n",
    "import pickle as pkl\n",
    "pkl.dump(variational_posterior, open(f'PickledStuff/BNN_BETA_RESULTS/VAR/var_post_beta_{ELBO_BETA}.pkl', 'wb'))\n",
    "pkl.dump(aux_vars, open(f'PickledStuff/BNN_BETA_RESULTS/VAR/var_optimised_vars_beta_{ELBO_BETA}.pkl', 'wb'))\n",
    "pkl.dump(kl_q_p, open(f'PickledStuff/BNN_BETA_RESULTS/VAR/var_kl_beta_{ELBO_BETA}.pkl', 'wb'))\n",
    "pkl.dump(variational_samples, open(f'PickledStuff/BNN_BETA_RESULTS/VAR/var_exact_beta_{ELBO_BETA}.pkl', 'wb'))\n",
    "pkl.dump(compressed_weights_low_eps, open(f'PickledStuff/BNN_BETA_RESULTS/VAR/var_beta_{ELBO_BETA}_eps_0.pkl', 'wb'))\n",
    "pkl.dump(compressed_weights_var_med_eps, open(f'PickledStuff/BNN_BETA_RESULTS/VAR/var_beta_{ELBO_BETA}_eps_0.1.pkl', 'wb'))\n",
    "pkl.dump(compressed_weights_var_high_eps, open(f'PickledStuff/BNN_BETA_RESULTS/VAR/var_beta_{ELBO_BETA}_eps_0.2.pkl', 'wb'))"
   ]
  }
 ],
 "metadata": {
  "kernelspec": {
   "display_name": "Python 3",
   "language": "python",
   "name": "python3"
  },
  "language_info": {
   "codemirror_mode": {
    "name": "ipython",
    "version": 3
   },
   "file_extension": ".py",
   "mimetype": "text/x-python",
   "name": "python",
   "nbconvert_exporter": "python",
   "pygments_lexer": "ipython3",
   "version": "3.8.8"
  }
 },
 "nbformat": 4,
 "nbformat_minor": 5
}
