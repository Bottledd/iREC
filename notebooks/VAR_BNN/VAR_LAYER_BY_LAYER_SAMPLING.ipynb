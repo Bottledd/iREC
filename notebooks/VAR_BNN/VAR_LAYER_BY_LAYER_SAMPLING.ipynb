{
 "cells": [
  {
   "cell_type": "code",
   "execution_count": 1,
   "id": "10fede91",
   "metadata": {},
   "outputs": [],
   "source": [
    "%load_ext autoreload"
   ]
  },
  {
   "cell_type": "code",
   "execution_count": 2,
   "id": "6d37e11d",
   "metadata": {},
   "outputs": [],
   "source": [
    "%autoreload 2"
   ]
  },
  {
   "cell_type": "code",
   "execution_count": 3,
   "id": "24022a78",
   "metadata": {},
   "outputs": [
    {
     "name": "stdout",
     "output_type": "stream",
     "text": [
      "/scratch/km817/iREC\n"
     ]
    }
   ],
   "source": [
    "%cd ../.."
   ]
  },
  {
   "cell_type": "code",
   "execution_count": 4,
   "id": "434ee3b4",
   "metadata": {},
   "outputs": [],
   "source": [
    "import torch\n",
    "import hamiltorch\n",
    "import matplotlib.pyplot as plt\n",
    "import torch.distributions as D\n",
    "import torch.nn as nn\n",
    "import torch.nn.functional as F"
   ]
  },
  {
   "cell_type": "code",
   "execution_count": 5,
   "id": "eb00df5a",
   "metadata": {},
   "outputs": [],
   "source": [
    "%matplotlib inline"
   ]
  },
  {
   "cell_type": "code",
   "execution_count": 6,
   "id": "c64a02a1",
   "metadata": {},
   "outputs": [],
   "source": [
    "hamiltorch.set_random_seed(0)\n",
    "device = torch.device('cpu')"
   ]
  },
  {
   "cell_type": "code",
   "execution_count": 7,
   "id": "99d2284e",
   "metadata": {},
   "outputs": [
    {
     "data": {
      "text/plain": [
       "'0.4.0.dev1'"
      ]
     },
     "execution_count": 7,
     "metadata": {},
     "output_type": "execute_result"
    }
   ],
   "source": [
    "hamiltorch.__version__"
   ]
  },
  {
   "cell_type": "code",
   "execution_count": 8,
   "id": "470f6928",
   "metadata": {},
   "outputs": [
    {
     "data": {
      "image/png": "[encoded data removed]",
      "text/plain": [
       "<Figure size 432x288 with 1 Axes>"
      ]
     },
     "metadata": {
      "needs_background": "light"
     },
     "output_type": "display_data"
    }
   ],
   "source": [
    "from sklearn.datasets import load_boston\n",
    "import numpy as np\n",
    "\n",
    "data = load_boston()\n",
    "\n",
    "x_ = data['data']\n",
    "y_ = data['target']\n",
    "N_tr = int(x_.shape[0] * 0.5)\n",
    "N_val = x_.shape[0] - N_tr\n",
    "a = np.arange(x_.shape[0])\n",
    "train_index = np.random.choice(a, size = N_tr, replace = False)\n",
    "val_index = np.delete(a, train_index, axis=0)\n",
    "x_train = x_[train_index]\n",
    "y_train = y_[train_index]\n",
    "x_val = x_[val_index][:]\n",
    "y_val = y_[val_index][:]\n",
    "x_m = x_train.mean(0)\n",
    "x_s = x_train.std(0)\n",
    "x_train = (x_train-x_m)/ x_s\n",
    "x_val = (x_val-x_m)/ x_s\n",
    "\n",
    "D_in = x_train.shape[1]\n",
    "x_train = torch.FloatTensor(x_train)\n",
    "y_train = torch.FloatTensor(y_train)\n",
    "x_val = torch.FloatTensor(x_val)\n",
    "y_val = torch.FloatTensor(y_val)\n",
    "plt.scatter(x_train.numpy()[:,0],y_train.numpy())\n",
    "    \n",
    "x_train = x_train.to(device)\n",
    "y_train = y_train.to(device)\n",
    "x_val = x_val.to(device)\n",
    "y_val = y_val.to(device)"
   ]
  },
  {
   "cell_type": "code",
   "execution_count": 9,
   "id": "5628dccf",
   "metadata": {},
   "outputs": [],
   "source": [
    "# device = torch.device('cuda' if torch.cuda.is_available() else 'cpu')\n",
    "# if torch.cuda.is_available():\n",
    "#     print(torch.cuda.get_device_name(0))\n",
    "\n",
    "device=torch.device('cpu')\n",
    "\n",
    "class Net(nn.Module):\n",
    "    def __init__(self, num_nodes: int = 10):\n",
    "        super(Net, self).__init__()\n",
    "        self.fc1 = nn.Linear(D_in, num_nodes).train(False)\n",
    "        self.fc2 = nn.Linear(num_nodes, num_nodes).train(False)\n",
    "        self.fc3 = nn.Linear(num_nodes, 1).train(False)\n",
    "\n",
    "    def forward(self, x):\n",
    "        x = torch.relu(self.fc1(x))\n",
    "        x = torch.relu(self.fc2(x))\n",
    "        x = self.fc3(x)\n",
    "        return x\n",
    "    \n",
    "    def load_sampled_weights(self, l_1_w, l_1_b, l_2_w, l_2_b, l_3_w, l_3_b):\n",
    "        self.fc1.weight = nn.Parameter(l_1_w.reshape(self.fc1.weight.shape))\n",
    "        self.fc1.bias = nn.Parameter(l_1_b.reshape(self.fc1.bias.shape))\n",
    "        self.fc2.weight = nn.Parameter(l_2_w.reshape(self.fc2.weight.shape))\n",
    "        self.fc2.bias = nn.Parameter(l_2_b.reshape(self.fc2.bias.shape))\n",
    "        self.fc3.weight = nn.Parameter(l_3_w.reshape(self.fc3.weight.shape))\n",
    "        self.fc3.bias = nn.Parameter(l_3_b.reshape(self.fc3.bias.shape))\n",
    "\n",
    "num_nodes = 10\n",
    "alpha = 1.\n",
    "beta = .2\n",
    "ELBO_BETA = 1.\n",
    "net = Net(num_nodes=num_nodes)"
   ]
  },
  {
   "cell_type": "markdown",
   "id": "554a64b5",
   "metadata": {},
   "source": [
    "# MF-VI Approx"
   ]
  },
  {
   "cell_type": "code",
   "execution_count": 10,
   "id": "daaef14b",
   "metadata": {},
   "outputs": [],
   "source": [
    "from models.BNNs.pyroVIBNN_BOSTON import BayesianNeuralNetwork\n",
    "from pyro.infer.autoguide import AutoDiagonalNormal\n",
    "import pyro.distributions as dist\n",
    "from pyro.nn import PyroModule, PyroSample\n",
    "import torch.nn as nn\n",
    "import pyro\n",
    "from pyro.infer.autoguide import AutoDiagonalNormal\n",
    "from pyro.infer import SVI, Trace_ELBO, Predictive\n",
    "from tqdm.auto import trange, tqdm\n",
    "from tqdm.notebook import trange"
   ]
  },
  {
   "cell_type": "code",
   "execution_count": 11,
   "id": "73d87614",
   "metadata": {},
   "outputs": [],
   "source": [
    "class Model_Full(PyroModule):\n",
    "    def __init__(self, h1=num_nodes, h2=num_nodes):\n",
    "        super().__init__()\n",
    "        self.fc1 = PyroModule[nn.Linear](13, h1)\n",
    "        self.fc1.weight = PyroSample(dist.Normal(0., 1.).expand([h1, 13]).to_event(2))\n",
    "        self.fc1.bias = PyroSample(dist.Normal(0., 1.).expand([h1]).to_event(1))\n",
    "        self.fc2 = PyroModule[nn.Linear](h1, h2)\n",
    "        self.fc2.weight = PyroSample(dist.Normal(0., 1.).expand([h2, h1]).to_event(2))\n",
    "        self.fc2.bias = PyroSample(dist.Normal(0., 1.).expand([h2]).to_event(1))\n",
    "        self.fc3 = PyroModule[nn.Linear](h2, 1)\n",
    "        self.fc3.weight = PyroSample(dist.Normal(0., 1.).expand([1, h2]).to_event(2))\n",
    "        self.fc3.bias = PyroSample(dist.Normal(0., 1.).expand([1]).to_event(1))\n",
    "        self.relu = nn.ReLU()\n",
    "\n",
    "    def forward(self, x, y=None):\n",
    "        x = self.relu(self.fc1(x))\n",
    "        x = self.relu(self.fc2(x))\n",
    "        mu = self.fc3(x).squeeze()\n",
    "        with pyro.plate(\"data\", x.shape[0]):\n",
    "            obs = pyro.sample(\"obs\", dist.Normal(mu, 1./beta), obs=y)\n",
    "        return mu"
   ]
  },
  {
   "cell_type": "code",
   "execution_count": 12,
   "id": "f06151a8",
   "metadata": {},
   "outputs": [],
   "source": [
    "class Model_Fixed_L1(PyroModule):\n",
    "    def __init__(self, l1_weight, l1_bias, h1=num_nodes, h2=num_nodes):\n",
    "        super().__init__()\n",
    "        self.fc1 = nn.Linear(13, h1).train(False)\n",
    "        self.fc1.weight = nn.Parameter(l1_weight.reshape(self.fc1.weight.shape), requires_grad=False)\n",
    "        self.fc1.bias = nn.Parameter(l1_bias.reshape(self.fc1.bias.shape), requires_grad=False)\n",
    "        self.fc2 = PyroModule[nn.Linear](h1, h2)\n",
    "        self.fc2.weight = PyroSample(dist.Normal(0., 1.).expand([h2, h1]).to_event(2))\n",
    "        self.fc2.bias = PyroSample(dist.Normal(0., 1.).expand([h2]).to_event(1))\n",
    "        self.fc3 = PyroModule[nn.Linear](h2, 1)\n",
    "        self.fc3.weight = PyroSample(dist.Normal(0., 1.).expand([1, h2]).to_event(2))\n",
    "        self.fc3.bias = PyroSample(dist.Normal(0., 1.).expand([1]).to_event(1))\n",
    "        self.relu = nn.ReLU()\n",
    "\n",
    "    def forward(self, x, y=None):\n",
    "        x = self.relu(self.fc1(x))\n",
    "        x = self.relu(self.fc2(x))\n",
    "        mu = self.fc3(x).squeeze()\n",
    "        with pyro.plate(\"data\", x.shape[0]):\n",
    "            obs = pyro.sample(\"obs\", dist.Normal(mu, 1./beta), obs=y)\n",
    "        return mu"
   ]
  },
  {
   "cell_type": "code",
   "execution_count": 13,
   "id": "a01fd886",
   "metadata": {},
   "outputs": [],
   "source": [
    "class Model_Fixed_L2(PyroModule):\n",
    "    def __init__(self, l1_weight, l1_bias, l2_weight, l2_bias, h1=num_nodes, h2=num_nodes):\n",
    "        super().__init__()\n",
    "        self.fc1 = nn.Linear(13, h1).train(False)\n",
    "        self.fc1.weight = nn.Parameter(l1_weight.reshape(self.fc1.weight.shape), requires_grad=False)\n",
    "        self.fc1.bias = nn.Parameter(l1_bias.reshape(self.fc1.bias.shape), requires_grad=False)\n",
    "        self.fc2 = nn.Linear(h1, h2).train(False)\n",
    "        self.fc2.weight = nn.Parameter(l2_weight.reshape(self.fc2.weight.shape), requires_grad=False)\n",
    "        self.fc2.bias = nn.Parameter(l2_bias.reshape(self.fc2.bias.shape), requires_grad=False)\n",
    "        self.fc3 = PyroModule[nn.Linear](h2, 1)\n",
    "        self.fc3.weight = PyroSample(dist.Normal(0., 1.).expand([1, h2]).to_event(2))\n",
    "        self.fc3.bias = PyroSample(dist.Normal(0., 1.).expand([1]).to_event(1))\n",
    "        self.relu = nn.ReLU()\n",
    "\n",
    "    def forward(self, x, y=None):\n",
    "        x = self.relu(self.fc1(x))\n",
    "        x = self.relu(self.fc2(x))\n",
    "        mu = self.fc3(x).squeeze()\n",
    "        with pyro.plate(\"data\", x.shape[0]):\n",
    "            obs = pyro.sample(\"obs\", dist.Normal(mu, 1./beta), obs=y)\n",
    "        return mu"
   ]
  },
  {
   "cell_type": "code",
   "execution_count": 14,
   "id": "c55f95bf",
   "metadata": {},
   "outputs": [],
   "source": [
    "def make_empirical_gmm(preds):\n",
    "    mix = D.Categorical(torch.ones(preds.shape[0]))\n",
    "    comp = D.Normal(loc=preds.squeeze().permute(1, 0), scale=beta ** -0.5)\n",
    "    gmm = D.MixtureSameFamily(mix, comp)\n",
    "    return gmm"
   ]
  },
  {
   "cell_type": "code",
   "execution_count": 15,
   "id": "980b4808",
   "metadata": {},
   "outputs": [],
   "source": [
    "# create models\n",
    "model = Model_Full()\n",
    "guide = AutoDiagonalNormal(model)"
   ]
  },
  {
   "cell_type": "code",
   "execution_count": 16,
   "id": "3fcd18bc",
   "metadata": {},
   "outputs": [
    {
     "data": {
      "application/vnd.jupyter.widget-view+json": {
       "model_id": "c1a49740c84945748b42f506aebef038",
       "version_major": 2,
       "version_minor": 0
      },
      "text/plain": [
       "  0%|          | 0/5000 [00:00<?, ?it/s]"
      ]
     },
     "metadata": {},
     "output_type": "display_data"
    },
    {
     "data": {
      "text/plain": [
       "AutoDiagonalNormal()"
      ]
     },
     "execution_count": 16,
     "metadata": {},
     "output_type": "execute_result"
    }
   ],
   "source": [
    "from pyro.infer import SVI, TraceMeanField_ELBO\n",
    "\n",
    "\n",
    "optimizer = torch.optim.Adam\n",
    "scheduler = pyro.optim.ExponentialLR({'optimizer': optimizer, 'optim_args': {'lr': 5e-2}, 'gamma': 0.9})\n",
    "\n",
    "# scheduler = pyro.optim.ExponentialLR({'optimizer': adam, 'gamma': 0.1})\n",
    "svi = SVI(model, guide, scheduler, loss=TraceMeanField_ELBO())\n",
    "\n",
    "num_iterations = 5000\n",
    "pyro.clear_param_store()\n",
    "pbar = trange(num_iterations)\n",
    "losses = []\n",
    "for j in pbar:\n",
    "    # calculate the loss and take a gradient step\n",
    "    loss = svi.step(x_train, y_train)\n",
    "    losses.append(loss)\n",
    "    pbar.set_description(\"[iteration %04d] loss: %.4f\" % (j + 1, loss / len(x_train)))\n",
    "    if j % 1000 == 0:\n",
    "        scheduler.step()\n",
    "guide.requires_grad_(False)"
   ]
  },
  {
   "cell_type": "code",
   "execution_count": 17,
   "id": "102f4e0d",
   "metadata": {},
   "outputs": [
    {
     "data": {
      "text/plain": [
       "[<matplotlib.lines.Line2D at 0x7f6d206f02e0>]"
      ]
     },
     "execution_count": 17,
     "metadata": {},
     "output_type": "execute_result"
    },
    {
     "data": {
      "image/png": "[encoded data removed]",
      "text/plain": [
       "<Figure size 432x288 with 1 Axes>"
      ]
     },
     "metadata": {
      "needs_background": "light"
     },
     "output_type": "display_data"
    }
   ],
   "source": [
    "plt.plot(losses)"
   ]
  },
  {
   "cell_type": "code",
   "execution_count": 18,
   "id": "77ad4f2e",
   "metadata": {},
   "outputs": [],
   "source": [
    "params = []\n",
    "for name, value in pyro.get_param_store().items():\n",
    "    params.append(pyro.param(name))"
   ]
  },
  {
   "cell_type": "code",
   "execution_count": 19,
   "id": "9ec9ad1a",
   "metadata": {},
   "outputs": [],
   "source": [
    "mean, stds = params"
   ]
  },
  {
   "cell_type": "code",
   "execution_count": 20,
   "id": "c3557d0d",
   "metadata": {},
   "outputs": [
    {
     "name": "stderr",
     "output_type": "stream",
     "text": [
      "/scratch/km817/miniconda3/envs/Torch/lib/python3.8/site-packages/pyro/distributions/torch_patch.py:81: UserWarning: torch.symeig is deprecated in favor of torch.linalg.eigh and will be removed in a future PyTorch release.\n",
      "The default behavior has changed from using the upper triangular portion of the matrix by default to using the lower triangular portion.\n",
      "L, _ = torch.symeig(A, upper=upper)\n",
      "should be replaced with\n",
      "L = torch.linalg.eigvalsh(A, UPLO='U' if upper else 'L')\n",
      "and\n",
      "L, V = torch.symeig(A, eigenvectors=True)\n",
      "should be replaced with\n",
      "L, V = torch.linalg.eigh(A, UPLO='U' if upper else 'L') (Triggered internally at  /opt/conda/conda-bld/pytorch_1623448278899/work/aten/src/ATen/native/BatchLinearAlgebra.cpp:2500.)\n",
      "  return torch.stack([v.symeig(eigenvectors=False)[0][:1] > 0.0\n"
     ]
    }
   ],
   "source": [
    "model_loss = 'regression'\n",
    "\n",
    "# Effect of tau\n",
    "tau = alpha # Prior Precision\n",
    "tau_out = beta # Output Precision\n",
    "\n",
    "tau_list = []\n",
    "for w in net.parameters():\n",
    "    tau_list.append(tau) # set the prior precision to be the same for each set of weights\n",
    "tau_list = torch.tensor(tau_list).to(device)\n",
    "\n",
    "variational_posterior = D.MultivariateNormal(loc=mean, covariance_matrix=torch.diag(stds ** 2))\n",
    "\n",
    "variational_samples = variational_posterior.sample((1000,))"
   ]
  },
  {
   "cell_type": "code",
   "execution_count": 21,
   "id": "49e1118b",
   "metadata": {},
   "outputs": [
    {
     "data": {
      "text/plain": [
       "tensor(117.6717)"
      ]
     },
     "execution_count": 21,
     "metadata": {},
     "output_type": "execute_result"
    }
   ],
   "source": [
    "prior = D.MultivariateNormal(loc=torch.zeros_like(variational_posterior.mean), covariance_matrix = 1./alpha * torch.eye(variational_posterior.mean.shape[-1]))\n",
    "D.kl_divergence(variational_posterior, prior)"
   ]
  },
  {
   "cell_type": "code",
   "execution_count": 22,
   "id": "e34c0d05",
   "metadata": {},
   "outputs": [],
   "source": [
    "from pyro.infer import Predictive\n",
    "predictive = Predictive(model, guide=guide, num_samples=1000,\n",
    "                        return_sites=((\"obs\",)))"
   ]
  },
  {
   "cell_type": "code",
   "execution_count": 23,
   "id": "9f349891",
   "metadata": {},
   "outputs": [
    {
     "data": {
      "text/plain": [
       "tensor(-752.5527)"
      ]
     },
     "execution_count": 23,
     "metadata": {},
     "output_type": "execute_result"
    }
   ],
   "source": [
    "emp_bnn = make_empirical_gmm(predictive(x_val)['obs'])\n",
    "\n",
    "emp_bnn.log_prob(y_val).sum()"
   ]
  },
  {
   "cell_type": "code",
   "execution_count": 24,
   "id": "55bb11d3",
   "metadata": {},
   "outputs": [
    {
     "data": {
      "text/plain": [
       "tensor(3.3266)"
      ]
     },
     "execution_count": 24,
     "metadata": {},
     "output_type": "execute_result"
    }
   ],
   "source": [
    "((predictive(x_val)['obs'].mean(0) - y_val) ** 2).sqrt().mean()"
   ]
  },
  {
   "cell_type": "code",
   "execution_count": 25,
   "id": "812631e7",
   "metadata": {},
   "outputs": [],
   "source": [
    "l1_mu, l1_std = mean[:num_nodes * (13+1)], stds[:num_nodes * (13+1)]"
   ]
  },
  {
   "cell_type": "code",
   "execution_count": 26,
   "id": "689c3bd3",
   "metadata": {},
   "outputs": [],
   "source": [
    "l1_post = D.MultivariateNormal(loc=l1_mu, covariance_matrix=torch.diag(l1_std ** 2))"
   ]
  },
  {
   "cell_type": "code",
   "execution_count": 27,
   "id": "2678ffad",
   "metadata": {},
   "outputs": [],
   "source": [
    "l1_sample = l1_post.sample()\n",
    "l1_w_sample = l1_sample[:num_nodes * 13]\n",
    "l1_b_sample = l1_sample[num_nodes * 13: num_nodes * (13+1)]"
   ]
  },
  {
   "cell_type": "code",
   "execution_count": 28,
   "id": "dca7f0ac",
   "metadata": {},
   "outputs": [
    {
     "data": {
      "text/plain": [
       "(torch.Size([130]), torch.Size([130]))"
      ]
     },
     "execution_count": 28,
     "metadata": {},
     "output_type": "execute_result"
    }
   ],
   "source": [
    "model.fc1.weight.flatten().shape, l1_w_sample.shape"
   ]
  },
  {
   "cell_type": "code",
   "execution_count": 29,
   "id": "9772afbd",
   "metadata": {},
   "outputs": [
    {
     "data": {
      "text/plain": [
       "(torch.Size([10]), torch.Size([10]))"
      ]
     },
     "execution_count": 29,
     "metadata": {},
     "output_type": "execute_result"
    }
   ],
   "source": [
    "model.fc1.bias.flatten().shape, l1_b_sample.shape"
   ]
  },
  {
   "cell_type": "code",
   "execution_count": 30,
   "id": "8c2b932b",
   "metadata": {},
   "outputs": [],
   "source": [
    "conditioned_model_l1 = Model_Fixed_L1(l1_w_sample, l1_b_sample)"
   ]
  },
  {
   "cell_type": "code",
   "execution_count": 31,
   "id": "cf61b3e1",
   "metadata": {},
   "outputs": [],
   "source": [
    "l1_guide = AutoDiagonalNormal(conditioned_model_l1)"
   ]
  },
  {
   "cell_type": "code",
   "execution_count": 32,
   "id": "cb532844",
   "metadata": {},
   "outputs": [
    {
     "data": {
      "application/vnd.jupyter.widget-view+json": {
       "model_id": "c9f9a870022e432693fe50f524b0e6b9",
       "version_major": 2,
       "version_minor": 0
      },
      "text/plain": [
       "  0%|          | 0/5000 [00:00<?, ?it/s]"
      ]
     },
     "metadata": {},
     "output_type": "display_data"
    },
    {
     "data": {
      "text/plain": [
       "AutoDiagonalNormal()"
      ]
     },
     "execution_count": 32,
     "metadata": {},
     "output_type": "execute_result"
    }
   ],
   "source": [
    "optimizer = torch.optim.Adam\n",
    "scheduler = pyro.optim.ExponentialLR({'optimizer': optimizer, 'optim_args': {'lr': 5e-2}, 'gamma': 0.9})\n",
    "\n",
    "\n",
    "svi = SVI(conditioned_model_l1, l1_guide, scheduler, loss=TraceMeanField_ELBO())\n",
    "num_iterations = 5000\n",
    "pyro.clear_param_store()\n",
    "pbar = trange(num_iterations)\n",
    "losses = []\n",
    "for j in pbar:\n",
    "    # calculate the loss and take a gradient step\n",
    "    loss = svi.step(x_train, y_train)\n",
    "    losses.append(loss)\n",
    "    pbar.set_description(\"[iteration %04d] loss: %.4f\" % (j + 1, loss / len(x_train)))\n",
    "    if j % 1000 == 0:\n",
    "        scheduler.step()\n",
    "guide.requires_grad_(False)"
   ]
  },
  {
   "cell_type": "code",
   "execution_count": 33,
   "id": "5e516efb",
   "metadata": {},
   "outputs": [
    {
     "data": {
      "text/plain": [
       "[<matplotlib.lines.Line2D at 0x7f6d233d75e0>]"
      ]
     },
     "execution_count": 33,
     "metadata": {},
     "output_type": "execute_result"
    },
    {
     "data": {
      "image/png": "[encoded data removed]",
      "text/plain": [
       "<Figure size 432x288 with 1 Axes>"
      ]
     },
     "metadata": {
      "needs_background": "light"
     },
     "output_type": "display_data"
    }
   ],
   "source": [
    "plt.plot(losses)"
   ]
  },
  {
   "cell_type": "code",
   "execution_count": 34,
   "id": "8b8ea8e4",
   "metadata": {},
   "outputs": [],
   "source": [
    "predictive = Predictive(conditioned_model_l1, guide=l1_guide, num_samples=1000,\n",
    "                        return_sites=((\"obs\",)))"
   ]
  },
  {
   "cell_type": "code",
   "execution_count": 35,
   "id": "56898c48",
   "metadata": {},
   "outputs": [
    {
     "data": {
      "text/plain": [
       "tensor(-730.6937)"
      ]
     },
     "execution_count": 35,
     "metadata": {},
     "output_type": "execute_result"
    }
   ],
   "source": [
    "emp_bnn = make_empirical_gmm(predictive(x_val)['obs'])\n",
    "\n",
    "emp_bnn.log_prob(y_val).sum()"
   ]
  },
  {
   "cell_type": "code",
   "execution_count": 36,
   "id": "9f223b99",
   "metadata": {},
   "outputs": [
    {
     "data": {
      "text/plain": [
       "tensor(3.0254)"
      ]
     },
     "execution_count": 36,
     "metadata": {},
     "output_type": "execute_result"
    }
   ],
   "source": [
    "((predictive(x_val)['obs'].mean(0) - y_val) ** 2).sqrt().mean()"
   ]
  },
  {
   "cell_type": "code",
   "execution_count": 37,
   "id": "a1230146",
   "metadata": {},
   "outputs": [],
   "source": [
    "params = []\n",
    "for name, value in pyro.get_param_store().items():\n",
    "    params.append(pyro.param(name))"
   ]
  },
  {
   "cell_type": "code",
   "execution_count": 38,
   "id": "1c5f5f41",
   "metadata": {},
   "outputs": [],
   "source": [
    "mean, stds = params"
   ]
  },
  {
   "cell_type": "code",
   "execution_count": 39,
   "id": "ac4d7adc",
   "metadata": {},
   "outputs": [
    {
     "data": {
      "text/plain": [
       "(torch.Size([100]), torch.Size([100]))"
      ]
     },
     "execution_count": 39,
     "metadata": {},
     "output_type": "execute_result"
    }
   ],
   "source": [
    "model.fc2.weight.flatten().shape, mean[:num_nodes * num_nodes].shape"
   ]
  },
  {
   "cell_type": "code",
   "execution_count": 40,
   "id": "aec57b04",
   "metadata": {},
   "outputs": [],
   "source": [
    "l2_mu, l2_std = mean[:num_nodes * (num_nodes+1)], stds[:num_nodes * (num_nodes+1)]"
   ]
  },
  {
   "cell_type": "code",
   "execution_count": 41,
   "id": "1c13dd79",
   "metadata": {},
   "outputs": [],
   "source": [
    "l2_post = D.MultivariateNormal(loc=l2_mu, covariance_matrix=torch.diag(l2_std ** 2))"
   ]
  },
  {
   "cell_type": "code",
   "execution_count": 42,
   "id": "3e3f76de",
   "metadata": {},
   "outputs": [],
   "source": [
    "l2_sample = l2_post.sample()\n",
    "l2_w_sample = l2_sample[:num_nodes * (num_nodes+0)]\n",
    "l2_b_sample = l2_sample[num_nodes * (num_nodes+0): num_nodes * (num_nodes+1)]"
   ]
  },
  {
   "cell_type": "code",
   "execution_count": 43,
   "id": "9d2ce888",
   "metadata": {},
   "outputs": [
    {
     "data": {
      "text/plain": [
       "(torch.Size([100]), torch.Size([100]))"
      ]
     },
     "execution_count": 43,
     "metadata": {},
     "output_type": "execute_result"
    }
   ],
   "source": [
    "model.fc2.weight.flatten().shape, l2_w_sample.shape"
   ]
  },
  {
   "cell_type": "code",
   "execution_count": 44,
   "id": "2e6521de",
   "metadata": {},
   "outputs": [
    {
     "data": {
      "text/plain": [
       "(torch.Size([10]), torch.Size([10]))"
      ]
     },
     "execution_count": 44,
     "metadata": {},
     "output_type": "execute_result"
    }
   ],
   "source": [
    "model.fc2.bias.flatten().shape, l2_b_sample.shape"
   ]
  },
  {
   "cell_type": "code",
   "execution_count": 45,
   "id": "0db1f8b7",
   "metadata": {},
   "outputs": [],
   "source": [
    "conditioned_model_l2 = Model_Fixed_L2(l1_w_sample, l1_b_sample, l2_w_sample, l2_b_sample)"
   ]
  },
  {
   "cell_type": "code",
   "execution_count": 46,
   "id": "54dfc6ae",
   "metadata": {},
   "outputs": [],
   "source": [
    "l2_guide = AutoDiagonalNormal(conditioned_model_l2)"
   ]
  },
  {
   "cell_type": "code",
   "execution_count": 47,
   "id": "4fa0ee13",
   "metadata": {},
   "outputs": [
    {
     "data": {
      "application/vnd.jupyter.widget-view+json": {
       "model_id": "09686b52111d4ae189414ddd92e02727",
       "version_major": 2,
       "version_minor": 0
      },
      "text/plain": [
       "  0%|          | 0/5000 [00:00<?, ?it/s]"
      ]
     },
     "metadata": {},
     "output_type": "display_data"
    },
    {
     "data": {
      "text/plain": [
       "AutoDiagonalNormal()"
      ]
     },
     "execution_count": 47,
     "metadata": {},
     "output_type": "execute_result"
    }
   ],
   "source": [
    "optimizer = torch.optim.Adam\n",
    "scheduler = pyro.optim.ExponentialLR({'optimizer': optimizer, 'optim_args': {'lr': 5e-2}, 'gamma': 0.9})\n",
    "\n",
    "\n",
    "svi = SVI(conditioned_model_l2, l2_guide, scheduler, loss=TraceMeanField_ELBO())\n",
    "num_iterations = 5000\n",
    "pyro.clear_param_store()\n",
    "pbar = trange(num_iterations)\n",
    "losses = []\n",
    "for j in pbar:\n",
    "    # calculate the loss and take a gradient step\n",
    "    loss = svi.step(x_train, y_train)\n",
    "    losses.append(loss)\n",
    "    pbar.set_description(\"[iteration %04d] loss: %.4f\" % (j + 1, loss / len(x_train)))\n",
    "    if j % 1000 == 0:\n",
    "        scheduler.step()\n",
    "guide.requires_grad_(False)"
   ]
  },
  {
   "cell_type": "code",
   "execution_count": 48,
   "id": "296676d8",
   "metadata": {},
   "outputs": [
    {
     "data": {
      "text/plain": [
       "[<matplotlib.lines.Line2D at 0x7f6d2012ea00>]"
      ]
     },
     "execution_count": 48,
     "metadata": {},
     "output_type": "execute_result"
    },
    {
     "data": {
      "image/png": "[encoded data removed]",
      "text/plain": [
       "<Figure size 432x288 with 1 Axes>"
      ]
     },
     "metadata": {
      "needs_background": "light"
     },
     "output_type": "display_data"
    }
   ],
   "source": [
    "plt.plot(losses)"
   ]
  },
  {
   "cell_type": "code",
   "execution_count": 49,
   "id": "08c92920",
   "metadata": {},
   "outputs": [],
   "source": [
    "predictive = Predictive(conditioned_model_l2, guide=l2_guide, num_samples=1000,\n",
    "                        return_sites=((\"obs\",)))"
   ]
  },
  {
   "cell_type": "code",
   "execution_count": 50,
   "id": "14b6da51",
   "metadata": {},
   "outputs": [
    {
     "data": {
      "text/plain": [
       "tensor(-720.7634)"
      ]
     },
     "execution_count": 50,
     "metadata": {},
     "output_type": "execute_result"
    }
   ],
   "source": [
    "emp_bnn = make_empirical_gmm(predictive(x_val)['obs'])\n",
    "\n",
    "emp_bnn.log_prob(y_val).sum()"
   ]
  },
  {
   "cell_type": "code",
   "execution_count": 51,
   "id": "9b356404",
   "metadata": {},
   "outputs": [
    {
     "data": {
      "text/plain": [
       "tensor(2.7740)"
      ]
     },
     "execution_count": 51,
     "metadata": {},
     "output_type": "execute_result"
    }
   ],
   "source": [
    "((predictive(x_val)['obs'].mean(0) - y_val) ** 2).sqrt().mean()"
   ]
  },
  {
   "cell_type": "code",
   "execution_count": 52,
   "id": "9cb9010b",
   "metadata": {},
   "outputs": [],
   "source": [
    "params = []\n",
    "for name, value in pyro.get_param_store().items():\n",
    "    params.append(pyro.param(name))"
   ]
  },
  {
   "cell_type": "code",
   "execution_count": 53,
   "id": "03a7c7d9",
   "metadata": {},
   "outputs": [],
   "source": [
    "mean, stds = params"
   ]
  },
  {
   "cell_type": "code",
   "execution_count": 54,
   "id": "c2a29897",
   "metadata": {},
   "outputs": [
    {
     "data": {
      "text/plain": [
       "(torch.Size([10]), torch.Size([10]))"
      ]
     },
     "execution_count": 54,
     "metadata": {},
     "output_type": "execute_result"
    }
   ],
   "source": [
    "model.fc3.weight.flatten().shape, mean[:num_nodes * (1)].shape"
   ]
  },
  {
   "cell_type": "code",
   "execution_count": 55,
   "id": "3320107e",
   "metadata": {},
   "outputs": [],
   "source": [
    "l3_mu, l3_std = mean[:num_nodes * (1+1)], stds[:num_nodes * (1+1)]"
   ]
  },
  {
   "cell_type": "code",
   "execution_count": 56,
   "id": "adbbc25b",
   "metadata": {},
   "outputs": [],
   "source": [
    "l3_post = D.MultivariateNormal(loc=l3_mu, covariance_matrix=torch.diag(l3_std ** 2))"
   ]
  },
  {
   "cell_type": "code",
   "execution_count": 57,
   "id": "bcc9815e",
   "metadata": {},
   "outputs": [],
   "source": [
    "l3_sample = l3_post.sample()\n",
    "l3_w_sample = l3_sample[:num_nodes * 1]\n",
    "l3_b_sample = l3_sample[num_nodes * 1: (num_nodes+1)* 1]"
   ]
  },
  {
   "cell_type": "code",
   "execution_count": 58,
   "id": "cd3d099a",
   "metadata": {},
   "outputs": [
    {
     "data": {
      "text/plain": [
       "(torch.Size([10]), torch.Size([10]))"
      ]
     },
     "execution_count": 58,
     "metadata": {},
     "output_type": "execute_result"
    }
   ],
   "source": [
    "model.fc3.weight.flatten().shape, l3_w_sample.shape"
   ]
  },
  {
   "cell_type": "code",
   "execution_count": 59,
   "id": "4f6ff690",
   "metadata": {},
   "outputs": [
    {
     "data": {
      "text/plain": [
       "(torch.Size([1]), torch.Size([1]))"
      ]
     },
     "execution_count": 59,
     "metadata": {},
     "output_type": "execute_result"
    }
   ],
   "source": [
    "model.fc3.bias.flatten().shape, l3_b_sample.shape"
   ]
  },
  {
   "cell_type": "code",
   "execution_count": 60,
   "id": "29375b47",
   "metadata": {},
   "outputs": [
    {
     "data": {
      "text/plain": [
       "tensor([1.6837])"
      ]
     },
     "execution_count": 60,
     "metadata": {},
     "output_type": "execute_result"
    }
   ],
   "source": [
    "l3_sample[num_nodes * (1+0): num_nodes * (1+1)]"
   ]
  },
  {
   "cell_type": "code",
   "execution_count": 61,
   "id": "0ceb75a2",
   "metadata": {},
   "outputs": [],
   "source": [
    "net = Net(num_nodes)\n",
    "net.load_sampled_weights(l1_w_sample, l1_b_sample, l2_w_sample, l2_b_sample, l3_w_sample, l3_b_sample)"
   ]
  },
  {
   "cell_type": "code",
   "execution_count": 62,
   "id": "5fb2f806",
   "metadata": {},
   "outputs": [
    {
     "data": {
      "text/plain": [
       "tensor(2.8384, grad_fn=<MeanBackward0>)"
      ]
     },
     "execution_count": 62,
     "metadata": {},
     "output_type": "execute_result"
    }
   ],
   "source": [
    "((net(x_val).flatten() - y_val)**2).sqrt().mean()"
   ]
  }
 ],
 "metadata": {
  "kernelspec": {
   "display_name": "Python 3",
   "language": "python",
   "name": "python3"
  },
  "language_info": {
   "codemirror_mode": {
    "name": "ipython",
    "version": 3
   },
   "file_extension": ".py",
   "mimetype": "text/x-python",
   "name": "python",
   "nbconvert_exporter": "python",
   "pygments_lexer": "ipython3",
   "version": "3.8.10"
  }
 },
 "nbformat": 4,
 "nbformat_minor": 5
}
