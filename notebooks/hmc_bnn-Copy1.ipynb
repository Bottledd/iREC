{
 "cells": [
  {
   "cell_type": "code",
   "execution_count": 1,
   "id": "25fda7c0",
   "metadata": {},
   "outputs": [],
   "source": [
    "%load_ext autoreload"
   ]
  },
  {
   "cell_type": "code",
   "execution_count": 2,
   "id": "31cf83ba",
   "metadata": {},
   "outputs": [],
   "source": [
    "%autoreload 2"
   ]
  },
  {
   "cell_type": "code",
   "execution_count": 3,
   "id": "037cc729",
   "metadata": {},
   "outputs": [
    {
     "name": "stdout",
     "output_type": "stream",
     "text": [
      "/scratch/km817/iREC\n"
     ]
    }
   ],
   "source": [
    "%cd .."
   ]
  },
  {
   "cell_type": "code",
   "execution_count": 4,
   "id": "b1984273",
   "metadata": {},
   "outputs": [],
   "source": [
    "import torch\n",
    "import hamiltorch\n",
    "import matplotlib.pyplot as plt\n",
    "\n",
    "import torch.nn as nn\n",
    "import torch.nn.functional as F"
   ]
  },
  {
   "cell_type": "code",
   "execution_count": 5,
   "id": "31634b13",
   "metadata": {},
   "outputs": [],
   "source": [
    "%matplotlib inline"
   ]
  },
  {
   "cell_type": "code",
   "execution_count": 6,
   "id": "7307c478",
   "metadata": {},
   "outputs": [],
   "source": [
    "hamiltorch.set_random_seed(0)\n",
    "device = torch.device('cuda' if torch.cuda.is_available() else 'cpu')"
   ]
  },
  {
   "cell_type": "code",
   "execution_count": 7,
   "id": "370e89d7",
   "metadata": {},
   "outputs": [
    {
     "data": {
      "text/plain": [
       "'0.4.0.dev1'"
      ]
     },
     "execution_count": 7,
     "metadata": {},
     "output_type": "execute_result"
    }
   ],
   "source": [
    "hamiltorch.__version__"
   ]
  },
  {
   "cell_type": "code",
   "execution_count": 8,
   "id": "95942b53",
   "metadata": {},
   "outputs": [],
   "source": [
    "from models.BNNs.DeterministicNN import Deterministic_NN"
   ]
  },
  {
   "cell_type": "code",
   "execution_count": 9,
   "id": "40cf5ea4",
   "metadata": {},
   "outputs": [],
   "source": [
    "fs=16\n",
    "# create toy dataset\n",
    "torch.set_default_tensor_type(torch.DoubleTensor)\n",
    "torch.manual_seed(20)\n",
    "x = torch.cat([torch.Tensor(75).uniform_(-5, -2).sort()[0].reshape(-1, 1),\n",
    "               torch.Tensor(50).uniform_(2, 5).sort()[0].reshape(-1, 1)])\n",
    "i = 30\n",
    "x_data = torch.cat([x[0:i - 15], x[i + 14:]])\n",
    "\n",
    "# generate some data\n",
    "alpha, beta, num_nodes = 1., 100., 2\n",
    "\n",
    "# generate some data\n",
    "data_generator_model = Deterministic_NN(alpha=alpha, beta=beta, num_nodes=num_nodes)\n",
    "sampled_weights = data_generator_model.sample_weights_from_prior()\n",
    "data_generator_model.make_weights_from_sample(sampled_weights)\n",
    "y_data = data_generator_model(x_data).detach() + (\n",
    "            1 / data_generator_model.likelihood_beta ** 0.5) * torch.randn_like(\n",
    "    data_generator_model(x_data).detach())\n",
    "\n",
    "xs = torch.linspace(-10, 10, 100)\n",
    "ys = data_generator_model(xs).detach()"
   ]
  },
  {
   "cell_type": "code",
   "execution_count": 10,
   "id": "0708c008",
   "metadata": {},
   "outputs": [
    {
     "data": {
      "image/png": "[encoded data removed]",
      "text/plain": [
       "<Figure size 864x360 with 1 Axes>"
      ]
     },
     "metadata": {
      "needs_background": "light"
     },
     "output_type": "display_data"
    }
   ],
   "source": [
    "plt.figure(figsize=(12,5))\n",
    "plt.plot(x_data,y_data, 'k*')\n",
    "plt.plot(xs, ys, 'r')\n",
    "plt.legend(['Observed Data', 'Ground Truth'], fontsize = fs)\n",
    "plt.grid()\n",
    "plt.show()"
   ]
  },
  {
   "cell_type": "code",
   "execution_count": 11,
   "id": "0da46a8f",
   "metadata": {},
   "outputs": [],
   "source": [
    "# device = torch.device('cuda' if torch.cuda.is_available() else 'cpu')\n",
    "# if torch.cuda.is_available():\n",
    "#     print(torch.cuda.get_device_name(0))\n",
    "\n",
    "device  =torch.device('cpu')\n",
    "class Net(nn.Module):\n",
    "    def __init__(self, num_nodes: int = 10):\n",
    "        super(Net, self).__init__()\n",
    "        self.fc1 = nn.Linear(1, num_nodes)\n",
    "        self.fc2 = nn.Linear(num_nodes, num_nodes)\n",
    "        self.fc3 = nn.Linear(num_nodes, 1)\n",
    "\n",
    "    def forward(self, x):\n",
    "        x = torch.tanh(self.fc1(x.view(-1, 1)))\n",
    "        x = torch.tanh(self.fc2(x))\n",
    "        x = self.fc3(x)\n",
    "        return x\n",
    "\n",
    "\n",
    "net = Net(num_nodes=num_nodes)"
   ]
  },
  {
   "cell_type": "code",
   "execution_count": 12,
   "id": "e062db91",
   "metadata": {},
   "outputs": [],
   "source": [
    "step_size = 0.005\n",
    "num_samples = 10000\n",
    "L = 10\n",
    "burn = 3000\n",
    "store_on_GPU = False\n",
    "debug = False\n",
    "model_loss = 'regression'\n",
    "mass = 1.0\n",
    "\n",
    "# Effect of tau\n",
    "# Set to tau = 1000. to see a function that is less bendy (weights restricted to small bends)\n",
    "# Set to tau = 1. for more flexible\n",
    "\n",
    "tau = alpha # Prior Precision\n",
    "tau_out = beta # Output Precision\n",
    "r = 0 # Random seed\n",
    "\n",
    "\n",
    "tau_list = []\n",
    "for w in net.parameters():\n",
    "    tau_list.append(tau) # set the prior precision to be the same for each set of weights\n",
    "tau_list = torch.tensor(tau_list).to(device)\n",
    "\n",
    "# Set initial weights\n",
    "params_init = hamiltorch.util.flatten(net).to(device).clone()\n",
    "# Set the Inverse of the Mass matrix\n",
    "inv_mass = torch.ones(params_init.shape) / mass"
   ]
  },
  {
   "cell_type": "code",
   "execution_count": 13,
   "id": "a29e3379",
   "metadata": {},
   "outputs": [
    {
     "name": "stdout",
     "output_type": "stream",
     "text": [
      "torch.Size([13])\n",
      "Sampling (Sampler.HMC; Integrator.IMPLICIT)\n",
      "Time spent  | Time remain.| Progress             | Samples     | Samples/sec\n",
      "0d:00:02:19 | 0d:00:00:00 | #################### | 10000/10000 | 71.60       \n",
      "Acceptance Rate 0.96\n"
     ]
    }
   ],
   "source": [
    "print(params_init.shape)\n",
    "integrator = hamiltorch.Integrator.EXPLICIT\n",
    "sampler = hamiltorch.Sampler.HMC\n",
    "\n",
    "hamiltorch.set_random_seed(r)\n",
    "params_hmc_f = hamiltorch.sample_model(net, x_data.to(device), y_data.to(device), params_init=params_init,\n",
    "                                       model_loss=model_loss, num_samples=num_samples,\n",
    "                                       burn = burn, inv_mass=inv_mass.to(device),step_size=step_size,\n",
    "                                       num_steps_per_sample=L,tau_out=tau_out, tau_list=tau_list,\n",
    "                                       debug=debug, store_on_GPU=store_on_GPU,\n",
    "                                       sampler = sampler)\n",
    "\n",
    "# At the moment, params_hmc_f is on the CPU so we move to GPU\n",
    "\n",
    "params_hmc_gpu = [ll.to(device) for ll in params_hmc_f[1:]]\n",
    "\n",
    "\n",
    "# Let's predict over the entire test range [-2,2]\n",
    "pred_list, log_probs_f = hamiltorch.predict_model(net, x = xs.to(device),\n",
    "                                                  y = xs.to(device), samples=params_hmc_gpu,\n",
    "                                                  model_loss=model_loss, tau_out=tau_out,\n",
    "                                                  tau_list=tau_list)\n",
    "# Let's evaluate the performance over the training data\n",
    "pred_list_tr, log_probs_split_tr = hamiltorch.predict_model(net, x = x_data.to(device), y=y_data.to(device),\n",
    "                                                            samples=params_hmc_gpu, model_loss=model_loss,\n",
    "                                                            tau_out=tau_out, tau_list=tau_list)\n",
    "ll_full = torch.zeros(pred_list_tr.shape[0])\n",
    "ll_full[0] = - 0.5 * tau_out * ((pred_list_tr[0].cpu() - y_data) ** 2).sum(0)\n",
    "for i in range(pred_list_tr.shape[0]):\n",
    "    ll_full[i] = - 0.5 * tau_out * ((pred_list_tr[:i].mean(0).cpu() - y_data) ** 2).sum(0)"
   ]
  },
  {
   "cell_type": "code",
   "execution_count": 14,
   "id": "6c3281da",
   "metadata": {},
   "outputs": [],
   "source": [
    "ll_full = torch.zeros(pred_list_tr.shape[0])\n",
    "ll_full[0] = - 0.5 * tau_out * ((pred_list_tr[0].cpu() - y_data) ** 2).sum(0)\n",
    "for i in range(pred_list_tr.shape[0]):\n",
    "    ll_full[i] = - 0.5 * tau_out * ((pred_list_tr[:i].mean(0).cpu() - y_data) ** 2).sum(0)"
   ]
  },
  {
   "cell_type": "code",
   "execution_count": 15,
   "id": "62f36c71",
   "metadata": {},
   "outputs": [
    {
     "data": {
      "text/plain": [
       "[<matplotlib.lines.Line2D at 0x7ff6915b2670>]"
      ]
     },
     "execution_count": 15,
     "metadata": {},
     "output_type": "execute_result"
    },
    {
     "data": {
      "image/png": "[encoded data removed]",
      "text/plain": [
       "<Figure size 720x360 with 1 Axes>"
      ]
     },
     "metadata": {
      "needs_background": "light"
     },
     "output_type": "display_data"
    }
   ],
   "source": [
    "f, ax1 = plt.subplots(1,1, figsize = (10,5))\n",
    "ax1.set_title('Training Log-Likelihood')\n",
    "ax1.plot(ll_full)"
   ]
  },
  {
   "cell_type": "code",
   "execution_count": 16,
   "id": "c8e749b7",
   "metadata": {},
   "outputs": [
    {
     "data": {
      "image/png": "[encoded data removed]",
      "text/plain": [
       "<Figure size 720x432 with 1 Axes>"
      ]
     },
     "metadata": {
      "needs_background": "light"
     },
     "output_type": "display_data"
    }
   ],
   "source": [
    "fs = 16\n",
    "\n",
    "m = pred_list[2000:].mean(0).to('cpu')\n",
    "s = pred_list[2000:].std(0).to('cpu')\n",
    "s_al = (pred_list[2000:].var(0).to('cpu') + tau_out ** -1) ** 0.5\n",
    "\n",
    "f, ax = plt.subplots(1, 1, figsize=(10, 6))\n",
    "\n",
    "# Get upper and lower confidence bounds\n",
    "lower, upper = (m - s*2).flatten(), (m + s*2).flatten()\n",
    "# + aleotoric\n",
    "lower_al, upper_al = (m - s_al*2).flatten(), (m + s_al*2).flatten()\n",
    "\n",
    "# Plot training data as black stars\n",
    "ax.plot(x_data.numpy(), y_data.numpy(), 'k*', rasterized=True)\n",
    "# Plot predictive means as blue line\n",
    "ax.plot(xs.numpy(), m.numpy(), 'b', rasterized=True)\n",
    "ax.plot(xs.numpy(), ys.numpy(), 'r', rasterized=True)\n",
    "# Shade between the lower and upper confidence bounds\n",
    "ax.fill_between(xs.flatten().numpy(), lower.numpy(), upper.numpy(), alpha=0.5, rasterized=True)\n",
    "ax.fill_between(xs.flatten().numpy(), lower_al.numpy(), upper_al.numpy(), alpha=0.2, rasterized=True)\n",
    "plt.grid()\n",
    "ax.legend(['Observed Data', 'Mean', 'Ground Truth', 'Epistemic', 'Aleatoric'], fontsize = fs)\n",
    "ax.tick_params(axis='both', which='major', labelsize=14)\n",
    "ax.tick_params(axis='both', which='minor', labelsize=14)\n",
    "ax.set_title('Full HMC Posterior', fontsize=fs)\n",
    "\n",
    "plt.tight_layout()\n",
    "# plt.savefig('plots/full_hmc.pdf', rasterized=True)\n",
    "    \n",
    "plt.show()\n"
   ]
  },
  {
   "cell_type": "markdown",
   "id": "02f12931",
   "metadata": {},
   "source": [
    "# Draw subset of samples"
   ]
  },
  {
   "cell_type": "code",
   "execution_count": 20,
   "id": "375cbb64",
   "metadata": {},
   "outputs": [
    {
     "data": {
      "image/png": "[encoded data removed]",
      "text/plain": [
       "<Figure size 720x432 with 1 Axes>"
      ]
     },
     "metadata": {
      "needs_background": "light"
     },
     "output_type": "display_data"
    }
   ],
   "source": [
    "import random\n",
    "\n",
    "subset = random.sample(params_hmc_gpu[2000:], 2500)\n",
    "# Let's predict over the entire test range [-2,2]\n",
    "pred_list, log_probs_f = hamiltorch.predict_model(net, x = xs.to(device),\n",
    "                                                  y = xs.to(device), samples=subset,\n",
    "                                                  model_loss=model_loss, tau_out=tau_out,\n",
    "                                                  tau_list=tau_list)\n",
    "\n",
    "# plot the fit\n",
    "fs = 16\n",
    "\n",
    "m = pred_list.mean(0).to('cpu')\n",
    "s = pred_list.std(0).to('cpu')\n",
    "s_al = (pred_list.var(0).to('cpu') + tau_out ** -1) ** 0.5\n",
    "\n",
    "f, ax = plt.subplots(1, 1, figsize=(10, 6))\n",
    "\n",
    "# Get upper and lower confidence bounds\n",
    "lower, upper = (m - s*2).flatten(), (m + s*2).flatten()\n",
    "# + aleotoric\n",
    "lower_al, upper_al = (m - s_al*2).flatten(), (m + s_al*2).flatten()\n",
    "\n",
    "# Plot training data as black stars\n",
    "ax.plot(x_data.numpy(), y_data.numpy(), 'k*', rasterized=True)\n",
    "# Plot predictive means as blue line\n",
    "ax.plot(xs.numpy(), m.numpy(), 'b', rasterized=True)\n",
    "ax.plot(xs.numpy(), ys.numpy(), 'r', rasterized=True)\n",
    "# Shade between the lower and upper confidence bounds\n",
    "ax.fill_between(xs.flatten().numpy(), lower.numpy(), upper.numpy(), alpha=0.5, rasterized=True)\n",
    "ax.fill_between(xs.flatten().numpy(), lower_al.numpy(), upper_al.numpy(), alpha=0.2, rasterized=True)\n",
    "plt.grid()\n",
    "ax.legend(['Observed Data', 'Mean', 'Ground Truth', 'Epistemic', 'Aleatoric'], fontsize = fs)\n",
    "ax.tick_params(axis='both', which='major', labelsize=14)\n",
    "ax.tick_params(axis='both', which='minor', labelsize=14)\n",
    "\n",
    "\n",
    "plt.tight_layout()\n",
    "# plt.savefig('plots/full_hmc.pdf', rasterized=True)\n",
    "    \n",
    "plt.show()"
   ]
  },
  {
   "cell_type": "code",
   "execution_count": 21,
   "id": "7569bb5f",
   "metadata": {},
   "outputs": [],
   "source": [
    "#lets compress some samples\n",
    "#### sample weights with compression algorithm\n",
    "from tqdm.notebook import trange\n",
    "from rec.beamsearch.Coders.Encoder_Empirical import Encoder\n",
    "from rec.beamsearch.distributions.CodingSampler import CodingSampler\n",
    "from rec.beamsearch.distributions.EmpiricalMixturePosterior import EmpiricalMixturePosterior\n",
    "from rec.beamsearch.samplers.GreedySampling_BNNs import GreedySampler\n",
    "from models.BNNs.BNN_for_HMC import BNN_for_HMC\n",
    "import pyro.distributions as dist"
   ]
  },
  {
   "cell_type": "code",
   "execution_count": 22,
   "id": "b3c68221",
   "metadata": {},
   "outputs": [],
   "source": [
    "dummy_model = BNN_for_HMC(alpha=alpha, beta=beta, num_nodes=num_nodes)"
   ]
  },
  {
   "cell_type": "code",
   "execution_count": 23,
   "id": "6231cc65",
   "metadata": {},
   "outputs": [],
   "source": [
    "emp_samples = torch.empty([0])\n",
    "for s in subset:\n",
    "    emp_samples = torch.cat([emp_samples, s[None]])"
   ]
  },
  {
   "cell_type": "code",
   "execution_count": 24,
   "id": "22beb1b4",
   "metadata": {},
   "outputs": [],
   "source": [
    "emp_dist = dist.Empirical(emp_samples, log_weights=torch.ones(emp_samples.shape[0]))"
   ]
  },
  {
   "cell_type": "code",
   "execution_count": 25,
   "id": "1194a024",
   "metadata": {},
   "outputs": [
    {
     "name": "stderr",
     "output_type": "stream",
     "text": [
      "/scratch/km817/miniconda3/envs/Torch/lib/python3.8/site-packages/pyro/distributions/torch_patch.py:81: UserWarning: torch.symeig is deprecated in favor of torch.linalg.eigh and will be removed in a future PyTorch release.\n",
      "The default behavior has changed from using the upper triangular portion of the matrix by default to using the lower triangular portion.\n",
      "L, _ = torch.symeig(A, upper=upper)\n",
      "should be replaced with\n",
      "L = torch.linalg.eigvalsh(A, UPLO='U' if upper else 'L')\n",
      "and\n",
      "L, V = torch.symeig(A, eigenvectors=True)\n",
      "should be replaced with\n",
      "L, V = torch.linalg.eigh(A, UPLO='U' if upper else 'L') (Triggered internally at  /opt/conda/conda-bld/pytorch_1623448278899/work/aten/src/ATen/native/BatchLinearAlgebra.cpp:2500.)\n",
      "  return torch.stack([v.symeig(eigenvectors=False)[0][:1] > 0.0\n",
      "The mean loss is 7.70913. The mean KL is: 6.39233: 100%|██████████| 10000/10000 [02:18<00:00, 72.08it/s]\n"
     ]
    }
   ],
   "source": [
    "from rec.OptimisingVars.FinalJointOptimiser import FinalJointOptimiser\n",
    "coding_sampler = CodingSampler\n",
    "auxiliary_posterior = EmpiricalMixturePosterior\n",
    "selection_sampler = GreedySampler\n",
    "omega = 5\n",
    "kl_q_p = 20\n",
    "initial_seed = 0\n",
    "beamwidth = 5\n",
    "epsilon = 0.2\n",
    "dummy_encoder = Encoder(dummy_model,\n",
    "                     x_data,\n",
    "                     y_data,\n",
    "                     emp_samples,\n",
    "                     initial_seed,\n",
    "                     coding_sampler,\n",
    "                     selection_sampler,\n",
    "                     auxiliary_posterior,\n",
    "                     omega,\n",
    "                     beamwidth,\n",
    "                     epsilon=epsilon,\n",
    "                     prior_var=1./alpha,\n",
    "                     total_kl=kl_q_p)\n",
    "\n",
    "z_sample = emp_dist.mean\n",
    "omega = 5\n",
    "n_trajectories = 64\n",
    "n_auxiliaries = dummy_encoder.n_auxiliary\n",
    "prior_var = 1./alpha\n",
    "emp_opt = FinalJointOptimiser(z_sample, omega, n_auxiliaries, kl_q_p, n_trajectories, prior_var)\n",
    "aux_vars = emp_opt.run_optimiser(epochs=10000)"
   ]
  },
  {
   "cell_type": "code",
   "execution_count": null,
   "id": "0d7c6b66",
   "metadata": {},
   "outputs": [
    {
     "data": {
      "application/vnd.jupyter.widget-view+json": {
       "model_id": "e05b790ad5114a8eba1f5b88fce76822",
       "version_major": 2,
       "version_minor": 0
      },
      "text/plain": [
       "  0%|          | 0/250 [00:00<?, ?it/s]"
      ]
     },
     "metadata": {},
     "output_type": "display_data"
    },
    {
     "name": "stderr",
     "output_type": "stream",
     "text": [
      "/scratch/km817/miniconda3/envs/Torch/lib/python3.8/site-packages/torch/_tensor.py:575: UserWarning: floor_divide is deprecated, and will be removed in a future version of pytorch. It currently rounds toward 0 (like the 'trunc' function NOT 'floor'). This results in incorrect rounding for negative values.\n",
      "To keep the current behavior, use torch.div(a, b, rounding_mode='trunc'), or for actual floor division, use torch.div(a, b, rounding_mode='floor'). (Triggered internally at  /opt/conda/conda-bld/pytorch_1623448278899/work/aten/src/ATen/native/BinaryOps.cpp:467.)\n",
      "  return torch.floor_divide(self, other)\n"
     ]
    }
   ],
   "source": [
    "coding_sampler = CodingSampler\n",
    "auxiliary_posterior = EmpiricalMixturePosterior\n",
    "selection_sampler = GreedySampler\n",
    "omega = 5\n",
    "\n",
    "initial_seed = 0\n",
    "beamwidth = 20\n",
    "epsilon = 0.3\n",
    "num_compressed_samples = 250\n",
    "compressed_weights = []\n",
    "\n",
    "for i in trange(num_compressed_samples):\n",
    "    initial_seed = initial_seed + i * 10\n",
    "    encoder = Encoder(dummy_model,\n",
    "                     x_data,\n",
    "                     y_data,\n",
    "                     emp_samples,\n",
    "                     initial_seed,\n",
    "                     coding_sampler,\n",
    "                     selection_sampler,\n",
    "                     auxiliary_posterior,\n",
    "                     omega,\n",
    "                     beamwidth,\n",
    "                     epsilon=epsilon,\n",
    "                     prior_var=1./alpha,\n",
    "                     total_kl=kl_q_p)\n",
    "    \n",
    "    encoder.auxiliary_posterior.coding_sampler.auxiliary_vars = aux_vars\n",
    "    \n",
    "    w, idx = encoder.run_encoder()\n",
    "\n",
    "    compressed_weights.append(w[0])"
   ]
  },
  {
   "cell_type": "code",
   "execution_count": null,
   "id": "9119d9b5",
   "metadata": {},
   "outputs": [],
   "source": [
    "encoder.n_samples_from_target"
   ]
  },
  {
   "cell_type": "code",
   "execution_count": null,
   "id": "a095e07d",
   "metadata": {},
   "outputs": [],
   "source": [
    "pred_list, log_probs_f = hamiltorch.predict_model(net, x = xs.to(device),\n",
    "                                                  y = xs.to(device), samples=compressed_weights,\n",
    "                                                  model_loss=model_loss, tau_out=tau_out,\n",
    "                                                  tau_list=tau_list)\n",
    "\n",
    "# plot the fit\n",
    "fs = 16\n",
    "\n",
    "m = pred_list.mean(0).to('cpu')\n",
    "s = pred_list.std(0).to('cpu')\n",
    "s_al = (pred_list.var(0).to('cpu') + tau_out ** -1) ** 0.5\n",
    "\n",
    "f, ax = plt.subplots(1, 1, figsize=(10, 6))\n",
    "\n",
    "# Get upper and lower confidence bounds\n",
    "lower, upper = (m - s*2).flatten(), (m + s*2).flatten()\n",
    "# + aleotoric\n",
    "lower_al, upper_al = (m - s_al*2).flatten(), (m + s_al*2).flatten()\n",
    "\n",
    "# Plot training data as black stars\n",
    "ax.plot(x_data.numpy(), y_data.numpy(), 'k*', rasterized=True)\n",
    "# Plot predictive means as blue line\n",
    "ax.plot(xs.numpy(), m.numpy(), 'b', rasterized=True)\n",
    "ax.plot(xs.numpy(), ys.numpy(), 'r', rasterized=True)# Shade between the lower and upper confidence bounds\n",
    "ax.fill_between(xs.flatten().numpy(), lower.numpy(), upper.numpy(), alpha=0.5, rasterized=True)\n",
    "ax.fill_between(xs.flatten().numpy(), lower_al.numpy(), upper_al.numpy(), alpha=0.2, rasterized=True)\n",
    "plt.grid()\n",
    "ax.legend(['Observed Data', 'Mean', 'Ground Truth', 'Epistemic', 'Aleatoric'], fontsize = fs)\n",
    "ax.tick_params(axis='both', which='major', labelsize=14)\n",
    "ax.tick_params(axis='both', which='minor', labelsize=14)\n",
    "ax.set_title('Compressed Empirical Posterior, BW=5, Epsilon=0.', fontsize=fs)\n",
    "\n",
    "plt.tight_layout()\n",
    "# plt.savefig('plots/full_hmc.pdf', rasterized=True)\n",
    "    \n",
    "plt.show()"
   ]
  },
  {
   "cell_type": "code",
   "execution_count": null,
   "id": "0ea4da27",
   "metadata": {},
   "outputs": [],
   "source": [
    "coding_sampler = CodingSampler\n",
    "auxiliary_posterior = EmpiricalMixturePosterior\n",
    "selection_sampler = GreedySampler\n",
    "omega = 5\n",
    "\n",
    "initial_seed = 0\n",
    "beamwidth = 5\n",
    "epsilon = 0.2\n",
    "num_compressed_samples = 50\n",
    "compressed_weights = []\n",
    "\n",
    "for i in trange(num_compressed_samples):\n",
    "    initial_seed = initial_seed + i * 10\n",
    "    encoder = Encoder(dummy_model,\n",
    "                     x_data,\n",
    "                     y_data,\n",
    "                     emp_samples,\n",
    "                     initial_seed,\n",
    "                     coding_sampler,\n",
    "                     selection_sampler,\n",
    "                     auxiliary_posterior,\n",
    "                     omega,\n",
    "                     beamwidth,\n",
    "                     epsilon=epsilon,\n",
    "                     prior_var=1./alpha,\n",
    "                     total_kl=kl_q_p)\n",
    "    \n",
    "    encoder.auxiliary_posterior.coding_sampler.auxiliary_vars = aux_vars\n",
    "    \n",
    "    w, idx = encoder.run_encoder()\n",
    "\n",
    "    compressed_weights.append(w[0])"
   ]
  },
  {
   "cell_type": "code",
   "execution_count": null,
   "id": "ae3147e3",
   "metadata": {},
   "outputs": [],
   "source": [
    "pred_list, log_probs_f = hamiltorch.predict_model(net, x = xs.to(device),\n",
    "                                                  y = xs.to(device), samples=compressed_weights,\n",
    "                                                  model_loss=model_loss, tau_out=tau_out,\n",
    "                                                  tau_list=tau_list)\n",
    "\n",
    "# plot the fit\n",
    "fs = 16\n",
    "\n",
    "m = pred_list.mean(0).to('cpu')\n",
    "s = pred_list.std(0).to('cpu')\n",
    "s_al = (pred_list.var(0).to('cpu') + tau_out ** -1) ** 0.5\n",
    "\n",
    "f, ax = plt.subplots(1, 1, figsize=(10, 6))\n",
    "\n",
    "# Get upper and lower confidence bounds\n",
    "lower, upper = (m - s*2).flatten(), (m + s*2).flatten()\n",
    "# + aleotoric\n",
    "lower_al, upper_al = (m - s_al*2).flatten(), (m + s_al*2).flatten()\n",
    "\n",
    "# Plot training data as black stars\n",
    "ax.plot(x_data.numpy(), y_data.numpy(), 'k*', rasterized=True)\n",
    "# Plot predictive means as blue line\n",
    "ax.plot(xs.numpy(), m.numpy(), 'b', rasterized=True)\n",
    "ax.plot(xs.numpy(), ys.numpy(), 'r', rasterized=True)# Shade between the lower and upper confidence bounds\n",
    "ax.fill_between(xs.flatten().numpy(), lower.numpy(), upper.numpy(), alpha=0.5, rasterized=True)\n",
    "ax.fill_between(xs.flatten().numpy(), lower_al.numpy(), upper_al.numpy(), alpha=0.2, rasterized=True)\n",
    "plt.grid()\n",
    "ax.legend(['Observed Data', 'Mean', 'Ground Truth', 'Epistemic', 'Aleatoric'], fontsize = fs)\n",
    "ax.tick_params(axis='both', which='major', labelsize=14)\n",
    "ax.tick_params(axis='both', which='minor', labelsize=14)\n",
    "ax.set_title('Compressed Empirical Posterior, BW=1, Epsilon=0.', fontsize=fs)\n",
    "\n",
    "plt.tight_layout()\n",
    "# plt.savefig('plots/full_hmc.pdf', rasterized=True)\n",
    "    \n",
    "plt.show()"
   ]
  },
  {
   "cell_type": "code",
   "execution_count": null,
   "id": "764f6ed2",
   "metadata": {},
   "outputs": [],
   "source": [
    "coding_sampler = CodingSampler\n",
    "auxiliary_posterior = EmpiricalMixturePosterior\n",
    "selection_sampler = GreedySampler\n",
    "omega = 5\n",
    "\n",
    "initial_seed = 0\n",
    "beamwidth = 5\n",
    "epsilon = 0.2\n",
    "num_compressed_samples = 50\n",
    "compressed_weights = []\n",
    "\n",
    "for i in trange(num_compressed_samples):\n",
    "    initial_seed = initial_seed + i * 10\n",
    "    encoder = Encoder(dummy_model,\n",
    "                     x_data,\n",
    "                     y_data,\n",
    "                     emp_samples,\n",
    "                     initial_seed,\n",
    "                     coding_sampler,\n",
    "                     selection_sampler,\n",
    "                     auxiliary_posterior,\n",
    "                     omega,\n",
    "                     beamwidth,\n",
    "                     epsilon=epsilon,\n",
    "                     prior_var=1./alpha,\n",
    "                     total_kl=kl_q_p)\n",
    "    \n",
    "    encoder.auxiliary_posterior.coding_sampler.auxiliary_vars = aux_vars\n",
    "    \n",
    "    w, idx = encoder.run_encoder()\n",
    "\n",
    "    compressed_weights.append(w[0])"
   ]
  },
  {
   "cell_type": "code",
   "execution_count": null,
   "id": "e2ea4745",
   "metadata": {},
   "outputs": [],
   "source": [
    "pred_list, log_probs_f = hamiltorch.predict_model(net, x = xs.to(device),\n",
    "                                                  y = xs.to(device), samples=compressed_weights,\n",
    "                                                  model_loss=model_loss, tau_out=tau_out,\n",
    "                                                  tau_list=tau_list)\n",
    "\n",
    "# plot the fit\n",
    "fs = 16\n",
    "\n",
    "m = pred_list.mean(0).to('cpu')\n",
    "s = pred_list.std(0).to('cpu')\n",
    "s_al = (pred_list.var(0).to('cpu') + tau_out ** -1) ** 0.5\n",
    "\n",
    "f, ax = plt.subplots(1, 1, figsize=(10, 6))\n",
    "\n",
    "# Get upper and lower confidence bounds\n",
    "lower, upper = (m - s*2).flatten(), (m + s*2).flatten()\n",
    "# + aleotoric\n",
    "lower_al, upper_al = (m - s_al*2).flatten(), (m + s_al*2).flatten()\n",
    "\n",
    "# Plot training data as black stars\n",
    "ax.plot(x_data.numpy(), y_data.numpy(), 'k*', rasterized=True)\n",
    "# Plot predictive means as blue line\n",
    "ax.plot(xs.numpy(), m.numpy(), 'b', rasterized=True)\n",
    "ax.plot(xs.numpy(), ys.numpy(), 'r', rasterized=True)# Shade between the lower and upper confidence bounds\n",
    "ax.fill_between(xs.flatten().numpy(), lower.numpy(), upper.numpy(), alpha=0.5, rasterized=True)\n",
    "ax.fill_between(xs.flatten().numpy(), lower_al.numpy(), upper_al.numpy(), alpha=0.2, rasterized=True)\n",
    "plt.grid()\n",
    "ax.legend(['Observed Data', 'Mean', 'Ground Truth', 'Epistemic', 'Aleatoric'], fontsize = fs)\n",
    "ax.tick_params(axis='both', which='major', labelsize=14)\n",
    "ax.tick_params(axis='both', which='minor', labelsize=14)\n",
    "ax.set_title('Compressed Empirical Posterior, BW=5, Epsilon=0.2', fontsize=fs)\n",
    "\n",
    "plt.tight_layout()\n",
    "# plt.savefig('plots/full_hmc.pdf', rasterized=True)\n",
    "    \n",
    "plt.show()"
   ]
  },
  {
   "cell_type": "markdown",
   "id": "765864ea",
   "metadata": {},
   "source": [
    "# thinning the samples"
   ]
  },
  {
   "cell_type": "code",
   "execution_count": null,
   "id": "545fb40c",
   "metadata": {},
   "outputs": [],
   "source": [
    "coding_sampler = CodingSampler\n",
    "auxiliary_posterior = EmpiricalMixturePosterior\n",
    "selection_sampler = GreedySampler\n",
    "omega = 5\n",
    "\n",
    "initial_seed = 0\n",
    "beamwidth = 5\n",
    "epsilon = 0.\n",
    "num_compressed_samples = 50\n",
    "compressed_weights = []\n",
    "\n",
    "for i in trange(num_compressed_samples):\n",
    "    initial_seed = initial_seed + i * 10\n",
    "    encoder = Encoder(dummy_model,\n",
    "                     x_data,\n",
    "                     y_data,\n",
    "                     emp_samples,\n",
    "                     initial_seed,\n",
    "                     coding_sampler,\n",
    "                     selection_sampler,\n",
    "                     auxiliary_posterior,\n",
    "                     omega,\n",
    "                     beamwidth,\n",
    "                     epsilon=epsilon,\n",
    "                     prior_var=1./alpha,\n",
    "                     total_kl=200.)\n",
    "    \n",
    "    #encoder.auxiliary_posterior.coding_sampler.auxiliary_vars = aux_vars\n",
    "    \n",
    "    w, idx = encoder.run_encoder()\n",
    "\n",
    "    compressed_weights.append(w[0])"
   ]
  },
  {
   "cell_type": "code",
   "execution_count": null,
   "id": "ad0750dd",
   "metadata": {},
   "outputs": [],
   "source": [
    "pred_list, log_probs_f = hamiltorch.predict_model(net, x = xs.to(device),\n",
    "                                                  y = xs.to(device), samples=compressed_weights,\n",
    "                                                  model_loss=model_loss, tau_out=tau_out,\n",
    "                                                  tau_list=tau_list)\n",
    "\n",
    "# plot the fit\n",
    "fs = 16\n",
    "\n",
    "m = pred_list.mean(0).to('cpu')\n",
    "s = pred_list.std(0).to('cpu')\n",
    "s_al = (pred_list.var(0).to('cpu') + tau_out ** -1) ** 0.5\n",
    "\n",
    "f, ax = plt.subplots(1, 1, figsize=(10, 6))\n",
    "\n",
    "# Get upper and lower confidence bounds\n",
    "lower, upper = (m - s*2).flatten(), (m + s*2).flatten()\n",
    "# + aleotoric\n",
    "lower_al, upper_al = (m - s_al*2).flatten(), (m + s_al*2).flatten()\n",
    "\n",
    "# Plot training data as black stars\n",
    "ax.plot(x_data.numpy(), y_data.numpy(), 'k*', rasterized=True)\n",
    "# Plot predictive means as blue line\n",
    "ax.plot(xs.numpy(), m.numpy(), 'b', rasterized=True)\n",
    "ax.plot(xs.numpy(), ys.numpy(), 'r', rasterized=True)# Shade between the lower and upper confidence bounds\n",
    "ax.fill_between(xs.flatten().numpy(), lower.numpy(), upper.numpy(), alpha=0.5, rasterized=True)\n",
    "ax.fill_between(xs.flatten().numpy(), lower_al.numpy(), upper_al.numpy(), alpha=0.2, rasterized=True)\n",
    "plt.grid()\n",
    "ax.legend(['Observed Data', 'Mean', 'Ground Truth', 'Epistemic', 'Aleatoric'], fontsize = fs)\n",
    "ax.tick_params(axis='both', which='major', labelsize=14)\n",
    "ax.tick_params(axis='both', which='minor', labelsize=14)\n",
    "ax.set_title('Compressed Empirical Posterior, BW=5, Epsilon=0.', fontsize=fs)\n",
    "\n",
    "plt.tight_layout()\n",
    "# plt.savefig('plots/full_hmc.pdf', rasterized=True)\n",
    "    \n",
    "plt.show()"
   ]
  },
  {
   "cell_type": "code",
   "execution_count": null,
   "id": "615de6c9",
   "metadata": {},
   "outputs": [],
   "source": [
    "log_probs = torch.empty([0])\n",
    "for w in compressed_weights:\n",
    "    #make model\n",
    "    dummy_model.make_weights_from_sample(w)\n",
    "    log_probs = torch.cat([log_probs, dummy_model.joint_log_prob(x_data, y_data)[None]])"
   ]
  },
  {
   "cell_type": "code",
   "execution_count": null,
   "id": "c7fea636",
   "metadata": {},
   "outputs": [],
   "source": [
    "log_probs"
   ]
  },
  {
   "cell_type": "code",
   "execution_count": null,
   "id": "293a52eb",
   "metadata": {},
   "outputs": [],
   "source": [
    "vals, idxs = torch.topk(log_probs, 1)"
   ]
  },
  {
   "cell_type": "code",
   "execution_count": null,
   "id": "dfdb9ae5",
   "metadata": {},
   "outputs": [],
   "source": [
    "thinned_weights = []\n",
    "for i in idxs:\n",
    "    j = int(i)\n",
    "    thinned_weights.append(compressed_weights[j])"
   ]
  },
  {
   "cell_type": "code",
   "execution_count": null,
   "id": "3e086afa",
   "metadata": {},
   "outputs": [],
   "source": [
    "pred_list, log_probs_f = hamiltorch.predict_model(net, x = xs.to(device),\n",
    "                                                  y = xs.to(device), samples=thinned_weights,\n",
    "                                                  model_loss=model_loss, tau_out=tau_out,\n",
    "                                                  tau_list=tau_list)\n",
    "\n",
    "# plot the fit\n",
    "fs = 16\n",
    "\n",
    "m = pred_list.mean(0).to('cpu')\n",
    "s = pred_list.std(0).to('cpu')\n",
    "s_al = (pred_list.var(0).to('cpu') + tau_out ** -1) ** 0.5\n",
    "\n",
    "f, ax = plt.subplots(1, 1, figsize=(10, 6))\n",
    "\n",
    "# Get upper and lower confidence bounds\n",
    "lower, upper = (m - s*2).flatten(), (m + s*2).flatten()\n",
    "# + aleotoric\n",
    "lower_al, upper_al = (m - s_al*2).flatten(), (m + s_al*2).flatten()\n",
    "\n",
    "# Plot training data as black stars\n",
    "ax.plot(x_data.numpy(), y_data.numpy(), 'k*', rasterized=True)\n",
    "# Plot predictive means as blue line\n",
    "ax.plot(xs.numpy(), m.numpy(), 'b', rasterized=True)\n",
    "ax.plot(xs.numpy(), ys.numpy(), 'r', rasterized=True)# Shade between the lower and upper confidence bounds\n",
    "ax.fill_between(xs.flatten().numpy(), lower.numpy(), upper.numpy(), alpha=0.5, rasterized=True)\n",
    "ax.fill_between(xs.flatten().numpy(), lower_al.numpy(), upper_al.numpy(), alpha=0.2, rasterized=True)\n",
    "plt.grid()\n",
    "ax.legend(['Observed Data', 'Mean', 'Ground Truth', 'Epistemic', 'Aleatoric'], fontsize = fs)\n",
    "ax.tick_params(axis='both', which='major', labelsize=14)\n",
    "ax.tick_params(axis='both', which='minor', labelsize=14)\n",
    "ax.set_title('Compressed Empirical Posterior, BW=5, Epsilon=0., big kl', fontsize=fs)\n",
    "\n",
    "plt.tight_layout()\n",
    "# plt.savefig('plots/full_hmc.pdf', rasterized=True)\n",
    "    \n",
    "plt.show()"
   ]
  },
  {
   "cell_type": "markdown",
   "id": "5eb899cb",
   "metadata": {},
   "source": [
    "# How to compute KL(p(W|D)||p(W))"
   ]
  },
  {
   "cell_type": "code",
   "execution_count": null,
   "id": "df57e7d9",
   "metadata": {},
   "outputs": [],
   "source": [
    "# define placeholder model\n",
    "dummy_model = BNN_for_HMC(alpha=alpha, beta=beta, num_nodes=num_nodes)\n",
    "compressed_weights = []\n",
    "num_compressed_samples = 2\n",
    "\n",
    "emp_samples = torch.empty([0])\n",
    "for s in params_hmc_gpu[1000:]:\n",
    "    emp_samples = torch.cat([emp_samples, s[None]])"
   ]
  },
  {
   "cell_type": "code",
   "execution_count": null,
   "id": "6761b825",
   "metadata": {},
   "outputs": [],
   "source": [
    "emp_samples = torch.empty([0])\n",
    "for s in params_hmc_gpu:\n",
    "    emp_samples = torch.cat([emp_samples, s[None]])"
   ]
  },
  {
   "cell_type": "code",
   "execution_count": null,
   "id": "edce4d82",
   "metadata": {},
   "outputs": [],
   "source": [
    "problem_dimension = emp_samples.shape[-1]\n",
    "empirical_samples = emp_samples\n",
    "# create dummy coding object to compute kl with target\n",
    "coding_z_prior = coding_sampler(problem_dimension=problem_dimension, n_auxiliary=1, var=(1./alpha))\n",
    "\n",
    "# for each empirical sample, compute MC KL estimate\n",
    "# first need to compute estimate of KL with joint\n",
    "likelihoods = torch.empty([0])\n",
    "for sample in empirical_samples:\n",
    "    # make a model\n",
    "    dummy_model.make_weights_from_sample(sample)\n",
    "\n",
    "    likelihood = dummy_model.data_likelihood(x_data, y_data)\n",
    "    likelihoods = torch.cat([likelihoods, likelihood[None]])\n",
    "\n",
    "kl_term_1 = likelihoods.mean()\n",
    "\n",
    "# to work out second KL term p(D) need to sample from prior and measure likelihood\n",
    "n_samples = 10000\n",
    "prior_samples = coding_z_prior.sample((n_samples,))\n",
    "log_marginal_data = torch.zeros([0])\n",
    "for sample in prior_samples:\n",
    "    # make a model\n",
    "    dummy_model.make_weights_from_sample(sample)\n",
    "\n",
    "    log_marginal = dummy_model.data_likelihood(x_data, y_data)\n",
    "    log_marginal_data = torch.cat([log_marginal_data, log_marginal[None]])\n",
    "\n",
    "kl_term_2 = - torch.log(torch.tensor(n_samples)) + torch.logsumexp(log_marginal_data, dim=0)\n",
    "\n",
    "\n",
    "total_kl = kl_term_1 - kl_term_2\n",
    "print(total_kl)"
   ]
  },
  {
   "cell_type": "code",
   "execution_count": null,
   "id": "26eff2bb",
   "metadata": {},
   "outputs": [],
   "source": [
    "# to work out second KL term p(D) need to sample from prior and measure likelihood\n",
    "n_samples = 10000\n",
    "prior_samples = coding_z_prior.sample((n_samples,))\n",
    "log_marginal_data = torch.zeros([0])\n",
    "for sample in prior_samples:\n",
    "    # make a model\n",
    "    dummy_model.make_weights_from_sample(sample)\n",
    "\n",
    "    log_marginal = dummy_model.data_likelihood(x_data, y_data)\n",
    "    log_marginal_data = torch.cat([log_marginal_data, log_marginal[None]])\n",
    "\n",
    "kl_term_2 = - torch.log(torch.tensor(n_samples)) + torch.logsumexp(log_marginal_data, dim=0)"
   ]
  },
  {
   "cell_type": "code",
   "execution_count": null,
   "id": "07ffb7fc",
   "metadata": {},
   "outputs": [],
   "source": [
    "kl_term_1"
   ]
  },
  {
   "cell_type": "code",
   "execution_count": null,
   "id": "73bb8e3b",
   "metadata": {},
   "outputs": [],
   "source": [
    "- kl_term_2"
   ]
  },
  {
   "cell_type": "code",
   "execution_count": null,
   "id": "c6b7483f",
   "metadata": {},
   "outputs": [],
   "source": [
    "dummy_model.data_likelihood(x_data, y_data)"
   ]
  },
  {
   "cell_type": "code",
   "execution_count": null,
   "id": "cd8875dd",
   "metadata": {},
   "outputs": [],
   "source": [
    "likelihoods = torch.empty([0])\n",
    "for sample in empirical_samples:\n",
    "    # make a model\n",
    "    dummy_model.make_weights_from_sample(sample)\n",
    "\n",
    "    likelihood = dummy_model.data_likelihood(x_data, y_data)\n",
    "    likelihoods = torch.cat([likelihoods, likelihood[None]])\n",
    "\n",
    "kl_term_1 = likelihoods.mean()"
   ]
  },
  {
   "cell_type": "code",
   "execution_count": null,
   "id": "8642a5a4",
   "metadata": {},
   "outputs": [],
   "source": [
    "dummy_model.data_likelihood(x_data, y_data)"
   ]
  },
  {
   "cell_type": "code",
   "execution_count": null,
   "id": "9423cb4e",
   "metadata": {},
   "outputs": [],
   "source": [
    "log_probs_f"
   ]
  },
  {
   "cell_type": "code",
   "execution_count": null,
   "id": "195e569f",
   "metadata": {},
   "outputs": [],
   "source": [
    "len(log_probs_f)"
   ]
  },
  {
   "cell_type": "code",
   "execution_count": null,
   "id": "7a259651",
   "metadata": {},
   "outputs": [],
   "source": []
  }
 ],
 "metadata": {
  "kernelspec": {
   "display_name": "Python 3",
   "language": "python",
   "name": "python3"
  },
  "language_info": {
   "codemirror_mode": {
    "name": "ipython",
    "version": 3
   },
   "file_extension": ".py",
   "mimetype": "text/x-python",
   "name": "python",
   "nbconvert_exporter": "python",
   "pygments_lexer": "ipython3",
   "version": "3.8.10"
  }
 },
 "nbformat": 4,
 "nbformat_minor": 5
}
