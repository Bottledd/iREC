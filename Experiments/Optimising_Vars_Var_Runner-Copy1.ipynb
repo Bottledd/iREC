{
 "cells": [
  {
   "cell_type": "code",
   "execution_count": 1,
   "id": "c9c54de0",
   "metadata": {},
   "outputs": [],
   "source": [
    "%load_ext autoreload"
   ]
  },
  {
   "cell_type": "code",
   "execution_count": 2,
   "id": "475f87cf",
   "metadata": {},
   "outputs": [],
   "source": [
    "%autoreload 2"
   ]
  },
  {
   "cell_type": "code",
   "execution_count": 3,
   "id": "b3dae1c5",
   "metadata": {},
   "outputs": [
    {
     "name": "stdout",
     "output_type": "stream",
     "text": [
      "/Users/kristophermiltiadou/Documents/UniWork/Cambridge/Thesis/CODE/iREC\n"
     ]
    }
   ],
   "source": [
    "%cd .."
   ]
  },
  {
   "cell_type": "code",
   "execution_count": 4,
   "id": "297685ff",
   "metadata": {},
   "outputs": [],
   "source": [
    "import torch\n",
    "import torch.distributions as dist\n",
    "import math\n",
    "import matplotlib.pyplot as plt\n",
    "import pickle as pkl\n",
    "from tqdm.notebook import tqdm\n",
    "from rec.beamsearch.distributions.CodingSampler import CodingSampler\n",
    "from rec.beamsearch.distributions.VariationalPosterior import VariationalPosterior\n",
    "from rec.OptimisingVars.VariationalOptimiser import VariationalOptimiser\n",
    "from rec.beamsearch.samplers.GreedySampling import GreedySampler\n",
    "from rec.beamsearch.Coders.Encoder_Variational import Encoder as Variational_Encoder\n",
    "from models.BayesianLinRegressor import BayesLinRegressor\n",
    "from rec.utils import kl_estimate_with_mc, compute_variational_posterior, plot_samples_in_2d, plot_running_sum_2d, plot_pairs_of_samples"
   ]
  },
  {
   "cell_type": "code",
   "execution_count": 12,
   "id": "42c8950a",
   "metadata": {},
   "outputs": [],
   "source": [
    "def encode_sample(target, omega=5, epsilon=0.,\n",
    "                  n_empirical_samples=10, seed=0, beamwidth=1, optimising_vars=False, aux_vars=None, dont_run=False):\n",
    "    \n",
    "    #target = compute_variational_posterior(target)\n",
    "    encoder = Variational_Encoder(target,\n",
    "                                  seed,\n",
    "                                  CodingSampler,\n",
    "                                  GreedySampler,\n",
    "                                  VariationalPosterior,\n",
    "                                  omega,\n",
    "                                  epsilon=epsilon,\n",
    "                                  beamwidth=beamwidth\n",
    "                                  )\n",
    "    if aux_vars is not None:\n",
    "        encoder.auxiliary_posterior.coding_sampler.auxiliary_vars = aux_vars\n",
    "    \n",
    "    if dont_run:\n",
    "        return encoder\n",
    "    else:\n",
    "        return encoder, *encoder.run_encoder()"
   ]
  },
  {
   "cell_type": "code",
   "execution_count": 21,
   "id": "913cec05",
   "metadata": {},
   "outputs": [],
   "source": [
    "def create_blr_problem(dim, seed):\n",
    "    \n",
    "    initial_seed_target = seed\n",
    "    blr = BayesLinRegressor(prior_mean=torch.zeros(dim),\n",
    "                        prior_alpha=1,\n",
    "                        signal_std=1,\n",
    "                        num_targets=50,\n",
    "                        seed=initial_seed_target)\n",
    "    blr.sample_feature_inputs()\n",
    "    blr.sample_regression_targets()\n",
    "    blr.posterior_update()\n",
    "    target = blr.weight_posterior\n",
    "    return blr, target"
   ]
  },
  {
   "cell_type": "code",
   "execution_count": 22,
   "id": "c36ca63f",
   "metadata": {},
   "outputs": [],
   "source": [
    "dim = 20\n",
    "beamwidth = 1\n",
    "omega = 5\n",
    "blr_seed = 1\n",
    "b, t = create_blr_problem(dim=dim, seed=blr_seed)\n",
    "num_compressed_samples = 50"
   ]
  },
  {
   "cell_type": "code",
   "execution_count": 23,
   "id": "4affb278",
   "metadata": {},
   "outputs": [
    {
     "data": {
      "text/plain": [
       "tensor([-1.0756,  0.8017, -1.4047, -0.7109,  0.3024,  2.1506, -0.1515,  0.4848,\n",
       "        -0.7200, -0.5994, -1.1374, -0.0522,  0.1842, -0.0853,  0.0159,  0.1439,\n",
       "         1.2447, -1.9072,  1.3612,  0.0756])"
      ]
     },
     "execution_count": 23,
     "metadata": {},
     "output_type": "execute_result"
    }
   ],
   "source": [
    "t.mean"
   ]
  },
  {
   "cell_type": "code",
   "execution_count": null,
   "id": "c5e2d528",
   "metadata": {},
   "outputs": [],
   "source": [
    "compute_params_enc = encode_sample(target=t, dont_run=True)\n",
    "n_auxiliaries = compute_params_enc.n_auxiliary\n",
    "kl_q_p = compute_params_enc.total_kl\n",
    "optimising = VariationalOptimiser(compute_params_enc.target, omega, n_auxiliaries, kl_q_p, n_trajectories=50, total_var=1)\n",
    "aux_vars = optimising.run_optimiser()\n",
    "pkl.dump(aux_vars, open(f\"PickledStuff/Correlated/Dim{dim}/optimised_vars_var.pkl\", \"wb\"))"
   ]
  },
  {
   "cell_type": "code",
   "execution_count": 8,
   "id": "047b2547",
   "metadata": {},
   "outputs": [
    {
     "ename": "NameError",
     "evalue": "name 'aux_vars' is not defined",
     "output_type": "error",
     "traceback": [
      "\u001b[0;31m---------------------------------------------------------------------------\u001b[0m",
      "\u001b[0;31mNameError\u001b[0m                                 Traceback (most recent call last)",
      "\u001b[0;32m<ipython-input-8-471be5bd221d>\u001b[0m in \u001b[0;36m<module>\u001b[0;34m\u001b[0m\n\u001b[0;32m----> 1\u001b[0;31m \u001b[0maux_vars\u001b[0m\u001b[0;34m\u001b[0m\u001b[0;34m\u001b[0m\u001b[0m\n\u001b[0m",
      "\u001b[0;31mNameError\u001b[0m: name 'aux_vars' is not defined"
     ]
    }
   ],
   "source": [
    "aux_vars"
   ]
  },
  {
   "cell_type": "code",
   "execution_count": 17,
   "id": "91705703",
   "metadata": {},
   "outputs": [
    {
     "data": {
      "application/vnd.jupyter.widget-view+json": {
       "model_id": "a8a62b9c4cc14dbba7e25cbc72d7eb92",
       "version_major": 2,
       "version_minor": 0
      },
      "text/plain": [
       "  0%|          | 0/50 [00:00<?, ?it/s]"
      ]
     },
     "metadata": {},
     "output_type": "display_data"
    },
    {
     "name": "stdout",
     "output_type": "stream",
     "text": [
      "tensor(-10.2243)\n"
     ]
    }
   ],
   "source": [
    "torch.manual_seed(0)\n",
    "seeds = torch.randint(low = 0, high = int(1e6), size=(num_compressed_samples,))\n",
    "epsilons = [0., 0.05, 0.1, 0.15, 0.2]\n",
    "aux_vars = None\n",
    "#aux_vars = pkl.load(open(f\"PickledStuff/Correlated/Dim{dim}/optimised_vars_var.pkl\", \"rb\"))\n",
    "for eps in epsilons:\n",
    "    exp_dict = {}\n",
    "    exp_dict['seeds'] = seeds.numpy()\n",
    "    exp_dict['target_mean'] = t.mean.numpy()\n",
    "    exp_dict['target_covar'] = t.covariance_matrix.numpy()\n",
    "    exp_dict['compressed_samples'] = []\n",
    "    exp_dict['compressed_samples_idxs'] = []\n",
    "    exp_dict['aux_vars'] = aux_vars\n",
    "    pbar = tqdm(enumerate(seeds), total=num_compressed_samples)\n",
    "    log_probs = torch.zeros([0])\n",
    "    for i, s in pbar:\n",
    "        enc, z, idx = encode_sample(target=t, beamwidth=beamwidth, epsilon=eps, omega=omega, \n",
    "                                    seed=s, n_empirical_samples=50, aux_vars=aux_vars)\n",
    "        idxs_to_transmit = idx[0]\n",
    "        best_sample = z[0]\n",
    "        log_probs = torch.cat((log_probs, t.log_prob(best_sample)[None]))\n",
    "        exp_dict['compressed_samples'].append(best_sample.numpy())\n",
    "        exp_dict['compressed_samples_idxs'].append(idxs_to_transmit.numpy())\n",
    "        pbar.set_description(f\"Coded sample {i + 1}, has log prob of {t.log_prob(best_sample)}\")\n",
    "    \n",
    "    print(torch.mean(log_probs))\n",
    "    with open(f\"PickledStuff/Correlated/Dim{dim}/Variational_Epsilon{eps}_Beam{beamwidth}_Omega{omega}.pkl\", \"wb\") as f:\n",
    "        pkl.dump(exp_dict, f)"
   ]
  },
  {
   "cell_type": "code",
   "execution_count": 18,
   "id": "ff0c01df",
   "metadata": {},
   "outputs": [
    {
     "data": {
      "text/plain": [
       "tensor([0.4207, 0.2610, 0.1555, 0.0878, 0.0460, 0.0213, 0.0077])"
      ]
     },
     "execution_count": 18,
     "metadata": {},
     "output_type": "execute_result"
    }
   ],
   "source": [
    "enc.auxiliary_posterior.coding_sampler.auxiliary_vars"
   ]
  },
  {
   "cell_type": "code",
   "execution_count": 19,
   "id": "d7bed49a",
   "metadata": {},
   "outputs": [
    {
     "data": {
      "text/plain": [
       "tensor(33.0573)"
      ]
     },
     "execution_count": 19,
     "metadata": {},
     "output_type": "execute_result"
    }
   ],
   "source": [
    "enc.total_kl"
   ]
  },
  {
   "cell_type": "code",
   "execution_count": 20,
   "id": "25ada973",
   "metadata": {},
   "outputs": [
    {
     "data": {
      "text/plain": [
       "tensor([-1.0756,  0.8017, -1.4047, -0.7109,  0.3024,  2.1506, -0.1515,  0.4848,\n",
       "        -0.7200, -0.5994, -1.1374, -0.0522,  0.1842, -0.0853,  0.0159,  0.1439,\n",
       "         1.2447, -1.9072,  1.3612,  0.0756])"
      ]
     },
     "execution_count": 20,
     "metadata": {},
     "output_type": "execute_result"
    }
   ],
   "source": [
    "t.mean"
   ]
  },
  {
   "cell_type": "code",
   "execution_count": null,
   "id": "8a0690c1",
   "metadata": {},
   "outputs": [],
   "source": []
  }
 ],
 "metadata": {
  "kernelspec": {
   "display_name": "Python 3",
   "language": "python",
   "name": "python3"
  },
  "language_info": {
   "codemirror_mode": {
    "name": "ipython",
    "version": 3
   },
   "file_extension": ".py",
   "mimetype": "text/x-python",
   "name": "python",
   "nbconvert_exporter": "python",
   "pygments_lexer": "ipython3",
   "version": "3.8.8"
  }
 },
 "nbformat": 4,
 "nbformat_minor": 5
}
