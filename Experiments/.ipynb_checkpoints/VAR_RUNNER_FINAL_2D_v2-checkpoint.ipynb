{
 "cells": [
  {
   "cell_type": "code",
   "execution_count": 1,
   "id": "c9c54de0",
   "metadata": {},
   "outputs": [],
   "source": [
    "%load_ext autoreload"
   ]
  },
  {
   "cell_type": "code",
   "execution_count": 2,
   "id": "475f87cf",
   "metadata": {},
   "outputs": [],
   "source": [
    "%autoreload 2"
   ]
  },
  {
   "cell_type": "code",
   "execution_count": 3,
   "id": "b3dae1c5",
   "metadata": {},
   "outputs": [
    {
     "name": "stdout",
     "output_type": "stream",
     "text": [
      "/scratch/km817/iREC\n"
     ]
    }
   ],
   "source": [
    "%cd .."
   ]
  },
  {
   "cell_type": "code",
   "execution_count": 4,
   "id": "297685ff",
   "metadata": {},
   "outputs": [],
   "source": [
    "import torch\n",
    "import torch.distributions as dist\n",
    "import math\n",
    "import matplotlib.pyplot as plt\n",
    "import pickle as pkl\n",
    "from tqdm.notebook import tqdm\n",
    "from rec.beamsearch.distributions.CodingSampler import CodingSampler\n",
    "from rec.beamsearch.distributions.VariationalPosterior import VariationalPosterior\n",
    "from rec.OptimisingVars.VariationalOptimiser import VariationalOptimiser\n",
    "from rec.beamsearch.samplers.GreedySampling import GreedySampler\n",
    "from rec.beamsearch.Coders.Encoder_Variational import Encoder as Variational_Encoder\n",
    "from models.SimpleBayesianLinRegressor import BayesLinRegressor\n",
    "from rec.utils import kl_estimate_with_mc, compute_variational_posterior, plot_samples_in_2d, plot_running_sum_2d, plot_pairs_of_samples"
   ]
  },
  {
   "cell_type": "code",
   "execution_count": 5,
   "id": "cd91f777",
   "metadata": {},
   "outputs": [],
   "source": [
    "torch.set_default_tensor_type(torch.DoubleTensor)"
   ]
  },
  {
   "cell_type": "code",
   "execution_count": 6,
   "id": "42c8950a",
   "metadata": {},
   "outputs": [],
   "source": [
    "def encode_sample(target, omega=5, epsilon=0.,\n",
    "                  n_empirical_samples=10, seed=0, beamwidth=1, optimising_vars=False, aux_vars=None, dont_run=False):\n",
    "    \n",
    "    target = compute_variational_posterior(target)\n",
    "    encoder = Variational_Encoder(target,\n",
    "                                  seed,\n",
    "                                  CodingSampler,\n",
    "                                  GreedySampler,\n",
    "                                  VariationalPosterior,\n",
    "                                  omega,\n",
    "                                  epsilon=epsilon,\n",
    "                                  beamwidth=beamwidth\n",
    "                                  )\n",
    "    if aux_vars is not None:\n",
    "        encoder.auxiliary_posterior.coding_sampler.auxiliary_vars = aux_vars\n",
    "    \n",
    "    if dont_run:\n",
    "        return encoder\n",
    "    else:\n",
    "        return encoder, *encoder.run_encoder()"
   ]
  },
  {
   "cell_type": "code",
   "execution_count": 7,
   "id": "913cec05",
   "metadata": {},
   "outputs": [],
   "source": [
    "def create_blr_problem(dim, seed):\n",
    "    signal_std = 1e-1\n",
    "    prior_alpha = 1\n",
    "    num_training = dim\n",
    "    torch.set_default_tensor_type(torch.DoubleTensor)\n",
    "    blr = BayesLinRegressor(prior_mean=torch.zeros(dim),\n",
    "                            prior_alpha=prior_alpha,\n",
    "                            signal_std=signal_std,\n",
    "                            num_targets=2 * num_training,\n",
    "                            seed=seed,\n",
    "                            num_train_points=num_training)\n",
    "    blr.sample_feature_inputs()\n",
    "    blr.sample_regression_targets()\n",
    "    blr.posterior_update()\n",
    "    target = blr.weight_posterior\n",
    "    return blr, target"
   ]
  },
  {
   "cell_type": "code",
   "execution_count": 24,
   "id": "bb314f2b",
   "metadata": {},
   "outputs": [],
   "source": [
    "def compute_expected_coding_efficiency(kl, epsilon=0.2):\n",
    "    K = (1 + epsilon) * kl\n",
    "    return K + torch.log(K + 1) + 1"
   ]
  },
  {
   "cell_type": "code",
   "execution_count": 55,
   "id": "c36ca63f",
   "metadata": {},
   "outputs": [],
   "source": [
    "dim = 50\n",
    "beamwidth = 5\n",
    "omega = 5\n",
    "blr_seed = 1\n",
    "b, t = create_blr_problem(dim=dim, seed=blr_seed)\n",
    "num_compressed_samples = 500"
   ]
  },
  {
   "cell_type": "code",
   "execution_count": 56,
   "id": "4f2b5e33",
   "metadata": {},
   "outputs": [
    {
     "name": "stdout",
     "output_type": "stream",
     "text": [
      "Emp kl: 195.36, Var kl: 219.0374861579449\n"
     ]
    }
   ],
   "source": [
    "prior = dist.MultivariateNormal(loc=torch.zeros_like(t.mean), covariance_matrix=torch.eye(dim))\n",
    "\n",
    "emp_kl = dist.kl_divergence(t, prior)\n",
    "var_kl = dist.kl_divergence(compute_variational_posterior(t), prior)\n",
    "print(f\"Emp kl: {emp_kl.item():.2f}, Var kl: {var_kl.item()}\")"
   ]
  },
  {
   "cell_type": "code",
   "execution_count": 57,
   "id": "c5e2d528",
   "metadata": {},
   "outputs": [
    {
     "name": "stderr",
     "output_type": "stream",
     "text": [
      "\r",
      "  0%|          | 0/2500 [00:00<?, ?it/s]"
     ]
    },
    {
     "name": "stdout",
     "output_type": "stream",
     "text": [
      "44\n"
     ]
    },
    {
     "name": "stderr",
     "output_type": "stream",
     "text": [
      "The mean loss is 7.47436. The mean KL is: 5.19139: 100%|██████████| 2500/2500 [3:05:31<00:00,  4.45s/it]   \n"
     ]
    }
   ],
   "source": [
    "torch.set_default_tensor_type(torch.DoubleTensor)\n",
    "aux_vars = None\n",
    "compute_params_enc = encode_sample(target=t, dont_run=True)\n",
    "n_auxiliaries = compute_params_enc.n_auxiliary\n",
    "print(n_auxiliaries)\n",
    "kl_q_p = compute_params_enc.total_kl\n",
    "optimising = VariationalOptimiser(compute_params_enc.target, omega, n_auxiliaries, kl_q_p, n_trajectories=32, total_var=1)\n",
    "aux_vars = optimising.run_optimiser(epochs=2500, lr=0.1)\n",
    "pkl.dump(aux_vars, open(f\"PickledStuff/BLR_RESULTS_v2/Dim{dim}/optimised_vars_var.pkl\", \"wb\"))"
   ]
  },
  {
   "cell_type": "code",
   "execution_count": 58,
   "id": "bba0c21a",
   "metadata": {},
   "outputs": [],
   "source": [
    "epsilons = [-0.3, -0.2, -0.1, 0., 0.1, 0.2, 0.3, 0.4]\n",
    "determine_epsilons = torch.tensor(epsilons)"
   ]
  },
  {
   "cell_type": "code",
   "execution_count": 59,
   "id": "6c7ff455",
   "metadata": {},
   "outputs": [
    {
     "data": {
      "text/plain": [
       "tensor([142.6772, 162.3458, 181.9989, 201.6396, 221.2705, 240.8931, 260.5087,\n",
       "        280.1185])"
      ]
     },
     "execution_count": 59,
     "metadata": {},
     "output_type": "execute_result"
    }
   ],
   "source": [
    "compute_expected_coding_efficiency(emp_kl, determine_epsilons)"
   ]
  },
  {
   "cell_type": "code",
   "execution_count": 60,
   "id": "34afde47",
   "metadata": {},
   "outputs": [
    {
     "data": {
      "text/plain": [
       "tensor([159.3653, 181.4018, 203.4227, 225.4313, 247.4299, 269.4203, 291.4038,\n",
       "        313.3815])"
      ]
     },
     "execution_count": 60,
     "metadata": {},
     "output_type": "execute_result"
    }
   ],
   "source": [
    "compute_expected_coding_efficiency(var_kl, determine_epsilons)"
   ]
  },
  {
   "cell_type": "code",
   "execution_count": null,
   "id": "91705703",
   "metadata": {
    "scrolled": false
   },
   "outputs": [
    {
     "data": {
      "application/vnd.jupyter.widget-view+json": {
       "model_id": "158d46d338ae4179842e9082965f16c9",
       "version_major": 2,
       "version_minor": 0
      },
      "text/plain": [
       "  0%|          | 0/500 [00:00<?, ?it/s]"
      ]
     },
     "metadata": {},
     "output_type": "display_data"
    },
    {
     "name": "stdout",
     "output_type": "stream",
     "text": [
      "tensor(-15811.8763)\n"
     ]
    },
    {
     "data": {
      "application/vnd.jupyter.widget-view+json": {
       "model_id": "3dd5da156a464ee785fac816efcdf282",
       "version_major": 2,
       "version_minor": 0
      },
      "text/plain": [
       "  0%|          | 0/500 [00:00<?, ?it/s]"
      ]
     },
     "metadata": {},
     "output_type": "display_data"
    },
    {
     "name": "stdout",
     "output_type": "stream",
     "text": [
      "tensor(-8789.5903)\n"
     ]
    },
    {
     "data": {
      "application/vnd.jupyter.widget-view+json": {
       "model_id": "e0ddae2daf2e4248a19c6a726d9e6e5a",
       "version_major": 2,
       "version_minor": 0
      },
      "text/plain": [
       "  0%|          | 0/500 [00:00<?, ?it/s]"
      ]
     },
     "metadata": {},
     "output_type": "display_data"
    },
    {
     "name": "stdout",
     "output_type": "stream",
     "text": [
      "tensor(-4126.3253)\n"
     ]
    },
    {
     "data": {
      "application/vnd.jupyter.widget-view+json": {
       "model_id": "8932ab610ab740ef8f234e828ccfab9c",
       "version_major": 2,
       "version_minor": 0
      },
      "text/plain": [
       "  0%|          | 0/500 [00:00<?, ?it/s]"
      ]
     },
     "metadata": {},
     "output_type": "display_data"
    }
   ],
   "source": [
    "torch.manual_seed(0)\n",
    "seeds = torch.randint(low = 0, high = int(1e6), size=(num_compressed_samples,))\n",
    "for eps in epsilons:\n",
    "    exp_dict = {}\n",
    "    exp_dict['seeds'] = seeds.numpy()\n",
    "    exp_dict['target_mean'] = t.mean.numpy()\n",
    "    exp_dict['target_covar'] = t.covariance_matrix.numpy()\n",
    "    exp_dict['compressed_samples'] = []\n",
    "    exp_dict['compressed_samples_idxs'] = []\n",
    "    exp_dict['aux_vars'] = aux_vars\n",
    "    pbar = tqdm(enumerate(seeds), total=num_compressed_samples)\n",
    "    log_probs = torch.zeros([0])\n",
    "    for i, s in pbar:\n",
    "        enc, z, idx = encode_sample(target=t, beamwidth=beamwidth, epsilon=eps, omega=omega, \n",
    "                                    seed=s, n_empirical_samples=50, aux_vars=aux_vars)\n",
    "        idxs_to_transmit = idx[0]\n",
    "        best_sample = z[0]\n",
    "        log_probs = torch.cat((log_probs, t.log_prob(best_sample)[None]))\n",
    "        exp_dict['compressed_samples'].append(best_sample.numpy())\n",
    "        exp_dict['compressed_samples_idxs'].append(idxs_to_transmit.numpy())\n",
    "        pbar.set_description(f\"Coded sample {i + 1}, has log prob of {t.log_prob(best_sample)}\")\n",
    "    \n",
    "    print(torch.mean(log_probs))\n",
    "    with open(f\"PickledStuff/BLR_RESULTS_v2/Dim{dim}/Variational_Epsilon{eps}_Beam{beamwidth}_Omega{omega}.pkl\", \"wb\") as f:\n",
    "        pkl.dump(exp_dict, f)"
   ]
  },
  {
   "cell_type": "code",
   "execution_count": null,
   "id": "d2c9df0a",
   "metadata": {},
   "outputs": [],
   "source": [
    "print('done')"
   ]
  },
  {
   "cell_type": "code",
   "execution_count": null,
   "id": "76f78da7",
   "metadata": {},
   "outputs": [],
   "source": []
  }
 ],
 "metadata": {
  "kernelspec": {
   "display_name": "Python 3",
   "language": "python",
   "name": "python3"
  },
  "language_info": {
   "codemirror_mode": {
    "name": "ipython",
    "version": 3
   },
   "file_extension": ".py",
   "mimetype": "text/x-python",
   "name": "python",
   "nbconvert_exporter": "python",
   "pygments_lexer": "ipython3",
   "version": "3.8.10"
  }
 },
 "nbformat": 4,
 "nbformat_minor": 5
}
