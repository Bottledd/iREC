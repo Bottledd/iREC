{
 "cells": [
  {
   "cell_type": "code",
   "execution_count": 1,
   "id": "c9c54de0",
   "metadata": {},
   "outputs": [],
   "source": [
    "%load_ext autoreload"
   ]
  },
  {
   "cell_type": "code",
   "execution_count": 2,
   "id": "475f87cf",
   "metadata": {},
   "outputs": [],
   "source": [
    "%autoreload 2"
   ]
  },
  {
   "cell_type": "code",
   "execution_count": 3,
   "id": "b3dae1c5",
   "metadata": {},
   "outputs": [
    {
     "name": "stdout",
     "output_type": "stream",
     "text": [
      "/scratch/km817/New_iREC/iREC\n"
     ]
    }
   ],
   "source": [
    "%cd .."
   ]
  },
  {
   "cell_type": "code",
   "execution_count": 69,
   "id": "297685ff",
   "metadata": {},
   "outputs": [],
   "source": [
    "import torch\n",
    "import torch.distributions as dist\n",
    "import math\n",
    "import matplotlib.pyplot as plt\n",
    "import pickle as pkl\n",
    "from tqdm.notebook import tqdm\n",
    "from rec.beamsearch.distributions.CodingSampler import CodingSampler\n",
    "from rec.beamsearch.distributions.VariationalPosterior import VariationalPosterior\n",
    "from rec.OptimisingVars.VariationalOptimiser import VariationalOptimiser\n",
    "from rec.beamsearch.samplers.GreedySampling import GreedySampler\n",
    "from rec.beamsearch.Coders.Encoder_Variational import Encoder as Variational_Encoder\n",
    "from models.SimpleBayesianLinRegressor import BayesLinRegressor\n",
    "from rec.utils import kl_estimate_with_mc, compute_variational_posterior, plot_samples_in_2d, plot_running_sum_2d, plot_pairs_of_samples"
   ]
  },
  {
   "cell_type": "code",
   "execution_count": 70,
   "id": "edc218e7",
   "metadata": {},
   "outputs": [],
   "source": [
    "torch.set_default_tensor_type(torch.DoubleTensor)"
   ]
  },
  {
   "cell_type": "code",
   "execution_count": 71,
   "id": "42c8950a",
   "metadata": {},
   "outputs": [],
   "source": [
    "def encode_sample(target, omega=5, epsilon=0.,\n",
    "                  n_empirical_samples=10, seed=0, beamwidth=1, optimising_vars=False, aux_vars=None, dont_run=False):\n",
    "    \n",
    "    target = compute_variational_posterior(target)\n",
    "    encoder = Variational_Encoder(target,\n",
    "                                  seed,\n",
    "                                  CodingSampler,\n",
    "                                  GreedySampler,\n",
    "                                  VariationalPosterior,\n",
    "                                  omega,\n",
    "                                  epsilon=epsilon,\n",
    "                                  beamwidth=beamwidth\n",
    "                                  )\n",
    "    if aux_vars is not None:\n",
    "        encoder.auxiliary_posterior.coding_sampler.auxiliary_vars = aux_vars\n",
    "    \n",
    "    if dont_run:\n",
    "        return encoder\n",
    "    else:\n",
    "        return encoder, *encoder.run_encoder()"
   ]
  },
  {
   "cell_type": "code",
   "execution_count": 75,
   "id": "913cec05",
   "metadata": {},
   "outputs": [],
   "source": [
    "def create_blr_problem(dim, seed):\n",
    "    if dim in [2, 5]:\n",
    "        signal_std = 1e-3\n",
    "    else:\n",
    "        signal_std = 1e-1\n",
    "    torch.set_default_tensor_type(torch.DoubleTensor)\n",
    "    blr = BayesLinRegressor(prior_mean=torch.zeros(dim),\n",
    "                            prior_alpha=1,\n",
    "                            signal_std=signal_std,\n",
    "                            num_targets=100,\n",
    "                            seed=1)\n",
    "    blr.sample_feature_inputs()\n",
    "    blr.sample_regression_targets()\n",
    "    blr.posterior_update()\n",
    "    target = blr.weight_posterior\n",
    "    return blr, target"
   ]
  },
  {
   "cell_type": "code",
   "execution_count": 118,
   "id": "c36ca63f",
   "metadata": {},
   "outputs": [],
   "source": [
    "dim = 90\n",
    "omega = 5\n",
    "blr_seed = 1\n",
    "b, t = create_blr_problem(dim=dim, seed=blr_seed)\n",
    "num_compressed_samples = 50"
   ]
  },
  {
   "cell_type": "code",
   "execution_count": 119,
   "id": "c5e2d528",
   "metadata": {},
   "outputs": [
    {
     "name": "stderr",
     "output_type": "stream",
     "text": [
      "The mean loss is 9.98281. The mean KL is: 5.16202: 100%|██████████| 500/500 [41:08<00:00,  4.94s/it]   \n"
     ]
    }
   ],
   "source": [
    "torch.set_default_tensor_type(torch.DoubleTensor)\n",
    "compute_params_enc = encode_sample(target=t, dont_run=True)\n",
    "n_auxiliaries = compute_params_enc.n_auxiliary\n",
    "kl_q_p = compute_params_enc.total_kl\n",
    "optimising = VariationalOptimiser(compute_params_enc.target, omega, n_auxiliaries, kl_q_p, n_trajectories=50, total_var=1)\n",
    "aux_vars = optimising.run_optimiser(epochs=500)\n",
    "pkl.dump(aux_vars, open(f\"PickledStuff/Correlated/Dim{dim}/optimised_vars_var.pkl\", \"wb\"))"
   ]
  },
  {
   "cell_type": "code",
   "execution_count": 145,
   "id": "af7b302d",
   "metadata": {},
   "outputs": [],
   "source": [
    "dim = 90\n",
    "omega = 5\n",
    "blr_seed = 1\n",
    "b, t = create_blr_problem(dim=dim, seed=blr_seed)\n",
    "num_compressed_samples = 50"
   ]
  },
  {
   "cell_type": "code",
   "execution_count": 146,
   "id": "91705703",
   "metadata": {
    "scrolled": false
   },
   "outputs": [
    {
     "data": {
      "application/vnd.jupyter.widget-view+json": {
       "model_id": "90c07aca477e4c5baa8fb1a8dc5d1ed3",
       "version_major": 2,
       "version_minor": 0
      },
      "text/plain": [
       "  0%|          | 0/50 [00:00<?, ?it/s]"
      ]
     },
     "metadata": {},
     "output_type": "display_data"
    },
    {
     "name": "stdout",
     "output_type": "stream",
     "text": [
      "tensor(-3902.1856)\n"
     ]
    },
    {
     "data": {
      "application/vnd.jupyter.widget-view+json": {
       "model_id": "306f4f727e6141d3924479b55f11554b",
       "version_major": 2,
       "version_minor": 0
      },
      "text/plain": [
       "  0%|          | 0/50 [00:00<?, ?it/s]"
      ]
     },
     "metadata": {},
     "output_type": "display_data"
    },
    {
     "name": "stdout",
     "output_type": "stream",
     "text": [
      "tensor(-1880.0473)\n"
     ]
    },
    {
     "data": {
      "application/vnd.jupyter.widget-view+json": {
       "model_id": "5a8708549524405286d08f9149eb29a6",
       "version_major": 2,
       "version_minor": 0
      },
      "text/plain": [
       "  0%|          | 0/50 [00:00<?, ?it/s]"
      ]
     },
     "metadata": {},
     "output_type": "display_data"
    },
    {
     "name": "stdout",
     "output_type": "stream",
     "text": [
      "tensor(-948.4976)\n"
     ]
    },
    {
     "data": {
      "application/vnd.jupyter.widget-view+json": {
       "model_id": "0772110ab5bb4e4d9634118eaf1aba39",
       "version_major": 2,
       "version_minor": 0
      },
      "text/plain": [
       "  0%|          | 0/50 [00:00<?, ?it/s]"
      ]
     },
     "metadata": {},
     "output_type": "display_data"
    },
    {
     "name": "stdout",
     "output_type": "stream",
     "text": [
      "tensor(-306.2101)\n"
     ]
    },
    {
     "data": {
      "application/vnd.jupyter.widget-view+json": {
       "model_id": "943ef6ba8776433d8db7009a8b5ff3be",
       "version_major": 2,
       "version_minor": 0
      },
      "text/plain": [
       "  0%|          | 0/50 [00:00<?, ?it/s]"
      ]
     },
     "metadata": {},
     "output_type": "display_data"
    },
    {
     "name": "stdout",
     "output_type": "stream",
     "text": [
      "tensor(62.4933)\n"
     ]
    }
   ],
   "source": [
    "beamwidth = 1\n",
    "torch.manual_seed(0)\n",
    "seeds = torch.randint(low = 0, high = int(1e6), size=(num_compressed_samples,))\n",
    "epsilons = [0., 0.05, 0.1, 0.15, 0.2]\n",
    "aux_vars = torch.tensor(pkl.load(open(f\"PickledStuff/Correlated/Dim{dim}/approx_vars_var.pkl\", \"rb\")))\n",
    "for eps in epsilons:\n",
    "    exp_dict = {}\n",
    "    exp_dict['seeds'] = seeds.numpy()\n",
    "    exp_dict['target_mean'] = t.mean.numpy()\n",
    "    exp_dict['target_covar'] = t.covariance_matrix.numpy()\n",
    "    exp_dict['compressed_samples'] = []\n",
    "    exp_dict['compressed_samples_idxs'] = []\n",
    "    exp_dict['aux_vars'] = aux_vars\n",
    "    pbar = tqdm(enumerate(seeds), total=num_compressed_samples)\n",
    "    log_probs = torch.zeros([0])\n",
    "    for i, s in pbar:\n",
    "        enc, z, idx = encode_sample(target=t, beamwidth=beamwidth, epsilon=eps, omega=omega, \n",
    "                                    seed=s, n_empirical_samples=50, aux_vars=aux_vars)\n",
    "        idxs_to_transmit = idx[0]\n",
    "        best_sample = z[0]\n",
    "        log_probs = torch.cat((log_probs, t.log_prob(best_sample)[None]))\n",
    "        exp_dict['compressed_samples'].append(best_sample.numpy())\n",
    "        exp_dict['compressed_samples_idxs'].append(idxs_to_transmit.numpy())\n",
    "        pbar.set_description(f\"Coded sample {i + 1}, has log prob of {t.log_prob(best_sample)}\")\n",
    "    \n",
    "    print(torch.mean(log_probs))\n",
    "    with open(f\"PickledStuff/CorrelatedApprox/Dim{dim}/Variational_Epsilon{eps}_Beam{beamwidth}_Omega{omega}.pkl\", \"wb\") as f:\n",
    "        pkl.dump(exp_dict, f)"
   ]
  },
  {
   "cell_type": "code",
   "execution_count": 149,
   "id": "d92b461d",
   "metadata": {},
   "outputs": [
    {
     "data": {
      "text/plain": [
       "tensor([237.7575, 235.1231, 225.8538, 245.3285, 237.4480, 243.0981, 229.5325,\n",
       "        219.9356, 235.5261, 236.4867, 240.6794, 239.4462, 215.9359, 232.9367,\n",
       "        237.6035, 224.7586, 249.4764, 231.9974, 233.7869, 221.6480, 226.0308,\n",
       "        252.9307, 234.8585, 232.6449, 231.7204, 233.2937, 233.4280, 241.1942,\n",
       "        231.6637, 244.1568, 238.8343, 241.2729, 234.4596, 239.2966, 238.2857,\n",
       "        233.3617, 226.7123, 236.3445, 230.7741, 236.0703, 213.8009, 239.9170,\n",
       "        229.2661, 235.0919, 232.1030, 219.1356, 227.1950, 235.2411, 228.4886,\n",
       "        230.4157, 236.6605, 238.4412, 234.2439, 224.3609, 231.7023, 237.5311,\n",
       "        230.9115, 224.1803, 232.9024, 228.1904, 238.3929, 216.5781, 233.8996,\n",
       "        231.7972, 227.0916, 233.7885, 218.9938, 230.5910, 234.2969, 235.9528,\n",
       "        235.1866, 226.6141, 228.1459, 233.1242, 237.8167, 228.4055, 227.2538,\n",
       "        239.3667, 237.0315, 227.9855, 224.9064, 234.0480, 238.2546, 226.1197,\n",
       "        233.4401, 220.7370, 234.0281, 237.8153, 244.2737, 232.6510, 227.3068,\n",
       "        241.6321, 236.0716, 217.0282, 242.5321, 242.3087, 232.2549, 224.0228,\n",
       "        233.8757, 228.5681, 230.6998, 232.9447, 233.7818, 232.6911, 243.1976,\n",
       "        233.3865, 230.7692, 228.6934, 234.9823, 235.0169, 234.8626, 244.2597,\n",
       "        241.7428, 231.7212, 239.4119, 233.6464, 232.1224, 235.9791, 233.6542,\n",
       "        242.1321, 236.0725, 229.4907, 236.5200, 241.8628, 236.5649, 228.1299,\n",
       "        223.6579, 216.3019, 236.3004, 232.3049, 228.9238, 233.4679, 240.7398,\n",
       "        235.6940, 237.3419, 235.2569, 244.9526, 235.2433, 234.6077, 237.8142,\n",
       "        236.2655, 235.6872, 221.7341, 232.2175, 228.1395, 231.2670, 236.9792,\n",
       "        239.8864, 227.8942, 237.2218, 235.6117, 232.5602, 224.3254, 231.5702,\n",
       "        235.3772, 238.2912, 224.1577, 228.1249, 237.5250, 243.3435, 236.0675,\n",
       "        235.8970, 233.1312, 238.5449, 232.5254, 243.2897, 236.8618, 217.6539,\n",
       "        244.8760, 231.1146, 229.0058, 229.1932, 235.7441, 234.1605, 235.1334,\n",
       "        233.3945, 228.4678, 229.4280, 237.8549, 234.3756, 230.5118, 218.2221,\n",
       "        233.1259, 228.6039, 242.6788, 236.9097, 227.2638, 233.3410, 238.0987,\n",
       "        239.7870, 235.5907, 219.2158, 237.8086, 220.6295, 232.3506, 231.5907,\n",
       "        229.1424, 233.4074, 246.4688, 234.0798, 234.0491, 228.9526, 226.3683,\n",
       "        231.7902, 237.0324, 241.0508, 240.2747, 231.6612, 212.9948, 225.7341,\n",
       "        232.2671, 233.2830, 237.6819, 239.1256, 234.4846, 219.2631, 227.9447,\n",
       "        222.6727, 227.4066, 232.1858, 230.4980, 226.0535, 223.3464, 239.1096,\n",
       "        215.9239, 227.4486, 227.2658, 233.1857, 240.5257, 240.1295, 211.9811,\n",
       "        235.1259, 229.0538, 221.5311, 229.3288, 228.7147, 238.2941, 238.9427,\n",
       "        240.8182, 240.6989, 226.4671, 230.9656, 236.2975, 229.2775, 229.0227,\n",
       "        240.8523, 235.3713, 229.5191, 231.3572, 236.6176, 229.7835, 236.8661,\n",
       "        232.5719, 235.2657, 239.2740, 220.4706, 236.3935, 226.0887, 235.7212,\n",
       "        224.1250, 244.9539, 230.9430, 231.0744, 237.7315, 231.5074, 231.9678,\n",
       "        230.2058, 236.6510, 238.7654, 233.5222, 240.2366, 238.7162, 238.2110,\n",
       "        239.4439, 224.6851, 233.4192, 244.6418, 234.4429, 235.6021, 236.2921,\n",
       "        226.4915, 238.7635, 240.0748, 242.0250, 228.2695, 230.1252, 235.5078,\n",
       "        237.6999, 242.9363, 232.9756, 236.4838, 223.0416, 221.4811, 233.6677,\n",
       "        239.9475, 231.0632, 239.7435, 236.8628, 235.6737, 232.5222, 234.1556,\n",
       "        238.4947, 233.5389, 233.0725, 234.2722, 241.0526, 231.7101, 236.5002,\n",
       "        234.2125, 232.1292, 244.3242, 231.5780, 230.6414, 231.9967, 233.8414,\n",
       "        227.9787, 230.1369, 222.7107, 236.7161, 235.5210, 229.4775, 230.7499,\n",
       "        231.3227, 232.1085, 241.3230, 227.3993, 231.5262, 233.8110, 236.8770,\n",
       "        222.0297, 226.3865, 247.1531, 230.2243, 225.7113, 232.4639, 223.5852,\n",
       "        240.5298, 225.3688, 219.0798, 222.4223, 234.0043, 235.3707, 236.7143,\n",
       "        230.1014, 224.9357, 228.9912, 235.5489, 236.4831, 233.5229, 225.8830,\n",
       "        234.8421, 242.8915, 234.2959, 238.0533, 229.5446, 233.8793, 236.5527,\n",
       "        229.1766, 239.0102, 230.7750, 239.6122, 228.6667, 226.8577, 230.5060,\n",
       "        233.8300, 230.7895, 209.4569, 227.7940, 234.8291, 234.3170, 230.6784,\n",
       "        231.2874, 236.6044, 236.3561, 236.4437, 220.3958, 241.0361, 238.2120,\n",
       "        236.0166, 225.8097, 230.3207, 248.2353, 238.1292, 237.8361, 234.2966,\n",
       "        236.2036, 240.7944, 245.7838, 224.1377, 230.4935, 238.3723, 237.2975,\n",
       "        230.9389, 230.2274, 239.5674, 237.7742, 229.0225, 232.8335, 243.8616,\n",
       "        241.0697, 242.3877, 233.6493, 234.9953, 240.6904, 229.4549, 229.4217,\n",
       "        230.4722, 240.5830, 231.1449, 229.5737, 231.5859, 238.3339, 231.3037,\n",
       "        235.5910, 243.8263, 225.3124, 225.5926, 216.2690, 238.3200, 237.0370,\n",
       "        231.7414, 230.1787, 218.7952, 238.0923, 238.6029, 238.2423, 235.0075,\n",
       "        240.6859, 239.9523, 230.8955, 231.4091, 232.7666, 235.0884, 227.1201,\n",
       "        231.7518, 231.3647, 229.6253, 224.3523, 234.4038, 228.0713, 220.5408,\n",
       "        246.1588, 231.3847, 233.9166, 229.3570, 238.4728, 228.2363, 236.8717,\n",
       "        239.2459, 227.2558, 235.4692, 229.3523, 232.0034, 221.9852, 230.6149,\n",
       "        224.0795, 239.4847, 233.9559, 239.9628, 242.7638, 242.0916, 222.4195,\n",
       "        244.0578, 235.2201, 230.9175, 228.0245, 235.3788, 228.4527, 243.9095,\n",
       "        221.8964, 230.4859, 230.0919, 240.6803, 231.5698, 225.6608, 234.5477,\n",
       "        229.8958, 243.5175, 239.9119, 219.2525, 236.5921, 233.1570, 243.7792,\n",
       "        234.0258, 232.5829, 214.3500, 226.9422, 235.9016, 234.5616, 230.5257,\n",
       "        240.0868, 243.1167, 228.7490, 244.4691, 228.8789, 233.7070, 228.0262,\n",
       "        228.0033, 229.9501, 234.8872])"
      ]
     },
     "execution_count": 149,
     "metadata": {},
     "output_type": "execute_result"
    }
   ],
   "source": [
    "t.log_prob(t.sample((500,)))"
   ]
  },
  {
   "cell_type": "code",
   "execution_count": null,
   "id": "2389dfa2",
   "metadata": {},
   "outputs": [],
   "source": []
  }
 ],
 "metadata": {
  "kernelspec": {
   "display_name": "Python 3",
   "language": "python",
   "name": "python3"
  },
  "language_info": {
   "codemirror_mode": {
    "name": "ipython",
    "version": 3
   },
   "file_extension": ".py",
   "mimetype": "text/x-python",
   "name": "python",
   "nbconvert_exporter": "python",
   "pygments_lexer": "ipython3",
   "version": "3.8.10"
  }
 },
 "nbformat": 4,
 "nbformat_minor": 5
}
