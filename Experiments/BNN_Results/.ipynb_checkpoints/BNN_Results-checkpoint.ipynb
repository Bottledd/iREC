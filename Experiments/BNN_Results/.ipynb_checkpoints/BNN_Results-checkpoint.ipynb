{
 "cells": [
  {
   "cell_type": "code",
   "execution_count": 1,
   "id": "74566a67",
   "metadata": {},
   "outputs": [],
   "source": [
    "%load_ext autoreload"
   ]
  },
  {
   "cell_type": "code",
   "execution_count": 2,
   "id": "39ef6f24",
   "metadata": {},
   "outputs": [],
   "source": [
    "%autoreload 2"
   ]
  },
  {
   "cell_type": "code",
   "execution_count": 3,
   "id": "ddb1c706",
   "metadata": {},
   "outputs": [
    {
     "name": "stdout",
     "output_type": "stream",
     "text": [
      "/scratch/km817/iREC\n"
     ]
    }
   ],
   "source": [
    "%cd ../.."
   ]
  },
  {
   "cell_type": "code",
   "execution_count": 4,
   "id": "18680036",
   "metadata": {},
   "outputs": [],
   "source": [
    "import pickle as pkl\n",
    "import matplotlib.pyplot as plt\n",
    "import torch\n",
    "import torch.distributions as D\n",
    "import hamiltorch\n",
    "import torch.nn as nn\n",
    "import torch.nn.functional as F"
   ]
  },
  {
   "cell_type": "code",
   "execution_count": 5,
   "id": "c42a4a99",
   "metadata": {},
   "outputs": [],
   "source": [
    "def make_empirical_predictive(weights, x_input, y_output):\n",
    "    pred_list, _ = hamiltorch.predict_model(net, x = x_input.flatten().to(device),\n",
    "                                                  y = y_output.flatten().to(device), samples=weights,\n",
    "                                                  model_loss='regression', tau_out=tau_out,\n",
    "                                                  tau_list=tau_list)\n",
    "    \n",
    "    # need to make gmm at each sample\n",
    "    return pred_list\n",
    "\n",
    "def make_empirical_gmm(preds):\n",
    "    mix = D.Categorical(torch.ones(preds.shape[0]))\n",
    "    comp = D.Normal(loc=preds.squeeze().permute(1, 0), scale=beta ** -0.5)\n",
    "    gmm = D.MixtureSameFamily(mix, comp)\n",
    "    return gmm\n",
    "\n",
    "def compute_gmm_lp(weights, x, y):\n",
    "    preds = make_empirical_predictive(weights, x, y)\n",
    "    \n",
    "    gmm = make_empirical_gmm(preds)\n",
    "    \n",
    "    return gmm.log_prob(y.squeeze()).sum()"
   ]
  },
  {
   "cell_type": "code",
   "execution_count": 6,
   "id": "e39719fd",
   "metadata": {},
   "outputs": [],
   "source": [
    "%matplotlib inline\n",
    "%config InlineBackend.figure_format='retina'"
   ]
  },
  {
   "cell_type": "code",
   "execution_count": 7,
   "id": "4aa1084e",
   "metadata": {},
   "outputs": [],
   "source": [
    "from models.BNNs.DeterministicNN import Deterministic_NN"
   ]
  },
  {
   "cell_type": "code",
   "execution_count": 8,
   "id": "c7e95c55",
   "metadata": {},
   "outputs": [],
   "source": [
    "def plot_preds(weights, ax=None, title='',\n",
    "               plt_train_kwargs={'alpha' : 1, 'marker' :'*', 'color':'k', 'rasterized' : True},\n",
    "               plt_test_kwargs={'alpha' : 0.5, 'marker' :'+', 'color':'k', 'rasterized' : True},\n",
    "               plt_mean_kwargs={'color':'b', 'rasterized' : True},\n",
    "               plt_true_kwargs={'color':'r', 'rasterized' : True},\n",
    "               epistemic_kwargs={'alpha' : 0.5, 'rasterized' : True},\n",
    "               aleatoric_kwargs={'alpha' : 0.2, 'rasterized' : True},\n",
    "               fs=16,\n",
    "               ):\n",
    "    preds = make_empirical_predictive(weights, xs, ys)\n",
    "    \n",
    "    test_ll = compute_gmm_lp(weights, x_test, y_test)\n",
    "    train_ll = compute_gmm_lp(weights, x_data, y_data)\n",
    "    if ax is None:\n",
    "        ax = plt.gca()\n",
    "\n",
    "    m = preds.mean(0).to('cpu')\n",
    "    s = preds.std(0).to('cpu')\n",
    "    s_al = (preds.var(0).to('cpu') + tau_out ** -1) ** 0.5\n",
    "\n",
    "    # Get upper and lower confidence bounds\n",
    "    lower, upper = (m - s*2).flatten(), (m + s*2).flatten()\n",
    "    # + aleotoric\n",
    "    lower_al, upper_al = (m - s_al*2).flatten(), (m + s_al*2).flatten()\n",
    "\n",
    "    # Plot training data as black stars\n",
    "    ax.scatter(x_data.numpy(), y_data.numpy(), **plt_train_kwargs, label='Train Data')\n",
    "#     # Plot testing data as black crosses\n",
    "#     ax.scatter(x_test.numpy(), y_test.numpy(), **plt_test_kwargs, label='Test Data')\n",
    "    # Plot predictive means as blue line\n",
    "    ax.plot(xs.numpy(), m.numpy(), **plt_mean_kwargs, label='Mean')\n",
    "    ax.plot(xs.numpy(), ys.numpy(), **plt_true_kwargs, label='Ground Truth')\n",
    "    # Shade between the lower and upper confidence bounds\n",
    "    ax.fill_between(xs.flatten().numpy(), lower.numpy(), upper.numpy(), **epistemic_kwargs, label='Epistemic')\n",
    "    ax.fill_between(xs.flatten().numpy(), lower_al.numpy(), upper_al.numpy(), **aleatoric_kwargs, label = 'Aleatoric')\n",
    "    #ax.legend(['Observed Data', 'Mean', 'Ground Truth', 'Epistemic', 'Aleatoric'], fontsize = fs)\n",
    "    ax.tick_params(axis='both', which='major', labelsize=14)\n",
    "    ax.tick_params(axis='both', which='minor', labelsize=14)\n",
    "    ax.set_title(title, fontsize=fs)\n",
    "    ax.set_xlim(-10., 10.)\n",
    "    bbox = {'facecolor': 'white', 'alpha': 0.6, 'pad': 0.5, 'boxstyle': 'round', 'edgecolor':'black'}\n",
    "    ax.text(-5, 1.2, f'Test LL: {test_ll:.2f}', bbox=bbox, fontsize=fs, horizontalalignment='center')\n",
    "    ax.text(-5, 0.05, f'Train LL: {train_ll:.2f}', bbox=bbox, fontsize=fs, horizontalalignment='center')\n",
    "    ax.grid()\n",
    "    return(ax)"
   ]
  },
  {
   "cell_type": "code",
   "execution_count": 9,
   "id": "75a22290",
   "metadata": {},
   "outputs": [],
   "source": [
    "# create toy dataset\n",
    "torch.set_default_tensor_type(torch.DoubleTensor)\n",
    "torch.manual_seed(20)\n",
    "x = torch.cat([torch.Tensor(75).uniform_(-5, -2).sort()[0].reshape(-1, 1),\n",
    "               torch.Tensor(50).uniform_(2, 5).sort()[0].reshape(-1, 1)])\n",
    "i = 30\n",
    "x_data = torch.cat([x[0:i - 15], x[i + 14:]])\n",
    "\n",
    "# generate some data\n",
    "alpha, beta, num_nodes = 1., 100., 2\n",
    "\n",
    "# generate some data\n",
    "data_generator_model = Deterministic_NN(alpha=alpha, beta=beta, num_nodes=num_nodes)\n",
    "sampled_weights = data_generator_model.sample_weights_from_prior()\n",
    "data_generator_model.make_weights_from_sample(sampled_weights)\n",
    "y_data = data_generator_model(x_data).detach() + (\n",
    "            1 / data_generator_model.likelihood_beta ** 0.5) * torch.randn_like(\n",
    "    data_generator_model(x_data).detach())\n",
    "\n",
    "x_test = torch.Tensor(200).uniform_(-10., 10.).sort()[0]\n",
    "y_test = data_generator_model(x_test).detach() + (\n",
    "            1 / data_generator_model.likelihood_beta ** 0.5) * torch.randn_like(\n",
    "    data_generator_model(x_test).detach()).sort()[0]\n",
    "\n",
    "xs = torch.linspace(-10, 10, 100)\n",
    "ys = data_generator_model(xs).detach()"
   ]
  },
  {
   "cell_type": "code",
   "execution_count": 10,
   "id": "0f911522",
   "metadata": {},
   "outputs": [
    {
     "data": {
      "image/png": "[encoded data removed]",
      "text/plain": [
       "<Figure size 864x360 with 1 Axes>"
      ]
     },
     "metadata": {
      "image/png": {
       "height": 302,
       "width": 706
      },
      "needs_background": "light"
     },
     "output_type": "display_data"
    }
   ],
   "source": [
    "plt.figure(figsize=(12,5))\n",
    "plt.plot(x_data,y_data, 'k*')\n",
    "plt.plot(x_test,y_test, 'k+')\n",
    "plt.plot(xs, ys, 'r')\n",
    "plt.legend(['Observed Data', 'Ground Truth', 'Test Data'], fontsize = 16)\n",
    "plt.grid()\n",
    "plt.show()"
   ]
  },
  {
   "cell_type": "code",
   "execution_count": 11,
   "id": "1432fa45",
   "metadata": {},
   "outputs": [],
   "source": [
    "device = torch.device('cpu')\n",
    "class Net(nn.Module):\n",
    "    def __init__(self, num_nodes: int = 10):\n",
    "        super(Net, self).__init__()\n",
    "        self.fc1 = nn.Linear(1, num_nodes)\n",
    "        self.fc2 = nn.Linear(num_nodes, num_nodes)\n",
    "        self.fc3 = nn.Linear(num_nodes, 1)\n",
    "\n",
    "    def forward(self, x):\n",
    "        x = torch.tanh(self.fc1(x.view(-1, 1)))\n",
    "        x = torch.tanh(self.fc2(x))\n",
    "        x = self.fc3(x)\n",
    "        return x\n",
    "\n",
    "\n",
    "net = Net(num_nodes=num_nodes)"
   ]
  },
  {
   "cell_type": "code",
   "execution_count": 12,
   "id": "e865a7ab",
   "metadata": {},
   "outputs": [],
   "source": [
    "# params for plotting \n",
    "model_loss = 'regression'\n",
    "tau = alpha # Prior Precision\n",
    "tau_out = beta # Output Precision\n",
    "r = 0 # Random seed\n",
    "\n",
    "\n",
    "tau_list = []\n",
    "for w in net.parameters():\n",
    "    tau_list.append(tau) # set the prior precision to be the same for each set of weights\n",
    "tau_list = torch.tensor(tau_list).to(device)"
   ]
  },
  {
   "cell_type": "markdown",
   "id": "7e2e0fff",
   "metadata": {},
   "source": [
    "# Emp vs KDE"
   ]
  },
  {
   "cell_type": "code",
   "execution_count": 13,
   "id": "56af39ac",
   "metadata": {},
   "outputs": [],
   "source": [
    "# load data\n",
    "true_hmc_weights = pkl.load(open('PickledStuff/BNN_STUFF/HMC_TRUE_WEIGHTS.pkl', 'rb'))\n",
    "compressed_weights_kde_exact = pkl.load(open('PickledStuff/BNN_STUFF/kde_exact_beta_1_1000.pkl', 'rb'))\n",
    "compressed_weights_kde_low_eps = pkl.load(open('PickledStuff/BNN_STUFF/kde_beta_1_eps_0_1000.pkl', 'rb'))\n",
    "compressed_weights_kde_med_eps = pkl.load(open('PickledStuff/BNN_STUFF/kde_beta_1_eps_0.1_1000.pkl', 'rb'))\n",
    "compressed_weights_kde_high_eps = pkl.load(open('PickledStuff/BNN_STUFF/kde_beta_1_eps_0.2_1000.pkl', 'rb'))\n",
    "compressed_weights_emp_low_eps = pkl.load(open('PickledStuff/BNN_STUFF/emp_0_1000.pkl', 'rb'))\n",
    "compressed_weights_emp_med_eps = pkl.load(open('PickledStuff/BNN_STUFF/emp_0.1_1000.pkl', 'rb'))\n",
    "compressed_weights_emp_high_eps = pkl.load(open('PickledStuff/BNN_STUFF/emp_0.2_1000.pkl', 'rb'))"
   ]
  },
  {
   "cell_type": "code",
   "execution_count": 14,
   "id": "b1ca6f96",
   "metadata": {},
   "outputs": [],
   "source": [
    "weights = [true_hmc_weights, compressed_weights_kde_exact, \n",
    "           compressed_weights_kde_low_eps, compressed_weights_emp_low_eps,\n",
    "           compressed_weights_kde_med_eps, compressed_weights_emp_med_eps,\n",
    "           compressed_weights_kde_high_eps, compressed_weights_emp_high_eps]"
   ]
  },
  {
   "cell_type": "code",
   "execution_count": 15,
   "id": "39db4b50",
   "metadata": {},
   "outputs": [],
   "source": [
    "preds = {}\n",
    "preds['True HMC samples'] = true_hmc_weights\n",
    "preds['Exact KDE Samples'] = compressed_weights_kde_exact\n",
    "preds['Compressed EMP, ' + r'$\\epsilon=0$'] = compressed_weights_emp_low_eps\n",
    "preds['Compressed KDE, ' + r'$\\epsilon=0$'] = compressed_weights_kde_low_eps\n",
    "preds['Compressed EMP, ' + r'$\\epsilon=0.1$'] = compressed_weights_emp_med_eps\n",
    "preds['Compressed KDE, ' + r'$\\epsilon=0.1$'] = compressed_weights_kde_med_eps\n",
    "preds['Compressed EMP, ' + r'$\\epsilon=0.2$'] = compressed_weights_emp_high_eps\n",
    "preds['Compressed KDE, ' + r'$\\epsilon=0.2$'] = compressed_weights_kde_high_eps"
   ]
  },
  {
   "cell_type": "code",
   "execution_count": null,
   "id": "b4f1b6cf",
   "metadata": {},
   "outputs": [],
   "source": [
    "f, axes = plt.subplots(4, 2, figsize=(15, 20), sharex=True, sharey=True)\n",
    "for pred, ax in zip(preds, axes.flatten()):\n",
    "    plot_preds(preds[pred], ax, fs=16, title=pred)\n",
    "    \n",
    "handles, labels = ax.get_legend_handles_labels()\n",
    "f.legend(handles, labels, loc='upper right', fontsize=16)\n",
    "f.tight_layout()"
   ]
  },
  {
   "cell_type": "markdown",
   "id": "bf36a8b7",
   "metadata": {},
   "source": [
    "# beta 1.5"
   ]
  },
  {
   "cell_type": "code",
   "execution_count": null,
   "id": "de398d85",
   "metadata": {},
   "outputs": [],
   "source": [
    "# load data\n",
    "compressed_weights_kde_exact = pkl.load(open('PickledStuff/BNN_STUFF/kde_exact_beta_1.5_1000.pkl', 'rb'))\n",
    "compressed_weights_kde_low_eps = pkl.load(open('PickledStuff/BNN_STUFF/kde_beta_1.5_eps_0_1000.pkl', 'rb'))\n",
    "compressed_weights_kde_med_eps = pkl.load(open('PickledStuff/BNN_STUFF/kde_beta_1.5_eps_0.1_1000.pkl', 'rb'))\n",
    "compressed_weights_kde_high_eps = pkl.load(open('PickledStuff/BNN_STUFF/kde_beta_1.5_eps_0.2_1000.pkl', 'rb'))"
   ]
  },
  {
   "cell_type": "code",
   "execution_count": null,
   "id": "88abfd36",
   "metadata": {},
   "outputs": [],
   "source": [
    "weights = [compressed_weights_kde_exact, compressed_weights_kde_low_eps, compressed_weights_kde_med_eps, compressed_weights_kde_high_eps]"
   ]
  },
  {
   "cell_type": "code",
   "execution_count": null,
   "id": "a1f7d4a3",
   "metadata": {},
   "outputs": [],
   "source": [
    "preds = {}\n",
    "preds['Exact KDE Samples'] = compressed_weights_kde_exact\n",
    "preds['Compressed, ' + r'$\\epsilon=0$'] = compressed_weights_kde_low_eps\n",
    "preds['Compressed, ' + r'$\\epsilon=0.1$'] = compressed_weights_kde_med_eps\n",
    "preds['Compressed, ' + r'$\\epsilon=0.2$'] = compressed_weights_kde_high_eps"
   ]
  },
  {
   "cell_type": "code",
   "execution_count": null,
   "id": "745d0c0c",
   "metadata": {},
   "outputs": [],
   "source": [
    "f, axes = plt.subplots(2, 2, figsize=(15, 10), sharex=True, sharey=True)\n",
    "for pred, ax in zip(preds, axes.flatten()):\n",
    "    plot_preds(preds[pred], ax, fs=16, title=pred)\n",
    "    \n",
    "handles, labels = ax.get_legend_handles_labels()\n",
    "f.legend(handles, labels, loc='upper right', fontsize=16)\n",
    "f.tight_layout()"
   ]
  },
  {
   "cell_type": "markdown",
   "id": "4deeef95",
   "metadata": {},
   "source": [
    "# beta 1"
   ]
  },
  {
   "cell_type": "code",
   "execution_count": null,
   "id": "802fe32b",
   "metadata": {},
   "outputs": [],
   "source": [
    "# load data\n",
    "compressed_weights_kde_exact = pkl.load(open('PickledStuff/BNN_STUFF/kde_exact_beta_1_1000.pkl', 'rb'))\n",
    "compressed_weights_kde_low_eps = pkl.load(open('PickledStuff/BNN_STUFF/kde_beta_1_eps_0_1000.pkl', 'rb'))\n",
    "compressed_weights_kde_med_eps = pkl.load(open('PickledStuff/BNN_STUFF/kde_beta_1_eps_0.1_1000.pkl', 'rb'))\n",
    "compressed_weights_kde_high_eps = pkl.load(open('PickledStuff/BNN_STUFF/kde_beta_1_eps_0.2_1000.pkl', 'rb'))"
   ]
  },
  {
   "cell_type": "code",
   "execution_count": null,
   "id": "deca8724",
   "metadata": {},
   "outputs": [],
   "source": [
    "weights = [compressed_weights_kde_exact, compressed_weights_kde_low_eps, compressed_weights_kde_med_eps, compressed_weights_kde_high_eps]"
   ]
  },
  {
   "cell_type": "code",
   "execution_count": null,
   "id": "3c4e13ad",
   "metadata": {},
   "outputs": [],
   "source": [
    "preds = {}\n",
    "preds['Exact KDE Samples'] = compressed_weights_kde_exact\n",
    "preds['Compressed, ' + r'$\\epsilon=0$'] = compressed_weights_kde_low_eps\n",
    "preds['Compressed, ' + r'$\\epsilon=0.1$'] = compressed_weights_kde_med_eps\n",
    "preds['Compressed, ' + r'$\\epsilon=0.2$'] = compressed_weights_kde_high_eps"
   ]
  },
  {
   "cell_type": "code",
   "execution_count": null,
   "id": "8d2d9978",
   "metadata": {},
   "outputs": [],
   "source": [
    "f, axes = plt.subplots(2, 2, figsize=(15, 10), sharex=True, sharey=True)\n",
    "for pred, ax in zip(preds, axes.flatten()):\n",
    "    plot_preds(preds[pred], ax, fs=16, title=pred)\n",
    "    \n",
    "handles, labels = ax.get_legend_handles_labels()\n",
    "f.legend(handles, labels, loc='upper right', fontsize=16)\n",
    "f.tight_layout()"
   ]
  },
  {
   "cell_type": "markdown",
   "id": "df0d2808",
   "metadata": {},
   "source": [
    "# beta 0.75"
   ]
  },
  {
   "cell_type": "code",
   "execution_count": null,
   "id": "95cf64c0",
   "metadata": {},
   "outputs": [],
   "source": [
    "# load data\n",
    "compressed_weights_kde_exact = pkl.load(open('PickledStuff/BNN_STUFF/kde_exact_beta_0.75_1000.pkl', 'rb'))\n",
    "compressed_weights_kde_low_eps = pkl.load(open('PickledStuff/BNN_STUFF/kde_beta_0.75_eps_0_1000.pkl', 'rb'))\n",
    "compressed_weights_kde_med_eps = pkl.load(open('PickledStuff/BNN_STUFF/kde_beta_0.75_eps_0.1_1000.pkl', 'rb'))\n",
    "compressed_weights_kde_high_eps = pkl.load(open('PickledStuff/BNN_STUFF/kde_beta_0.75_eps_0.2_1000.pkl', 'rb'))"
   ]
  },
  {
   "cell_type": "code",
   "execution_count": null,
   "id": "eb954a16",
   "metadata": {},
   "outputs": [],
   "source": [
    "weights = [compressed_weights_kde_exact, compressed_weights_kde_low_eps, compressed_weights_kde_med_eps, compressed_weights_kde_high_eps]"
   ]
  },
  {
   "cell_type": "code",
   "execution_count": null,
   "id": "95b49dfb",
   "metadata": {},
   "outputs": [],
   "source": [
    "preds = {}\n",
    "preds['Exact KDE Samples'] = compressed_weights_kde_exact\n",
    "preds['Compressed, ' + r'$\\epsilon=0$'] = compressed_weights_kde_low_eps\n",
    "preds['Compressed, ' + r'$\\epsilon=0.1$'] = compressed_weights_kde_med_eps\n",
    "preds['Compressed, ' + r'$\\epsilon=0.2$'] = compressed_weights_kde_high_eps"
   ]
  },
  {
   "cell_type": "code",
   "execution_count": null,
   "id": "9868bb65",
   "metadata": {},
   "outputs": [],
   "source": [
    "f, axes = plt.subplots(2, 2, figsize=(15, 10), sharex=True, sharey=True)\n",
    "for pred, ax in zip(preds, axes.flatten()):\n",
    "    plot_preds(preds[pred], ax, fs=16, title=pred)\n",
    "    \n",
    "handles, labels = ax.get_legend_handles_labels()\n",
    "f.legend(handles, labels, loc='upper right', fontsize=16)\n",
    "f.tight_layout()"
   ]
  },
  {
   "cell_type": "markdown",
   "id": "dff20d75",
   "metadata": {},
   "source": [
    "# beta 0.5"
   ]
  },
  {
   "cell_type": "code",
   "execution_count": null,
   "id": "5114e54c",
   "metadata": {},
   "outputs": [],
   "source": [
    "# load data\n",
    "compressed_weights_kde_exact = pkl.load(open('PickledStuff/BNN_STUFF/kde_exact_beta_0.5_1000.pkl', 'rb'))\n",
    "compressed_weights_kde_low_eps = pkl.load(open('PickledStuff/BNN_STUFF/kde_beta_0.5_eps_0_1000.pkl', 'rb'))\n",
    "compressed_weights_kde_med_eps = pkl.load(open('PickledStuff/BNN_STUFF/kde_beta_0.5_eps_0.1_1000.pkl', 'rb'))\n",
    "compressed_weights_kde_high_eps = pkl.load(open('PickledStuff/BNN_STUFF/kde_beta_0.5_eps_0.2_1000.pkl', 'rb'))"
   ]
  },
  {
   "cell_type": "code",
   "execution_count": null,
   "id": "045dca43",
   "metadata": {},
   "outputs": [],
   "source": [
    "weights = [compressed_weights_kde_exact, compressed_weights_kde_low_eps, compressed_weights_kde_med_eps, compressed_weights_kde_high_eps]"
   ]
  },
  {
   "cell_type": "code",
   "execution_count": null,
   "id": "79d2e1a6",
   "metadata": {},
   "outputs": [],
   "source": [
    "preds = {}\n",
    "preds['Exact KDE Samples'] = compressed_weights_kde_exact\n",
    "preds['Compressed, ' + r'$\\epsilon=0$'] = compressed_weights_kde_low_eps\n",
    "preds['Compressed, ' + r'$\\epsilon=0.1$'] = compressed_weights_kde_med_eps\n",
    "preds['Compressed, ' + r'$\\epsilon=0.2$'] = compressed_weights_kde_high_eps"
   ]
  },
  {
   "cell_type": "code",
   "execution_count": null,
   "id": "e42fa726",
   "metadata": {},
   "outputs": [],
   "source": [
    "f, axes = plt.subplots(2, 2, figsize=(15, 10), sharex=True, sharey=True)\n",
    "for pred, ax in zip(preds, axes.flatten()):\n",
    "    plot_preds(preds[pred], ax, fs=16, title=pred)\n",
    "    \n",
    "handles, labels = ax.get_legend_handles_labels()\n",
    "f.legend(handles, labels, loc='upper right', fontsize=16)\n",
    "f.tight_layout()"
   ]
  },
  {
   "cell_type": "markdown",
   "id": "a28bf57b",
   "metadata": {},
   "source": [
    "# beta 0.25"
   ]
  },
  {
   "cell_type": "code",
   "execution_count": null,
   "id": "ff0f52a6",
   "metadata": {},
   "outputs": [],
   "source": [
    "# load data\n",
    "compressed_weights_kde_exact = pkl.load(open('PickledStuff/BNN_STUFF/kde_exact_beta_0.25_1000.pkl', 'rb'))\n",
    "compressed_weights_kde_low_eps = pkl.load(open('PickledStuff/BNN_STUFF/kde_beta_0.25_eps_0_1000.pkl', 'rb'))\n",
    "compressed_weights_kde_med_eps = pkl.load(open('PickledStuff/BNN_STUFF/kde_beta_0.25_eps_0.1_1000.pkl', 'rb'))\n",
    "compressed_weights_kde_high_eps = pkl.load(open('PickledStuff/BNN_STUFF/kde_beta_0.25_eps_0.2_1000.pkl', 'rb'))"
   ]
  },
  {
   "cell_type": "code",
   "execution_count": null,
   "id": "9b5326f7",
   "metadata": {},
   "outputs": [],
   "source": [
    "weights = [compressed_weights_kde_exact, compressed_weights_kde_low_eps, compressed_weights_kde_med_eps, compressed_weights_kde_high_eps]"
   ]
  },
  {
   "cell_type": "code",
   "execution_count": null,
   "id": "2dcb37e4",
   "metadata": {},
   "outputs": [],
   "source": [
    "preds = {}\n",
    "preds['Exact KDE Samples'] = compressed_weights_kde_exact\n",
    "preds['Compressed, ' + r'$\\epsilon=0$'] = compressed_weights_kde_low_eps\n",
    "preds['Compressed, ' + r'$\\epsilon=0.1$'] = compressed_weights_kde_med_eps\n",
    "preds['Compressed, ' + r'$\\epsilon=0.2$'] = compressed_weights_kde_high_eps"
   ]
  },
  {
   "cell_type": "code",
   "execution_count": null,
   "id": "b3624262",
   "metadata": {},
   "outputs": [],
   "source": [
    "f, axes = plt.subplots(2, 2, figsize=(15, 10), sharex=True, sharey=True)\n",
    "for pred, ax in zip(preds, axes.flatten()):\n",
    "    plot_preds(preds[pred], ax, fs=16, title=pred)\n",
    "    \n",
    "handles, labels = ax.get_legend_handles_labels()\n",
    "f.legend(handles, labels, loc='upper right', fontsize=16)\n",
    "f.tight_layout()"
   ]
  },
  {
   "cell_type": "markdown",
   "id": "ce41c2a8",
   "metadata": {},
   "source": [
    "# beta 0.1"
   ]
  },
  {
   "cell_type": "code",
   "execution_count": null,
   "id": "6c0dff0f",
   "metadata": {},
   "outputs": [],
   "source": [
    "# load data\n",
    "compressed_weights_kde_exact = pkl.load(open('PickledStuff/BNN_STUFF/kde_exact_beta_0.1_1000.pkl', 'rb'))\n",
    "compressed_weights_kde_low_eps = pkl.load(open('PickledStuff/BNN_STUFF/kde_beta_0.1_eps_0_1000.pkl', 'rb'))\n",
    "compressed_weights_kde_med_eps = pkl.load(open('PickledStuff/BNN_STUFF/kde_beta_0.1_eps_0.1_1000.pkl', 'rb'))\n",
    "compressed_weights_kde_high_eps = pkl.load(open('PickledStuff/BNN_STUFF/kde_beta_0.1_eps_0.2_1000.pkl', 'rb'))"
   ]
  },
  {
   "cell_type": "code",
   "execution_count": null,
   "id": "d700f3ee",
   "metadata": {},
   "outputs": [],
   "source": [
    "weights = [compressed_weights_kde_exact, compressed_weights_kde_low_eps, compressed_weights_kde_med_eps, compressed_weights_kde_high_eps]"
   ]
  },
  {
   "cell_type": "code",
   "execution_count": null,
   "id": "70839fa5",
   "metadata": {},
   "outputs": [],
   "source": [
    "preds = {}\n",
    "preds['Exact KDE Samples'] = compressed_weights_kde_exact\n",
    "preds['Compressed, ' + r'$\\epsilon=0$'] = compressed_weights_kde_low_eps\n",
    "preds['Compressed, ' + r'$\\epsilon=0.1$'] = compressed_weights_kde_med_eps\n",
    "preds['Compressed, ' + r'$\\epsilon=0.2$'] = compressed_weights_kde_high_eps"
   ]
  },
  {
   "cell_type": "code",
   "execution_count": null,
   "id": "2f10baa5",
   "metadata": {},
   "outputs": [],
   "source": [
    "f, axes = plt.subplots(2, 2, figsize=(15, 10), sharex=True, sharey=True)\n",
    "for pred, ax in zip(preds, axes.flatten()):\n",
    "    plot_preds(preds[pred], ax, fs=16, title=pred)\n",
    "    \n",
    "handles, labels = ax.get_legend_handles_labels()\n",
    "f.legend(handles, labels, loc='upper right', fontsize=16)\n",
    "f.tight_layout()"
   ]
  },
  {
   "cell_type": "markdown",
   "id": "3383d917",
   "metadata": {},
   "source": [
    "# Across Beta Comparisons"
   ]
  },
  {
   "cell_type": "markdown",
   "id": "cd4b92b2",
   "metadata": {},
   "source": [
    "## Epsilon = 0"
   ]
  },
  {
   "cell_type": "code",
   "execution_count": null,
   "id": "4ad94ae4",
   "metadata": {},
   "outputs": [],
   "source": [
    "# load data\n",
    "compressed_weights_kde_beta_1_5 = pkl.load(open('PickledStuff/BNN_STUFF/kde_beta_1.5_eps_0_1000.pkl', 'rb'))\n",
    "compressed_weights_kde_beta_1 = pkl.load(open('PickledStuff/BNN_STUFF/kde_beta_1_eps_0_1000.pkl', 'rb'))\n",
    "compressed_weights_kde_beta_0_7_5 = pkl.load(open('PickledStuff/BNN_STUFF/kde_beta_0.75_eps_0_1000.pkl', 'rb'))\n",
    "compressed_weights_kde_beta_0_5 = pkl.load(open('PickledStuff/BNN_STUFF/kde_beta_0.5_eps_0_1000.pkl', 'rb'))\n",
    "compressed_weights_kde_beta_0_2_5 = pkl.load(open('PickledStuff/BNN_STUFF/kde_beta_0.25_eps_0_1000.pkl', 'rb'))\n",
    "compressed_weights_kde_beta_0_1 = pkl.load(open('PickledStuff/BNN_STUFF/kde_beta_0.1_eps_0_1000.pkl', 'rb'))"
   ]
  },
  {
   "cell_type": "code",
   "execution_count": null,
   "id": "cbc431db",
   "metadata": {},
   "outputs": [],
   "source": [
    "weights = [true_hmc_weights, compressed_weights_kde_beta_1_5, compressed_weights_kde_beta_1, \n",
    "           compressed_weights_kde_beta_0_7_5, compressed_weights_kde_beta_0_5,\n",
    "           compressed_weights_kde_beta_0_2_5, compressed_weights_kde_beta_0_1]"
   ]
  },
  {
   "cell_type": "code",
   "execution_count": null,
   "id": "3b05665d",
   "metadata": {},
   "outputs": [],
   "source": [
    "preds = {}\n",
    "preds['True HMC Samples'] = true_hmc_weights\n",
    "preds[r'$\\beta = 1.5$'] = compressed_weights_kde_beta_1_5\n",
    "preds[r'$\\beta = 1$'] = compressed_weights_kde_beta_1\n",
    "preds[r'$\\beta = 0.75$'] = compressed_weights_kde_beta_0_7_5\n",
    "preds[r'$\\beta = 0.5$'] = compressed_weights_kde_beta_0_5\n",
    "preds[r'$\\beta = 0.25$'] = compressed_weights_kde_beta_0_2_5\n",
    "preds[r'$\\beta = 0.1$'] = compressed_weights_kde_beta_0_1"
   ]
  },
  {
   "cell_type": "code",
   "execution_count": null,
   "id": "68f57ac0",
   "metadata": {},
   "outputs": [],
   "source": [
    "f, axes = plt.subplots(3, 2, figsize=(15, 12.5), sharex=True, sharey=True)\n",
    "for pred, ax in zip(preds, axes.flatten()):\n",
    "    plot_preds(preds[pred], ax, fs=16, title=pred)\n",
    "    \n",
    "handles, labels = ax.get_legend_handles_labels()\n",
    "f.legend(handles, labels, loc='upper right', fontsize=16)\n",
    "f.tight_layout()"
   ]
  },
  {
   "cell_type": "markdown",
   "id": "73748236",
   "metadata": {},
   "source": [
    "## Epsilon = 0.1"
   ]
  },
  {
   "cell_type": "code",
   "execution_count": null,
   "id": "63f673cf",
   "metadata": {},
   "outputs": [],
   "source": [
    "# load data\n",
    "compressed_weights_kde_beta_1_5 = pkl.load(open('PickledStuff/BNN_STUFF/kde_beta_1.5_eps_0.1_1000.pkl', 'rb'))\n",
    "compressed_weights_kde_beta_1 = pkl.load(open('PickledStuff/BNN_STUFF/kde_beta_1_eps_0.1_1000.pkl', 'rb'))\n",
    "compressed_weights_kde_beta_0_7_5 = pkl.load(open('PickledStuff/BNN_STUFF/kde_beta_0.75_eps_0.1_1000.pkl', 'rb'))\n",
    "compressed_weights_kde_beta_0_5 = pkl.load(open('PickledStuff/BNN_STUFF/kde_beta_0.5_eps_0.1_1000.pkl', 'rb'))\n",
    "compressed_weights_kde_beta_0_2_5 = pkl.load(open('PickledStuff/BNN_STUFF/kde_beta_0.25_eps_0.1_1000.pkl', 'rb'))\n",
    "compressed_weights_kde_beta_0_1 = pkl.load(open('PickledStuff/BNN_STUFF/kde_beta_0.1_eps_0.1_1000.pkl', 'rb'))"
   ]
  },
  {
   "cell_type": "code",
   "execution_count": null,
   "id": "e53c24d8",
   "metadata": {},
   "outputs": [],
   "source": [
    "weights = [true_hmc_weights, compressed_weights_kde_beta_1_5, compressed_weights_kde_beta_1, \n",
    "           compressed_weights_kde_beta_0_7_5, compressed_weights_kde_beta_0_5,\n",
    "           compressed_weights_kde_beta_0_2_5, compressed_weights_kde_beta_0_1]"
   ]
  },
  {
   "cell_type": "code",
   "execution_count": null,
   "id": "1eb4ba17",
   "metadata": {},
   "outputs": [],
   "source": [
    "preds = {}\n",
    "preds['True HMC Samples'] = true_hmc_weights\n",
    "preds[r'$\\beta = 1.5$'] = compressed_weights_kde_beta_1_5\n",
    "preds[r'$\\beta = 1$'] = compressed_weights_kde_beta_1\n",
    "preds[r'$\\beta = 0.75$'] = compressed_weights_kde_beta_0_7_5\n",
    "preds[r'$\\beta = 0.5$'] = compressed_weights_kde_beta_0_5\n",
    "preds[r'$\\beta = 0.25$'] = compressed_weights_kde_beta_0_2_5\n",
    "preds[r'$\\beta = 0.1$'] = compressed_weights_kde_beta_0_1"
   ]
  },
  {
   "cell_type": "code",
   "execution_count": null,
   "id": "6fb1abe8",
   "metadata": {},
   "outputs": [],
   "source": [
    "f, axes = plt.subplots(3, 2, figsize=(15, 12.5), sharex=True, sharey=True)\n",
    "for pred, ax in zip(preds, axes.flatten()):\n",
    "    plot_preds(preds[pred], ax, fs=16, title=pred)\n",
    "    \n",
    "handles, labels = ax.get_legend_handles_labels()\n",
    "f.legend(handles, labels, loc='upper right', fontsize=16)\n",
    "f.tight_layout()"
   ]
  },
  {
   "cell_type": "markdown",
   "id": "73eff857",
   "metadata": {},
   "source": [
    "## Epsilon = 0.2"
   ]
  },
  {
   "cell_type": "code",
   "execution_count": null,
   "id": "14211db7",
   "metadata": {},
   "outputs": [],
   "source": [
    "# load data\n",
    "compressed_weights_kde_beta_1_5 = pkl.load(open('PickledStuff/BNN_STUFF/kde_beta_1.5_eps_0.2_1000.pkl', 'rb'))\n",
    "compressed_weights_kde_beta_1 = pkl.load(open('PickledStuff/BNN_STUFF/kde_beta_1_eps_0.2_1000.pkl', 'rb'))\n",
    "compressed_weights_kde_beta_0_7_5 = pkl.load(open('PickledStuff/BNN_STUFF/kde_beta_0.75_eps_0.2_1000.pkl', 'rb'))\n",
    "compressed_weights_kde_beta_0_5 = pkl.load(open('PickledStuff/BNN_STUFF/kde_beta_0.5_eps_0.2_1000.pkl', 'rb'))\n",
    "compressed_weights_kde_beta_0_2_5 = pkl.load(open('PickledStuff/BNN_STUFF/kde_beta_0.25_eps_0.2_1000.pkl', 'rb'))\n",
    "compressed_weights_kde_beta_0_1 = pkl.load(open('PickledStuff/BNN_STUFF/kde_beta_0.1_eps_0.2_1000.pkl', 'rb'))"
   ]
  },
  {
   "cell_type": "code",
   "execution_count": null,
   "id": "b1e366e2",
   "metadata": {},
   "outputs": [],
   "source": [
    "weights = [true_hmc_weights, compressed_weights_kde_beta_1_5, compressed_weights_kde_beta_1, \n",
    "           compressed_weights_kde_beta_0_7_5, compressed_weights_kde_beta_0_5,\n",
    "           compressed_weights_kde_beta_0_2_5, compressed_weights_kde_beta_0_1]"
   ]
  },
  {
   "cell_type": "code",
   "execution_count": null,
   "id": "ef9c7bb4",
   "metadata": {},
   "outputs": [],
   "source": [
    "preds = {}\n",
    "preds['True HMC Samples'] = true_hmc_weights\n",
    "preds[r'$\\beta = 1.5$'] = compressed_weights_kde_beta_1_5\n",
    "preds[r'$\\beta = 1$'] = compressed_weights_kde_beta_1\n",
    "preds[r'$\\beta = 0.75$'] = compressed_weights_kde_beta_0_7_5\n",
    "preds[r'$\\beta = 0.5$'] = compressed_weights_kde_beta_0_5\n",
    "preds[r'$\\beta = 0.25$'] = compressed_weights_kde_beta_0_2_5\n",
    "preds[r'$\\beta = 0.1$'] = compressed_weights_kde_beta_0_1"
   ]
  },
  {
   "cell_type": "code",
   "execution_count": null,
   "id": "fb54b465",
   "metadata": {},
   "outputs": [],
   "source": [
    "f, axes = plt.subplots(3, 2, figsize=(15, 12.5), sharex=True, sharey=True)\n",
    "for pred, ax in zip(preds, axes.flatten()):\n",
    "    plot_preds(preds[pred], ax, fs=16, title=pred)\n",
    "    \n",
    "handles, labels = ax.get_legend_handles_labels()\n",
    "f.legend(handles, labels, loc='upper right', fontsize=16)\n",
    "f.tight_layout()"
   ]
  },
  {
   "cell_type": "markdown",
   "id": "5643747e",
   "metadata": {},
   "source": [
    "# Emp vs KDE vs Variational"
   ]
  },
  {
   "cell_type": "code",
   "execution_count": null,
   "id": "9371e891",
   "metadata": {},
   "outputs": [],
   "source": [
    "# load data\n",
    "true_hmc_weights = pkl.load(open('PickledStuff/BNN_STUFF/HMC_TRUE_WEIGHTS.pkl', 'rb'))\n",
    "compressed_weights_kde_exact = pkl.load(open('PickledStuff/BNN_STUFF/kde_exact_beta_1_1000.pkl', 'rb'))\n",
    "compressed_weights_kde_low_eps = pkl.load(open('PickledStuff/BNN_STUFF/kde_beta_1_eps_0_1000.pkl', 'rb'))\n",
    "compressed_weights_kde_med_eps = pkl.load(open('PickledStuff/BNN_STUFF/kde_beta_1_eps_0.1_1000.pkl', 'rb'))\n",
    "compressed_weights_kde_high_eps = pkl.load(open('PickledStuff/BNN_STUFF/kde_beta_1_eps_0.2_1000.pkl', 'rb'))\n",
    "compressed_weights_emp_low_eps = pkl.load(open('PickledStuff/BNN_STUFF/emp_0_1000.pkl', 'rb'))\n",
    "compressed_weights_emp_med_eps = pkl.load(open('PickledStuff/BNN_STUFF/emp_0.1_1000.pkl', 'rb'))\n",
    "compressed_weights_emp_high_eps = pkl.load(open('PickledStuff/BNN_STUFF/emp_0.2_1000.pkl', 'rb'))\n",
    "compressed_weights_var_exact = pkl.load(open('PickledStuff/BNN_STUFF/var_exact_beta_1.pkl', 'rb'))\n",
    "compressed_weights_var_low_eps = pkl.load(open('PickledStuff/BNN_STUFF/var_beta_1_eps_0.pkl', 'rb'))\n",
    "compressed_weights_var_med_eps = pkl.load(open('PickledStuff/BNN_STUFF/var_beta_1_eps_0.1.pkl', 'rb'))\n",
    "compressed_weights_var_high_eps = pkl.load(open('PickledStuff/BNN_STUFF/var_beta_1_eps_0.2.pkl', 'rb'))"
   ]
  },
  {
   "cell_type": "code",
   "execution_count": null,
   "id": "c8635155",
   "metadata": {},
   "outputs": [],
   "source": [
    "weights = [true_hmc_weights, compressed_weights_kde_exact, compressed_weights_var_exact,\n",
    "           compressed_weights_kde_low_eps, compressed_weights_emp_low_eps, compressed_weights_var_low_eps,\n",
    "           compressed_weights_kde_med_eps, compressed_weights_emp_med_eps, compressed_weights_var_med_eps,\n",
    "           compressed_weights_kde_high_eps, compressed_weights_emp_high_eps, compressed_weights_var_high_eps,\n",
    "          ]"
   ]
  },
  {
   "cell_type": "code",
   "execution_count": null,
   "id": "5d1a075e",
   "metadata": {},
   "outputs": [],
   "source": [
    "preds = {}\n",
    "preds['True HMC samples'] = true_hmc_weights\n",
    "preds['Exact KDE Samples'] = compressed_weights_kde_exact\n",
    "preds['Exact VAR Samples'] = compressed_weights_var_exact\n",
    "preds['Compressed EMP, ' + r'$\\epsilon=0$'] = compressed_weights_emp_low_eps\n",
    "preds['Compressed KDE, ' + r'$\\epsilon=0$'] = compressed_weights_kde_low_eps\n",
    "preds['Compressed Var, ' + r'$\\epsilon=0$'] = compressed_weights_var_low_eps\n",
    "preds['Compressed EMP, ' + r'$\\epsilon=0.1$'] = compressed_weights_emp_med_eps\n",
    "preds['Compressed KDE, ' + r'$\\epsilon=0.1$'] = compressed_weights_kde_med_eps\n",
    "preds['Compressed VAR, ' + r'$\\epsilon=0.1$'] = compressed_weights_var_med_eps\n",
    "preds['Compressed EMP, ' + r'$\\epsilon=0.2$'] = compressed_weights_emp_high_eps\n",
    "preds['Compressed KDE, ' + r'$\\epsilon=0.2$'] = compressed_weights_kde_high_eps\n",
    "preds['Compressed VAR, ' + r'$\\epsilon=0.2$'] = compressed_weights_var_high_eps"
   ]
  },
  {
   "cell_type": "code",
   "execution_count": null,
   "id": "b9a97e02",
   "metadata": {},
   "outputs": [],
   "source": [
    "f, axes = plt.subplots(4, 3, figsize=(20, 17.5), sharex=True, sharey=True)\n",
    "for pred, ax in zip(preds, axes.flatten()):\n",
    "    plot_preds(preds[pred], ax, fs=16, title=pred)\n",
    "    \n",
    "handles, labels = ax.get_legend_handles_labels()\n",
    "f.legend(handles, labels, loc='upper right', fontsize=16)\n",
    "f.tight_layout()"
   ]
  }
 ],
 "metadata": {
  "kernelspec": {
   "display_name": "Python 3",
   "language": "python",
   "name": "python3"
  },
  "language_info": {
   "codemirror_mode": {
    "name": "ipython",
    "version": 3
   },
   "file_extension": ".py",
   "mimetype": "text/x-python",
   "name": "python",
   "nbconvert_exporter": "python",
   "pygments_lexer": "ipython3",
   "version": "3.8.10"
  }
 },
 "nbformat": 4,
 "nbformat_minor": 5
}
