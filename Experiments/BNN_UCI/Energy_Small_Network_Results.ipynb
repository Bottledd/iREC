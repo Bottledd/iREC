{
 "cells": [
  {
   "cell_type": "code",
   "execution_count": 1,
   "id": "6a9c880c",
   "metadata": {},
   "outputs": [],
   "source": [
    "%load_ext autoreload"
   ]
  },
  {
   "cell_type": "code",
   "execution_count": 2,
   "id": "dffe1227",
   "metadata": {},
   "outputs": [],
   "source": [
    "%autoreload 2"
   ]
  },
  {
   "cell_type": "code",
   "execution_count": 3,
   "id": "06b5f009",
   "metadata": {},
   "outputs": [
    {
     "name": "stdout",
     "output_type": "stream",
     "text": [
      "/scratch/km817/iREC\n"
     ]
    }
   ],
   "source": [
    "%cd ../.."
   ]
  },
  {
   "cell_type": "code",
   "execution_count": 4,
   "id": "dcd36661",
   "metadata": {},
   "outputs": [],
   "source": [
    "import pickle as pkl\n",
    "import matplotlib.pyplot as plt\n",
    "import torch\n",
    "import torch.distributions as D\n",
    "import torch.nn as nn\n",
    "import torch.nn.functional as F\n",
    "import pyro\n",
    "from torch import nn\n",
    "import pyro.distributions as dist\n",
    "from pyro.infer import HMC, MCMC, SVI, NUTS, TraceMeanField_ELBO\n",
    "from pyro import poutine\n",
    "from sklearn.datasets import load_boston\n",
    "import numpy as np\n",
    "import torch.nn.functional as F\n",
    "from tqdm.notebook import trange, tqdm\n",
    "from rec.utils import kl_estimate_with_mc\n",
    "import matplotlib.pyplot as plt\n"
   ]
  },
  {
   "cell_type": "code",
   "execution_count": 5,
   "id": "1415bdba",
   "metadata": {},
   "outputs": [],
   "source": [
    "plt.rcParams.update({'font.weight': 'normal'})\n",
    "plt.rcParams.update({'font.size': 16})\n",
    "plt.rcParams.update({'lines.linewidth' : 2})"
   ]
  },
  {
   "cell_type": "code",
   "execution_count": 6,
   "id": "c68f4422",
   "metadata": {},
   "outputs": [],
   "source": [
    "import numpy as np\n",
    "import pandas as pd\n",
    "np.random.seed(0)\n",
    "# np.random.seed(0)\n",
    "# !wget \"http://archive.ics.uci.edu/ml/machine-learning-databases/00242/ENB2012_data.xlsx\" --no-check-certificate\n",
    "data = pd.read_excel('ENB2012_data.xlsx', header=0).iloc[:, :10].values"
   ]
  },
  {
   "cell_type": "code",
   "execution_count": 7,
   "id": "6e40e43c",
   "metadata": {},
   "outputs": [],
   "source": [
    "x_ = data[:, :-2]\n",
    "y_ = data[:, -2:]"
   ]
  },
  {
   "cell_type": "code",
   "execution_count": 8,
   "id": "4f1a2b36",
   "metadata": {},
   "outputs": [],
   "source": [
    "test_splits_idxs = []\n",
    "for d in range(x_.shape[-1]):\n",
    "    sorted_x = np.argsort(x_[:,d], axis=-1)\n",
    "    total_points = sorted_x.shape[0]\n",
    "    lower_third = total_points // 3\n",
    "    upper_third = total_points * 2 // 3\n",
    "    test_index = sorted_x[lower_third: upper_third]\n",
    "    test_splits_idxs.append(test_index)"
   ]
  },
  {
   "cell_type": "code",
   "execution_count": 9,
   "id": "3d570272",
   "metadata": {},
   "outputs": [],
   "source": [
    "test_splits_x, test_splits_y = [], []\n",
    "train_splits_x, train_splits_y = [], []\n",
    "for d in range(x_.shape[-1]):\n",
    "    a = np.arange(x_.shape[0])\n",
    "    test_index = test_splits_idxs[d]\n",
    "    train_index = np.delete(a, test_index, axis=0)\n",
    "    x_train = x_[train_index]\n",
    "    y_train = y_[train_index]\n",
    "    x_test = x_[test_index][:]\n",
    "    y_test = y_[test_index][:]\n",
    "    x_m = x_train.mean(0)\n",
    "    x_s = x_train.std(0)\n",
    "    x_train = (x_train - x_m) / x_s\n",
    "    x_test = (x_test - x_m) / x_s\n",
    "    test_splits_x.append(x_test)\n",
    "    test_splits_y.append(y_test)\n",
    "    train_splits_x.append(x_train)\n",
    "    train_splits_y.append(y_train)"
   ]
  },
  {
   "cell_type": "code",
   "execution_count": 10,
   "id": "fbe17001",
   "metadata": {},
   "outputs": [],
   "source": [
    "D_in = x_train.shape[-1]\n",
    "D_out = y_test.shape[-1]\n",
    "x_train = torch.FloatTensor(np.array(train_splits_x))\n",
    "y_train = torch.FloatTensor(np.array(train_splits_y))\n",
    "x_test= torch.FloatTensor(np.array(test_splits_x))\n",
    "y_test = torch.FloatTensor(np.array(test_splits_y))"
   ]
  },
  {
   "cell_type": "code",
   "execution_count": 11,
   "id": "ad82bbe8",
   "metadata": {},
   "outputs": [],
   "source": [
    "def regression_model(x, y=None, weight_samples=None, in_size=1, num_nodes=10, out_size=1, ELBO_BETA=1.):\n",
    "    # sample vector of weights for regression\n",
    "    total_weights = (in_size + 1) * num_nodes + (num_nodes + 1) * num_nodes + (num_nodes + 1) * out_size\n",
    "    # sample params\n",
    "    with poutine.scale(scale=ELBO_BETA):\n",
    "        params = pyro.sample(\"params\", dist.Normal(torch.zeros(total_weights + D_out), 1.).to_event(1))\n",
    "    weights, rho = params[:-D_out], params[-D_out:]\n",
    "\n",
    "    idx = 0\n",
    "    fc1_weights = weights[idx: idx + in_size * num_nodes].reshape(num_nodes, in_size)\n",
    "    idx += in_size * num_nodes\n",
    "    fc1_bias = weights[idx: idx + num_nodes].reshape(num_nodes)\n",
    "    idx += num_nodes\n",
    "\n",
    "    fc2_weights = weights[idx: idx + num_nodes * num_nodes].reshape(num_nodes, num_nodes)\n",
    "    idx += num_nodes * num_nodes\n",
    "    fc2_bias = weights[idx: idx + num_nodes].reshape(num_nodes)\n",
    "    idx += num_nodes\n",
    "\n",
    "    fc3_weights = weights[idx: idx + num_nodes * out_size].reshape(out_size, num_nodes)\n",
    "    idx += num_nodes * out_size\n",
    "    fc3_bias = weights[idx: idx + out_size].reshape(out_size)\n",
    "    idx += out_size\n",
    "\n",
    "    assert idx == total_weights, \"Something wrong with number of weights!\"\n",
    "\n",
    "    # compute forward pass\n",
    "    batch_shape = x.shape[0]\n",
    "    x = torch.einsum(\"ij, kj -> ki\", fc1_weights, x) + fc1_bias[None].repeat(batch_shape, 1)\n",
    "    x = torch.relu(x)\n",
    "\n",
    "    x = torch.einsum(\"ij, kj -> ki\", fc2_weights, x) + fc2_bias[None].repeat(batch_shape, 1)\n",
    "    x = torch.relu(x)\n",
    "\n",
    "    x = torch.einsum(\"ij, kj -> ki\", fc3_weights, x) + fc3_bias[None].repeat(batch_shape, 1)\n",
    "    mu = x.squeeze()\n",
    "\n",
    "    with pyro.plate(\"data\"):\n",
    "        obs = pyro.sample(\"obs\", dist.MultivariateNormal(loc=mu, \n",
    "                                                         covariance_matrix=torch.diag(F.softplus(rho) ** 2)), obs=y)\n",
    "    return mu"
   ]
  },
  {
   "cell_type": "code",
   "execution_count": 12,
   "id": "558aa141",
   "metadata": {},
   "outputs": [],
   "source": [
    "def make_empirical_gmm(samples, num_nodes, x_test):\n",
    "    rho_noise = samples['params'][:, -D_out:]\n",
    "    noise = F.softplus(rho_noise) ** 2\n",
    "    preds_dict = Predictive(regression_model, samples, return_sites=['_RETURN'])(x_test, None, num_nodes=num_nodes,\n",
    "                                                                                 in_size=D_in, out_size=D_out)\n",
    "    preds = preds_dict['_RETURN']\n",
    "    mix = dist.Categorical(torch.ones(preds.shape[0]))\n",
    "    comp = dist.MultivariateNormal(loc=preds.squeeze().permute(1, 0, 2), covariance_matrix=torch.diag_embed(noise))\n",
    "    gmm = dist.MixtureSameFamily(mix, comp)\n",
    "    return gmm\n",
    "\n",
    "def compute_rmse(samples, num_nodes, x_test, y_test):\n",
    "    preds_dict = Predictive(regression_model, samples, return_sites=['_RETURN'])(x_test, None, num_nodes=num_nodes,\n",
    "                                                                                 in_size=D_in, out_size=D_out)\n",
    "    preds = preds_dict['_RETURN']\n",
    "    mean_preds = preds.mean(0)\n",
    "    return (mean_preds - y_test).sum(-1).mean().sqrt()"
   ]
  },
  {
   "cell_type": "code",
   "execution_count": 13,
   "id": "71e31701",
   "metadata": {},
   "outputs": [],
   "source": [
    "from pyro.infer import Predictive"
   ]
  },
  {
   "cell_type": "code",
   "execution_count": 14,
   "id": "9e7933f6",
   "metadata": {},
   "outputs": [],
   "source": [
    "def compute_expected_coding_efficiency(kl, epsilon=0.2):\n",
    "    K = (1 + epsilon) * kl\n",
    "    return K + np.log(K + 1) + 1"
   ]
  },
  {
   "cell_type": "markdown",
   "id": "1f4b72e7",
   "metadata": {},
   "source": [
    "# Load Compressed Weights"
   ]
  },
  {
   "cell_type": "code",
   "execution_count": 15,
   "id": "43948589",
   "metadata": {},
   "outputs": [],
   "source": [
    "# model architecture\n",
    "num_nodes = 3"
   ]
  },
  {
   "cell_type": "code",
   "execution_count": 16,
   "id": "3c8cef34",
   "metadata": {},
   "outputs": [
    {
     "name": "stderr",
     "output_type": "stream",
     "text": [
      "/scratch/km817/miniconda3/envs/Torch/lib/python3.8/site-packages/pyro/distributions/torch_patch.py:81: UserWarning: torch.symeig is deprecated in favor of torch.linalg.eigh and will be removed in a future PyTorch release.\n",
      "The default behavior has changed from using the upper triangular portion of the matrix by default to using the lower triangular portion.\n",
      "L, _ = torch.symeig(A, upper=upper)\n",
      "should be replaced with\n",
      "L = torch.linalg.eigvalsh(A, UPLO='U' if upper else 'L')\n",
      "and\n",
      "L, V = torch.symeig(A, eigenvectors=True)\n",
      "should be replaced with\n",
      "L, V = torch.linalg.eigh(A, UPLO='U' if upper else 'L') (Triggered internally at  /opt/conda/conda-bld/pytorch_1623448278899/work/aten/src/ATen/native/BatchLinearAlgebra.cpp:2500.)\n",
      "  return torch.stack([v.symeig(eigenvectors=False)[0][:1] > 0.0\n"
     ]
    }
   ],
   "source": [
    "compressed_emp_test_results = {}\n",
    "compressed_emp_test_results['test_ll'] = np.empty(D_in,)\n",
    "compressed_emp_test_results['RMSE'] = np.empty(D_in,)\n",
    "for s in range(D_in):\n",
    "    # load specific split\n",
    "    split_samples = pkl.load(open(f\"PickledStuff/BNN_UCI/ENERGY/compressed_emp_samples_split{s}.pkl\", \"rb\"))\n",
    "    \n",
    "    # compute lls on test data\n",
    "    test_ll = make_empirical_gmm(split_samples, num_nodes=num_nodes, x_test=x_test[s]).log_prob(y_test[s]).mean().item()\n",
    "    compressed_emp_test_results['test_ll'][s] = test_ll\n",
    "    compressed_emp_test_results['RMSE'][s] = compute_rmse(split_samples, num_nodes, x_test[s], y_test[s]).item()"
   ]
  },
  {
   "cell_type": "code",
   "execution_count": 17,
   "id": "c8127a27",
   "metadata": {},
   "outputs": [],
   "source": [
    "compressed_emp_train_results = {}\n",
    "compressed_emp_train_results['train_ll'] = np.empty(D_in,)\n",
    "compressed_emp_train_results['RMSE'] = np.empty(D_in,)\n",
    "for s in range(D_in):\n",
    "    # load specific split\n",
    "    split_samples = pkl.load(open(f\"PickledStuff/BNN_UCI/ENERGY/compressed_emp_samples_split{s}.pkl\", \"rb\"))\n",
    "    \n",
    "    # compute lls on train data\n",
    "    train_ll = make_empirical_gmm(split_samples, num_nodes=num_nodes, x_test=x_train[s]).log_prob(y_train[s]).mean().item()\n",
    "    compressed_emp_train_results['train_ll'][s] = train_ll\n",
    "    compressed_emp_train_results['RMSE'][s] = compute_rmse(split_samples, num_nodes, x_train[s], y_train[s]).item()"
   ]
  },
  {
   "cell_type": "code",
   "execution_count": 18,
   "id": "a5793583",
   "metadata": {},
   "outputs": [],
   "source": [
    "compressed_kde_test_results = {}\n",
    "compressed_kde_test_results['test_ll'] = np.empty(D_in,)\n",
    "compressed_kde_test_results['RMSE'] = np.empty(D_in,)\n",
    "kde_kls = np.empty(D_in,)\n",
    "for s in range(D_in):\n",
    "    # load specific split\n",
    "    split_samples = pkl.load(open(f\"PickledStuff/BNN_UCI/ENERGY/compressed_kde_samples_split{s}.pkl\", \"rb\"))\n",
    "    \n",
    "    # compute lls on test data\n",
    "    test_ll = make_empirical_gmm(split_samples, num_nodes=num_nodes, x_test=x_test[s]).log_prob(y_test[s]).mean().item()\n",
    "    compressed_kde_test_results['test_ll'][s] = test_ll\n",
    "    compressed_kde_test_results['RMSE'][s] = compute_rmse(split_samples, num_nodes, x_test[s], y_test[s]).item()\n",
    "    \n",
    "    # load kls\n",
    "    kde_kls[s] = pkl.load(open(f\"PickledStuff/BNN_UCI/ENERGY/kde_kl_split{s}.pkl\", \"rb\"))"
   ]
  },
  {
   "cell_type": "code",
   "execution_count": 19,
   "id": "161de294",
   "metadata": {},
   "outputs": [],
   "source": [
    "compressed_kde_train_results = {}\n",
    "compressed_kde_train_results['train_ll'] = np.empty(D_in,)\n",
    "compressed_kde_train_results['RMSE'] = np.empty(D_in,)\n",
    "for s in range(D_in):\n",
    "    # load specific split\n",
    "    split_samples = pkl.load(open(f\"PickledStuff/BNN_UCI/ENERGY/compressed_kde_samples_split{s}.pkl\", \"rb\"))\n",
    "    \n",
    "    # compute lls on train data\n",
    "    train_ll = make_empirical_gmm(split_samples, num_nodes=num_nodes, x_test=x_train[s]).log_prob(y_train[s]).mean().item()\n",
    "    compressed_kde_train_results['train_ll'][s] = train_ll\n",
    "    compressed_kde_train_results['RMSE'][s] = compute_rmse(split_samples, num_nodes, x_train[s], y_train[s]).item()"
   ]
  },
  {
   "cell_type": "code",
   "execution_count": 20,
   "id": "30912cef",
   "metadata": {},
   "outputs": [],
   "source": [
    "compressed_var_test_results = {}\n",
    "compressed_var_test_results['test_ll'] = np.empty(D_in,)\n",
    "compressed_var_test_results['RMSE'] = np.empty(D_in,)\n",
    "var_kls = np.empty(D_in,)\n",
    "for s in range(D_in):\n",
    "    # load specific split\n",
    "    split_samples = pkl.load(open(f\"PickledStuff/BNN_UCI/ENERGY/compressed_var_samples_split{s}.pkl\", \"rb\"))\n",
    "    \n",
    "    # compute lls on test data\n",
    "    test_ll = make_empirical_gmm(split_samples, num_nodes=num_nodes, x_test=x_test[s]).log_prob(y_test[s]).mean().item()\n",
    "    compressed_var_test_results['test_ll'][s] = test_ll\n",
    "    compressed_var_test_results['RMSE'][s] = compute_rmse(split_samples, num_nodes, x_test[s], y_test[s]).item()\n",
    "    # load kls\n",
    "    var_kls[s] = pkl.load(open(f\"PickledStuff/BNN_UCI/ENERGY/var_kl_split{s}.pkl\", \"rb\"))"
   ]
  },
  {
   "cell_type": "code",
   "execution_count": 21,
   "id": "211fe827",
   "metadata": {},
   "outputs": [
    {
     "data": {
      "application/vnd.jupyter.widget-view+json": {
       "model_id": "45e27ee0cfdc4f6c9bc38759d5872458",
       "version_major": 2,
       "version_minor": 0
      },
      "text/plain": [
       "  0%|          | 0/8 [00:00<?, ?it/s]"
      ]
     },
     "metadata": {},
     "output_type": "display_data"
    }
   ],
   "source": [
    "compressed_var_train_results = {}\n",
    "compressed_var_train_results['train_ll'] = np.empty(D_in,)\n",
    "compressed_var_train_results['RMSE'] = np.empty(D_in,)\n",
    "for s in tqdm(range(D_in)):\n",
    "    # load specific split\n",
    "    split_samples = pkl.load(open(f\"PickledStuff/BNN_UCI/ENERGY/compressed_var_samples_split{s}.pkl\", \"rb\"))\n",
    "    \n",
    "    # compute lls on train data\n",
    "    train_ll = make_empirical_gmm(split_samples, num_nodes=num_nodes, x_test=x_train[s]).log_prob(y_train[s]).mean().item()\n",
    "    compressed_var_train_results['train_ll'][s] = train_ll\n",
    "    compressed_var_train_results['RMSE'][s] = compute_rmse(split_samples, num_nodes, x_train[s], y_train[s]).item()"
   ]
  },
  {
   "cell_type": "code",
   "execution_count": 22,
   "id": "6a2e8376",
   "metadata": {},
   "outputs": [],
   "source": [
    "emp_test_ll_mean = compressed_emp_test_results['test_ll'].mean()\n",
    "emp_test_std_error = compressed_emp_test_results['test_ll'].std() / len(compressed_emp_test_results['test_ll'])\n",
    "\n",
    "kde_test_ll_mean = compressed_kde_test_results['test_ll'].mean()\n",
    "kde_test_std_error = compressed_kde_test_results['test_ll'].std() / len(compressed_kde_test_results['test_ll'])\n",
    "\n",
    "var_test_ll_mean = compressed_var_test_results['test_ll'].mean()\n",
    "var_test_std_error = compressed_var_test_results['test_ll'].std() / len(compressed_var_test_results['test_ll'])"
   ]
  },
  {
   "cell_type": "code",
   "execution_count": 23,
   "id": "2477c6bd",
   "metadata": {},
   "outputs": [],
   "source": [
    "emp_train_ll_mean = compressed_emp_train_results['train_ll'].mean()\n",
    "emp_train_std_error = compressed_emp_train_results['train_ll'].std() / len(compressed_emp_train_results['train_ll'])\n",
    "\n",
    "kde_train_ll_mean = compressed_kde_train_results['train_ll'].mean()\n",
    "kde_train_std_error = compressed_kde_train_results['train_ll'].std() / len(compressed_kde_train_results['train_ll'])\n",
    "\n",
    "var_train_ll_mean = compressed_var_train_results['train_ll'].mean()\n",
    "var_train_std_error = compressed_var_train_results['train_ll'].std() / len(compressed_var_train_results['train_ll'])"
   ]
  },
  {
   "cell_type": "code",
   "execution_count": 24,
   "id": "b43b2bad",
   "metadata": {},
   "outputs": [],
   "source": [
    "coding_eff_kde = compute_expected_coding_efficiency(kde_kls)\n",
    "coding_eff_var = compute_expected_coding_efficiency(var_kls)"
   ]
  },
  {
   "cell_type": "code",
   "execution_count": 25,
   "id": "57f3ffb4",
   "metadata": {},
   "outputs": [],
   "source": [
    "coding_eff_kde_mean = coding_eff_kde.mean()\n",
    "coding_eff_kde_std_error = coding_eff_kde.std() / len(coding_eff_kde)"
   ]
  },
  {
   "cell_type": "code",
   "execution_count": 26,
   "id": "06c91d96",
   "metadata": {},
   "outputs": [],
   "source": [
    "coding_eff_var_mean = coding_eff_var.mean()\n",
    "coding_eff_var_std_error = coding_eff_var.std() / len(coding_eff_var)"
   ]
  },
  {
   "cell_type": "code",
   "execution_count": 27,
   "id": "82836456",
   "metadata": {},
   "outputs": [],
   "source": [
    "kde_kls_mean =  kde_kls.mean()\n",
    "kde_kls_std_error = kde_kls.std() / len(kde_kls)"
   ]
  },
  {
   "cell_type": "code",
   "execution_count": 28,
   "id": "4956264e",
   "metadata": {},
   "outputs": [],
   "source": [
    "var_kls_mean =  var_kls.mean()\n",
    "var_kls_std_error = var_kls.std() / len(var_kls)"
   ]
  },
  {
   "cell_type": "code",
   "execution_count": 29,
   "id": "25f30b40",
   "metadata": {},
   "outputs": [
    {
     "data": {
      "image/png": "[encoded data removed]",
      "text/plain": [
       "<Figure size 900x360 with 3 Axes>"
      ]
     },
     "metadata": {
      "needs_background": "light"
     },
     "output_type": "display_data"
    }
   ],
   "source": [
    "f, (ax1, ax2, ax3) = plt.subplots(1,3, figsize=(12.5,5), sharex=True)\n",
    "fs=16\n",
    "ax1.errorbar([0], emp_test_ll_mean, yerr=emp_test_std_error, marker='o', markersize=8)\n",
    "ax1.errorbar([1], kde_test_ll_mean, yerr=kde_test_std_error, marker='^', markersize=8)\n",
    "ax1.errorbar([2], var_test_ll_mean, yerr=var_test_std_error, marker='*', markersize=8)\n",
    "ax2.errorbar([0], emp_train_ll_mean, yerr=emp_train_std_error, marker='o', markersize=8)\n",
    "ax2.errorbar([1], kde_train_ll_mean, yerr=kde_train_std_error, marker='^', markersize=8)\n",
    "ax2.errorbar([2], var_train_ll_mean, yerr=var_train_std_error, marker='*', markersize=8)\n",
    "ax3.errorbar([0], coding_eff_kde_mean, yerr=coding_eff_kde_std_error, marker='o', markersize=8)\n",
    "ax3.errorbar([1], coding_eff_kde_mean, yerr=coding_eff_kde_std_error, marker='^', markersize=8)\n",
    "ax3.errorbar([2], coding_eff_var_mean, yerr=coding_eff_var_std_error, marker='*', markersize=8)\n",
    "ax1.xaxis.set_ticks_position('none') \n",
    "ax2.xaxis.set_ticks_position('none') \n",
    "ax3.xaxis.set_ticks_position('none') \n",
    "ax1.set_xticks([0, 1, 2])\n",
    "ax1.set_xticklabels(['', '', ''], fontsize=fs)\n",
    "ax1.set_ylabel('Avg. Log-likelihood', fontsize=fs)\n",
    "ax3.set_ylabel('Nats', fontsize=fs)\n",
    "ax1.set_title('Test-Set', fontsize=fs)\n",
    "ax2.set_title('Training-Set', fontsize=fs)\n",
    "ax3.set_title('Nats per sample', fontsize=fs)\n",
    "f.legend(['MOD-Scheme', 'KDE-Scheme', 'FG-Scheme'], fontsize=fs, bbox_to_anchor=(1.1, 0.5), loc='center')\n",
    "f.tight_layout()\n",
    "f.savefig(\"Figures/Thesis/BNN_UCI.pdf\", bbox_inches='tight')"
   ]
  },
  {
   "cell_type": "code",
   "execution_count": null,
   "id": "3f663638",
   "metadata": {},
   "outputs": [],
   "source": []
  }
 ],
 "metadata": {
  "kernelspec": {
   "display_name": "Python 3",
   "language": "python",
   "name": "python3"
  },
  "language_info": {
   "codemirror_mode": {
    "name": "ipython",
    "version": 3
   },
   "file_extension": ".py",
   "mimetype": "text/x-python",
   "name": "python",
   "nbconvert_exporter": "python",
   "pygments_lexer": "ipython3",
   "version": "3.8.10"
  }
 },
 "nbformat": 4,
 "nbformat_minor": 5
}
