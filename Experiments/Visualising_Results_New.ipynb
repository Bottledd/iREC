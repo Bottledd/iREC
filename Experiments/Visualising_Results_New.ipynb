{
 "cells": [
  {
   "cell_type": "code",
   "execution_count": 1,
   "id": "c9735722",
   "metadata": {},
   "outputs": [],
   "source": [
    "%load_ext autoreload"
   ]
  },
  {
   "cell_type": "code",
   "execution_count": 2,
   "id": "ae8245d6",
   "metadata": {},
   "outputs": [],
   "source": [
    "%autoreload 2"
   ]
  },
  {
   "cell_type": "code",
   "execution_count": 3,
   "id": "3a1d5b32",
   "metadata": {},
   "outputs": [
    {
     "name": "stdout",
     "output_type": "stream",
     "text": [
      "/Users/kristophermiltiadou/Documents/UniWork/Cambridge/Thesis/CODE/iREC\n"
     ]
    }
   ],
   "source": [
    "%cd .."
   ]
  },
  {
   "cell_type": "code",
   "execution_count": 4,
   "id": "ba0f5274",
   "metadata": {},
   "outputs": [],
   "source": [
    "# load modules\n",
    "import torch\n",
    "import torch.distributions as dist\n",
    "import pickle as pkl\n",
    "import matplotlib.pyplot as plt\n",
    "from models.BayesianLinRegressor import BayesLinRegressor\n",
    "from rec.utils import compute_variational_posterior\n",
    "#import seaborn as sns; sns.set(); sns.set_style('whitegrid')\n",
    "import math\n",
    "plt.rcParams.update({'font.weight': 'normal'})\n",
    "plt.rcParams.update({'font.size': 20})\n",
    "plt.rcParams.update({'lines.linewidth' : 2})\n",
    "%config InlineBackend.figure_format='retina'"
   ]
  },
  {
   "cell_type": "code",
   "execution_count": 5,
   "id": "9948cf2e",
   "metadata": {},
   "outputs": [],
   "source": [
    "%matplotlib inline"
   ]
  },
  {
   "cell_type": "code",
   "execution_count": 437,
   "id": "e64989e5",
   "metadata": {},
   "outputs": [],
   "source": [
    "def create_blr_problem(dim, seed, signal_std=1):\n",
    "    \n",
    "    initial_seed_target = seed\n",
    "    blr = BayesLinRegressor(prior_mean=torch.zeros(dim),\n",
    "                        prior_alpha=1,\n",
    "                        signal_std=signal_std,\n",
    "                        num_targets=50,\n",
    "                        seed=initial_seed_target)\n",
    "    blr.sample_feature_inputs()\n",
    "    blr.sample_regression_targets()\n",
    "    blr.posterior_update()\n",
    "    target = blr.weight_posterior\n",
    "    return blr, target"
   ]
  },
  {
   "cell_type": "code",
   "execution_count": 263,
   "id": "ba54c72d",
   "metadata": {},
   "outputs": [],
   "source": [
    "def compute_preds(d, blr_obj):\n",
    "    preds = torch.zeros([0])\n",
    "    sample_list = torch.tensor(d['compressed_samples'])\n",
    "    for s in sample_list:\n",
    "        preds = torch.cat((preds, blr_obj.empirical_prediction(s)[None]))\n",
    "    return preds"
   ]
  },
  {
   "cell_type": "code",
   "execution_count": 521,
   "id": "c9fdaa5d",
   "metadata": {},
   "outputs": [],
   "source": [
    "def true_preds(blr_obj, seed=0):\n",
    "\n",
    "    samples = blr_obj.weight_posterior.sample((100,))\n",
    "    preds = torch.zeros([0])\n",
    "    for s in samples:\n",
    "        preds = torch.cat((preds, blr_obj.empirical_prediction(s)[None]))\n",
    "    return preds"
   ]
  },
  {
   "cell_type": "code",
   "execution_count": 522,
   "id": "96c15578",
   "metadata": {},
   "outputs": [],
   "source": [
    "def var_approx_preds(blr_obj, seed=0):\n",
    "    samples = compute_variational_posterior(blr_obj.weight_posterior).sample((100,))\n",
    "    preds = torch.zeros([0])\n",
    "    for s in samples:\n",
    "        preds = torch.cat((preds, blr_obj.empirical_prediction(s)[None]))\n",
    "    return preds"
   ]
  },
  {
   "cell_type": "code",
   "execution_count": 502,
   "id": "bd93447e",
   "metadata": {},
   "outputs": [],
   "source": [
    "def compute_log_prob_empirical_mog(full_preds, blr):\n",
    "    normal_dists = dist.normal.Normal(loc=full_preds, scale = signal_std)\n",
    "    log_probs = normal_dists.log_prob(blr.regression_targets_test)\n",
    "    sum_of_probs = torch.logsumexp(log_probs, dim=1)\n",
    "    normalisation_constant = torch.log(torch.tensor(full_preds.shape[1]))\n",
    "    gmm_log_prob_per_point = sum_of_probs - normalisation_constant\n",
    "    gmm_log_prob = torch.sum(gmm_log_prob_per_point, dim=1)\n",
    "    return gmm_log_prob"
   ]
  },
  {
   "cell_type": "code",
   "execution_count": 503,
   "id": "d066a5cb",
   "metadata": {},
   "outputs": [],
   "source": [
    "def make_gmm(preds):\n",
    "    mix = dist.Categorical(torch.ones((preds.shape[1],)))\n",
    "    comp = dist.Independent(dist.Normal(loc=preds, scale=signal_std), 1)\n",
    "    gmm = dist.MixtureSameFamily(mix, comp)\n",
    "    return gmm"
   ]
  },
  {
   "cell_type": "markdown",
   "id": "b8959468",
   "metadata": {},
   "source": [
    "# Point Estimate Results"
   ]
  },
  {
   "cell_type": "markdown",
   "id": "353722b6",
   "metadata": {},
   "source": [
    "## MSE"
   ]
  },
  {
   "cell_type": "code",
   "execution_count": 376,
   "id": "2ab3d599",
   "metadata": {},
   "outputs": [],
   "source": [
    "epsilons = [0., 0.05, 0.1, 0.15, 0.2]\n",
    "dim = 10\n",
    "beamwidth = 1\n",
    "emp = []\n",
    "vari = []\n",
    "hard = False\n",
    "for eps in epsilons:\n",
    "    vari.append(pkl.load(open(f\"PickledStuff/Correlated/Dim{dim}/Variational_Epsilon{eps}_Beam{beamwidth}_Omega5{'_HARD' if hard else ''}.pkl\", \"rb\")))\n",
    "    emp.append(pkl.load(open(f\"PickledStuff/Correlated/Dim{dim}/Empirical_Epsilon{eps}_Beam{beamwidth}_Omega5{'_HARD' if hard else ''}.pkl\", \"rb\")))"
   ]
  },
  {
   "cell_type": "code",
   "execution_count": 541,
   "id": "4ab91a13",
   "metadata": {},
   "outputs": [],
   "source": [
    "dim=30\n",
    "blr_seed = 1\n",
    "signal_std = 1e-1 if hard else 1\n",
    "b, t = create_blr_problem(dim=dim, seed=blr_seed, signal_std=signal_std)"
   ]
  },
  {
   "cell_type": "code",
   "execution_count": 542,
   "id": "1c8313b6",
   "metadata": {},
   "outputs": [],
   "source": [
    "exact_log_probs = make_gmm(true_preds(b)[None]).log_prob(b.regression_targets_test)"
   ]
  },
  {
   "cell_type": "code",
   "execution_count": 543,
   "id": "837b3d9f",
   "metadata": {},
   "outputs": [],
   "source": [
    "exact_var_log_probs = make_gmm(var_approx_preds(b)[None]).log_prob(b.regression_targets_test)"
   ]
  },
  {
   "cell_type": "code",
   "execution_count": 544,
   "id": "83d74626",
   "metadata": {},
   "outputs": [
    {
     "data": {
      "text/plain": [
       "tensor([-31.8948])"
      ]
     },
     "execution_count": 544,
     "metadata": {},
     "output_type": "execute_result"
    }
   ],
   "source": [
    "exact_var_log_probs"
   ]
  },
  {
   "cell_type": "code",
   "execution_count": 545,
   "id": "61c9b8c8",
   "metadata": {},
   "outputs": [
    {
     "data": {
      "text/plain": [
       "tensor([-24.5740])"
      ]
     },
     "execution_count": 545,
     "metadata": {},
     "output_type": "execute_result"
    }
   ],
   "source": [
    "exact_log_probs"
   ]
  },
  {
   "cell_type": "code",
   "execution_count": 536,
   "id": "ccc74429",
   "metadata": {},
   "outputs": [
    {
     "ename": "RuntimeError",
     "evalue": "The size of tensor a (10) must match the size of tensor b (30) at non-singleton dimension 1",
     "output_type": "error",
     "traceback": [
      "\u001b[0;31m---------------------------------------------------------------------------\u001b[0m",
      "\u001b[0;31mRuntimeError\u001b[0m                              Traceback (most recent call last)",
      "\u001b[0;32m<ipython-input-536-e817542d5d27>\u001b[0m in \u001b[0;36m<module>\u001b[0;34m\u001b[0m\n\u001b[1;32m      2\u001b[0m \u001b[0memp_full_preds\u001b[0m \u001b[0;34m=\u001b[0m \u001b[0mtorch\u001b[0m\u001b[0;34m.\u001b[0m\u001b[0mzeros\u001b[0m\u001b[0;34m(\u001b[0m\u001b[0mlen\u001b[0m\u001b[0;34m(\u001b[0m\u001b[0mepsilons\u001b[0m\u001b[0;34m)\u001b[0m\u001b[0;34m,\u001b[0m \u001b[0;36m50\u001b[0m\u001b[0;34m,\u001b[0m \u001b[0mlen\u001b[0m\u001b[0;34m(\u001b[0m\u001b[0mb\u001b[0m\u001b[0;34m.\u001b[0m\u001b[0mregression_targets_test\u001b[0m\u001b[0;34m)\u001b[0m\u001b[0;34m)\u001b[0m\u001b[0;34m\u001b[0m\u001b[0;34m\u001b[0m\u001b[0m\n\u001b[1;32m      3\u001b[0m \u001b[0;32mfor\u001b[0m \u001b[0mi\u001b[0m\u001b[0;34m,\u001b[0m \u001b[0m_\u001b[0m \u001b[0;32min\u001b[0m \u001b[0menumerate\u001b[0m\u001b[0;34m(\u001b[0m\u001b[0mepsilons\u001b[0m\u001b[0;34m)\u001b[0m\u001b[0;34m:\u001b[0m\u001b[0;34m\u001b[0m\u001b[0;34m\u001b[0m\u001b[0m\n\u001b[0;32m----> 4\u001b[0;31m     \u001b[0memp_full_preds\u001b[0m\u001b[0;34m[\u001b[0m\u001b[0mi\u001b[0m\u001b[0;34m]\u001b[0m \u001b[0;34m=\u001b[0m \u001b[0mcompute_preds\u001b[0m\u001b[0;34m(\u001b[0m\u001b[0memp\u001b[0m\u001b[0;34m[\u001b[0m\u001b[0mi\u001b[0m\u001b[0;34m]\u001b[0m\u001b[0;34m,\u001b[0m \u001b[0mb\u001b[0m\u001b[0;34m)\u001b[0m\u001b[0;34m\u001b[0m\u001b[0;34m\u001b[0m\u001b[0m\n\u001b[0m\u001b[1;32m      5\u001b[0m     \u001b[0mvari_full_preds\u001b[0m\u001b[0;34m[\u001b[0m\u001b[0mi\u001b[0m\u001b[0;34m]\u001b[0m \u001b[0;34m=\u001b[0m \u001b[0mcompute_preds\u001b[0m\u001b[0;34m(\u001b[0m\u001b[0mvari\u001b[0m\u001b[0;34m[\u001b[0m\u001b[0mi\u001b[0m\u001b[0;34m]\u001b[0m\u001b[0;34m,\u001b[0m \u001b[0mb\u001b[0m\u001b[0;34m)\u001b[0m\u001b[0;34m\u001b[0m\u001b[0;34m\u001b[0m\u001b[0m\n",
      "\u001b[0;32m<ipython-input-263-8b0bafa3721f>\u001b[0m in \u001b[0;36mcompute_preds\u001b[0;34m(d, blr_obj)\u001b[0m\n\u001b[1;32m      3\u001b[0m     \u001b[0msample_list\u001b[0m \u001b[0;34m=\u001b[0m \u001b[0mtorch\u001b[0m\u001b[0;34m.\u001b[0m\u001b[0mtensor\u001b[0m\u001b[0;34m(\u001b[0m\u001b[0md\u001b[0m\u001b[0;34m[\u001b[0m\u001b[0;34m'compressed_samples'\u001b[0m\u001b[0;34m]\u001b[0m\u001b[0;34m)\u001b[0m\u001b[0;34m\u001b[0m\u001b[0;34m\u001b[0m\u001b[0m\n\u001b[1;32m      4\u001b[0m     \u001b[0;32mfor\u001b[0m \u001b[0ms\u001b[0m \u001b[0;32min\u001b[0m \u001b[0msample_list\u001b[0m\u001b[0;34m:\u001b[0m\u001b[0;34m\u001b[0m\u001b[0;34m\u001b[0m\u001b[0m\n\u001b[0;32m----> 5\u001b[0;31m         \u001b[0mpreds\u001b[0m \u001b[0;34m=\u001b[0m \u001b[0mtorch\u001b[0m\u001b[0;34m.\u001b[0m\u001b[0mcat\u001b[0m\u001b[0;34m(\u001b[0m\u001b[0;34m(\u001b[0m\u001b[0mpreds\u001b[0m\u001b[0;34m,\u001b[0m \u001b[0mblr_obj\u001b[0m\u001b[0;34m.\u001b[0m\u001b[0mempirical_prediction\u001b[0m\u001b[0;34m(\u001b[0m\u001b[0ms\u001b[0m\u001b[0;34m)\u001b[0m\u001b[0;34m[\u001b[0m\u001b[0;32mNone\u001b[0m\u001b[0;34m]\u001b[0m\u001b[0;34m)\u001b[0m\u001b[0;34m)\u001b[0m\u001b[0;34m\u001b[0m\u001b[0;34m\u001b[0m\u001b[0m\n\u001b[0m\u001b[1;32m      6\u001b[0m     \u001b[0;32mreturn\u001b[0m \u001b[0mpreds\u001b[0m\u001b[0;34m\u001b[0m\u001b[0;34m\u001b[0m\u001b[0m\n",
      "\u001b[0;32m~/Documents/UniWork/Cambridge/Thesis/CODE/iREC/models/BayesianLinRegressor.py\u001b[0m in \u001b[0;36mempirical_prediction\u001b[0;34m(self, weights)\u001b[0m\n\u001b[1;32m    151\u001b[0m \u001b[0;34m\u001b[0m\u001b[0m\n\u001b[1;32m    152\u001b[0m         \u001b[0;31m# multiply weights to features\u001b[0m\u001b[0;34m\u001b[0m\u001b[0;34m\u001b[0m\u001b[0;34m\u001b[0m\u001b[0m\n\u001b[0;32m--> 153\u001b[0;31m         \u001b[0mfeature_times_weights\u001b[0m \u001b[0;34m=\u001b[0m \u001b[0mtorch\u001b[0m\u001b[0;34m.\u001b[0m\u001b[0msum\u001b[0m\u001b[0;34m(\u001b[0m\u001b[0mweight_matrix\u001b[0m \u001b[0;34m*\u001b[0m \u001b[0mfeature_matrix\u001b[0m\u001b[0;34m,\u001b[0m \u001b[0mdim\u001b[0m\u001b[0;34m=\u001b[0m\u001b[0;36m1\u001b[0m\u001b[0;34m)\u001b[0m\u001b[0;34m\u001b[0m\u001b[0;34m\u001b[0m\u001b[0m\n\u001b[0m\u001b[1;32m    154\u001b[0m \u001b[0;34m\u001b[0m\u001b[0m\n\u001b[1;32m    155\u001b[0m         \u001b[0;32mreturn\u001b[0m \u001b[0mfeature_times_weights\u001b[0m\u001b[0;34m\u001b[0m\u001b[0;34m\u001b[0m\u001b[0m\n",
      "\u001b[0;31mRuntimeError\u001b[0m: The size of tensor a (10) must match the size of tensor b (30) at non-singleton dimension 1"
     ]
    }
   ],
   "source": [
    "vari_full_preds = torch.zeros(len(epsilons), 50, len(b.regression_targets_test))\n",
    "emp_full_preds = torch.zeros(len(epsilons), 50, len(b.regression_targets_test))\n",
    "for i, _ in enumerate(epsilons):\n",
    "    emp_full_preds[i] = compute_preds(emp[i], b)\n",
    "    vari_full_preds[i] = compute_preds(vari[i], b)"
   ]
  },
  {
   "cell_type": "code",
   "execution_count": 379,
   "id": "e9fc191b",
   "metadata": {},
   "outputs": [
    {
     "data": {
      "text/plain": [
       "tensor(4.9432)"
      ]
     },
     "execution_count": 379,
     "metadata": {},
     "output_type": "execute_result"
    }
   ],
   "source": [
    "t.log_prob(torch.tensor(vari[-1]['compressed_samples'])).mean()"
   ]
  },
  {
   "cell_type": "code",
   "execution_count": 380,
   "id": "313ad2a1",
   "metadata": {},
   "outputs": [
    {
     "data": {
      "text/plain": [
       "tensor(5.3138)"
      ]
     },
     "execution_count": 380,
     "metadata": {},
     "output_type": "execute_result"
    }
   ],
   "source": [
    "t.log_prob(torch.tensor(emp[-1]['compressed_samples'])).mean()"
   ]
  },
  {
   "cell_type": "code",
   "execution_count": 381,
   "id": "300b8b00",
   "metadata": {},
   "outputs": [],
   "source": [
    "var_gmm = make_gmm(vari_full_preds)\n",
    "var_log_probs = var_gmm.log_prob(b.regression_targets_test)"
   ]
  },
  {
   "cell_type": "code",
   "execution_count": 382,
   "id": "8aa5b3a7",
   "metadata": {},
   "outputs": [
    {
     "data": {
      "text/plain": [
       "tensor(0.3224)"
      ]
     },
     "execution_count": 382,
     "metadata": {},
     "output_type": "execute_result"
    }
   ],
   "source": [
    "torch.std(var_log_probs)"
   ]
  },
  {
   "cell_type": "code",
   "execution_count": 383,
   "id": "604bd680",
   "metadata": {},
   "outputs": [],
   "source": [
    "emp_gmm = make_gmm(emp_full_preds)\n",
    "emp_log_probs = emp_gmm.log_prob(b.regression_targets_test)"
   ]
  },
  {
   "cell_type": "code",
   "execution_count": 384,
   "id": "b7fa9654",
   "metadata": {},
   "outputs": [
    {
     "data": {
      "text/plain": [
       "tensor([1.9880, 1.8550, 1.8346, 1.6642, 1.7159])"
      ]
     },
     "execution_count": 384,
     "metadata": {},
     "output_type": "execute_result"
    }
   ],
   "source": [
    "((emp_full_preds - b.regression_targets_test) ** 2).mean(-1).mean(-1)"
   ]
  },
  {
   "cell_type": "code",
   "execution_count": 371,
   "id": "cee0e707",
   "metadata": {},
   "outputs": [
    {
     "data": {
      "image/png": "[encoded data removed]",
      "text/plain": [
       "<Figure size 576x432 with 1 Axes>"
      ]
     },
     "metadata": {
      "image/png": {
       "height": 423,
       "width": 568
      },
      "needs_background": "light"
     },
     "output_type": "display_data"
    }
   ],
   "source": [
    "fig, ax = plt.subplots(1, figsize=(8,6))\n",
    "ax.plot(epsilons, emp_log_probs, label='Empirical')\n",
    "ax.plot(epsilons, var_log_probs, label='Variational')\n",
    "ax.hlines(exact_log_probs, xmin=epsilons[0], xmax=epsilons[-1], color='red', label='Exact Samples')\n",
    "ax.set_xlabel(r'$\\epsilon$')\n",
    "ax.set_ylabel('log likelihood')\n",
    "ax.legend(loc='lower right')\n",
    "fig.tight_layout()"
   ]
  },
  {
   "cell_type": "code",
   "execution_count": 391,
   "id": "06af29a9",
   "metadata": {},
   "outputs": [],
   "source": [
    "from rec.utils import compute_variational_posterior"
   ]
  },
  {
   "cell_type": "code",
   "execution_count": 392,
   "id": "3768c042",
   "metadata": {},
   "outputs": [],
   "source": [
    "true_post = dist.MultivariateNormal(loc=torch.tensor(emp[-1]['target_mean']), covariance_matrix=torch.tensor(emp[-1]['target_covar']))"
   ]
  },
  {
   "cell_type": "code",
   "execution_count": 393,
   "id": "8cb91b66",
   "metadata": {},
   "outputs": [],
   "source": [
    "var_approx = compute_variational_posterior(dist.MultivariateNormal(loc=torch.tensor(emp[-1]['target_mean']), covariance_matrix=torch.tensor(emp[-1]['target_covar'])))"
   ]
  },
  {
   "cell_type": "code",
   "execution_count": 394,
   "id": "f714a55e",
   "metadata": {},
   "outputs": [
    {
     "data": {
      "text/plain": [
       "tensor(1.0196)"
      ]
     },
     "execution_count": 394,
     "metadata": {},
     "output_type": "execute_result"
    }
   ],
   "source": [
    "dist.kl_divergence(true_post, var_approx)"
   ]
  },
  {
   "cell_type": "code",
   "execution_count": null,
   "id": "1517f4c9",
   "metadata": {},
   "outputs": [],
   "source": []
  }
 ],
 "metadata": {
  "kernelspec": {
   "display_name": "Python 3",
   "language": "python",
   "name": "python3"
  },
  "language_info": {
   "codemirror_mode": {
    "name": "ipython",
    "version": 3
   },
   "file_extension": ".py",
   "mimetype": "text/x-python",
   "name": "python",
   "nbconvert_exporter": "python",
   "pygments_lexer": "ipython3",
   "version": "3.8.8"
  }
 },
 "nbformat": 4,
 "nbformat_minor": 5
}
