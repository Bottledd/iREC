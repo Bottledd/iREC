{
 "cells": [
  {
   "cell_type": "code",
   "execution_count": 1,
   "id": "c9735722",
   "metadata": {},
   "outputs": [],
   "source": [
    "%load_ext autoreload"
   ]
  },
  {
   "cell_type": "code",
   "execution_count": 2,
   "id": "ae8245d6",
   "metadata": {},
   "outputs": [],
   "source": [
    "%autoreload 2"
   ]
  },
  {
   "cell_type": "code",
   "execution_count": 3,
   "id": "3a1d5b32",
   "metadata": {},
   "outputs": [
    {
     "name": "stdout",
     "output_type": "stream",
     "text": [
      "/scratch/km817/REC/iREC\n"
     ]
    }
   ],
   "source": [
    "%cd .."
   ]
  },
  {
   "cell_type": "code",
   "execution_count": 4,
   "id": "ba0f5274",
   "metadata": {},
   "outputs": [],
   "source": [
    "# load modules\n",
    "import torch\n",
    "import torch.distributions as dist\n",
    "import pickle as pkl\n",
    "import matplotlib.pyplot as plt\n",
    "from models.BayesianLinRegressor import BayesLinRegressor\n",
    "from rec.utils import compute_variational_posterior\n",
    "#import seaborn as sns; sns.set(); sns.set_style('whitegrid')\n",
    "import math\n",
    "plt.rcParams.update({'font.weight': 'normal'})\n",
    "plt.rcParams.update({'font.size': 20})\n",
    "plt.rcParams.update({'lines.linewidth' : 2})\n",
    "%config InlineBackend.figure_format='retina'"
   ]
  },
  {
   "cell_type": "code",
   "execution_count": 5,
   "id": "9948cf2e",
   "metadata": {},
   "outputs": [],
   "source": [
    "%matplotlib inline"
   ]
  },
  {
   "cell_type": "code",
   "execution_count": 6,
   "id": "e64989e5",
   "metadata": {},
   "outputs": [],
   "source": [
    "def create_blr_problem(dim, seed, signal_std=1):\n",
    "    \n",
    "    initial_seed_target = seed\n",
    "    blr = BayesLinRegressor(prior_mean=torch.zeros(dim),\n",
    "                        prior_alpha=1,\n",
    "                        signal_std=signal_std,\n",
    "                        num_targets=10000,\n",
    "                        seed=initial_seed_target)\n",
    "    blr.sample_feature_inputs()\n",
    "    blr.sample_regression_targets()\n",
    "    blr.posterior_update()\n",
    "    target = blr.weight_posterior\n",
    "    return blr, target"
   ]
  },
  {
   "cell_type": "code",
   "execution_count": 7,
   "id": "ba54c72d",
   "metadata": {},
   "outputs": [],
   "source": [
    "def compute_preds(d, blr_obj):\n",
    "    preds = torch.zeros([0])\n",
    "    sample_list = torch.tensor(d['compressed_samples'])\n",
    "    for s in sample_list:\n",
    "        preds = torch.cat((preds, blr_obj.empirical_prediction(s)[None]))\n",
    "    return preds"
   ]
  },
  {
   "cell_type": "code",
   "execution_count": 8,
   "id": "c9fdaa5d",
   "metadata": {},
   "outputs": [],
   "source": [
    "def true_preds(blr_obj, seed=0):\n",
    "    torch.manual_seed(seed)\n",
    "    samples = blr_obj.weight_posterior.sample((50,))\n",
    "    preds = torch.zeros([0])\n",
    "    for s in samples:\n",
    "        preds = torch.cat((preds, blr_obj.empirical_prediction(s)[None]))\n",
    "    return preds"
   ]
  },
  {
   "cell_type": "code",
   "execution_count": 9,
   "id": "96c15578",
   "metadata": {},
   "outputs": [],
   "source": [
    "def var_approx_preds(blr_obj, seed=0):\n",
    "    torch.manual_seed(seed)\n",
    "    samples = compute_variational_posterior(blr_obj.weight_posterior).sample((50,))\n",
    "    preds = torch.zeros([0])\n",
    "    for s in samples:\n",
    "        preds = torch.cat((preds, blr_obj.empirical_prediction(s)[None]))\n",
    "    return preds"
   ]
  },
  {
   "cell_type": "code",
   "execution_count": 10,
   "id": "bd93447e",
   "metadata": {},
   "outputs": [],
   "source": [
    "def compute_log_prob_empirical_mog(full_preds, blr):\n",
    "    normal_dists = dist.normal.Normal(loc=full_preds, scale = signal_std)\n",
    "    log_probs = normal_dists.log_prob(blr.regression_targets_test)\n",
    "    sum_of_probs = torch.logsumexp(log_probs, dim=1)\n",
    "    normalisation_constant = torch.log(torch.tensor(full_preds.shape[1]))\n",
    "    gmm_log_prob_per_point = sum_of_probs - normalisation_constant\n",
    "    gmm_log_prob = torch.sum(gmm_log_prob_per_point, dim=1)\n",
    "    return gmm_log_prob"
   ]
  },
  {
   "cell_type": "code",
   "execution_count": 11,
   "id": "d066a5cb",
   "metadata": {},
   "outputs": [],
   "source": [
    "def make_gmm(preds):\n",
    "    mix = dist.Categorical(torch.ones((preds.shape[1],)))\n",
    "    comp = dist.Independent(dist.Normal(loc=preds, scale=signal_std), 1)\n",
    "    gmm = dist.MixtureSameFamily(mix, comp)\n",
    "    return gmm"
   ]
  },
  {
   "cell_type": "markdown",
   "id": "b8959468",
   "metadata": {},
   "source": [
    "# Point Estimate Results"
   ]
  },
  {
   "cell_type": "markdown",
   "id": "353722b6",
   "metadata": {},
   "source": [
    "## MSE"
   ]
  },
  {
   "cell_type": "code",
   "execution_count": 147,
   "id": "2ab3d599",
   "metadata": {},
   "outputs": [],
   "source": [
    "epsilons = [0., 0.05, 0.1, 0.15, 0.2]\n",
    "dim = 20\n",
    "beamwidth = 20\n",
    "emp = []\n",
    "vari = []\n",
    "hard = False\n",
    "for eps in epsilons:\n",
    "    vari.append(pkl.load(open(f\"PickledStuff/Optimising_Vars/Dim{dim}/Variational_Epsilon{eps}_Beam{beamwidth}_Omega5{'_HARD' if hard else ''}.pkl\", \"rb\")))\n",
    "    emp.append(pkl.load(open(f\"PickledStuff/Optimising_Vars/Dim{dim}/Empirical_Epsilon{eps}_Beam{beamwidth}_Omega5{'_HARD' if hard else ''}.pkl\", \"rb\")))"
   ]
  },
  {
   "cell_type": "code",
   "execution_count": 148,
   "id": "4ab91a13",
   "metadata": {},
   "outputs": [],
   "source": [
    "blr_seed = 1\n",
    "signal_std = 1e-1 if hard else 1\n",
    "b, t = create_blr_problem(dim=dim, seed=blr_seed, signal_std=signal_std)"
   ]
  },
  {
   "cell_type": "code",
   "execution_count": 149,
   "id": "ccc74429",
   "metadata": {},
   "outputs": [],
   "source": [
    "vari_full_preds = torch.zeros(len(epsilons), 50, len(b.regression_targets_test))\n",
    "emp_full_preds = torch.zeros(len(epsilons), 50, len(b.regression_targets_test))\n",
    "for i, _ in enumerate(epsilons):\n",
    "    emp_full_preds[i] = compute_preds(emp[i], b)\n",
    "    vari_full_preds[i] = compute_preds(vari[i], b)"
   ]
  },
  {
   "cell_type": "code",
   "execution_count": 150,
   "id": "e9fc191b",
   "metadata": {},
   "outputs": [
    {
     "data": {
      "text/plain": [
       "tensor(45.7339)"
      ]
     },
     "execution_count": 150,
     "metadata": {},
     "output_type": "execute_result"
    }
   ],
   "source": [
    "t.log_prob(torch.tensor(vari[-1]['compressed_samples'])).mean()"
   ]
  },
  {
   "cell_type": "code",
   "execution_count": 151,
   "id": "300b8b00",
   "metadata": {},
   "outputs": [],
   "source": [
    "var_gmm = make_gmm(vari_full_preds)\n",
    "var_log_probs = var_gmm.log_prob(b.regression_targets_test)"
   ]
  },
  {
   "cell_type": "code",
   "execution_count": 152,
   "id": "8aa5b3a7",
   "metadata": {},
   "outputs": [
    {
     "data": {
      "text/plain": [
       "tensor(6.3807)"
      ]
     },
     "execution_count": 152,
     "metadata": {},
     "output_type": "execute_result"
    }
   ],
   "source": [
    "torch.std(var_log_probs)"
   ]
  },
  {
   "cell_type": "code",
   "execution_count": 153,
   "id": "604bd680",
   "metadata": {},
   "outputs": [],
   "source": [
    "emp_gmm = make_gmm(emp_full_preds)\n",
    "emp_log_probs = emp_gmm.log_prob(b.regression_targets_test)"
   ]
  },
  {
   "cell_type": "code",
   "execution_count": 154,
   "id": "d416bc77",
   "metadata": {},
   "outputs": [
    {
     "data": {
      "text/plain": [
       "tensor(4.2574)"
      ]
     },
     "execution_count": 154,
     "metadata": {},
     "output_type": "execute_result"
    }
   ],
   "source": [
    "torch.std(emp_log_probs)"
   ]
  },
  {
   "cell_type": "code",
   "execution_count": 155,
   "id": "b7fa9654",
   "metadata": {},
   "outputs": [
    {
     "data": {
      "text/plain": [
       "tensor([1.0992, 1.0614, 1.0433, 1.0328, 1.0289])"
      ]
     },
     "execution_count": 155,
     "metadata": {},
     "output_type": "execute_result"
    }
   ],
   "source": [
    "((emp_full_preds - b.regression_targets_test) ** 2).mean(-1).mean(-1)"
   ]
  },
  {
   "cell_type": "code",
   "execution_count": 156,
   "id": "ac4235f5",
   "metadata": {},
   "outputs": [],
   "source": [
    "exact_log_probs = make_gmm(true_preds(b)[None]).log_prob(b.regression_targets_test)"
   ]
  },
  {
   "cell_type": "code",
   "execution_count": 157,
   "id": "cee0e707",
   "metadata": {},
   "outputs": [
    {
     "data": {
      "image/png": "[encoded data removed]",
      "text/plain": [
       "<Figure size 576x432 with 1 Axes>"
      ]
     },
     "metadata": {
      "image/png": {
       "height": 423,
       "width": 568
      },
      "needs_background": "light"
     },
     "output_type": "display_data"
    }
   ],
   "source": [
    "fig, ax = plt.subplots(1, figsize=(8,6))\n",
    "ax.plot(epsilons, emp_log_probs, label='Empirical')\n",
    "ax.plot(epsilons, var_log_probs, label='Variational')\n",
    "ax.hlines(exact_log_probs, xmin=epsilons[0], xmax=epsilons[-1], color='red', label='Exact Samples')\n",
    "ax.set_xlabel(r'$\\epsilon$')\n",
    "ax.set_ylabel('log likelihood')\n",
    "ax.legend(loc='lower right')\n",
    "fig.tight_layout()"
   ]
  }
 ],
 "metadata": {
  "kernelspec": {
   "display_name": "Python 3",
   "language": "python",
   "name": "python3"
  },
  "language_info": {
   "codemirror_mode": {
    "name": "ipython",
    "version": 3
   },
   "file_extension": ".py",
   "mimetype": "text/x-python",
   "name": "python",
   "nbconvert_exporter": "python",
   "pygments_lexer": "ipython3",
   "version": "3.8.10"
  }
 },
 "nbformat": 4,
 "nbformat_minor": 5
}
